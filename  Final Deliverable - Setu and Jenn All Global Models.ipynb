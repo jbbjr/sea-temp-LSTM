{
  "nbformat": 4,
  "nbformat_minor": 0,
  "metadata": {
    "colab": {
      "provenance": [],
      "collapsed_sections": [
        "bKjneyKmBZvk",
        "PW909otr4HTp",
        "cRGV7jutevmT",
        "SVKlmd0jgbz9",
        "Dvv5srx-jlRB",
        "cP8pp-KvkerA",
        "YRMFJhJv2kO7",
        "QjWE8sZ6lCPx",
        "1Zd8orUSe6OG",
        "7kh9vAqLf7r-",
        "YWubkiJ-4Mgw",
        "juNQf_0T4RxO",
        "Gnqm-HXj-Eac",
        "ZE8FGtqWS8Ky",
        "oYdYtSdaXGyQ"
      ],
      "gpuType": "T4"
    },
    "kernelspec": {
      "name": "python3",
      "display_name": "Python 3"
    },
    "language_info": {
      "name": "python"
    },
    "accelerator": "GPU",
    "widgets": {
      "application/vnd.jupyter.widget-state+json": {
        "e0fbf28ed2ab4476aaeb6c6297d2b912": {
          "model_module": "@jupyter-widgets/controls",
          "model_name": "VBoxModel",
          "model_module_version": "1.5.0",
          "state": {
            "_dom_classes": [],
            "_model_module": "@jupyter-widgets/controls",
            "_model_module_version": "1.5.0",
            "_model_name": "VBoxModel",
            "_view_count": null,
            "_view_module": "@jupyter-widgets/controls",
            "_view_module_version": "1.5.0",
            "_view_name": "VBoxView",
            "box_style": "",
            "children": [
              "IPY_MODEL_f902c7ce956e4215ac3517b87082e47d",
              "IPY_MODEL_db6ddc9d86604e56a80db0c00935a38a"
            ],
            "layout": "IPY_MODEL_ca348168255043eaa66634cdf378d617"
          }
        },
        "f902c7ce956e4215ac3517b87082e47d": {
          "model_module": "@jupyter-widgets/controls",
          "model_name": "LabelModel",
          "model_module_version": "1.5.0",
          "state": {
            "_dom_classes": [],
            "_model_module": "@jupyter-widgets/controls",
            "_model_module_version": "1.5.0",
            "_model_name": "LabelModel",
            "_view_count": null,
            "_view_module": "@jupyter-widgets/controls",
            "_view_module_version": "1.5.0",
            "_view_name": "LabelView",
            "description": "",
            "description_tooltip": null,
            "layout": "IPY_MODEL_32899acdab4b46399bf521af8b2df42b",
            "placeholder": "​",
            "style": "IPY_MODEL_58567a57440c4e40a1f36d4a9bed2246",
            "value": "0.011 MB of 0.011 MB uploaded\r"
          }
        },
        "db6ddc9d86604e56a80db0c00935a38a": {
          "model_module": "@jupyter-widgets/controls",
          "model_name": "FloatProgressModel",
          "model_module_version": "1.5.0",
          "state": {
            "_dom_classes": [],
            "_model_module": "@jupyter-widgets/controls",
            "_model_module_version": "1.5.0",
            "_model_name": "FloatProgressModel",
            "_view_count": null,
            "_view_module": "@jupyter-widgets/controls",
            "_view_module_version": "1.5.0",
            "_view_name": "ProgressView",
            "bar_style": "",
            "description": "",
            "description_tooltip": null,
            "layout": "IPY_MODEL_cdac10279b514aa19d88471db6825238",
            "max": 1,
            "min": 0,
            "orientation": "horizontal",
            "style": "IPY_MODEL_b73513fc572e4a5aa2bb9996020c5ec6",
            "value": 1
          }
        },
        "ca348168255043eaa66634cdf378d617": {
          "model_module": "@jupyter-widgets/base",
          "model_name": "LayoutModel",
          "model_module_version": "1.2.0",
          "state": {
            "_model_module": "@jupyter-widgets/base",
            "_model_module_version": "1.2.0",
            "_model_name": "LayoutModel",
            "_view_count": null,
            "_view_module": "@jupyter-widgets/base",
            "_view_module_version": "1.2.0",
            "_view_name": "LayoutView",
            "align_content": null,
            "align_items": null,
            "align_self": null,
            "border": null,
            "bottom": null,
            "display": null,
            "flex": null,
            "flex_flow": null,
            "grid_area": null,
            "grid_auto_columns": null,
            "grid_auto_flow": null,
            "grid_auto_rows": null,
            "grid_column": null,
            "grid_gap": null,
            "grid_row": null,
            "grid_template_areas": null,
            "grid_template_columns": null,
            "grid_template_rows": null,
            "height": null,
            "justify_content": null,
            "justify_items": null,
            "left": null,
            "margin": null,
            "max_height": null,
            "max_width": null,
            "min_height": null,
            "min_width": null,
            "object_fit": null,
            "object_position": null,
            "order": null,
            "overflow": null,
            "overflow_x": null,
            "overflow_y": null,
            "padding": null,
            "right": null,
            "top": null,
            "visibility": null,
            "width": null
          }
        },
        "32899acdab4b46399bf521af8b2df42b": {
          "model_module": "@jupyter-widgets/base",
          "model_name": "LayoutModel",
          "model_module_version": "1.2.0",
          "state": {
            "_model_module": "@jupyter-widgets/base",
            "_model_module_version": "1.2.0",
            "_model_name": "LayoutModel",
            "_view_count": null,
            "_view_module": "@jupyter-widgets/base",
            "_view_module_version": "1.2.0",
            "_view_name": "LayoutView",
            "align_content": null,
            "align_items": null,
            "align_self": null,
            "border": null,
            "bottom": null,
            "display": null,
            "flex": null,
            "flex_flow": null,
            "grid_area": null,
            "grid_auto_columns": null,
            "grid_auto_flow": null,
            "grid_auto_rows": null,
            "grid_column": null,
            "grid_gap": null,
            "grid_row": null,
            "grid_template_areas": null,
            "grid_template_columns": null,
            "grid_template_rows": null,
            "height": null,
            "justify_content": null,
            "justify_items": null,
            "left": null,
            "margin": null,
            "max_height": null,
            "max_width": null,
            "min_height": null,
            "min_width": null,
            "object_fit": null,
            "object_position": null,
            "order": null,
            "overflow": null,
            "overflow_x": null,
            "overflow_y": null,
            "padding": null,
            "right": null,
            "top": null,
            "visibility": null,
            "width": null
          }
        },
        "58567a57440c4e40a1f36d4a9bed2246": {
          "model_module": "@jupyter-widgets/controls",
          "model_name": "DescriptionStyleModel",
          "model_module_version": "1.5.0",
          "state": {
            "_model_module": "@jupyter-widgets/controls",
            "_model_module_version": "1.5.0",
            "_model_name": "DescriptionStyleModel",
            "_view_count": null,
            "_view_module": "@jupyter-widgets/base",
            "_view_module_version": "1.2.0",
            "_view_name": "StyleView",
            "description_width": ""
          }
        },
        "cdac10279b514aa19d88471db6825238": {
          "model_module": "@jupyter-widgets/base",
          "model_name": "LayoutModel",
          "model_module_version": "1.2.0",
          "state": {
            "_model_module": "@jupyter-widgets/base",
            "_model_module_version": "1.2.0",
            "_model_name": "LayoutModel",
            "_view_count": null,
            "_view_module": "@jupyter-widgets/base",
            "_view_module_version": "1.2.0",
            "_view_name": "LayoutView",
            "align_content": null,
            "align_items": null,
            "align_self": null,
            "border": null,
            "bottom": null,
            "display": null,
            "flex": null,
            "flex_flow": null,
            "grid_area": null,
            "grid_auto_columns": null,
            "grid_auto_flow": null,
            "grid_auto_rows": null,
            "grid_column": null,
            "grid_gap": null,
            "grid_row": null,
            "grid_template_areas": null,
            "grid_template_columns": null,
            "grid_template_rows": null,
            "height": null,
            "justify_content": null,
            "justify_items": null,
            "left": null,
            "margin": null,
            "max_height": null,
            "max_width": null,
            "min_height": null,
            "min_width": null,
            "object_fit": null,
            "object_position": null,
            "order": null,
            "overflow": null,
            "overflow_x": null,
            "overflow_y": null,
            "padding": null,
            "right": null,
            "top": null,
            "visibility": null,
            "width": null
          }
        },
        "b73513fc572e4a5aa2bb9996020c5ec6": {
          "model_module": "@jupyter-widgets/controls",
          "model_name": "ProgressStyleModel",
          "model_module_version": "1.5.0",
          "state": {
            "_model_module": "@jupyter-widgets/controls",
            "_model_module_version": "1.5.0",
            "_model_name": "ProgressStyleModel",
            "_view_count": null,
            "_view_module": "@jupyter-widgets/base",
            "_view_module_version": "1.2.0",
            "_view_name": "StyleView",
            "bar_color": null,
            "description_width": ""
          }
        },
        "ca1904a472264155b214b284d63074e5": {
          "model_module": "@jupyter-widgets/controls",
          "model_name": "VBoxModel",
          "model_module_version": "1.5.0",
          "state": {
            "_dom_classes": [],
            "_model_module": "@jupyter-widgets/controls",
            "_model_module_version": "1.5.0",
            "_model_name": "VBoxModel",
            "_view_count": null,
            "_view_module": "@jupyter-widgets/controls",
            "_view_module_version": "1.5.0",
            "_view_name": "VBoxView",
            "box_style": "",
            "children": [
              "IPY_MODEL_80c2794924e1481e85cc062789f84207",
              "IPY_MODEL_b25c668a455c45c0a67f620d2d0c99d7"
            ],
            "layout": "IPY_MODEL_dfd6d7f51dce4c01bb9788ad34c4fa66"
          }
        },
        "80c2794924e1481e85cc062789f84207": {
          "model_module": "@jupyter-widgets/controls",
          "model_name": "LabelModel",
          "model_module_version": "1.5.0",
          "state": {
            "_dom_classes": [],
            "_model_module": "@jupyter-widgets/controls",
            "_model_module_version": "1.5.0",
            "_model_name": "LabelModel",
            "_view_count": null,
            "_view_module": "@jupyter-widgets/controls",
            "_view_module_version": "1.5.0",
            "_view_name": "LabelView",
            "description": "",
            "description_tooltip": null,
            "layout": "IPY_MODEL_a2390e77ebcd48a79327944f3b5612bc",
            "placeholder": "​",
            "style": "IPY_MODEL_1965128344a64616bd18966ef067f15e",
            "value": "0.011 MB of 0.011 MB uploaded\r"
          }
        },
        "b25c668a455c45c0a67f620d2d0c99d7": {
          "model_module": "@jupyter-widgets/controls",
          "model_name": "FloatProgressModel",
          "model_module_version": "1.5.0",
          "state": {
            "_dom_classes": [],
            "_model_module": "@jupyter-widgets/controls",
            "_model_module_version": "1.5.0",
            "_model_name": "FloatProgressModel",
            "_view_count": null,
            "_view_module": "@jupyter-widgets/controls",
            "_view_module_version": "1.5.0",
            "_view_name": "ProgressView",
            "bar_style": "",
            "description": "",
            "description_tooltip": null,
            "layout": "IPY_MODEL_f6b64f7446bb418c88c5fef6e1c4cb62",
            "max": 1,
            "min": 0,
            "orientation": "horizontal",
            "style": "IPY_MODEL_050bb914503c4ee08f9e60cbd68f9c73",
            "value": 1
          }
        },
        "dfd6d7f51dce4c01bb9788ad34c4fa66": {
          "model_module": "@jupyter-widgets/base",
          "model_name": "LayoutModel",
          "model_module_version": "1.2.0",
          "state": {
            "_model_module": "@jupyter-widgets/base",
            "_model_module_version": "1.2.0",
            "_model_name": "LayoutModel",
            "_view_count": null,
            "_view_module": "@jupyter-widgets/base",
            "_view_module_version": "1.2.0",
            "_view_name": "LayoutView",
            "align_content": null,
            "align_items": null,
            "align_self": null,
            "border": null,
            "bottom": null,
            "display": null,
            "flex": null,
            "flex_flow": null,
            "grid_area": null,
            "grid_auto_columns": null,
            "grid_auto_flow": null,
            "grid_auto_rows": null,
            "grid_column": null,
            "grid_gap": null,
            "grid_row": null,
            "grid_template_areas": null,
            "grid_template_columns": null,
            "grid_template_rows": null,
            "height": null,
            "justify_content": null,
            "justify_items": null,
            "left": null,
            "margin": null,
            "max_height": null,
            "max_width": null,
            "min_height": null,
            "min_width": null,
            "object_fit": null,
            "object_position": null,
            "order": null,
            "overflow": null,
            "overflow_x": null,
            "overflow_y": null,
            "padding": null,
            "right": null,
            "top": null,
            "visibility": null,
            "width": null
          }
        },
        "a2390e77ebcd48a79327944f3b5612bc": {
          "model_module": "@jupyter-widgets/base",
          "model_name": "LayoutModel",
          "model_module_version": "1.2.0",
          "state": {
            "_model_module": "@jupyter-widgets/base",
            "_model_module_version": "1.2.0",
            "_model_name": "LayoutModel",
            "_view_count": null,
            "_view_module": "@jupyter-widgets/base",
            "_view_module_version": "1.2.0",
            "_view_name": "LayoutView",
            "align_content": null,
            "align_items": null,
            "align_self": null,
            "border": null,
            "bottom": null,
            "display": null,
            "flex": null,
            "flex_flow": null,
            "grid_area": null,
            "grid_auto_columns": null,
            "grid_auto_flow": null,
            "grid_auto_rows": null,
            "grid_column": null,
            "grid_gap": null,
            "grid_row": null,
            "grid_template_areas": null,
            "grid_template_columns": null,
            "grid_template_rows": null,
            "height": null,
            "justify_content": null,
            "justify_items": null,
            "left": null,
            "margin": null,
            "max_height": null,
            "max_width": null,
            "min_height": null,
            "min_width": null,
            "object_fit": null,
            "object_position": null,
            "order": null,
            "overflow": null,
            "overflow_x": null,
            "overflow_y": null,
            "padding": null,
            "right": null,
            "top": null,
            "visibility": null,
            "width": null
          }
        },
        "1965128344a64616bd18966ef067f15e": {
          "model_module": "@jupyter-widgets/controls",
          "model_name": "DescriptionStyleModel",
          "model_module_version": "1.5.0",
          "state": {
            "_model_module": "@jupyter-widgets/controls",
            "_model_module_version": "1.5.0",
            "_model_name": "DescriptionStyleModel",
            "_view_count": null,
            "_view_module": "@jupyter-widgets/base",
            "_view_module_version": "1.2.0",
            "_view_name": "StyleView",
            "description_width": ""
          }
        },
        "f6b64f7446bb418c88c5fef6e1c4cb62": {
          "model_module": "@jupyter-widgets/base",
          "model_name": "LayoutModel",
          "model_module_version": "1.2.0",
          "state": {
            "_model_module": "@jupyter-widgets/base",
            "_model_module_version": "1.2.0",
            "_model_name": "LayoutModel",
            "_view_count": null,
            "_view_module": "@jupyter-widgets/base",
            "_view_module_version": "1.2.0",
            "_view_name": "LayoutView",
            "align_content": null,
            "align_items": null,
            "align_self": null,
            "border": null,
            "bottom": null,
            "display": null,
            "flex": null,
            "flex_flow": null,
            "grid_area": null,
            "grid_auto_columns": null,
            "grid_auto_flow": null,
            "grid_auto_rows": null,
            "grid_column": null,
            "grid_gap": null,
            "grid_row": null,
            "grid_template_areas": null,
            "grid_template_columns": null,
            "grid_template_rows": null,
            "height": null,
            "justify_content": null,
            "justify_items": null,
            "left": null,
            "margin": null,
            "max_height": null,
            "max_width": null,
            "min_height": null,
            "min_width": null,
            "object_fit": null,
            "object_position": null,
            "order": null,
            "overflow": null,
            "overflow_x": null,
            "overflow_y": null,
            "padding": null,
            "right": null,
            "top": null,
            "visibility": null,
            "width": null
          }
        },
        "050bb914503c4ee08f9e60cbd68f9c73": {
          "model_module": "@jupyter-widgets/controls",
          "model_name": "ProgressStyleModel",
          "model_module_version": "1.5.0",
          "state": {
            "_model_module": "@jupyter-widgets/controls",
            "_model_module_version": "1.5.0",
            "_model_name": "ProgressStyleModel",
            "_view_count": null,
            "_view_module": "@jupyter-widgets/base",
            "_view_module_version": "1.2.0",
            "_view_name": "StyleView",
            "bar_color": null,
            "description_width": ""
          }
        },
        "a181f03a038042dcb489fc87c8dd6f48": {
          "model_module": "@jupyter-widgets/controls",
          "model_name": "VBoxModel",
          "model_module_version": "1.5.0",
          "state": {
            "_dom_classes": [],
            "_model_module": "@jupyter-widgets/controls",
            "_model_module_version": "1.5.0",
            "_model_name": "VBoxModel",
            "_view_count": null,
            "_view_module": "@jupyter-widgets/controls",
            "_view_module_version": "1.5.0",
            "_view_name": "VBoxView",
            "box_style": "",
            "children": [
              "IPY_MODEL_e0a24c3f88994f28824165b9c72f361b",
              "IPY_MODEL_854905b0826a492389ee980cf94100ea"
            ],
            "layout": "IPY_MODEL_f66c2e0063b441acb4c492f7109e335e"
          }
        },
        "e0a24c3f88994f28824165b9c72f361b": {
          "model_module": "@jupyter-widgets/controls",
          "model_name": "LabelModel",
          "model_module_version": "1.5.0",
          "state": {
            "_dom_classes": [],
            "_model_module": "@jupyter-widgets/controls",
            "_model_module_version": "1.5.0",
            "_model_name": "LabelModel",
            "_view_count": null,
            "_view_module": "@jupyter-widgets/controls",
            "_view_module_version": "1.5.0",
            "_view_name": "LabelView",
            "description": "",
            "description_tooltip": null,
            "layout": "IPY_MODEL_e1bdfeb382264eeaa87f8df2e1519a71",
            "placeholder": "​",
            "style": "IPY_MODEL_28f960bbe6a444d2bdca41641b0eb64c",
            "value": "0.011 MB of 0.011 MB uploaded\r"
          }
        },
        "854905b0826a492389ee980cf94100ea": {
          "model_module": "@jupyter-widgets/controls",
          "model_name": "FloatProgressModel",
          "model_module_version": "1.5.0",
          "state": {
            "_dom_classes": [],
            "_model_module": "@jupyter-widgets/controls",
            "_model_module_version": "1.5.0",
            "_model_name": "FloatProgressModel",
            "_view_count": null,
            "_view_module": "@jupyter-widgets/controls",
            "_view_module_version": "1.5.0",
            "_view_name": "ProgressView",
            "bar_style": "",
            "description": "",
            "description_tooltip": null,
            "layout": "IPY_MODEL_3862d18ac76e48c3afce6e894a42c813",
            "max": 1,
            "min": 0,
            "orientation": "horizontal",
            "style": "IPY_MODEL_f796fcf952864aad932acad1f5f3cd38",
            "value": 1
          }
        },
        "f66c2e0063b441acb4c492f7109e335e": {
          "model_module": "@jupyter-widgets/base",
          "model_name": "LayoutModel",
          "model_module_version": "1.2.0",
          "state": {
            "_model_module": "@jupyter-widgets/base",
            "_model_module_version": "1.2.0",
            "_model_name": "LayoutModel",
            "_view_count": null,
            "_view_module": "@jupyter-widgets/base",
            "_view_module_version": "1.2.0",
            "_view_name": "LayoutView",
            "align_content": null,
            "align_items": null,
            "align_self": null,
            "border": null,
            "bottom": null,
            "display": null,
            "flex": null,
            "flex_flow": null,
            "grid_area": null,
            "grid_auto_columns": null,
            "grid_auto_flow": null,
            "grid_auto_rows": null,
            "grid_column": null,
            "grid_gap": null,
            "grid_row": null,
            "grid_template_areas": null,
            "grid_template_columns": null,
            "grid_template_rows": null,
            "height": null,
            "justify_content": null,
            "justify_items": null,
            "left": null,
            "margin": null,
            "max_height": null,
            "max_width": null,
            "min_height": null,
            "min_width": null,
            "object_fit": null,
            "object_position": null,
            "order": null,
            "overflow": null,
            "overflow_x": null,
            "overflow_y": null,
            "padding": null,
            "right": null,
            "top": null,
            "visibility": null,
            "width": null
          }
        },
        "e1bdfeb382264eeaa87f8df2e1519a71": {
          "model_module": "@jupyter-widgets/base",
          "model_name": "LayoutModel",
          "model_module_version": "1.2.0",
          "state": {
            "_model_module": "@jupyter-widgets/base",
            "_model_module_version": "1.2.0",
            "_model_name": "LayoutModel",
            "_view_count": null,
            "_view_module": "@jupyter-widgets/base",
            "_view_module_version": "1.2.0",
            "_view_name": "LayoutView",
            "align_content": null,
            "align_items": null,
            "align_self": null,
            "border": null,
            "bottom": null,
            "display": null,
            "flex": null,
            "flex_flow": null,
            "grid_area": null,
            "grid_auto_columns": null,
            "grid_auto_flow": null,
            "grid_auto_rows": null,
            "grid_column": null,
            "grid_gap": null,
            "grid_row": null,
            "grid_template_areas": null,
            "grid_template_columns": null,
            "grid_template_rows": null,
            "height": null,
            "justify_content": null,
            "justify_items": null,
            "left": null,
            "margin": null,
            "max_height": null,
            "max_width": null,
            "min_height": null,
            "min_width": null,
            "object_fit": null,
            "object_position": null,
            "order": null,
            "overflow": null,
            "overflow_x": null,
            "overflow_y": null,
            "padding": null,
            "right": null,
            "top": null,
            "visibility": null,
            "width": null
          }
        },
        "28f960bbe6a444d2bdca41641b0eb64c": {
          "model_module": "@jupyter-widgets/controls",
          "model_name": "DescriptionStyleModel",
          "model_module_version": "1.5.0",
          "state": {
            "_model_module": "@jupyter-widgets/controls",
            "_model_module_version": "1.5.0",
            "_model_name": "DescriptionStyleModel",
            "_view_count": null,
            "_view_module": "@jupyter-widgets/base",
            "_view_module_version": "1.2.0",
            "_view_name": "StyleView",
            "description_width": ""
          }
        },
        "3862d18ac76e48c3afce6e894a42c813": {
          "model_module": "@jupyter-widgets/base",
          "model_name": "LayoutModel",
          "model_module_version": "1.2.0",
          "state": {
            "_model_module": "@jupyter-widgets/base",
            "_model_module_version": "1.2.0",
            "_model_name": "LayoutModel",
            "_view_count": null,
            "_view_module": "@jupyter-widgets/base",
            "_view_module_version": "1.2.0",
            "_view_name": "LayoutView",
            "align_content": null,
            "align_items": null,
            "align_self": null,
            "border": null,
            "bottom": null,
            "display": null,
            "flex": null,
            "flex_flow": null,
            "grid_area": null,
            "grid_auto_columns": null,
            "grid_auto_flow": null,
            "grid_auto_rows": null,
            "grid_column": null,
            "grid_gap": null,
            "grid_row": null,
            "grid_template_areas": null,
            "grid_template_columns": null,
            "grid_template_rows": null,
            "height": null,
            "justify_content": null,
            "justify_items": null,
            "left": null,
            "margin": null,
            "max_height": null,
            "max_width": null,
            "min_height": null,
            "min_width": null,
            "object_fit": null,
            "object_position": null,
            "order": null,
            "overflow": null,
            "overflow_x": null,
            "overflow_y": null,
            "padding": null,
            "right": null,
            "top": null,
            "visibility": null,
            "width": null
          }
        },
        "f796fcf952864aad932acad1f5f3cd38": {
          "model_module": "@jupyter-widgets/controls",
          "model_name": "ProgressStyleModel",
          "model_module_version": "1.5.0",
          "state": {
            "_model_module": "@jupyter-widgets/controls",
            "_model_module_version": "1.5.0",
            "_model_name": "ProgressStyleModel",
            "_view_count": null,
            "_view_module": "@jupyter-widgets/base",
            "_view_module_version": "1.2.0",
            "_view_name": "StyleView",
            "bar_color": null,
            "description_width": ""
          }
        },
        "d43a5c98fc7e4162b552d0d53b4044b4": {
          "model_module": "@jupyter-widgets/controls",
          "model_name": "VBoxModel",
          "model_module_version": "1.5.0",
          "state": {
            "_dom_classes": [],
            "_model_module": "@jupyter-widgets/controls",
            "_model_module_version": "1.5.0",
            "_model_name": "VBoxModel",
            "_view_count": null,
            "_view_module": "@jupyter-widgets/controls",
            "_view_module_version": "1.5.0",
            "_view_name": "VBoxView",
            "box_style": "",
            "children": [
              "IPY_MODEL_82c7b2f1e91340348f1911f73923f0f4",
              "IPY_MODEL_573c1fc4a9604ff9907ccc8d0108d357"
            ],
            "layout": "IPY_MODEL_ad5a546cd0c149f599f69b245152dcbc"
          }
        },
        "82c7b2f1e91340348f1911f73923f0f4": {
          "model_module": "@jupyter-widgets/controls",
          "model_name": "LabelModel",
          "model_module_version": "1.5.0",
          "state": {
            "_dom_classes": [],
            "_model_module": "@jupyter-widgets/controls",
            "_model_module_version": "1.5.0",
            "_model_name": "LabelModel",
            "_view_count": null,
            "_view_module": "@jupyter-widgets/controls",
            "_view_module_version": "1.5.0",
            "_view_name": "LabelView",
            "description": "",
            "description_tooltip": null,
            "layout": "IPY_MODEL_c6dd621e6b0344f38ec747db7b7b5d71",
            "placeholder": "​",
            "style": "IPY_MODEL_2f9f120e6e0543aea824c98d6a377733",
            "value": "0.011 MB of 0.011 MB uploaded\r"
          }
        },
        "573c1fc4a9604ff9907ccc8d0108d357": {
          "model_module": "@jupyter-widgets/controls",
          "model_name": "FloatProgressModel",
          "model_module_version": "1.5.0",
          "state": {
            "_dom_classes": [],
            "_model_module": "@jupyter-widgets/controls",
            "_model_module_version": "1.5.0",
            "_model_name": "FloatProgressModel",
            "_view_count": null,
            "_view_module": "@jupyter-widgets/controls",
            "_view_module_version": "1.5.0",
            "_view_name": "ProgressView",
            "bar_style": "",
            "description": "",
            "description_tooltip": null,
            "layout": "IPY_MODEL_a8d44cfbe6d247588dc12567944eaccd",
            "max": 1,
            "min": 0,
            "orientation": "horizontal",
            "style": "IPY_MODEL_0dba5c453094448283ebcbcc56c2c7d8",
            "value": 1
          }
        },
        "ad5a546cd0c149f599f69b245152dcbc": {
          "model_module": "@jupyter-widgets/base",
          "model_name": "LayoutModel",
          "model_module_version": "1.2.0",
          "state": {
            "_model_module": "@jupyter-widgets/base",
            "_model_module_version": "1.2.0",
            "_model_name": "LayoutModel",
            "_view_count": null,
            "_view_module": "@jupyter-widgets/base",
            "_view_module_version": "1.2.0",
            "_view_name": "LayoutView",
            "align_content": null,
            "align_items": null,
            "align_self": null,
            "border": null,
            "bottom": null,
            "display": null,
            "flex": null,
            "flex_flow": null,
            "grid_area": null,
            "grid_auto_columns": null,
            "grid_auto_flow": null,
            "grid_auto_rows": null,
            "grid_column": null,
            "grid_gap": null,
            "grid_row": null,
            "grid_template_areas": null,
            "grid_template_columns": null,
            "grid_template_rows": null,
            "height": null,
            "justify_content": null,
            "justify_items": null,
            "left": null,
            "margin": null,
            "max_height": null,
            "max_width": null,
            "min_height": null,
            "min_width": null,
            "object_fit": null,
            "object_position": null,
            "order": null,
            "overflow": null,
            "overflow_x": null,
            "overflow_y": null,
            "padding": null,
            "right": null,
            "top": null,
            "visibility": null,
            "width": null
          }
        },
        "c6dd621e6b0344f38ec747db7b7b5d71": {
          "model_module": "@jupyter-widgets/base",
          "model_name": "LayoutModel",
          "model_module_version": "1.2.0",
          "state": {
            "_model_module": "@jupyter-widgets/base",
            "_model_module_version": "1.2.0",
            "_model_name": "LayoutModel",
            "_view_count": null,
            "_view_module": "@jupyter-widgets/base",
            "_view_module_version": "1.2.0",
            "_view_name": "LayoutView",
            "align_content": null,
            "align_items": null,
            "align_self": null,
            "border": null,
            "bottom": null,
            "display": null,
            "flex": null,
            "flex_flow": null,
            "grid_area": null,
            "grid_auto_columns": null,
            "grid_auto_flow": null,
            "grid_auto_rows": null,
            "grid_column": null,
            "grid_gap": null,
            "grid_row": null,
            "grid_template_areas": null,
            "grid_template_columns": null,
            "grid_template_rows": null,
            "height": null,
            "justify_content": null,
            "justify_items": null,
            "left": null,
            "margin": null,
            "max_height": null,
            "max_width": null,
            "min_height": null,
            "min_width": null,
            "object_fit": null,
            "object_position": null,
            "order": null,
            "overflow": null,
            "overflow_x": null,
            "overflow_y": null,
            "padding": null,
            "right": null,
            "top": null,
            "visibility": null,
            "width": null
          }
        },
        "2f9f120e6e0543aea824c98d6a377733": {
          "model_module": "@jupyter-widgets/controls",
          "model_name": "DescriptionStyleModel",
          "model_module_version": "1.5.0",
          "state": {
            "_model_module": "@jupyter-widgets/controls",
            "_model_module_version": "1.5.0",
            "_model_name": "DescriptionStyleModel",
            "_view_count": null,
            "_view_module": "@jupyter-widgets/base",
            "_view_module_version": "1.2.0",
            "_view_name": "StyleView",
            "description_width": ""
          }
        },
        "a8d44cfbe6d247588dc12567944eaccd": {
          "model_module": "@jupyter-widgets/base",
          "model_name": "LayoutModel",
          "model_module_version": "1.2.0",
          "state": {
            "_model_module": "@jupyter-widgets/base",
            "_model_module_version": "1.2.0",
            "_model_name": "LayoutModel",
            "_view_count": null,
            "_view_module": "@jupyter-widgets/base",
            "_view_module_version": "1.2.0",
            "_view_name": "LayoutView",
            "align_content": null,
            "align_items": null,
            "align_self": null,
            "border": null,
            "bottom": null,
            "display": null,
            "flex": null,
            "flex_flow": null,
            "grid_area": null,
            "grid_auto_columns": null,
            "grid_auto_flow": null,
            "grid_auto_rows": null,
            "grid_column": null,
            "grid_gap": null,
            "grid_row": null,
            "grid_template_areas": null,
            "grid_template_columns": null,
            "grid_template_rows": null,
            "height": null,
            "justify_content": null,
            "justify_items": null,
            "left": null,
            "margin": null,
            "max_height": null,
            "max_width": null,
            "min_height": null,
            "min_width": null,
            "object_fit": null,
            "object_position": null,
            "order": null,
            "overflow": null,
            "overflow_x": null,
            "overflow_y": null,
            "padding": null,
            "right": null,
            "top": null,
            "visibility": null,
            "width": null
          }
        },
        "0dba5c453094448283ebcbcc56c2c7d8": {
          "model_module": "@jupyter-widgets/controls",
          "model_name": "ProgressStyleModel",
          "model_module_version": "1.5.0",
          "state": {
            "_model_module": "@jupyter-widgets/controls",
            "_model_module_version": "1.5.0",
            "_model_name": "ProgressStyleModel",
            "_view_count": null,
            "_view_module": "@jupyter-widgets/base",
            "_view_module_version": "1.2.0",
            "_view_name": "StyleView",
            "bar_color": null,
            "description_width": ""
          }
        },
        "34d25ba1993f4f4c86cb4865b9170b6d": {
          "model_module": "@jupyter-widgets/controls",
          "model_name": "VBoxModel",
          "model_module_version": "1.5.0",
          "state": {
            "_dom_classes": [],
            "_model_module": "@jupyter-widgets/controls",
            "_model_module_version": "1.5.0",
            "_model_name": "VBoxModel",
            "_view_count": null,
            "_view_module": "@jupyter-widgets/controls",
            "_view_module_version": "1.5.0",
            "_view_name": "VBoxView",
            "box_style": "",
            "children": [
              "IPY_MODEL_f8b483e454d54455bdeb159c52b15085",
              "IPY_MODEL_be7e4f7a5a7441d2b9e714ba5352e020"
            ],
            "layout": "IPY_MODEL_7f396271d63b41ccacd4acdd03295667"
          }
        },
        "f8b483e454d54455bdeb159c52b15085": {
          "model_module": "@jupyter-widgets/controls",
          "model_name": "LabelModel",
          "model_module_version": "1.5.0",
          "state": {
            "_dom_classes": [],
            "_model_module": "@jupyter-widgets/controls",
            "_model_module_version": "1.5.0",
            "_model_name": "LabelModel",
            "_view_count": null,
            "_view_module": "@jupyter-widgets/controls",
            "_view_module_version": "1.5.0",
            "_view_name": "LabelView",
            "description": "",
            "description_tooltip": null,
            "layout": "IPY_MODEL_f159ca80afda486197803449ef4732b4",
            "placeholder": "​",
            "style": "IPY_MODEL_31030722948947a693c11481588fa63f",
            "value": "0.011 MB of 0.011 MB uploaded\r"
          }
        },
        "be7e4f7a5a7441d2b9e714ba5352e020": {
          "model_module": "@jupyter-widgets/controls",
          "model_name": "FloatProgressModel",
          "model_module_version": "1.5.0",
          "state": {
            "_dom_classes": [],
            "_model_module": "@jupyter-widgets/controls",
            "_model_module_version": "1.5.0",
            "_model_name": "FloatProgressModel",
            "_view_count": null,
            "_view_module": "@jupyter-widgets/controls",
            "_view_module_version": "1.5.0",
            "_view_name": "ProgressView",
            "bar_style": "",
            "description": "",
            "description_tooltip": null,
            "layout": "IPY_MODEL_8cb64517f83f4e55bc078a2dd35dd6e1",
            "max": 1,
            "min": 0,
            "orientation": "horizontal",
            "style": "IPY_MODEL_27ab5bc8c8354ae89058ad7e5c761a9c",
            "value": 1
          }
        },
        "7f396271d63b41ccacd4acdd03295667": {
          "model_module": "@jupyter-widgets/base",
          "model_name": "LayoutModel",
          "model_module_version": "1.2.0",
          "state": {
            "_model_module": "@jupyter-widgets/base",
            "_model_module_version": "1.2.0",
            "_model_name": "LayoutModel",
            "_view_count": null,
            "_view_module": "@jupyter-widgets/base",
            "_view_module_version": "1.2.0",
            "_view_name": "LayoutView",
            "align_content": null,
            "align_items": null,
            "align_self": null,
            "border": null,
            "bottom": null,
            "display": null,
            "flex": null,
            "flex_flow": null,
            "grid_area": null,
            "grid_auto_columns": null,
            "grid_auto_flow": null,
            "grid_auto_rows": null,
            "grid_column": null,
            "grid_gap": null,
            "grid_row": null,
            "grid_template_areas": null,
            "grid_template_columns": null,
            "grid_template_rows": null,
            "height": null,
            "justify_content": null,
            "justify_items": null,
            "left": null,
            "margin": null,
            "max_height": null,
            "max_width": null,
            "min_height": null,
            "min_width": null,
            "object_fit": null,
            "object_position": null,
            "order": null,
            "overflow": null,
            "overflow_x": null,
            "overflow_y": null,
            "padding": null,
            "right": null,
            "top": null,
            "visibility": null,
            "width": null
          }
        },
        "f159ca80afda486197803449ef4732b4": {
          "model_module": "@jupyter-widgets/base",
          "model_name": "LayoutModel",
          "model_module_version": "1.2.0",
          "state": {
            "_model_module": "@jupyter-widgets/base",
            "_model_module_version": "1.2.0",
            "_model_name": "LayoutModel",
            "_view_count": null,
            "_view_module": "@jupyter-widgets/base",
            "_view_module_version": "1.2.0",
            "_view_name": "LayoutView",
            "align_content": null,
            "align_items": null,
            "align_self": null,
            "border": null,
            "bottom": null,
            "display": null,
            "flex": null,
            "flex_flow": null,
            "grid_area": null,
            "grid_auto_columns": null,
            "grid_auto_flow": null,
            "grid_auto_rows": null,
            "grid_column": null,
            "grid_gap": null,
            "grid_row": null,
            "grid_template_areas": null,
            "grid_template_columns": null,
            "grid_template_rows": null,
            "height": null,
            "justify_content": null,
            "justify_items": null,
            "left": null,
            "margin": null,
            "max_height": null,
            "max_width": null,
            "min_height": null,
            "min_width": null,
            "object_fit": null,
            "object_position": null,
            "order": null,
            "overflow": null,
            "overflow_x": null,
            "overflow_y": null,
            "padding": null,
            "right": null,
            "top": null,
            "visibility": null,
            "width": null
          }
        },
        "31030722948947a693c11481588fa63f": {
          "model_module": "@jupyter-widgets/controls",
          "model_name": "DescriptionStyleModel",
          "model_module_version": "1.5.0",
          "state": {
            "_model_module": "@jupyter-widgets/controls",
            "_model_module_version": "1.5.0",
            "_model_name": "DescriptionStyleModel",
            "_view_count": null,
            "_view_module": "@jupyter-widgets/base",
            "_view_module_version": "1.2.0",
            "_view_name": "StyleView",
            "description_width": ""
          }
        },
        "8cb64517f83f4e55bc078a2dd35dd6e1": {
          "model_module": "@jupyter-widgets/base",
          "model_name": "LayoutModel",
          "model_module_version": "1.2.0",
          "state": {
            "_model_module": "@jupyter-widgets/base",
            "_model_module_version": "1.2.0",
            "_model_name": "LayoutModel",
            "_view_count": null,
            "_view_module": "@jupyter-widgets/base",
            "_view_module_version": "1.2.0",
            "_view_name": "LayoutView",
            "align_content": null,
            "align_items": null,
            "align_self": null,
            "border": null,
            "bottom": null,
            "display": null,
            "flex": null,
            "flex_flow": null,
            "grid_area": null,
            "grid_auto_columns": null,
            "grid_auto_flow": null,
            "grid_auto_rows": null,
            "grid_column": null,
            "grid_gap": null,
            "grid_row": null,
            "grid_template_areas": null,
            "grid_template_columns": null,
            "grid_template_rows": null,
            "height": null,
            "justify_content": null,
            "justify_items": null,
            "left": null,
            "margin": null,
            "max_height": null,
            "max_width": null,
            "min_height": null,
            "min_width": null,
            "object_fit": null,
            "object_position": null,
            "order": null,
            "overflow": null,
            "overflow_x": null,
            "overflow_y": null,
            "padding": null,
            "right": null,
            "top": null,
            "visibility": null,
            "width": null
          }
        },
        "27ab5bc8c8354ae89058ad7e5c761a9c": {
          "model_module": "@jupyter-widgets/controls",
          "model_name": "ProgressStyleModel",
          "model_module_version": "1.5.0",
          "state": {
            "_model_module": "@jupyter-widgets/controls",
            "_model_module_version": "1.5.0",
            "_model_name": "ProgressStyleModel",
            "_view_count": null,
            "_view_module": "@jupyter-widgets/base",
            "_view_module_version": "1.2.0",
            "_view_name": "StyleView",
            "bar_color": null,
            "description_width": ""
          }
        },
        "99660c03f4b34bb88a8658866303df2f": {
          "model_module": "@jupyter-widgets/controls",
          "model_name": "VBoxModel",
          "model_module_version": "1.5.0",
          "state": {
            "_dom_classes": [],
            "_model_module": "@jupyter-widgets/controls",
            "_model_module_version": "1.5.0",
            "_model_name": "VBoxModel",
            "_view_count": null,
            "_view_module": "@jupyter-widgets/controls",
            "_view_module_version": "1.5.0",
            "_view_name": "VBoxView",
            "box_style": "",
            "children": [
              "IPY_MODEL_85e526c1633c4bb1a3921e8bf590f90a",
              "IPY_MODEL_f0b17cbac77d4bfaa5389cca74456e1a"
            ],
            "layout": "IPY_MODEL_d0168643d02848128e35ff29efb6225f"
          }
        },
        "85e526c1633c4bb1a3921e8bf590f90a": {
          "model_module": "@jupyter-widgets/controls",
          "model_name": "LabelModel",
          "model_module_version": "1.5.0",
          "state": {
            "_dom_classes": [],
            "_model_module": "@jupyter-widgets/controls",
            "_model_module_version": "1.5.0",
            "_model_name": "LabelModel",
            "_view_count": null,
            "_view_module": "@jupyter-widgets/controls",
            "_view_module_version": "1.5.0",
            "_view_name": "LabelView",
            "description": "",
            "description_tooltip": null,
            "layout": "IPY_MODEL_d7b9e28b7ba24286884081326adbe166",
            "placeholder": "​",
            "style": "IPY_MODEL_3b09813f4d1441c1b9f838e43c39ea54",
            "value": "0.011 MB of 0.011 MB uploaded\r"
          }
        },
        "f0b17cbac77d4bfaa5389cca74456e1a": {
          "model_module": "@jupyter-widgets/controls",
          "model_name": "FloatProgressModel",
          "model_module_version": "1.5.0",
          "state": {
            "_dom_classes": [],
            "_model_module": "@jupyter-widgets/controls",
            "_model_module_version": "1.5.0",
            "_model_name": "FloatProgressModel",
            "_view_count": null,
            "_view_module": "@jupyter-widgets/controls",
            "_view_module_version": "1.5.0",
            "_view_name": "ProgressView",
            "bar_style": "",
            "description": "",
            "description_tooltip": null,
            "layout": "IPY_MODEL_30c2262c22fb4c6b99a7971a3af3e5eb",
            "max": 1,
            "min": 0,
            "orientation": "horizontal",
            "style": "IPY_MODEL_b524bd6c38c645669cba6075c5f9dbf6",
            "value": 1
          }
        },
        "d0168643d02848128e35ff29efb6225f": {
          "model_module": "@jupyter-widgets/base",
          "model_name": "LayoutModel",
          "model_module_version": "1.2.0",
          "state": {
            "_model_module": "@jupyter-widgets/base",
            "_model_module_version": "1.2.0",
            "_model_name": "LayoutModel",
            "_view_count": null,
            "_view_module": "@jupyter-widgets/base",
            "_view_module_version": "1.2.0",
            "_view_name": "LayoutView",
            "align_content": null,
            "align_items": null,
            "align_self": null,
            "border": null,
            "bottom": null,
            "display": null,
            "flex": null,
            "flex_flow": null,
            "grid_area": null,
            "grid_auto_columns": null,
            "grid_auto_flow": null,
            "grid_auto_rows": null,
            "grid_column": null,
            "grid_gap": null,
            "grid_row": null,
            "grid_template_areas": null,
            "grid_template_columns": null,
            "grid_template_rows": null,
            "height": null,
            "justify_content": null,
            "justify_items": null,
            "left": null,
            "margin": null,
            "max_height": null,
            "max_width": null,
            "min_height": null,
            "min_width": null,
            "object_fit": null,
            "object_position": null,
            "order": null,
            "overflow": null,
            "overflow_x": null,
            "overflow_y": null,
            "padding": null,
            "right": null,
            "top": null,
            "visibility": null,
            "width": null
          }
        },
        "d7b9e28b7ba24286884081326adbe166": {
          "model_module": "@jupyter-widgets/base",
          "model_name": "LayoutModel",
          "model_module_version": "1.2.0",
          "state": {
            "_model_module": "@jupyter-widgets/base",
            "_model_module_version": "1.2.0",
            "_model_name": "LayoutModel",
            "_view_count": null,
            "_view_module": "@jupyter-widgets/base",
            "_view_module_version": "1.2.0",
            "_view_name": "LayoutView",
            "align_content": null,
            "align_items": null,
            "align_self": null,
            "border": null,
            "bottom": null,
            "display": null,
            "flex": null,
            "flex_flow": null,
            "grid_area": null,
            "grid_auto_columns": null,
            "grid_auto_flow": null,
            "grid_auto_rows": null,
            "grid_column": null,
            "grid_gap": null,
            "grid_row": null,
            "grid_template_areas": null,
            "grid_template_columns": null,
            "grid_template_rows": null,
            "height": null,
            "justify_content": null,
            "justify_items": null,
            "left": null,
            "margin": null,
            "max_height": null,
            "max_width": null,
            "min_height": null,
            "min_width": null,
            "object_fit": null,
            "object_position": null,
            "order": null,
            "overflow": null,
            "overflow_x": null,
            "overflow_y": null,
            "padding": null,
            "right": null,
            "top": null,
            "visibility": null,
            "width": null
          }
        },
        "3b09813f4d1441c1b9f838e43c39ea54": {
          "model_module": "@jupyter-widgets/controls",
          "model_name": "DescriptionStyleModel",
          "model_module_version": "1.5.0",
          "state": {
            "_model_module": "@jupyter-widgets/controls",
            "_model_module_version": "1.5.0",
            "_model_name": "DescriptionStyleModel",
            "_view_count": null,
            "_view_module": "@jupyter-widgets/base",
            "_view_module_version": "1.2.0",
            "_view_name": "StyleView",
            "description_width": ""
          }
        },
        "30c2262c22fb4c6b99a7971a3af3e5eb": {
          "model_module": "@jupyter-widgets/base",
          "model_name": "LayoutModel",
          "model_module_version": "1.2.0",
          "state": {
            "_model_module": "@jupyter-widgets/base",
            "_model_module_version": "1.2.0",
            "_model_name": "LayoutModel",
            "_view_count": null,
            "_view_module": "@jupyter-widgets/base",
            "_view_module_version": "1.2.0",
            "_view_name": "LayoutView",
            "align_content": null,
            "align_items": null,
            "align_self": null,
            "border": null,
            "bottom": null,
            "display": null,
            "flex": null,
            "flex_flow": null,
            "grid_area": null,
            "grid_auto_columns": null,
            "grid_auto_flow": null,
            "grid_auto_rows": null,
            "grid_column": null,
            "grid_gap": null,
            "grid_row": null,
            "grid_template_areas": null,
            "grid_template_columns": null,
            "grid_template_rows": null,
            "height": null,
            "justify_content": null,
            "justify_items": null,
            "left": null,
            "margin": null,
            "max_height": null,
            "max_width": null,
            "min_height": null,
            "min_width": null,
            "object_fit": null,
            "object_position": null,
            "order": null,
            "overflow": null,
            "overflow_x": null,
            "overflow_y": null,
            "padding": null,
            "right": null,
            "top": null,
            "visibility": null,
            "width": null
          }
        },
        "b524bd6c38c645669cba6075c5f9dbf6": {
          "model_module": "@jupyter-widgets/controls",
          "model_name": "ProgressStyleModel",
          "model_module_version": "1.5.0",
          "state": {
            "_model_module": "@jupyter-widgets/controls",
            "_model_module_version": "1.5.0",
            "_model_name": "ProgressStyleModel",
            "_view_count": null,
            "_view_module": "@jupyter-widgets/base",
            "_view_module_version": "1.2.0",
            "_view_name": "StyleView",
            "bar_color": null,
            "description_width": ""
          }
        },
        "cc7bcbd7df2a43e79d507ebfd90a3133": {
          "model_module": "@jupyter-widgets/controls",
          "model_name": "VBoxModel",
          "model_module_version": "1.5.0",
          "state": {
            "_dom_classes": [],
            "_model_module": "@jupyter-widgets/controls",
            "_model_module_version": "1.5.0",
            "_model_name": "VBoxModel",
            "_view_count": null,
            "_view_module": "@jupyter-widgets/controls",
            "_view_module_version": "1.5.0",
            "_view_name": "VBoxView",
            "box_style": "",
            "children": [
              "IPY_MODEL_14e5826dd7c742838924101acb33bb13",
              "IPY_MODEL_02e60c1d93924b099a569ae5b34b5747"
            ],
            "layout": "IPY_MODEL_718e49bdad544e1eb427c6e9882bbaa7"
          }
        },
        "14e5826dd7c742838924101acb33bb13": {
          "model_module": "@jupyter-widgets/controls",
          "model_name": "LabelModel",
          "model_module_version": "1.5.0",
          "state": {
            "_dom_classes": [],
            "_model_module": "@jupyter-widgets/controls",
            "_model_module_version": "1.5.0",
            "_model_name": "LabelModel",
            "_view_count": null,
            "_view_module": "@jupyter-widgets/controls",
            "_view_module_version": "1.5.0",
            "_view_name": "LabelView",
            "description": "",
            "description_tooltip": null,
            "layout": "IPY_MODEL_77a796a8e4724e0eb5e6aabd8c105048",
            "placeholder": "​",
            "style": "IPY_MODEL_c81729a6537047ff8ab8d8ba3500eb85",
            "value": "0.011 MB of 0.011 MB uploaded\r"
          }
        },
        "02e60c1d93924b099a569ae5b34b5747": {
          "model_module": "@jupyter-widgets/controls",
          "model_name": "FloatProgressModel",
          "model_module_version": "1.5.0",
          "state": {
            "_dom_classes": [],
            "_model_module": "@jupyter-widgets/controls",
            "_model_module_version": "1.5.0",
            "_model_name": "FloatProgressModel",
            "_view_count": null,
            "_view_module": "@jupyter-widgets/controls",
            "_view_module_version": "1.5.0",
            "_view_name": "ProgressView",
            "bar_style": "",
            "description": "",
            "description_tooltip": null,
            "layout": "IPY_MODEL_6946c24352534c21bdd4840f686957cd",
            "max": 1,
            "min": 0,
            "orientation": "horizontal",
            "style": "IPY_MODEL_af3b31308afe4bd8a57a7233a28840f0",
            "value": 1
          }
        },
        "718e49bdad544e1eb427c6e9882bbaa7": {
          "model_module": "@jupyter-widgets/base",
          "model_name": "LayoutModel",
          "model_module_version": "1.2.0",
          "state": {
            "_model_module": "@jupyter-widgets/base",
            "_model_module_version": "1.2.0",
            "_model_name": "LayoutModel",
            "_view_count": null,
            "_view_module": "@jupyter-widgets/base",
            "_view_module_version": "1.2.0",
            "_view_name": "LayoutView",
            "align_content": null,
            "align_items": null,
            "align_self": null,
            "border": null,
            "bottom": null,
            "display": null,
            "flex": null,
            "flex_flow": null,
            "grid_area": null,
            "grid_auto_columns": null,
            "grid_auto_flow": null,
            "grid_auto_rows": null,
            "grid_column": null,
            "grid_gap": null,
            "grid_row": null,
            "grid_template_areas": null,
            "grid_template_columns": null,
            "grid_template_rows": null,
            "height": null,
            "justify_content": null,
            "justify_items": null,
            "left": null,
            "margin": null,
            "max_height": null,
            "max_width": null,
            "min_height": null,
            "min_width": null,
            "object_fit": null,
            "object_position": null,
            "order": null,
            "overflow": null,
            "overflow_x": null,
            "overflow_y": null,
            "padding": null,
            "right": null,
            "top": null,
            "visibility": null,
            "width": null
          }
        },
        "77a796a8e4724e0eb5e6aabd8c105048": {
          "model_module": "@jupyter-widgets/base",
          "model_name": "LayoutModel",
          "model_module_version": "1.2.0",
          "state": {
            "_model_module": "@jupyter-widgets/base",
            "_model_module_version": "1.2.0",
            "_model_name": "LayoutModel",
            "_view_count": null,
            "_view_module": "@jupyter-widgets/base",
            "_view_module_version": "1.2.0",
            "_view_name": "LayoutView",
            "align_content": null,
            "align_items": null,
            "align_self": null,
            "border": null,
            "bottom": null,
            "display": null,
            "flex": null,
            "flex_flow": null,
            "grid_area": null,
            "grid_auto_columns": null,
            "grid_auto_flow": null,
            "grid_auto_rows": null,
            "grid_column": null,
            "grid_gap": null,
            "grid_row": null,
            "grid_template_areas": null,
            "grid_template_columns": null,
            "grid_template_rows": null,
            "height": null,
            "justify_content": null,
            "justify_items": null,
            "left": null,
            "margin": null,
            "max_height": null,
            "max_width": null,
            "min_height": null,
            "min_width": null,
            "object_fit": null,
            "object_position": null,
            "order": null,
            "overflow": null,
            "overflow_x": null,
            "overflow_y": null,
            "padding": null,
            "right": null,
            "top": null,
            "visibility": null,
            "width": null
          }
        },
        "c81729a6537047ff8ab8d8ba3500eb85": {
          "model_module": "@jupyter-widgets/controls",
          "model_name": "DescriptionStyleModel",
          "model_module_version": "1.5.0",
          "state": {
            "_model_module": "@jupyter-widgets/controls",
            "_model_module_version": "1.5.0",
            "_model_name": "DescriptionStyleModel",
            "_view_count": null,
            "_view_module": "@jupyter-widgets/base",
            "_view_module_version": "1.2.0",
            "_view_name": "StyleView",
            "description_width": ""
          }
        },
        "6946c24352534c21bdd4840f686957cd": {
          "model_module": "@jupyter-widgets/base",
          "model_name": "LayoutModel",
          "model_module_version": "1.2.0",
          "state": {
            "_model_module": "@jupyter-widgets/base",
            "_model_module_version": "1.2.0",
            "_model_name": "LayoutModel",
            "_view_count": null,
            "_view_module": "@jupyter-widgets/base",
            "_view_module_version": "1.2.0",
            "_view_name": "LayoutView",
            "align_content": null,
            "align_items": null,
            "align_self": null,
            "border": null,
            "bottom": null,
            "display": null,
            "flex": null,
            "flex_flow": null,
            "grid_area": null,
            "grid_auto_columns": null,
            "grid_auto_flow": null,
            "grid_auto_rows": null,
            "grid_column": null,
            "grid_gap": null,
            "grid_row": null,
            "grid_template_areas": null,
            "grid_template_columns": null,
            "grid_template_rows": null,
            "height": null,
            "justify_content": null,
            "justify_items": null,
            "left": null,
            "margin": null,
            "max_height": null,
            "max_width": null,
            "min_height": null,
            "min_width": null,
            "object_fit": null,
            "object_position": null,
            "order": null,
            "overflow": null,
            "overflow_x": null,
            "overflow_y": null,
            "padding": null,
            "right": null,
            "top": null,
            "visibility": null,
            "width": null
          }
        },
        "af3b31308afe4bd8a57a7233a28840f0": {
          "model_module": "@jupyter-widgets/controls",
          "model_name": "ProgressStyleModel",
          "model_module_version": "1.5.0",
          "state": {
            "_model_module": "@jupyter-widgets/controls",
            "_model_module_version": "1.5.0",
            "_model_name": "ProgressStyleModel",
            "_view_count": null,
            "_view_module": "@jupyter-widgets/base",
            "_view_module_version": "1.2.0",
            "_view_name": "StyleView",
            "bar_color": null,
            "description_width": ""
          }
        },
        "f8ff1873eed14de1bf88ba12d87f136a": {
          "model_module": "@jupyter-widgets/controls",
          "model_name": "VBoxModel",
          "model_module_version": "1.5.0",
          "state": {
            "_dom_classes": [],
            "_model_module": "@jupyter-widgets/controls",
            "_model_module_version": "1.5.0",
            "_model_name": "VBoxModel",
            "_view_count": null,
            "_view_module": "@jupyter-widgets/controls",
            "_view_module_version": "1.5.0",
            "_view_name": "VBoxView",
            "box_style": "",
            "children": [
              "IPY_MODEL_7e2983dcd79f4724b949cf9c5005cb2d",
              "IPY_MODEL_c0bb8f683696498fbb156e66ed8a8f9f"
            ],
            "layout": "IPY_MODEL_5c2cfbf4602d4a34ba62953d49ad281a"
          }
        },
        "7e2983dcd79f4724b949cf9c5005cb2d": {
          "model_module": "@jupyter-widgets/controls",
          "model_name": "LabelModel",
          "model_module_version": "1.5.0",
          "state": {
            "_dom_classes": [],
            "_model_module": "@jupyter-widgets/controls",
            "_model_module_version": "1.5.0",
            "_model_name": "LabelModel",
            "_view_count": null,
            "_view_module": "@jupyter-widgets/controls",
            "_view_module_version": "1.5.0",
            "_view_name": "LabelView",
            "description": "",
            "description_tooltip": null,
            "layout": "IPY_MODEL_e41172de784f4dea975e2695ae39b9d9",
            "placeholder": "​",
            "style": "IPY_MODEL_46963a968a3d421ebc3d99d04747811a",
            "value": "0.011 MB of 0.011 MB uploaded\r"
          }
        },
        "c0bb8f683696498fbb156e66ed8a8f9f": {
          "model_module": "@jupyter-widgets/controls",
          "model_name": "FloatProgressModel",
          "model_module_version": "1.5.0",
          "state": {
            "_dom_classes": [],
            "_model_module": "@jupyter-widgets/controls",
            "_model_module_version": "1.5.0",
            "_model_name": "FloatProgressModel",
            "_view_count": null,
            "_view_module": "@jupyter-widgets/controls",
            "_view_module_version": "1.5.0",
            "_view_name": "ProgressView",
            "bar_style": "",
            "description": "",
            "description_tooltip": null,
            "layout": "IPY_MODEL_98fcfb6189e0440197003849dae27a8b",
            "max": 1,
            "min": 0,
            "orientation": "horizontal",
            "style": "IPY_MODEL_dde05985c5bc4a9e8ce3ebb01333b629",
            "value": 1
          }
        },
        "5c2cfbf4602d4a34ba62953d49ad281a": {
          "model_module": "@jupyter-widgets/base",
          "model_name": "LayoutModel",
          "model_module_version": "1.2.0",
          "state": {
            "_model_module": "@jupyter-widgets/base",
            "_model_module_version": "1.2.0",
            "_model_name": "LayoutModel",
            "_view_count": null,
            "_view_module": "@jupyter-widgets/base",
            "_view_module_version": "1.2.0",
            "_view_name": "LayoutView",
            "align_content": null,
            "align_items": null,
            "align_self": null,
            "border": null,
            "bottom": null,
            "display": null,
            "flex": null,
            "flex_flow": null,
            "grid_area": null,
            "grid_auto_columns": null,
            "grid_auto_flow": null,
            "grid_auto_rows": null,
            "grid_column": null,
            "grid_gap": null,
            "grid_row": null,
            "grid_template_areas": null,
            "grid_template_columns": null,
            "grid_template_rows": null,
            "height": null,
            "justify_content": null,
            "justify_items": null,
            "left": null,
            "margin": null,
            "max_height": null,
            "max_width": null,
            "min_height": null,
            "min_width": null,
            "object_fit": null,
            "object_position": null,
            "order": null,
            "overflow": null,
            "overflow_x": null,
            "overflow_y": null,
            "padding": null,
            "right": null,
            "top": null,
            "visibility": null,
            "width": null
          }
        },
        "e41172de784f4dea975e2695ae39b9d9": {
          "model_module": "@jupyter-widgets/base",
          "model_name": "LayoutModel",
          "model_module_version": "1.2.0",
          "state": {
            "_model_module": "@jupyter-widgets/base",
            "_model_module_version": "1.2.0",
            "_model_name": "LayoutModel",
            "_view_count": null,
            "_view_module": "@jupyter-widgets/base",
            "_view_module_version": "1.2.0",
            "_view_name": "LayoutView",
            "align_content": null,
            "align_items": null,
            "align_self": null,
            "border": null,
            "bottom": null,
            "display": null,
            "flex": null,
            "flex_flow": null,
            "grid_area": null,
            "grid_auto_columns": null,
            "grid_auto_flow": null,
            "grid_auto_rows": null,
            "grid_column": null,
            "grid_gap": null,
            "grid_row": null,
            "grid_template_areas": null,
            "grid_template_columns": null,
            "grid_template_rows": null,
            "height": null,
            "justify_content": null,
            "justify_items": null,
            "left": null,
            "margin": null,
            "max_height": null,
            "max_width": null,
            "min_height": null,
            "min_width": null,
            "object_fit": null,
            "object_position": null,
            "order": null,
            "overflow": null,
            "overflow_x": null,
            "overflow_y": null,
            "padding": null,
            "right": null,
            "top": null,
            "visibility": null,
            "width": null
          }
        },
        "46963a968a3d421ebc3d99d04747811a": {
          "model_module": "@jupyter-widgets/controls",
          "model_name": "DescriptionStyleModel",
          "model_module_version": "1.5.0",
          "state": {
            "_model_module": "@jupyter-widgets/controls",
            "_model_module_version": "1.5.0",
            "_model_name": "DescriptionStyleModel",
            "_view_count": null,
            "_view_module": "@jupyter-widgets/base",
            "_view_module_version": "1.2.0",
            "_view_name": "StyleView",
            "description_width": ""
          }
        },
        "98fcfb6189e0440197003849dae27a8b": {
          "model_module": "@jupyter-widgets/base",
          "model_name": "LayoutModel",
          "model_module_version": "1.2.0",
          "state": {
            "_model_module": "@jupyter-widgets/base",
            "_model_module_version": "1.2.0",
            "_model_name": "LayoutModel",
            "_view_count": null,
            "_view_module": "@jupyter-widgets/base",
            "_view_module_version": "1.2.0",
            "_view_name": "LayoutView",
            "align_content": null,
            "align_items": null,
            "align_self": null,
            "border": null,
            "bottom": null,
            "display": null,
            "flex": null,
            "flex_flow": null,
            "grid_area": null,
            "grid_auto_columns": null,
            "grid_auto_flow": null,
            "grid_auto_rows": null,
            "grid_column": null,
            "grid_gap": null,
            "grid_row": null,
            "grid_template_areas": null,
            "grid_template_columns": null,
            "grid_template_rows": null,
            "height": null,
            "justify_content": null,
            "justify_items": null,
            "left": null,
            "margin": null,
            "max_height": null,
            "max_width": null,
            "min_height": null,
            "min_width": null,
            "object_fit": null,
            "object_position": null,
            "order": null,
            "overflow": null,
            "overflow_x": null,
            "overflow_y": null,
            "padding": null,
            "right": null,
            "top": null,
            "visibility": null,
            "width": null
          }
        },
        "dde05985c5bc4a9e8ce3ebb01333b629": {
          "model_module": "@jupyter-widgets/controls",
          "model_name": "ProgressStyleModel",
          "model_module_version": "1.5.0",
          "state": {
            "_model_module": "@jupyter-widgets/controls",
            "_model_module_version": "1.5.0",
            "_model_name": "ProgressStyleModel",
            "_view_count": null,
            "_view_module": "@jupyter-widgets/base",
            "_view_module_version": "1.2.0",
            "_view_name": "StyleView",
            "bar_color": null,
            "description_width": ""
          }
        },
        "d4feaf9bcea1443d83af6bce1ed8251b": {
          "model_module": "@jupyter-widgets/controls",
          "model_name": "VBoxModel",
          "model_module_version": "1.5.0",
          "state": {
            "_dom_classes": [],
            "_model_module": "@jupyter-widgets/controls",
            "_model_module_version": "1.5.0",
            "_model_name": "VBoxModel",
            "_view_count": null,
            "_view_module": "@jupyter-widgets/controls",
            "_view_module_version": "1.5.0",
            "_view_name": "VBoxView",
            "box_style": "",
            "children": [
              "IPY_MODEL_cceb537a0a1c4261838a8bd82055b4d5",
              "IPY_MODEL_1663420c5fa047c5afe24e91523e8576"
            ],
            "layout": "IPY_MODEL_dd90c60bb0ab4291aa3d0ac604839152"
          }
        },
        "cceb537a0a1c4261838a8bd82055b4d5": {
          "model_module": "@jupyter-widgets/controls",
          "model_name": "LabelModel",
          "model_module_version": "1.5.0",
          "state": {
            "_dom_classes": [],
            "_model_module": "@jupyter-widgets/controls",
            "_model_module_version": "1.5.0",
            "_model_name": "LabelModel",
            "_view_count": null,
            "_view_module": "@jupyter-widgets/controls",
            "_view_module_version": "1.5.0",
            "_view_name": "LabelView",
            "description": "",
            "description_tooltip": null,
            "layout": "IPY_MODEL_d0a348ff543e4114b278188c680b1a7b",
            "placeholder": "​",
            "style": "IPY_MODEL_7458d99c52f04f6e86768436fc0c0fe0",
            "value": "0.011 MB of 0.011 MB uploaded\r"
          }
        },
        "1663420c5fa047c5afe24e91523e8576": {
          "model_module": "@jupyter-widgets/controls",
          "model_name": "FloatProgressModel",
          "model_module_version": "1.5.0",
          "state": {
            "_dom_classes": [],
            "_model_module": "@jupyter-widgets/controls",
            "_model_module_version": "1.5.0",
            "_model_name": "FloatProgressModel",
            "_view_count": null,
            "_view_module": "@jupyter-widgets/controls",
            "_view_module_version": "1.5.0",
            "_view_name": "ProgressView",
            "bar_style": "",
            "description": "",
            "description_tooltip": null,
            "layout": "IPY_MODEL_601608ea48d44886bc8e35a6564eb7f5",
            "max": 1,
            "min": 0,
            "orientation": "horizontal",
            "style": "IPY_MODEL_b156776f532c433d8cdfa38ac625f499",
            "value": 1
          }
        },
        "dd90c60bb0ab4291aa3d0ac604839152": {
          "model_module": "@jupyter-widgets/base",
          "model_name": "LayoutModel",
          "model_module_version": "1.2.0",
          "state": {
            "_model_module": "@jupyter-widgets/base",
            "_model_module_version": "1.2.0",
            "_model_name": "LayoutModel",
            "_view_count": null,
            "_view_module": "@jupyter-widgets/base",
            "_view_module_version": "1.2.0",
            "_view_name": "LayoutView",
            "align_content": null,
            "align_items": null,
            "align_self": null,
            "border": null,
            "bottom": null,
            "display": null,
            "flex": null,
            "flex_flow": null,
            "grid_area": null,
            "grid_auto_columns": null,
            "grid_auto_flow": null,
            "grid_auto_rows": null,
            "grid_column": null,
            "grid_gap": null,
            "grid_row": null,
            "grid_template_areas": null,
            "grid_template_columns": null,
            "grid_template_rows": null,
            "height": null,
            "justify_content": null,
            "justify_items": null,
            "left": null,
            "margin": null,
            "max_height": null,
            "max_width": null,
            "min_height": null,
            "min_width": null,
            "object_fit": null,
            "object_position": null,
            "order": null,
            "overflow": null,
            "overflow_x": null,
            "overflow_y": null,
            "padding": null,
            "right": null,
            "top": null,
            "visibility": null,
            "width": null
          }
        },
        "d0a348ff543e4114b278188c680b1a7b": {
          "model_module": "@jupyter-widgets/base",
          "model_name": "LayoutModel",
          "model_module_version": "1.2.0",
          "state": {
            "_model_module": "@jupyter-widgets/base",
            "_model_module_version": "1.2.0",
            "_model_name": "LayoutModel",
            "_view_count": null,
            "_view_module": "@jupyter-widgets/base",
            "_view_module_version": "1.2.0",
            "_view_name": "LayoutView",
            "align_content": null,
            "align_items": null,
            "align_self": null,
            "border": null,
            "bottom": null,
            "display": null,
            "flex": null,
            "flex_flow": null,
            "grid_area": null,
            "grid_auto_columns": null,
            "grid_auto_flow": null,
            "grid_auto_rows": null,
            "grid_column": null,
            "grid_gap": null,
            "grid_row": null,
            "grid_template_areas": null,
            "grid_template_columns": null,
            "grid_template_rows": null,
            "height": null,
            "justify_content": null,
            "justify_items": null,
            "left": null,
            "margin": null,
            "max_height": null,
            "max_width": null,
            "min_height": null,
            "min_width": null,
            "object_fit": null,
            "object_position": null,
            "order": null,
            "overflow": null,
            "overflow_x": null,
            "overflow_y": null,
            "padding": null,
            "right": null,
            "top": null,
            "visibility": null,
            "width": null
          }
        },
        "7458d99c52f04f6e86768436fc0c0fe0": {
          "model_module": "@jupyter-widgets/controls",
          "model_name": "DescriptionStyleModel",
          "model_module_version": "1.5.0",
          "state": {
            "_model_module": "@jupyter-widgets/controls",
            "_model_module_version": "1.5.0",
            "_model_name": "DescriptionStyleModel",
            "_view_count": null,
            "_view_module": "@jupyter-widgets/base",
            "_view_module_version": "1.2.0",
            "_view_name": "StyleView",
            "description_width": ""
          }
        },
        "601608ea48d44886bc8e35a6564eb7f5": {
          "model_module": "@jupyter-widgets/base",
          "model_name": "LayoutModel",
          "model_module_version": "1.2.0",
          "state": {
            "_model_module": "@jupyter-widgets/base",
            "_model_module_version": "1.2.0",
            "_model_name": "LayoutModel",
            "_view_count": null,
            "_view_module": "@jupyter-widgets/base",
            "_view_module_version": "1.2.0",
            "_view_name": "LayoutView",
            "align_content": null,
            "align_items": null,
            "align_self": null,
            "border": null,
            "bottom": null,
            "display": null,
            "flex": null,
            "flex_flow": null,
            "grid_area": null,
            "grid_auto_columns": null,
            "grid_auto_flow": null,
            "grid_auto_rows": null,
            "grid_column": null,
            "grid_gap": null,
            "grid_row": null,
            "grid_template_areas": null,
            "grid_template_columns": null,
            "grid_template_rows": null,
            "height": null,
            "justify_content": null,
            "justify_items": null,
            "left": null,
            "margin": null,
            "max_height": null,
            "max_width": null,
            "min_height": null,
            "min_width": null,
            "object_fit": null,
            "object_position": null,
            "order": null,
            "overflow": null,
            "overflow_x": null,
            "overflow_y": null,
            "padding": null,
            "right": null,
            "top": null,
            "visibility": null,
            "width": null
          }
        },
        "b156776f532c433d8cdfa38ac625f499": {
          "model_module": "@jupyter-widgets/controls",
          "model_name": "ProgressStyleModel",
          "model_module_version": "1.5.0",
          "state": {
            "_model_module": "@jupyter-widgets/controls",
            "_model_module_version": "1.5.0",
            "_model_name": "ProgressStyleModel",
            "_view_count": null,
            "_view_module": "@jupyter-widgets/base",
            "_view_module_version": "1.2.0",
            "_view_name": "StyleView",
            "bar_color": null,
            "description_width": ""
          }
        },
        "01b10efec680426abae850e1edc14105": {
          "model_module": "@jupyter-widgets/controls",
          "model_name": "VBoxModel",
          "model_module_version": "1.5.0",
          "state": {
            "_dom_classes": [],
            "_model_module": "@jupyter-widgets/controls",
            "_model_module_version": "1.5.0",
            "_model_name": "VBoxModel",
            "_view_count": null,
            "_view_module": "@jupyter-widgets/controls",
            "_view_module_version": "1.5.0",
            "_view_name": "VBoxView",
            "box_style": "",
            "children": [
              "IPY_MODEL_5dada1ff4fd74c9690fce846a6754398",
              "IPY_MODEL_dbaaa6124db94882ac4912ce18013d89"
            ],
            "layout": "IPY_MODEL_a829b89a91674e03b32bb9d61437a0af"
          }
        },
        "5dada1ff4fd74c9690fce846a6754398": {
          "model_module": "@jupyter-widgets/controls",
          "model_name": "LabelModel",
          "model_module_version": "1.5.0",
          "state": {
            "_dom_classes": [],
            "_model_module": "@jupyter-widgets/controls",
            "_model_module_version": "1.5.0",
            "_model_name": "LabelModel",
            "_view_count": null,
            "_view_module": "@jupyter-widgets/controls",
            "_view_module_version": "1.5.0",
            "_view_name": "LabelView",
            "description": "",
            "description_tooltip": null,
            "layout": "IPY_MODEL_34f94b8028dc4c09ae428763d773a0bb",
            "placeholder": "​",
            "style": "IPY_MODEL_09eb66acb042491eb2c458a70d6eb237",
            "value": "0.011 MB of 0.011 MB uploaded\r"
          }
        },
        "dbaaa6124db94882ac4912ce18013d89": {
          "model_module": "@jupyter-widgets/controls",
          "model_name": "FloatProgressModel",
          "model_module_version": "1.5.0",
          "state": {
            "_dom_classes": [],
            "_model_module": "@jupyter-widgets/controls",
            "_model_module_version": "1.5.0",
            "_model_name": "FloatProgressModel",
            "_view_count": null,
            "_view_module": "@jupyter-widgets/controls",
            "_view_module_version": "1.5.0",
            "_view_name": "ProgressView",
            "bar_style": "",
            "description": "",
            "description_tooltip": null,
            "layout": "IPY_MODEL_74a0c09c1af240978e6dcf1e6b35d267",
            "max": 1,
            "min": 0,
            "orientation": "horizontal",
            "style": "IPY_MODEL_377d5c01673846a881e311bc48e29926",
            "value": 1
          }
        },
        "a829b89a91674e03b32bb9d61437a0af": {
          "model_module": "@jupyter-widgets/base",
          "model_name": "LayoutModel",
          "model_module_version": "1.2.0",
          "state": {
            "_model_module": "@jupyter-widgets/base",
            "_model_module_version": "1.2.0",
            "_model_name": "LayoutModel",
            "_view_count": null,
            "_view_module": "@jupyter-widgets/base",
            "_view_module_version": "1.2.0",
            "_view_name": "LayoutView",
            "align_content": null,
            "align_items": null,
            "align_self": null,
            "border": null,
            "bottom": null,
            "display": null,
            "flex": null,
            "flex_flow": null,
            "grid_area": null,
            "grid_auto_columns": null,
            "grid_auto_flow": null,
            "grid_auto_rows": null,
            "grid_column": null,
            "grid_gap": null,
            "grid_row": null,
            "grid_template_areas": null,
            "grid_template_columns": null,
            "grid_template_rows": null,
            "height": null,
            "justify_content": null,
            "justify_items": null,
            "left": null,
            "margin": null,
            "max_height": null,
            "max_width": null,
            "min_height": null,
            "min_width": null,
            "object_fit": null,
            "object_position": null,
            "order": null,
            "overflow": null,
            "overflow_x": null,
            "overflow_y": null,
            "padding": null,
            "right": null,
            "top": null,
            "visibility": null,
            "width": null
          }
        },
        "34f94b8028dc4c09ae428763d773a0bb": {
          "model_module": "@jupyter-widgets/base",
          "model_name": "LayoutModel",
          "model_module_version": "1.2.0",
          "state": {
            "_model_module": "@jupyter-widgets/base",
            "_model_module_version": "1.2.0",
            "_model_name": "LayoutModel",
            "_view_count": null,
            "_view_module": "@jupyter-widgets/base",
            "_view_module_version": "1.2.0",
            "_view_name": "LayoutView",
            "align_content": null,
            "align_items": null,
            "align_self": null,
            "border": null,
            "bottom": null,
            "display": null,
            "flex": null,
            "flex_flow": null,
            "grid_area": null,
            "grid_auto_columns": null,
            "grid_auto_flow": null,
            "grid_auto_rows": null,
            "grid_column": null,
            "grid_gap": null,
            "grid_row": null,
            "grid_template_areas": null,
            "grid_template_columns": null,
            "grid_template_rows": null,
            "height": null,
            "justify_content": null,
            "justify_items": null,
            "left": null,
            "margin": null,
            "max_height": null,
            "max_width": null,
            "min_height": null,
            "min_width": null,
            "object_fit": null,
            "object_position": null,
            "order": null,
            "overflow": null,
            "overflow_x": null,
            "overflow_y": null,
            "padding": null,
            "right": null,
            "top": null,
            "visibility": null,
            "width": null
          }
        },
        "09eb66acb042491eb2c458a70d6eb237": {
          "model_module": "@jupyter-widgets/controls",
          "model_name": "DescriptionStyleModel",
          "model_module_version": "1.5.0",
          "state": {
            "_model_module": "@jupyter-widgets/controls",
            "_model_module_version": "1.5.0",
            "_model_name": "DescriptionStyleModel",
            "_view_count": null,
            "_view_module": "@jupyter-widgets/base",
            "_view_module_version": "1.2.0",
            "_view_name": "StyleView",
            "description_width": ""
          }
        },
        "74a0c09c1af240978e6dcf1e6b35d267": {
          "model_module": "@jupyter-widgets/base",
          "model_name": "LayoutModel",
          "model_module_version": "1.2.0",
          "state": {
            "_model_module": "@jupyter-widgets/base",
            "_model_module_version": "1.2.0",
            "_model_name": "LayoutModel",
            "_view_count": null,
            "_view_module": "@jupyter-widgets/base",
            "_view_module_version": "1.2.0",
            "_view_name": "LayoutView",
            "align_content": null,
            "align_items": null,
            "align_self": null,
            "border": null,
            "bottom": null,
            "display": null,
            "flex": null,
            "flex_flow": null,
            "grid_area": null,
            "grid_auto_columns": null,
            "grid_auto_flow": null,
            "grid_auto_rows": null,
            "grid_column": null,
            "grid_gap": null,
            "grid_row": null,
            "grid_template_areas": null,
            "grid_template_columns": null,
            "grid_template_rows": null,
            "height": null,
            "justify_content": null,
            "justify_items": null,
            "left": null,
            "margin": null,
            "max_height": null,
            "max_width": null,
            "min_height": null,
            "min_width": null,
            "object_fit": null,
            "object_position": null,
            "order": null,
            "overflow": null,
            "overflow_x": null,
            "overflow_y": null,
            "padding": null,
            "right": null,
            "top": null,
            "visibility": null,
            "width": null
          }
        },
        "377d5c01673846a881e311bc48e29926": {
          "model_module": "@jupyter-widgets/controls",
          "model_name": "ProgressStyleModel",
          "model_module_version": "1.5.0",
          "state": {
            "_model_module": "@jupyter-widgets/controls",
            "_model_module_version": "1.5.0",
            "_model_name": "ProgressStyleModel",
            "_view_count": null,
            "_view_module": "@jupyter-widgets/base",
            "_view_module_version": "1.2.0",
            "_view_name": "StyleView",
            "bar_color": null,
            "description_width": ""
          }
        },
        "ae1e5605cd8d42328ca673a51c36ecff": {
          "model_module": "@jupyter-widgets/controls",
          "model_name": "VBoxModel",
          "model_module_version": "1.5.0",
          "state": {
            "_dom_classes": [],
            "_model_module": "@jupyter-widgets/controls",
            "_model_module_version": "1.5.0",
            "_model_name": "VBoxModel",
            "_view_count": null,
            "_view_module": "@jupyter-widgets/controls",
            "_view_module_version": "1.5.0",
            "_view_name": "VBoxView",
            "box_style": "",
            "children": [
              "IPY_MODEL_0b291303735b4f098718d826e6c8fdf8",
              "IPY_MODEL_c480a301d1ce45f8b1e305c07f09694f"
            ],
            "layout": "IPY_MODEL_ec6b2f5386b648aa8b78ccc626e25684"
          }
        },
        "0b291303735b4f098718d826e6c8fdf8": {
          "model_module": "@jupyter-widgets/controls",
          "model_name": "LabelModel",
          "model_module_version": "1.5.0",
          "state": {
            "_dom_classes": [],
            "_model_module": "@jupyter-widgets/controls",
            "_model_module_version": "1.5.0",
            "_model_name": "LabelModel",
            "_view_count": null,
            "_view_module": "@jupyter-widgets/controls",
            "_view_module_version": "1.5.0",
            "_view_name": "LabelView",
            "description": "",
            "description_tooltip": null,
            "layout": "IPY_MODEL_03bf2398571c4053b7ed0f602cefb173",
            "placeholder": "​",
            "style": "IPY_MODEL_863da24086524c2d9ace34b62d7a590e",
            "value": "0.011 MB of 0.011 MB uploaded\r"
          }
        },
        "c480a301d1ce45f8b1e305c07f09694f": {
          "model_module": "@jupyter-widgets/controls",
          "model_name": "FloatProgressModel",
          "model_module_version": "1.5.0",
          "state": {
            "_dom_classes": [],
            "_model_module": "@jupyter-widgets/controls",
            "_model_module_version": "1.5.0",
            "_model_name": "FloatProgressModel",
            "_view_count": null,
            "_view_module": "@jupyter-widgets/controls",
            "_view_module_version": "1.5.0",
            "_view_name": "ProgressView",
            "bar_style": "",
            "description": "",
            "description_tooltip": null,
            "layout": "IPY_MODEL_0a702e17f4934e9fa6dd64d135d07d0c",
            "max": 1,
            "min": 0,
            "orientation": "horizontal",
            "style": "IPY_MODEL_45395d6f21154b3699872426a9a6b4c3",
            "value": 1
          }
        },
        "ec6b2f5386b648aa8b78ccc626e25684": {
          "model_module": "@jupyter-widgets/base",
          "model_name": "LayoutModel",
          "model_module_version": "1.2.0",
          "state": {
            "_model_module": "@jupyter-widgets/base",
            "_model_module_version": "1.2.0",
            "_model_name": "LayoutModel",
            "_view_count": null,
            "_view_module": "@jupyter-widgets/base",
            "_view_module_version": "1.2.0",
            "_view_name": "LayoutView",
            "align_content": null,
            "align_items": null,
            "align_self": null,
            "border": null,
            "bottom": null,
            "display": null,
            "flex": null,
            "flex_flow": null,
            "grid_area": null,
            "grid_auto_columns": null,
            "grid_auto_flow": null,
            "grid_auto_rows": null,
            "grid_column": null,
            "grid_gap": null,
            "grid_row": null,
            "grid_template_areas": null,
            "grid_template_columns": null,
            "grid_template_rows": null,
            "height": null,
            "justify_content": null,
            "justify_items": null,
            "left": null,
            "margin": null,
            "max_height": null,
            "max_width": null,
            "min_height": null,
            "min_width": null,
            "object_fit": null,
            "object_position": null,
            "order": null,
            "overflow": null,
            "overflow_x": null,
            "overflow_y": null,
            "padding": null,
            "right": null,
            "top": null,
            "visibility": null,
            "width": null
          }
        },
        "03bf2398571c4053b7ed0f602cefb173": {
          "model_module": "@jupyter-widgets/base",
          "model_name": "LayoutModel",
          "model_module_version": "1.2.0",
          "state": {
            "_model_module": "@jupyter-widgets/base",
            "_model_module_version": "1.2.0",
            "_model_name": "LayoutModel",
            "_view_count": null,
            "_view_module": "@jupyter-widgets/base",
            "_view_module_version": "1.2.0",
            "_view_name": "LayoutView",
            "align_content": null,
            "align_items": null,
            "align_self": null,
            "border": null,
            "bottom": null,
            "display": null,
            "flex": null,
            "flex_flow": null,
            "grid_area": null,
            "grid_auto_columns": null,
            "grid_auto_flow": null,
            "grid_auto_rows": null,
            "grid_column": null,
            "grid_gap": null,
            "grid_row": null,
            "grid_template_areas": null,
            "grid_template_columns": null,
            "grid_template_rows": null,
            "height": null,
            "justify_content": null,
            "justify_items": null,
            "left": null,
            "margin": null,
            "max_height": null,
            "max_width": null,
            "min_height": null,
            "min_width": null,
            "object_fit": null,
            "object_position": null,
            "order": null,
            "overflow": null,
            "overflow_x": null,
            "overflow_y": null,
            "padding": null,
            "right": null,
            "top": null,
            "visibility": null,
            "width": null
          }
        },
        "863da24086524c2d9ace34b62d7a590e": {
          "model_module": "@jupyter-widgets/controls",
          "model_name": "DescriptionStyleModel",
          "model_module_version": "1.5.0",
          "state": {
            "_model_module": "@jupyter-widgets/controls",
            "_model_module_version": "1.5.0",
            "_model_name": "DescriptionStyleModel",
            "_view_count": null,
            "_view_module": "@jupyter-widgets/base",
            "_view_module_version": "1.2.0",
            "_view_name": "StyleView",
            "description_width": ""
          }
        },
        "0a702e17f4934e9fa6dd64d135d07d0c": {
          "model_module": "@jupyter-widgets/base",
          "model_name": "LayoutModel",
          "model_module_version": "1.2.0",
          "state": {
            "_model_module": "@jupyter-widgets/base",
            "_model_module_version": "1.2.0",
            "_model_name": "LayoutModel",
            "_view_count": null,
            "_view_module": "@jupyter-widgets/base",
            "_view_module_version": "1.2.0",
            "_view_name": "LayoutView",
            "align_content": null,
            "align_items": null,
            "align_self": null,
            "border": null,
            "bottom": null,
            "display": null,
            "flex": null,
            "flex_flow": null,
            "grid_area": null,
            "grid_auto_columns": null,
            "grid_auto_flow": null,
            "grid_auto_rows": null,
            "grid_column": null,
            "grid_gap": null,
            "grid_row": null,
            "grid_template_areas": null,
            "grid_template_columns": null,
            "grid_template_rows": null,
            "height": null,
            "justify_content": null,
            "justify_items": null,
            "left": null,
            "margin": null,
            "max_height": null,
            "max_width": null,
            "min_height": null,
            "min_width": null,
            "object_fit": null,
            "object_position": null,
            "order": null,
            "overflow": null,
            "overflow_x": null,
            "overflow_y": null,
            "padding": null,
            "right": null,
            "top": null,
            "visibility": null,
            "width": null
          }
        },
        "45395d6f21154b3699872426a9a6b4c3": {
          "model_module": "@jupyter-widgets/controls",
          "model_name": "ProgressStyleModel",
          "model_module_version": "1.5.0",
          "state": {
            "_model_module": "@jupyter-widgets/controls",
            "_model_module_version": "1.5.0",
            "_model_name": "ProgressStyleModel",
            "_view_count": null,
            "_view_module": "@jupyter-widgets/base",
            "_view_module_version": "1.2.0",
            "_view_name": "StyleView",
            "bar_color": null,
            "description_width": ""
          }
        },
        "6f801998afbf4be78e65bd3269ad98ea": {
          "model_module": "@jupyter-widgets/controls",
          "model_name": "VBoxModel",
          "model_module_version": "1.5.0",
          "state": {
            "_dom_classes": [],
            "_model_module": "@jupyter-widgets/controls",
            "_model_module_version": "1.5.0",
            "_model_name": "VBoxModel",
            "_view_count": null,
            "_view_module": "@jupyter-widgets/controls",
            "_view_module_version": "1.5.0",
            "_view_name": "VBoxView",
            "box_style": "",
            "children": [
              "IPY_MODEL_efdc4a0f29cf471f8b5e07e81bfcdcbc",
              "IPY_MODEL_25075ab6df0e4dd6bfd3d8f6598b7bae"
            ],
            "layout": "IPY_MODEL_8b13daf700ec4caaa5cf8e88b1b9d3a5"
          }
        },
        "efdc4a0f29cf471f8b5e07e81bfcdcbc": {
          "model_module": "@jupyter-widgets/controls",
          "model_name": "LabelModel",
          "model_module_version": "1.5.0",
          "state": {
            "_dom_classes": [],
            "_model_module": "@jupyter-widgets/controls",
            "_model_module_version": "1.5.0",
            "_model_name": "LabelModel",
            "_view_count": null,
            "_view_module": "@jupyter-widgets/controls",
            "_view_module_version": "1.5.0",
            "_view_name": "LabelView",
            "description": "",
            "description_tooltip": null,
            "layout": "IPY_MODEL_2d560558ebb34ed3bc343bb4406128fe",
            "placeholder": "​",
            "style": "IPY_MODEL_b134db35fd5b4db38537dabc80a9a5f7",
            "value": "0.011 MB of 0.011 MB uploaded\r"
          }
        },
        "25075ab6df0e4dd6bfd3d8f6598b7bae": {
          "model_module": "@jupyter-widgets/controls",
          "model_name": "FloatProgressModel",
          "model_module_version": "1.5.0",
          "state": {
            "_dom_classes": [],
            "_model_module": "@jupyter-widgets/controls",
            "_model_module_version": "1.5.0",
            "_model_name": "FloatProgressModel",
            "_view_count": null,
            "_view_module": "@jupyter-widgets/controls",
            "_view_module_version": "1.5.0",
            "_view_name": "ProgressView",
            "bar_style": "",
            "description": "",
            "description_tooltip": null,
            "layout": "IPY_MODEL_f097ba0d29884756a3eb8f5f99354588",
            "max": 1,
            "min": 0,
            "orientation": "horizontal",
            "style": "IPY_MODEL_5f29761a12084d23a8279faaabbd31ba",
            "value": 1
          }
        },
        "8b13daf700ec4caaa5cf8e88b1b9d3a5": {
          "model_module": "@jupyter-widgets/base",
          "model_name": "LayoutModel",
          "model_module_version": "1.2.0",
          "state": {
            "_model_module": "@jupyter-widgets/base",
            "_model_module_version": "1.2.0",
            "_model_name": "LayoutModel",
            "_view_count": null,
            "_view_module": "@jupyter-widgets/base",
            "_view_module_version": "1.2.0",
            "_view_name": "LayoutView",
            "align_content": null,
            "align_items": null,
            "align_self": null,
            "border": null,
            "bottom": null,
            "display": null,
            "flex": null,
            "flex_flow": null,
            "grid_area": null,
            "grid_auto_columns": null,
            "grid_auto_flow": null,
            "grid_auto_rows": null,
            "grid_column": null,
            "grid_gap": null,
            "grid_row": null,
            "grid_template_areas": null,
            "grid_template_columns": null,
            "grid_template_rows": null,
            "height": null,
            "justify_content": null,
            "justify_items": null,
            "left": null,
            "margin": null,
            "max_height": null,
            "max_width": null,
            "min_height": null,
            "min_width": null,
            "object_fit": null,
            "object_position": null,
            "order": null,
            "overflow": null,
            "overflow_x": null,
            "overflow_y": null,
            "padding": null,
            "right": null,
            "top": null,
            "visibility": null,
            "width": null
          }
        },
        "2d560558ebb34ed3bc343bb4406128fe": {
          "model_module": "@jupyter-widgets/base",
          "model_name": "LayoutModel",
          "model_module_version": "1.2.0",
          "state": {
            "_model_module": "@jupyter-widgets/base",
            "_model_module_version": "1.2.0",
            "_model_name": "LayoutModel",
            "_view_count": null,
            "_view_module": "@jupyter-widgets/base",
            "_view_module_version": "1.2.0",
            "_view_name": "LayoutView",
            "align_content": null,
            "align_items": null,
            "align_self": null,
            "border": null,
            "bottom": null,
            "display": null,
            "flex": null,
            "flex_flow": null,
            "grid_area": null,
            "grid_auto_columns": null,
            "grid_auto_flow": null,
            "grid_auto_rows": null,
            "grid_column": null,
            "grid_gap": null,
            "grid_row": null,
            "grid_template_areas": null,
            "grid_template_columns": null,
            "grid_template_rows": null,
            "height": null,
            "justify_content": null,
            "justify_items": null,
            "left": null,
            "margin": null,
            "max_height": null,
            "max_width": null,
            "min_height": null,
            "min_width": null,
            "object_fit": null,
            "object_position": null,
            "order": null,
            "overflow": null,
            "overflow_x": null,
            "overflow_y": null,
            "padding": null,
            "right": null,
            "top": null,
            "visibility": null,
            "width": null
          }
        },
        "b134db35fd5b4db38537dabc80a9a5f7": {
          "model_module": "@jupyter-widgets/controls",
          "model_name": "DescriptionStyleModel",
          "model_module_version": "1.5.0",
          "state": {
            "_model_module": "@jupyter-widgets/controls",
            "_model_module_version": "1.5.0",
            "_model_name": "DescriptionStyleModel",
            "_view_count": null,
            "_view_module": "@jupyter-widgets/base",
            "_view_module_version": "1.2.0",
            "_view_name": "StyleView",
            "description_width": ""
          }
        },
        "f097ba0d29884756a3eb8f5f99354588": {
          "model_module": "@jupyter-widgets/base",
          "model_name": "LayoutModel",
          "model_module_version": "1.2.0",
          "state": {
            "_model_module": "@jupyter-widgets/base",
            "_model_module_version": "1.2.0",
            "_model_name": "LayoutModel",
            "_view_count": null,
            "_view_module": "@jupyter-widgets/base",
            "_view_module_version": "1.2.0",
            "_view_name": "LayoutView",
            "align_content": null,
            "align_items": null,
            "align_self": null,
            "border": null,
            "bottom": null,
            "display": null,
            "flex": null,
            "flex_flow": null,
            "grid_area": null,
            "grid_auto_columns": null,
            "grid_auto_flow": null,
            "grid_auto_rows": null,
            "grid_column": null,
            "grid_gap": null,
            "grid_row": null,
            "grid_template_areas": null,
            "grid_template_columns": null,
            "grid_template_rows": null,
            "height": null,
            "justify_content": null,
            "justify_items": null,
            "left": null,
            "margin": null,
            "max_height": null,
            "max_width": null,
            "min_height": null,
            "min_width": null,
            "object_fit": null,
            "object_position": null,
            "order": null,
            "overflow": null,
            "overflow_x": null,
            "overflow_y": null,
            "padding": null,
            "right": null,
            "top": null,
            "visibility": null,
            "width": null
          }
        },
        "5f29761a12084d23a8279faaabbd31ba": {
          "model_module": "@jupyter-widgets/controls",
          "model_name": "ProgressStyleModel",
          "model_module_version": "1.5.0",
          "state": {
            "_model_module": "@jupyter-widgets/controls",
            "_model_module_version": "1.5.0",
            "_model_name": "ProgressStyleModel",
            "_view_count": null,
            "_view_module": "@jupyter-widgets/base",
            "_view_module_version": "1.2.0",
            "_view_name": "StyleView",
            "bar_color": null,
            "description_width": ""
          }
        },
        "43da209739db490b9e55c595b22ea089": {
          "model_module": "@jupyter-widgets/controls",
          "model_name": "VBoxModel",
          "model_module_version": "1.5.0",
          "state": {
            "_dom_classes": [],
            "_model_module": "@jupyter-widgets/controls",
            "_model_module_version": "1.5.0",
            "_model_name": "VBoxModel",
            "_view_count": null,
            "_view_module": "@jupyter-widgets/controls",
            "_view_module_version": "1.5.0",
            "_view_name": "VBoxView",
            "box_style": "",
            "children": [
              "IPY_MODEL_0103d767b39e44e9bd70cd64bf8269c6",
              "IPY_MODEL_a7e390b68b604ab6a332046a6a09aa74"
            ],
            "layout": "IPY_MODEL_7d3c90a1b70d4d17921f0333f7db1796"
          }
        },
        "0103d767b39e44e9bd70cd64bf8269c6": {
          "model_module": "@jupyter-widgets/controls",
          "model_name": "LabelModel",
          "model_module_version": "1.5.0",
          "state": {
            "_dom_classes": [],
            "_model_module": "@jupyter-widgets/controls",
            "_model_module_version": "1.5.0",
            "_model_name": "LabelModel",
            "_view_count": null,
            "_view_module": "@jupyter-widgets/controls",
            "_view_module_version": "1.5.0",
            "_view_name": "LabelView",
            "description": "",
            "description_tooltip": null,
            "layout": "IPY_MODEL_b4d5f6e032924384bbd20d5e03ee0776",
            "placeholder": "​",
            "style": "IPY_MODEL_6553ca570cf4458096d9a79922e1d9ef",
            "value": "0.011 MB of 0.011 MB uploaded\r"
          }
        },
        "a7e390b68b604ab6a332046a6a09aa74": {
          "model_module": "@jupyter-widgets/controls",
          "model_name": "FloatProgressModel",
          "model_module_version": "1.5.0",
          "state": {
            "_dom_classes": [],
            "_model_module": "@jupyter-widgets/controls",
            "_model_module_version": "1.5.0",
            "_model_name": "FloatProgressModel",
            "_view_count": null,
            "_view_module": "@jupyter-widgets/controls",
            "_view_module_version": "1.5.0",
            "_view_name": "ProgressView",
            "bar_style": "",
            "description": "",
            "description_tooltip": null,
            "layout": "IPY_MODEL_e6d399b6943944418c3c4a7c2b042218",
            "max": 1,
            "min": 0,
            "orientation": "horizontal",
            "style": "IPY_MODEL_378d523b236f4c279aa0d4a42362c917",
            "value": 1
          }
        },
        "7d3c90a1b70d4d17921f0333f7db1796": {
          "model_module": "@jupyter-widgets/base",
          "model_name": "LayoutModel",
          "model_module_version": "1.2.0",
          "state": {
            "_model_module": "@jupyter-widgets/base",
            "_model_module_version": "1.2.0",
            "_model_name": "LayoutModel",
            "_view_count": null,
            "_view_module": "@jupyter-widgets/base",
            "_view_module_version": "1.2.0",
            "_view_name": "LayoutView",
            "align_content": null,
            "align_items": null,
            "align_self": null,
            "border": null,
            "bottom": null,
            "display": null,
            "flex": null,
            "flex_flow": null,
            "grid_area": null,
            "grid_auto_columns": null,
            "grid_auto_flow": null,
            "grid_auto_rows": null,
            "grid_column": null,
            "grid_gap": null,
            "grid_row": null,
            "grid_template_areas": null,
            "grid_template_columns": null,
            "grid_template_rows": null,
            "height": null,
            "justify_content": null,
            "justify_items": null,
            "left": null,
            "margin": null,
            "max_height": null,
            "max_width": null,
            "min_height": null,
            "min_width": null,
            "object_fit": null,
            "object_position": null,
            "order": null,
            "overflow": null,
            "overflow_x": null,
            "overflow_y": null,
            "padding": null,
            "right": null,
            "top": null,
            "visibility": null,
            "width": null
          }
        },
        "b4d5f6e032924384bbd20d5e03ee0776": {
          "model_module": "@jupyter-widgets/base",
          "model_name": "LayoutModel",
          "model_module_version": "1.2.0",
          "state": {
            "_model_module": "@jupyter-widgets/base",
            "_model_module_version": "1.2.0",
            "_model_name": "LayoutModel",
            "_view_count": null,
            "_view_module": "@jupyter-widgets/base",
            "_view_module_version": "1.2.0",
            "_view_name": "LayoutView",
            "align_content": null,
            "align_items": null,
            "align_self": null,
            "border": null,
            "bottom": null,
            "display": null,
            "flex": null,
            "flex_flow": null,
            "grid_area": null,
            "grid_auto_columns": null,
            "grid_auto_flow": null,
            "grid_auto_rows": null,
            "grid_column": null,
            "grid_gap": null,
            "grid_row": null,
            "grid_template_areas": null,
            "grid_template_columns": null,
            "grid_template_rows": null,
            "height": null,
            "justify_content": null,
            "justify_items": null,
            "left": null,
            "margin": null,
            "max_height": null,
            "max_width": null,
            "min_height": null,
            "min_width": null,
            "object_fit": null,
            "object_position": null,
            "order": null,
            "overflow": null,
            "overflow_x": null,
            "overflow_y": null,
            "padding": null,
            "right": null,
            "top": null,
            "visibility": null,
            "width": null
          }
        },
        "6553ca570cf4458096d9a79922e1d9ef": {
          "model_module": "@jupyter-widgets/controls",
          "model_name": "DescriptionStyleModel",
          "model_module_version": "1.5.0",
          "state": {
            "_model_module": "@jupyter-widgets/controls",
            "_model_module_version": "1.5.0",
            "_model_name": "DescriptionStyleModel",
            "_view_count": null,
            "_view_module": "@jupyter-widgets/base",
            "_view_module_version": "1.2.0",
            "_view_name": "StyleView",
            "description_width": ""
          }
        },
        "e6d399b6943944418c3c4a7c2b042218": {
          "model_module": "@jupyter-widgets/base",
          "model_name": "LayoutModel",
          "model_module_version": "1.2.0",
          "state": {
            "_model_module": "@jupyter-widgets/base",
            "_model_module_version": "1.2.0",
            "_model_name": "LayoutModel",
            "_view_count": null,
            "_view_module": "@jupyter-widgets/base",
            "_view_module_version": "1.2.0",
            "_view_name": "LayoutView",
            "align_content": null,
            "align_items": null,
            "align_self": null,
            "border": null,
            "bottom": null,
            "display": null,
            "flex": null,
            "flex_flow": null,
            "grid_area": null,
            "grid_auto_columns": null,
            "grid_auto_flow": null,
            "grid_auto_rows": null,
            "grid_column": null,
            "grid_gap": null,
            "grid_row": null,
            "grid_template_areas": null,
            "grid_template_columns": null,
            "grid_template_rows": null,
            "height": null,
            "justify_content": null,
            "justify_items": null,
            "left": null,
            "margin": null,
            "max_height": null,
            "max_width": null,
            "min_height": null,
            "min_width": null,
            "object_fit": null,
            "object_position": null,
            "order": null,
            "overflow": null,
            "overflow_x": null,
            "overflow_y": null,
            "padding": null,
            "right": null,
            "top": null,
            "visibility": null,
            "width": null
          }
        },
        "378d523b236f4c279aa0d4a42362c917": {
          "model_module": "@jupyter-widgets/controls",
          "model_name": "ProgressStyleModel",
          "model_module_version": "1.5.0",
          "state": {
            "_model_module": "@jupyter-widgets/controls",
            "_model_module_version": "1.5.0",
            "_model_name": "ProgressStyleModel",
            "_view_count": null,
            "_view_module": "@jupyter-widgets/base",
            "_view_module_version": "1.2.0",
            "_view_name": "StyleView",
            "bar_color": null,
            "description_width": ""
          }
        },
        "23bd5e58b2fe44b4830321466057afc6": {
          "model_module": "@jupyter-widgets/controls",
          "model_name": "VBoxModel",
          "model_module_version": "1.5.0",
          "state": {
            "_dom_classes": [],
            "_model_module": "@jupyter-widgets/controls",
            "_model_module_version": "1.5.0",
            "_model_name": "VBoxModel",
            "_view_count": null,
            "_view_module": "@jupyter-widgets/controls",
            "_view_module_version": "1.5.0",
            "_view_name": "VBoxView",
            "box_style": "",
            "children": [
              "IPY_MODEL_14acdc3de30740efaa1aa4a5e07ae934",
              "IPY_MODEL_3dddac0323114d34878dd25b714febdc"
            ],
            "layout": "IPY_MODEL_3b39030bc8554ac8849b3959bcd38b2e"
          }
        },
        "14acdc3de30740efaa1aa4a5e07ae934": {
          "model_module": "@jupyter-widgets/controls",
          "model_name": "LabelModel",
          "model_module_version": "1.5.0",
          "state": {
            "_dom_classes": [],
            "_model_module": "@jupyter-widgets/controls",
            "_model_module_version": "1.5.0",
            "_model_name": "LabelModel",
            "_view_count": null,
            "_view_module": "@jupyter-widgets/controls",
            "_view_module_version": "1.5.0",
            "_view_name": "LabelView",
            "description": "",
            "description_tooltip": null,
            "layout": "IPY_MODEL_6eb316d8c02f4b43bcbb92174d2adb69",
            "placeholder": "​",
            "style": "IPY_MODEL_20e1bba5a9fa440c886a9b7d86b989b2",
            "value": "0.011 MB of 0.011 MB uploaded\r"
          }
        },
        "3dddac0323114d34878dd25b714febdc": {
          "model_module": "@jupyter-widgets/controls",
          "model_name": "FloatProgressModel",
          "model_module_version": "1.5.0",
          "state": {
            "_dom_classes": [],
            "_model_module": "@jupyter-widgets/controls",
            "_model_module_version": "1.5.0",
            "_model_name": "FloatProgressModel",
            "_view_count": null,
            "_view_module": "@jupyter-widgets/controls",
            "_view_module_version": "1.5.0",
            "_view_name": "ProgressView",
            "bar_style": "",
            "description": "",
            "description_tooltip": null,
            "layout": "IPY_MODEL_65b2611d12c44b74ace70eba03496ddf",
            "max": 1,
            "min": 0,
            "orientation": "horizontal",
            "style": "IPY_MODEL_e48c9caf24a34e549d948a402f4eeee4",
            "value": 1
          }
        },
        "3b39030bc8554ac8849b3959bcd38b2e": {
          "model_module": "@jupyter-widgets/base",
          "model_name": "LayoutModel",
          "model_module_version": "1.2.0",
          "state": {
            "_model_module": "@jupyter-widgets/base",
            "_model_module_version": "1.2.0",
            "_model_name": "LayoutModel",
            "_view_count": null,
            "_view_module": "@jupyter-widgets/base",
            "_view_module_version": "1.2.0",
            "_view_name": "LayoutView",
            "align_content": null,
            "align_items": null,
            "align_self": null,
            "border": null,
            "bottom": null,
            "display": null,
            "flex": null,
            "flex_flow": null,
            "grid_area": null,
            "grid_auto_columns": null,
            "grid_auto_flow": null,
            "grid_auto_rows": null,
            "grid_column": null,
            "grid_gap": null,
            "grid_row": null,
            "grid_template_areas": null,
            "grid_template_columns": null,
            "grid_template_rows": null,
            "height": null,
            "justify_content": null,
            "justify_items": null,
            "left": null,
            "margin": null,
            "max_height": null,
            "max_width": null,
            "min_height": null,
            "min_width": null,
            "object_fit": null,
            "object_position": null,
            "order": null,
            "overflow": null,
            "overflow_x": null,
            "overflow_y": null,
            "padding": null,
            "right": null,
            "top": null,
            "visibility": null,
            "width": null
          }
        },
        "6eb316d8c02f4b43bcbb92174d2adb69": {
          "model_module": "@jupyter-widgets/base",
          "model_name": "LayoutModel",
          "model_module_version": "1.2.0",
          "state": {
            "_model_module": "@jupyter-widgets/base",
            "_model_module_version": "1.2.0",
            "_model_name": "LayoutModel",
            "_view_count": null,
            "_view_module": "@jupyter-widgets/base",
            "_view_module_version": "1.2.0",
            "_view_name": "LayoutView",
            "align_content": null,
            "align_items": null,
            "align_self": null,
            "border": null,
            "bottom": null,
            "display": null,
            "flex": null,
            "flex_flow": null,
            "grid_area": null,
            "grid_auto_columns": null,
            "grid_auto_flow": null,
            "grid_auto_rows": null,
            "grid_column": null,
            "grid_gap": null,
            "grid_row": null,
            "grid_template_areas": null,
            "grid_template_columns": null,
            "grid_template_rows": null,
            "height": null,
            "justify_content": null,
            "justify_items": null,
            "left": null,
            "margin": null,
            "max_height": null,
            "max_width": null,
            "min_height": null,
            "min_width": null,
            "object_fit": null,
            "object_position": null,
            "order": null,
            "overflow": null,
            "overflow_x": null,
            "overflow_y": null,
            "padding": null,
            "right": null,
            "top": null,
            "visibility": null,
            "width": null
          }
        },
        "20e1bba5a9fa440c886a9b7d86b989b2": {
          "model_module": "@jupyter-widgets/controls",
          "model_name": "DescriptionStyleModel",
          "model_module_version": "1.5.0",
          "state": {
            "_model_module": "@jupyter-widgets/controls",
            "_model_module_version": "1.5.0",
            "_model_name": "DescriptionStyleModel",
            "_view_count": null,
            "_view_module": "@jupyter-widgets/base",
            "_view_module_version": "1.2.0",
            "_view_name": "StyleView",
            "description_width": ""
          }
        },
        "65b2611d12c44b74ace70eba03496ddf": {
          "model_module": "@jupyter-widgets/base",
          "model_name": "LayoutModel",
          "model_module_version": "1.2.0",
          "state": {
            "_model_module": "@jupyter-widgets/base",
            "_model_module_version": "1.2.0",
            "_model_name": "LayoutModel",
            "_view_count": null,
            "_view_module": "@jupyter-widgets/base",
            "_view_module_version": "1.2.0",
            "_view_name": "LayoutView",
            "align_content": null,
            "align_items": null,
            "align_self": null,
            "border": null,
            "bottom": null,
            "display": null,
            "flex": null,
            "flex_flow": null,
            "grid_area": null,
            "grid_auto_columns": null,
            "grid_auto_flow": null,
            "grid_auto_rows": null,
            "grid_column": null,
            "grid_gap": null,
            "grid_row": null,
            "grid_template_areas": null,
            "grid_template_columns": null,
            "grid_template_rows": null,
            "height": null,
            "justify_content": null,
            "justify_items": null,
            "left": null,
            "margin": null,
            "max_height": null,
            "max_width": null,
            "min_height": null,
            "min_width": null,
            "object_fit": null,
            "object_position": null,
            "order": null,
            "overflow": null,
            "overflow_x": null,
            "overflow_y": null,
            "padding": null,
            "right": null,
            "top": null,
            "visibility": null,
            "width": null
          }
        },
        "e48c9caf24a34e549d948a402f4eeee4": {
          "model_module": "@jupyter-widgets/controls",
          "model_name": "ProgressStyleModel",
          "model_module_version": "1.5.0",
          "state": {
            "_model_module": "@jupyter-widgets/controls",
            "_model_module_version": "1.5.0",
            "_model_name": "ProgressStyleModel",
            "_view_count": null,
            "_view_module": "@jupyter-widgets/base",
            "_view_module_version": "1.2.0",
            "_view_name": "StyleView",
            "bar_color": null,
            "description_width": ""
          }
        },
        "415f4a74365948be8cafffa865c06f3e": {
          "model_module": "@jupyter-widgets/controls",
          "model_name": "VBoxModel",
          "model_module_version": "1.5.0",
          "state": {
            "_dom_classes": [],
            "_model_module": "@jupyter-widgets/controls",
            "_model_module_version": "1.5.0",
            "_model_name": "VBoxModel",
            "_view_count": null,
            "_view_module": "@jupyter-widgets/controls",
            "_view_module_version": "1.5.0",
            "_view_name": "VBoxView",
            "box_style": "",
            "children": [
              "IPY_MODEL_744b1ace0db348729aac7036924b35f7",
              "IPY_MODEL_2c74000c36754463b97cb90b84ce2bcb"
            ],
            "layout": "IPY_MODEL_e7367e7334b849c2a8a38aa692950850"
          }
        },
        "744b1ace0db348729aac7036924b35f7": {
          "model_module": "@jupyter-widgets/controls",
          "model_name": "LabelModel",
          "model_module_version": "1.5.0",
          "state": {
            "_dom_classes": [],
            "_model_module": "@jupyter-widgets/controls",
            "_model_module_version": "1.5.0",
            "_model_name": "LabelModel",
            "_view_count": null,
            "_view_module": "@jupyter-widgets/controls",
            "_view_module_version": "1.5.0",
            "_view_name": "LabelView",
            "description": "",
            "description_tooltip": null,
            "layout": "IPY_MODEL_28259085969345ea849e3c6a13eac741",
            "placeholder": "​",
            "style": "IPY_MODEL_4e239b23fe2044338d61308410de29dc",
            "value": "0.011 MB of 0.011 MB uploaded\r"
          }
        },
        "2c74000c36754463b97cb90b84ce2bcb": {
          "model_module": "@jupyter-widgets/controls",
          "model_name": "FloatProgressModel",
          "model_module_version": "1.5.0",
          "state": {
            "_dom_classes": [],
            "_model_module": "@jupyter-widgets/controls",
            "_model_module_version": "1.5.0",
            "_model_name": "FloatProgressModel",
            "_view_count": null,
            "_view_module": "@jupyter-widgets/controls",
            "_view_module_version": "1.5.0",
            "_view_name": "ProgressView",
            "bar_style": "",
            "description": "",
            "description_tooltip": null,
            "layout": "IPY_MODEL_66a7f6dca86f45309357bc5529ddd21b",
            "max": 1,
            "min": 0,
            "orientation": "horizontal",
            "style": "IPY_MODEL_eb6a2e1c75e74589bb0a9923dc683626",
            "value": 1
          }
        },
        "e7367e7334b849c2a8a38aa692950850": {
          "model_module": "@jupyter-widgets/base",
          "model_name": "LayoutModel",
          "model_module_version": "1.2.0",
          "state": {
            "_model_module": "@jupyter-widgets/base",
            "_model_module_version": "1.2.0",
            "_model_name": "LayoutModel",
            "_view_count": null,
            "_view_module": "@jupyter-widgets/base",
            "_view_module_version": "1.2.0",
            "_view_name": "LayoutView",
            "align_content": null,
            "align_items": null,
            "align_self": null,
            "border": null,
            "bottom": null,
            "display": null,
            "flex": null,
            "flex_flow": null,
            "grid_area": null,
            "grid_auto_columns": null,
            "grid_auto_flow": null,
            "grid_auto_rows": null,
            "grid_column": null,
            "grid_gap": null,
            "grid_row": null,
            "grid_template_areas": null,
            "grid_template_columns": null,
            "grid_template_rows": null,
            "height": null,
            "justify_content": null,
            "justify_items": null,
            "left": null,
            "margin": null,
            "max_height": null,
            "max_width": null,
            "min_height": null,
            "min_width": null,
            "object_fit": null,
            "object_position": null,
            "order": null,
            "overflow": null,
            "overflow_x": null,
            "overflow_y": null,
            "padding": null,
            "right": null,
            "top": null,
            "visibility": null,
            "width": null
          }
        },
        "28259085969345ea849e3c6a13eac741": {
          "model_module": "@jupyter-widgets/base",
          "model_name": "LayoutModel",
          "model_module_version": "1.2.0",
          "state": {
            "_model_module": "@jupyter-widgets/base",
            "_model_module_version": "1.2.0",
            "_model_name": "LayoutModel",
            "_view_count": null,
            "_view_module": "@jupyter-widgets/base",
            "_view_module_version": "1.2.0",
            "_view_name": "LayoutView",
            "align_content": null,
            "align_items": null,
            "align_self": null,
            "border": null,
            "bottom": null,
            "display": null,
            "flex": null,
            "flex_flow": null,
            "grid_area": null,
            "grid_auto_columns": null,
            "grid_auto_flow": null,
            "grid_auto_rows": null,
            "grid_column": null,
            "grid_gap": null,
            "grid_row": null,
            "grid_template_areas": null,
            "grid_template_columns": null,
            "grid_template_rows": null,
            "height": null,
            "justify_content": null,
            "justify_items": null,
            "left": null,
            "margin": null,
            "max_height": null,
            "max_width": null,
            "min_height": null,
            "min_width": null,
            "object_fit": null,
            "object_position": null,
            "order": null,
            "overflow": null,
            "overflow_x": null,
            "overflow_y": null,
            "padding": null,
            "right": null,
            "top": null,
            "visibility": null,
            "width": null
          }
        },
        "4e239b23fe2044338d61308410de29dc": {
          "model_module": "@jupyter-widgets/controls",
          "model_name": "DescriptionStyleModel",
          "model_module_version": "1.5.0",
          "state": {
            "_model_module": "@jupyter-widgets/controls",
            "_model_module_version": "1.5.0",
            "_model_name": "DescriptionStyleModel",
            "_view_count": null,
            "_view_module": "@jupyter-widgets/base",
            "_view_module_version": "1.2.0",
            "_view_name": "StyleView",
            "description_width": ""
          }
        },
        "66a7f6dca86f45309357bc5529ddd21b": {
          "model_module": "@jupyter-widgets/base",
          "model_name": "LayoutModel",
          "model_module_version": "1.2.0",
          "state": {
            "_model_module": "@jupyter-widgets/base",
            "_model_module_version": "1.2.0",
            "_model_name": "LayoutModel",
            "_view_count": null,
            "_view_module": "@jupyter-widgets/base",
            "_view_module_version": "1.2.0",
            "_view_name": "LayoutView",
            "align_content": null,
            "align_items": null,
            "align_self": null,
            "border": null,
            "bottom": null,
            "display": null,
            "flex": null,
            "flex_flow": null,
            "grid_area": null,
            "grid_auto_columns": null,
            "grid_auto_flow": null,
            "grid_auto_rows": null,
            "grid_column": null,
            "grid_gap": null,
            "grid_row": null,
            "grid_template_areas": null,
            "grid_template_columns": null,
            "grid_template_rows": null,
            "height": null,
            "justify_content": null,
            "justify_items": null,
            "left": null,
            "margin": null,
            "max_height": null,
            "max_width": null,
            "min_height": null,
            "min_width": null,
            "object_fit": null,
            "object_position": null,
            "order": null,
            "overflow": null,
            "overflow_x": null,
            "overflow_y": null,
            "padding": null,
            "right": null,
            "top": null,
            "visibility": null,
            "width": null
          }
        },
        "eb6a2e1c75e74589bb0a9923dc683626": {
          "model_module": "@jupyter-widgets/controls",
          "model_name": "ProgressStyleModel",
          "model_module_version": "1.5.0",
          "state": {
            "_model_module": "@jupyter-widgets/controls",
            "_model_module_version": "1.5.0",
            "_model_name": "ProgressStyleModel",
            "_view_count": null,
            "_view_module": "@jupyter-widgets/base",
            "_view_module_version": "1.2.0",
            "_view_name": "StyleView",
            "bar_color": null,
            "description_width": ""
          }
        },
        "96ab31a540534cd7b6fb6ee8d7987546": {
          "model_module": "@jupyter-widgets/controls",
          "model_name": "VBoxModel",
          "model_module_version": "1.5.0",
          "state": {
            "_dom_classes": [],
            "_model_module": "@jupyter-widgets/controls",
            "_model_module_version": "1.5.0",
            "_model_name": "VBoxModel",
            "_view_count": null,
            "_view_module": "@jupyter-widgets/controls",
            "_view_module_version": "1.5.0",
            "_view_name": "VBoxView",
            "box_style": "",
            "children": [
              "IPY_MODEL_927e350c112d404690a81d0a8bb7dd09",
              "IPY_MODEL_1c6fb4c2133a4001ba4a7de8ad3dd134"
            ],
            "layout": "IPY_MODEL_20fa224e7d0b473c846098ad4bb8bc13"
          }
        },
        "927e350c112d404690a81d0a8bb7dd09": {
          "model_module": "@jupyter-widgets/controls",
          "model_name": "LabelModel",
          "model_module_version": "1.5.0",
          "state": {
            "_dom_classes": [],
            "_model_module": "@jupyter-widgets/controls",
            "_model_module_version": "1.5.0",
            "_model_name": "LabelModel",
            "_view_count": null,
            "_view_module": "@jupyter-widgets/controls",
            "_view_module_version": "1.5.0",
            "_view_name": "LabelView",
            "description": "",
            "description_tooltip": null,
            "layout": "IPY_MODEL_787c54768fa34cb085c77983fc6e44a7",
            "placeholder": "​",
            "style": "IPY_MODEL_3160e6977114460c9c2e8d23c861476c",
            "value": "0.011 MB of 0.011 MB uploaded\r"
          }
        },
        "1c6fb4c2133a4001ba4a7de8ad3dd134": {
          "model_module": "@jupyter-widgets/controls",
          "model_name": "FloatProgressModel",
          "model_module_version": "1.5.0",
          "state": {
            "_dom_classes": [],
            "_model_module": "@jupyter-widgets/controls",
            "_model_module_version": "1.5.0",
            "_model_name": "FloatProgressModel",
            "_view_count": null,
            "_view_module": "@jupyter-widgets/controls",
            "_view_module_version": "1.5.0",
            "_view_name": "ProgressView",
            "bar_style": "",
            "description": "",
            "description_tooltip": null,
            "layout": "IPY_MODEL_4fba7937e3f24476b47d9b8167de57d6",
            "max": 1,
            "min": 0,
            "orientation": "horizontal",
            "style": "IPY_MODEL_5c5b69789a034901af3d023bd46a68d6",
            "value": 1
          }
        },
        "20fa224e7d0b473c846098ad4bb8bc13": {
          "model_module": "@jupyter-widgets/base",
          "model_name": "LayoutModel",
          "model_module_version": "1.2.0",
          "state": {
            "_model_module": "@jupyter-widgets/base",
            "_model_module_version": "1.2.0",
            "_model_name": "LayoutModel",
            "_view_count": null,
            "_view_module": "@jupyter-widgets/base",
            "_view_module_version": "1.2.0",
            "_view_name": "LayoutView",
            "align_content": null,
            "align_items": null,
            "align_self": null,
            "border": null,
            "bottom": null,
            "display": null,
            "flex": null,
            "flex_flow": null,
            "grid_area": null,
            "grid_auto_columns": null,
            "grid_auto_flow": null,
            "grid_auto_rows": null,
            "grid_column": null,
            "grid_gap": null,
            "grid_row": null,
            "grid_template_areas": null,
            "grid_template_columns": null,
            "grid_template_rows": null,
            "height": null,
            "justify_content": null,
            "justify_items": null,
            "left": null,
            "margin": null,
            "max_height": null,
            "max_width": null,
            "min_height": null,
            "min_width": null,
            "object_fit": null,
            "object_position": null,
            "order": null,
            "overflow": null,
            "overflow_x": null,
            "overflow_y": null,
            "padding": null,
            "right": null,
            "top": null,
            "visibility": null,
            "width": null
          }
        },
        "787c54768fa34cb085c77983fc6e44a7": {
          "model_module": "@jupyter-widgets/base",
          "model_name": "LayoutModel",
          "model_module_version": "1.2.0",
          "state": {
            "_model_module": "@jupyter-widgets/base",
            "_model_module_version": "1.2.0",
            "_model_name": "LayoutModel",
            "_view_count": null,
            "_view_module": "@jupyter-widgets/base",
            "_view_module_version": "1.2.0",
            "_view_name": "LayoutView",
            "align_content": null,
            "align_items": null,
            "align_self": null,
            "border": null,
            "bottom": null,
            "display": null,
            "flex": null,
            "flex_flow": null,
            "grid_area": null,
            "grid_auto_columns": null,
            "grid_auto_flow": null,
            "grid_auto_rows": null,
            "grid_column": null,
            "grid_gap": null,
            "grid_row": null,
            "grid_template_areas": null,
            "grid_template_columns": null,
            "grid_template_rows": null,
            "height": null,
            "justify_content": null,
            "justify_items": null,
            "left": null,
            "margin": null,
            "max_height": null,
            "max_width": null,
            "min_height": null,
            "min_width": null,
            "object_fit": null,
            "object_position": null,
            "order": null,
            "overflow": null,
            "overflow_x": null,
            "overflow_y": null,
            "padding": null,
            "right": null,
            "top": null,
            "visibility": null,
            "width": null
          }
        },
        "3160e6977114460c9c2e8d23c861476c": {
          "model_module": "@jupyter-widgets/controls",
          "model_name": "DescriptionStyleModel",
          "model_module_version": "1.5.0",
          "state": {
            "_model_module": "@jupyter-widgets/controls",
            "_model_module_version": "1.5.0",
            "_model_name": "DescriptionStyleModel",
            "_view_count": null,
            "_view_module": "@jupyter-widgets/base",
            "_view_module_version": "1.2.0",
            "_view_name": "StyleView",
            "description_width": ""
          }
        },
        "4fba7937e3f24476b47d9b8167de57d6": {
          "model_module": "@jupyter-widgets/base",
          "model_name": "LayoutModel",
          "model_module_version": "1.2.0",
          "state": {
            "_model_module": "@jupyter-widgets/base",
            "_model_module_version": "1.2.0",
            "_model_name": "LayoutModel",
            "_view_count": null,
            "_view_module": "@jupyter-widgets/base",
            "_view_module_version": "1.2.0",
            "_view_name": "LayoutView",
            "align_content": null,
            "align_items": null,
            "align_self": null,
            "border": null,
            "bottom": null,
            "display": null,
            "flex": null,
            "flex_flow": null,
            "grid_area": null,
            "grid_auto_columns": null,
            "grid_auto_flow": null,
            "grid_auto_rows": null,
            "grid_column": null,
            "grid_gap": null,
            "grid_row": null,
            "grid_template_areas": null,
            "grid_template_columns": null,
            "grid_template_rows": null,
            "height": null,
            "justify_content": null,
            "justify_items": null,
            "left": null,
            "margin": null,
            "max_height": null,
            "max_width": null,
            "min_height": null,
            "min_width": null,
            "object_fit": null,
            "object_position": null,
            "order": null,
            "overflow": null,
            "overflow_x": null,
            "overflow_y": null,
            "padding": null,
            "right": null,
            "top": null,
            "visibility": null,
            "width": null
          }
        },
        "5c5b69789a034901af3d023bd46a68d6": {
          "model_module": "@jupyter-widgets/controls",
          "model_name": "ProgressStyleModel",
          "model_module_version": "1.5.0",
          "state": {
            "_model_module": "@jupyter-widgets/controls",
            "_model_module_version": "1.5.0",
            "_model_name": "ProgressStyleModel",
            "_view_count": null,
            "_view_module": "@jupyter-widgets/base",
            "_view_module_version": "1.2.0",
            "_view_name": "StyleView",
            "bar_color": null,
            "description_width": ""
          }
        },
        "3c3a8e25f0034549a14d1eab4c9f65b3": {
          "model_module": "@jupyter-widgets/controls",
          "model_name": "VBoxModel",
          "model_module_version": "1.5.0",
          "state": {
            "_dom_classes": [],
            "_model_module": "@jupyter-widgets/controls",
            "_model_module_version": "1.5.0",
            "_model_name": "VBoxModel",
            "_view_count": null,
            "_view_module": "@jupyter-widgets/controls",
            "_view_module_version": "1.5.0",
            "_view_name": "VBoxView",
            "box_style": "",
            "children": [
              "IPY_MODEL_771e94e0a46f4ff1904e4bbb9805f32c",
              "IPY_MODEL_b7e1939a0ce34f5ab3649b1d29204c90"
            ],
            "layout": "IPY_MODEL_eda789c3a06f468b8bb1d62fd65cc386"
          }
        },
        "771e94e0a46f4ff1904e4bbb9805f32c": {
          "model_module": "@jupyter-widgets/controls",
          "model_name": "LabelModel",
          "model_module_version": "1.5.0",
          "state": {
            "_dom_classes": [],
            "_model_module": "@jupyter-widgets/controls",
            "_model_module_version": "1.5.0",
            "_model_name": "LabelModel",
            "_view_count": null,
            "_view_module": "@jupyter-widgets/controls",
            "_view_module_version": "1.5.0",
            "_view_name": "LabelView",
            "description": "",
            "description_tooltip": null,
            "layout": "IPY_MODEL_23366436ddc34c16a5e04347504d9dde",
            "placeholder": "​",
            "style": "IPY_MODEL_c453e8ed003140a99fc91442614c34a5",
            "value": "0.011 MB of 0.011 MB uploaded\r"
          }
        },
        "b7e1939a0ce34f5ab3649b1d29204c90": {
          "model_module": "@jupyter-widgets/controls",
          "model_name": "FloatProgressModel",
          "model_module_version": "1.5.0",
          "state": {
            "_dom_classes": [],
            "_model_module": "@jupyter-widgets/controls",
            "_model_module_version": "1.5.0",
            "_model_name": "FloatProgressModel",
            "_view_count": null,
            "_view_module": "@jupyter-widgets/controls",
            "_view_module_version": "1.5.0",
            "_view_name": "ProgressView",
            "bar_style": "",
            "description": "",
            "description_tooltip": null,
            "layout": "IPY_MODEL_2e1774e45b94462db0f1390b25b06aa8",
            "max": 1,
            "min": 0,
            "orientation": "horizontal",
            "style": "IPY_MODEL_51cf18c2ba364764addad786c1755a07",
            "value": 1
          }
        },
        "eda789c3a06f468b8bb1d62fd65cc386": {
          "model_module": "@jupyter-widgets/base",
          "model_name": "LayoutModel",
          "model_module_version": "1.2.0",
          "state": {
            "_model_module": "@jupyter-widgets/base",
            "_model_module_version": "1.2.0",
            "_model_name": "LayoutModel",
            "_view_count": null,
            "_view_module": "@jupyter-widgets/base",
            "_view_module_version": "1.2.0",
            "_view_name": "LayoutView",
            "align_content": null,
            "align_items": null,
            "align_self": null,
            "border": null,
            "bottom": null,
            "display": null,
            "flex": null,
            "flex_flow": null,
            "grid_area": null,
            "grid_auto_columns": null,
            "grid_auto_flow": null,
            "grid_auto_rows": null,
            "grid_column": null,
            "grid_gap": null,
            "grid_row": null,
            "grid_template_areas": null,
            "grid_template_columns": null,
            "grid_template_rows": null,
            "height": null,
            "justify_content": null,
            "justify_items": null,
            "left": null,
            "margin": null,
            "max_height": null,
            "max_width": null,
            "min_height": null,
            "min_width": null,
            "object_fit": null,
            "object_position": null,
            "order": null,
            "overflow": null,
            "overflow_x": null,
            "overflow_y": null,
            "padding": null,
            "right": null,
            "top": null,
            "visibility": null,
            "width": null
          }
        },
        "23366436ddc34c16a5e04347504d9dde": {
          "model_module": "@jupyter-widgets/base",
          "model_name": "LayoutModel",
          "model_module_version": "1.2.0",
          "state": {
            "_model_module": "@jupyter-widgets/base",
            "_model_module_version": "1.2.0",
            "_model_name": "LayoutModel",
            "_view_count": null,
            "_view_module": "@jupyter-widgets/base",
            "_view_module_version": "1.2.0",
            "_view_name": "LayoutView",
            "align_content": null,
            "align_items": null,
            "align_self": null,
            "border": null,
            "bottom": null,
            "display": null,
            "flex": null,
            "flex_flow": null,
            "grid_area": null,
            "grid_auto_columns": null,
            "grid_auto_flow": null,
            "grid_auto_rows": null,
            "grid_column": null,
            "grid_gap": null,
            "grid_row": null,
            "grid_template_areas": null,
            "grid_template_columns": null,
            "grid_template_rows": null,
            "height": null,
            "justify_content": null,
            "justify_items": null,
            "left": null,
            "margin": null,
            "max_height": null,
            "max_width": null,
            "min_height": null,
            "min_width": null,
            "object_fit": null,
            "object_position": null,
            "order": null,
            "overflow": null,
            "overflow_x": null,
            "overflow_y": null,
            "padding": null,
            "right": null,
            "top": null,
            "visibility": null,
            "width": null
          }
        },
        "c453e8ed003140a99fc91442614c34a5": {
          "model_module": "@jupyter-widgets/controls",
          "model_name": "DescriptionStyleModel",
          "model_module_version": "1.5.0",
          "state": {
            "_model_module": "@jupyter-widgets/controls",
            "_model_module_version": "1.5.0",
            "_model_name": "DescriptionStyleModel",
            "_view_count": null,
            "_view_module": "@jupyter-widgets/base",
            "_view_module_version": "1.2.0",
            "_view_name": "StyleView",
            "description_width": ""
          }
        },
        "2e1774e45b94462db0f1390b25b06aa8": {
          "model_module": "@jupyter-widgets/base",
          "model_name": "LayoutModel",
          "model_module_version": "1.2.0",
          "state": {
            "_model_module": "@jupyter-widgets/base",
            "_model_module_version": "1.2.0",
            "_model_name": "LayoutModel",
            "_view_count": null,
            "_view_module": "@jupyter-widgets/base",
            "_view_module_version": "1.2.0",
            "_view_name": "LayoutView",
            "align_content": null,
            "align_items": null,
            "align_self": null,
            "border": null,
            "bottom": null,
            "display": null,
            "flex": null,
            "flex_flow": null,
            "grid_area": null,
            "grid_auto_columns": null,
            "grid_auto_flow": null,
            "grid_auto_rows": null,
            "grid_column": null,
            "grid_gap": null,
            "grid_row": null,
            "grid_template_areas": null,
            "grid_template_columns": null,
            "grid_template_rows": null,
            "height": null,
            "justify_content": null,
            "justify_items": null,
            "left": null,
            "margin": null,
            "max_height": null,
            "max_width": null,
            "min_height": null,
            "min_width": null,
            "object_fit": null,
            "object_position": null,
            "order": null,
            "overflow": null,
            "overflow_x": null,
            "overflow_y": null,
            "padding": null,
            "right": null,
            "top": null,
            "visibility": null,
            "width": null
          }
        },
        "51cf18c2ba364764addad786c1755a07": {
          "model_module": "@jupyter-widgets/controls",
          "model_name": "ProgressStyleModel",
          "model_module_version": "1.5.0",
          "state": {
            "_model_module": "@jupyter-widgets/controls",
            "_model_module_version": "1.5.0",
            "_model_name": "ProgressStyleModel",
            "_view_count": null,
            "_view_module": "@jupyter-widgets/base",
            "_view_module_version": "1.2.0",
            "_view_name": "StyleView",
            "bar_color": null,
            "description_width": ""
          }
        },
        "8b30f63981e34ec5a569662678000499": {
          "model_module": "@jupyter-widgets/controls",
          "model_name": "VBoxModel",
          "model_module_version": "1.5.0",
          "state": {
            "_dom_classes": [],
            "_model_module": "@jupyter-widgets/controls",
            "_model_module_version": "1.5.0",
            "_model_name": "VBoxModel",
            "_view_count": null,
            "_view_module": "@jupyter-widgets/controls",
            "_view_module_version": "1.5.0",
            "_view_name": "VBoxView",
            "box_style": "",
            "children": [
              "IPY_MODEL_85d57f7ba4cd4daabbd54e3938c2cf2c",
              "IPY_MODEL_307e6eab431d4bf8aa1976cf6429d723"
            ],
            "layout": "IPY_MODEL_fec3630326084675a00b4076ac069b18"
          }
        },
        "85d57f7ba4cd4daabbd54e3938c2cf2c": {
          "model_module": "@jupyter-widgets/controls",
          "model_name": "LabelModel",
          "model_module_version": "1.5.0",
          "state": {
            "_dom_classes": [],
            "_model_module": "@jupyter-widgets/controls",
            "_model_module_version": "1.5.0",
            "_model_name": "LabelModel",
            "_view_count": null,
            "_view_module": "@jupyter-widgets/controls",
            "_view_module_version": "1.5.0",
            "_view_name": "LabelView",
            "description": "",
            "description_tooltip": null,
            "layout": "IPY_MODEL_dfc048aa356249d2afcb746d565f4c9d",
            "placeholder": "​",
            "style": "IPY_MODEL_14276d7ec79549778d50c685a6729be6",
            "value": "0.011 MB of 0.011 MB uploaded\r"
          }
        },
        "307e6eab431d4bf8aa1976cf6429d723": {
          "model_module": "@jupyter-widgets/controls",
          "model_name": "FloatProgressModel",
          "model_module_version": "1.5.0",
          "state": {
            "_dom_classes": [],
            "_model_module": "@jupyter-widgets/controls",
            "_model_module_version": "1.5.0",
            "_model_name": "FloatProgressModel",
            "_view_count": null,
            "_view_module": "@jupyter-widgets/controls",
            "_view_module_version": "1.5.0",
            "_view_name": "ProgressView",
            "bar_style": "",
            "description": "",
            "description_tooltip": null,
            "layout": "IPY_MODEL_4a10528e18824dc5a0142484cce0b1eb",
            "max": 1,
            "min": 0,
            "orientation": "horizontal",
            "style": "IPY_MODEL_4a39b5238bd84457b7f906aa9686cb62",
            "value": 1
          }
        },
        "fec3630326084675a00b4076ac069b18": {
          "model_module": "@jupyter-widgets/base",
          "model_name": "LayoutModel",
          "model_module_version": "1.2.0",
          "state": {
            "_model_module": "@jupyter-widgets/base",
            "_model_module_version": "1.2.0",
            "_model_name": "LayoutModel",
            "_view_count": null,
            "_view_module": "@jupyter-widgets/base",
            "_view_module_version": "1.2.0",
            "_view_name": "LayoutView",
            "align_content": null,
            "align_items": null,
            "align_self": null,
            "border": null,
            "bottom": null,
            "display": null,
            "flex": null,
            "flex_flow": null,
            "grid_area": null,
            "grid_auto_columns": null,
            "grid_auto_flow": null,
            "grid_auto_rows": null,
            "grid_column": null,
            "grid_gap": null,
            "grid_row": null,
            "grid_template_areas": null,
            "grid_template_columns": null,
            "grid_template_rows": null,
            "height": null,
            "justify_content": null,
            "justify_items": null,
            "left": null,
            "margin": null,
            "max_height": null,
            "max_width": null,
            "min_height": null,
            "min_width": null,
            "object_fit": null,
            "object_position": null,
            "order": null,
            "overflow": null,
            "overflow_x": null,
            "overflow_y": null,
            "padding": null,
            "right": null,
            "top": null,
            "visibility": null,
            "width": null
          }
        },
        "dfc048aa356249d2afcb746d565f4c9d": {
          "model_module": "@jupyter-widgets/base",
          "model_name": "LayoutModel",
          "model_module_version": "1.2.0",
          "state": {
            "_model_module": "@jupyter-widgets/base",
            "_model_module_version": "1.2.0",
            "_model_name": "LayoutModel",
            "_view_count": null,
            "_view_module": "@jupyter-widgets/base",
            "_view_module_version": "1.2.0",
            "_view_name": "LayoutView",
            "align_content": null,
            "align_items": null,
            "align_self": null,
            "border": null,
            "bottom": null,
            "display": null,
            "flex": null,
            "flex_flow": null,
            "grid_area": null,
            "grid_auto_columns": null,
            "grid_auto_flow": null,
            "grid_auto_rows": null,
            "grid_column": null,
            "grid_gap": null,
            "grid_row": null,
            "grid_template_areas": null,
            "grid_template_columns": null,
            "grid_template_rows": null,
            "height": null,
            "justify_content": null,
            "justify_items": null,
            "left": null,
            "margin": null,
            "max_height": null,
            "max_width": null,
            "min_height": null,
            "min_width": null,
            "object_fit": null,
            "object_position": null,
            "order": null,
            "overflow": null,
            "overflow_x": null,
            "overflow_y": null,
            "padding": null,
            "right": null,
            "top": null,
            "visibility": null,
            "width": null
          }
        },
        "14276d7ec79549778d50c685a6729be6": {
          "model_module": "@jupyter-widgets/controls",
          "model_name": "DescriptionStyleModel",
          "model_module_version": "1.5.0",
          "state": {
            "_model_module": "@jupyter-widgets/controls",
            "_model_module_version": "1.5.0",
            "_model_name": "DescriptionStyleModel",
            "_view_count": null,
            "_view_module": "@jupyter-widgets/base",
            "_view_module_version": "1.2.0",
            "_view_name": "StyleView",
            "description_width": ""
          }
        },
        "4a10528e18824dc5a0142484cce0b1eb": {
          "model_module": "@jupyter-widgets/base",
          "model_name": "LayoutModel",
          "model_module_version": "1.2.0",
          "state": {
            "_model_module": "@jupyter-widgets/base",
            "_model_module_version": "1.2.0",
            "_model_name": "LayoutModel",
            "_view_count": null,
            "_view_module": "@jupyter-widgets/base",
            "_view_module_version": "1.2.0",
            "_view_name": "LayoutView",
            "align_content": null,
            "align_items": null,
            "align_self": null,
            "border": null,
            "bottom": null,
            "display": null,
            "flex": null,
            "flex_flow": null,
            "grid_area": null,
            "grid_auto_columns": null,
            "grid_auto_flow": null,
            "grid_auto_rows": null,
            "grid_column": null,
            "grid_gap": null,
            "grid_row": null,
            "grid_template_areas": null,
            "grid_template_columns": null,
            "grid_template_rows": null,
            "height": null,
            "justify_content": null,
            "justify_items": null,
            "left": null,
            "margin": null,
            "max_height": null,
            "max_width": null,
            "min_height": null,
            "min_width": null,
            "object_fit": null,
            "object_position": null,
            "order": null,
            "overflow": null,
            "overflow_x": null,
            "overflow_y": null,
            "padding": null,
            "right": null,
            "top": null,
            "visibility": null,
            "width": null
          }
        },
        "4a39b5238bd84457b7f906aa9686cb62": {
          "model_module": "@jupyter-widgets/controls",
          "model_name": "ProgressStyleModel",
          "model_module_version": "1.5.0",
          "state": {
            "_model_module": "@jupyter-widgets/controls",
            "_model_module_version": "1.5.0",
            "_model_name": "ProgressStyleModel",
            "_view_count": null,
            "_view_module": "@jupyter-widgets/base",
            "_view_module_version": "1.2.0",
            "_view_name": "StyleView",
            "bar_color": null,
            "description_width": ""
          }
        },
        "0a228a335e6747048e74b8fcff3b52b2": {
          "model_module": "@jupyter-widgets/controls",
          "model_name": "VBoxModel",
          "model_module_version": "1.5.0",
          "state": {
            "_dom_classes": [],
            "_model_module": "@jupyter-widgets/controls",
            "_model_module_version": "1.5.0",
            "_model_name": "VBoxModel",
            "_view_count": null,
            "_view_module": "@jupyter-widgets/controls",
            "_view_module_version": "1.5.0",
            "_view_name": "VBoxView",
            "box_style": "",
            "children": [
              "IPY_MODEL_27333ec768f348abb50ee3fdec48bb9e",
              "IPY_MODEL_aa08efd1c6c8406eb474ef83eafec6cb"
            ],
            "layout": "IPY_MODEL_d7f313be9b3845ac838d2cc19b33dd5a"
          }
        },
        "27333ec768f348abb50ee3fdec48bb9e": {
          "model_module": "@jupyter-widgets/controls",
          "model_name": "LabelModel",
          "model_module_version": "1.5.0",
          "state": {
            "_dom_classes": [],
            "_model_module": "@jupyter-widgets/controls",
            "_model_module_version": "1.5.0",
            "_model_name": "LabelModel",
            "_view_count": null,
            "_view_module": "@jupyter-widgets/controls",
            "_view_module_version": "1.5.0",
            "_view_name": "LabelView",
            "description": "",
            "description_tooltip": null,
            "layout": "IPY_MODEL_2573573d310142ae9d1f29d14dd17631",
            "placeholder": "​",
            "style": "IPY_MODEL_57972b0fa4ac4861a1ec289a78c413e4",
            "value": "0.011 MB of 0.011 MB uploaded\r"
          }
        },
        "aa08efd1c6c8406eb474ef83eafec6cb": {
          "model_module": "@jupyter-widgets/controls",
          "model_name": "FloatProgressModel",
          "model_module_version": "1.5.0",
          "state": {
            "_dom_classes": [],
            "_model_module": "@jupyter-widgets/controls",
            "_model_module_version": "1.5.0",
            "_model_name": "FloatProgressModel",
            "_view_count": null,
            "_view_module": "@jupyter-widgets/controls",
            "_view_module_version": "1.5.0",
            "_view_name": "ProgressView",
            "bar_style": "",
            "description": "",
            "description_tooltip": null,
            "layout": "IPY_MODEL_aa4ab00d1d89458aae42ec86ad2979fc",
            "max": 1,
            "min": 0,
            "orientation": "horizontal",
            "style": "IPY_MODEL_1ca47bef9ef441df94bc207ae8ee0565",
            "value": 1
          }
        },
        "d7f313be9b3845ac838d2cc19b33dd5a": {
          "model_module": "@jupyter-widgets/base",
          "model_name": "LayoutModel",
          "model_module_version": "1.2.0",
          "state": {
            "_model_module": "@jupyter-widgets/base",
            "_model_module_version": "1.2.0",
            "_model_name": "LayoutModel",
            "_view_count": null,
            "_view_module": "@jupyter-widgets/base",
            "_view_module_version": "1.2.0",
            "_view_name": "LayoutView",
            "align_content": null,
            "align_items": null,
            "align_self": null,
            "border": null,
            "bottom": null,
            "display": null,
            "flex": null,
            "flex_flow": null,
            "grid_area": null,
            "grid_auto_columns": null,
            "grid_auto_flow": null,
            "grid_auto_rows": null,
            "grid_column": null,
            "grid_gap": null,
            "grid_row": null,
            "grid_template_areas": null,
            "grid_template_columns": null,
            "grid_template_rows": null,
            "height": null,
            "justify_content": null,
            "justify_items": null,
            "left": null,
            "margin": null,
            "max_height": null,
            "max_width": null,
            "min_height": null,
            "min_width": null,
            "object_fit": null,
            "object_position": null,
            "order": null,
            "overflow": null,
            "overflow_x": null,
            "overflow_y": null,
            "padding": null,
            "right": null,
            "top": null,
            "visibility": null,
            "width": null
          }
        },
        "2573573d310142ae9d1f29d14dd17631": {
          "model_module": "@jupyter-widgets/base",
          "model_name": "LayoutModel",
          "model_module_version": "1.2.0",
          "state": {
            "_model_module": "@jupyter-widgets/base",
            "_model_module_version": "1.2.0",
            "_model_name": "LayoutModel",
            "_view_count": null,
            "_view_module": "@jupyter-widgets/base",
            "_view_module_version": "1.2.0",
            "_view_name": "LayoutView",
            "align_content": null,
            "align_items": null,
            "align_self": null,
            "border": null,
            "bottom": null,
            "display": null,
            "flex": null,
            "flex_flow": null,
            "grid_area": null,
            "grid_auto_columns": null,
            "grid_auto_flow": null,
            "grid_auto_rows": null,
            "grid_column": null,
            "grid_gap": null,
            "grid_row": null,
            "grid_template_areas": null,
            "grid_template_columns": null,
            "grid_template_rows": null,
            "height": null,
            "justify_content": null,
            "justify_items": null,
            "left": null,
            "margin": null,
            "max_height": null,
            "max_width": null,
            "min_height": null,
            "min_width": null,
            "object_fit": null,
            "object_position": null,
            "order": null,
            "overflow": null,
            "overflow_x": null,
            "overflow_y": null,
            "padding": null,
            "right": null,
            "top": null,
            "visibility": null,
            "width": null
          }
        },
        "57972b0fa4ac4861a1ec289a78c413e4": {
          "model_module": "@jupyter-widgets/controls",
          "model_name": "DescriptionStyleModel",
          "model_module_version": "1.5.0",
          "state": {
            "_model_module": "@jupyter-widgets/controls",
            "_model_module_version": "1.5.0",
            "_model_name": "DescriptionStyleModel",
            "_view_count": null,
            "_view_module": "@jupyter-widgets/base",
            "_view_module_version": "1.2.0",
            "_view_name": "StyleView",
            "description_width": ""
          }
        },
        "aa4ab00d1d89458aae42ec86ad2979fc": {
          "model_module": "@jupyter-widgets/base",
          "model_name": "LayoutModel",
          "model_module_version": "1.2.0",
          "state": {
            "_model_module": "@jupyter-widgets/base",
            "_model_module_version": "1.2.0",
            "_model_name": "LayoutModel",
            "_view_count": null,
            "_view_module": "@jupyter-widgets/base",
            "_view_module_version": "1.2.0",
            "_view_name": "LayoutView",
            "align_content": null,
            "align_items": null,
            "align_self": null,
            "border": null,
            "bottom": null,
            "display": null,
            "flex": null,
            "flex_flow": null,
            "grid_area": null,
            "grid_auto_columns": null,
            "grid_auto_flow": null,
            "grid_auto_rows": null,
            "grid_column": null,
            "grid_gap": null,
            "grid_row": null,
            "grid_template_areas": null,
            "grid_template_columns": null,
            "grid_template_rows": null,
            "height": null,
            "justify_content": null,
            "justify_items": null,
            "left": null,
            "margin": null,
            "max_height": null,
            "max_width": null,
            "min_height": null,
            "min_width": null,
            "object_fit": null,
            "object_position": null,
            "order": null,
            "overflow": null,
            "overflow_x": null,
            "overflow_y": null,
            "padding": null,
            "right": null,
            "top": null,
            "visibility": null,
            "width": null
          }
        },
        "1ca47bef9ef441df94bc207ae8ee0565": {
          "model_module": "@jupyter-widgets/controls",
          "model_name": "ProgressStyleModel",
          "model_module_version": "1.5.0",
          "state": {
            "_model_module": "@jupyter-widgets/controls",
            "_model_module_version": "1.5.0",
            "_model_name": "ProgressStyleModel",
            "_view_count": null,
            "_view_module": "@jupyter-widgets/base",
            "_view_module_version": "1.2.0",
            "_view_name": "StyleView",
            "bar_color": null,
            "description_width": ""
          }
        },
        "c8928fb5fb07418bae7fcbdf7b30dc5f": {
          "model_module": "@jupyter-widgets/controls",
          "model_name": "VBoxModel",
          "model_module_version": "1.5.0",
          "state": {
            "_dom_classes": [],
            "_model_module": "@jupyter-widgets/controls",
            "_model_module_version": "1.5.0",
            "_model_name": "VBoxModel",
            "_view_count": null,
            "_view_module": "@jupyter-widgets/controls",
            "_view_module_version": "1.5.0",
            "_view_name": "VBoxView",
            "box_style": "",
            "children": [
              "IPY_MODEL_c8bcf830dc8f49ab8b16b9e72ca41f25",
              "IPY_MODEL_eba2a88cc5924e2db6dc8b761696be51"
            ],
            "layout": "IPY_MODEL_07cf916350a248789a04d2cf63ae4c18"
          }
        },
        "c8bcf830dc8f49ab8b16b9e72ca41f25": {
          "model_module": "@jupyter-widgets/controls",
          "model_name": "LabelModel",
          "model_module_version": "1.5.0",
          "state": {
            "_dom_classes": [],
            "_model_module": "@jupyter-widgets/controls",
            "_model_module_version": "1.5.0",
            "_model_name": "LabelModel",
            "_view_count": null,
            "_view_module": "@jupyter-widgets/controls",
            "_view_module_version": "1.5.0",
            "_view_name": "LabelView",
            "description": "",
            "description_tooltip": null,
            "layout": "IPY_MODEL_4c01bc3b051740d1960a1fe199b9ddf9",
            "placeholder": "​",
            "style": "IPY_MODEL_a7942ba5bfbf4d788b4440ec685d6a16",
            "value": "0.011 MB of 0.011 MB uploaded\r"
          }
        },
        "eba2a88cc5924e2db6dc8b761696be51": {
          "model_module": "@jupyter-widgets/controls",
          "model_name": "FloatProgressModel",
          "model_module_version": "1.5.0",
          "state": {
            "_dom_classes": [],
            "_model_module": "@jupyter-widgets/controls",
            "_model_module_version": "1.5.0",
            "_model_name": "FloatProgressModel",
            "_view_count": null,
            "_view_module": "@jupyter-widgets/controls",
            "_view_module_version": "1.5.0",
            "_view_name": "ProgressView",
            "bar_style": "",
            "description": "",
            "description_tooltip": null,
            "layout": "IPY_MODEL_5a75bdb4336c4a7fa12cf19d7286f47e",
            "max": 1,
            "min": 0,
            "orientation": "horizontal",
            "style": "IPY_MODEL_3e0e6ff53a11426da6717776971527fc",
            "value": 1
          }
        },
        "07cf916350a248789a04d2cf63ae4c18": {
          "model_module": "@jupyter-widgets/base",
          "model_name": "LayoutModel",
          "model_module_version": "1.2.0",
          "state": {
            "_model_module": "@jupyter-widgets/base",
            "_model_module_version": "1.2.0",
            "_model_name": "LayoutModel",
            "_view_count": null,
            "_view_module": "@jupyter-widgets/base",
            "_view_module_version": "1.2.0",
            "_view_name": "LayoutView",
            "align_content": null,
            "align_items": null,
            "align_self": null,
            "border": null,
            "bottom": null,
            "display": null,
            "flex": null,
            "flex_flow": null,
            "grid_area": null,
            "grid_auto_columns": null,
            "grid_auto_flow": null,
            "grid_auto_rows": null,
            "grid_column": null,
            "grid_gap": null,
            "grid_row": null,
            "grid_template_areas": null,
            "grid_template_columns": null,
            "grid_template_rows": null,
            "height": null,
            "justify_content": null,
            "justify_items": null,
            "left": null,
            "margin": null,
            "max_height": null,
            "max_width": null,
            "min_height": null,
            "min_width": null,
            "object_fit": null,
            "object_position": null,
            "order": null,
            "overflow": null,
            "overflow_x": null,
            "overflow_y": null,
            "padding": null,
            "right": null,
            "top": null,
            "visibility": null,
            "width": null
          }
        },
        "4c01bc3b051740d1960a1fe199b9ddf9": {
          "model_module": "@jupyter-widgets/base",
          "model_name": "LayoutModel",
          "model_module_version": "1.2.0",
          "state": {
            "_model_module": "@jupyter-widgets/base",
            "_model_module_version": "1.2.0",
            "_model_name": "LayoutModel",
            "_view_count": null,
            "_view_module": "@jupyter-widgets/base",
            "_view_module_version": "1.2.0",
            "_view_name": "LayoutView",
            "align_content": null,
            "align_items": null,
            "align_self": null,
            "border": null,
            "bottom": null,
            "display": null,
            "flex": null,
            "flex_flow": null,
            "grid_area": null,
            "grid_auto_columns": null,
            "grid_auto_flow": null,
            "grid_auto_rows": null,
            "grid_column": null,
            "grid_gap": null,
            "grid_row": null,
            "grid_template_areas": null,
            "grid_template_columns": null,
            "grid_template_rows": null,
            "height": null,
            "justify_content": null,
            "justify_items": null,
            "left": null,
            "margin": null,
            "max_height": null,
            "max_width": null,
            "min_height": null,
            "min_width": null,
            "object_fit": null,
            "object_position": null,
            "order": null,
            "overflow": null,
            "overflow_x": null,
            "overflow_y": null,
            "padding": null,
            "right": null,
            "top": null,
            "visibility": null,
            "width": null
          }
        },
        "a7942ba5bfbf4d788b4440ec685d6a16": {
          "model_module": "@jupyter-widgets/controls",
          "model_name": "DescriptionStyleModel",
          "model_module_version": "1.5.0",
          "state": {
            "_model_module": "@jupyter-widgets/controls",
            "_model_module_version": "1.5.0",
            "_model_name": "DescriptionStyleModel",
            "_view_count": null,
            "_view_module": "@jupyter-widgets/base",
            "_view_module_version": "1.2.0",
            "_view_name": "StyleView",
            "description_width": ""
          }
        },
        "5a75bdb4336c4a7fa12cf19d7286f47e": {
          "model_module": "@jupyter-widgets/base",
          "model_name": "LayoutModel",
          "model_module_version": "1.2.0",
          "state": {
            "_model_module": "@jupyter-widgets/base",
            "_model_module_version": "1.2.0",
            "_model_name": "LayoutModel",
            "_view_count": null,
            "_view_module": "@jupyter-widgets/base",
            "_view_module_version": "1.2.0",
            "_view_name": "LayoutView",
            "align_content": null,
            "align_items": null,
            "align_self": null,
            "border": null,
            "bottom": null,
            "display": null,
            "flex": null,
            "flex_flow": null,
            "grid_area": null,
            "grid_auto_columns": null,
            "grid_auto_flow": null,
            "grid_auto_rows": null,
            "grid_column": null,
            "grid_gap": null,
            "grid_row": null,
            "grid_template_areas": null,
            "grid_template_columns": null,
            "grid_template_rows": null,
            "height": null,
            "justify_content": null,
            "justify_items": null,
            "left": null,
            "margin": null,
            "max_height": null,
            "max_width": null,
            "min_height": null,
            "min_width": null,
            "object_fit": null,
            "object_position": null,
            "order": null,
            "overflow": null,
            "overflow_x": null,
            "overflow_y": null,
            "padding": null,
            "right": null,
            "top": null,
            "visibility": null,
            "width": null
          }
        },
        "3e0e6ff53a11426da6717776971527fc": {
          "model_module": "@jupyter-widgets/controls",
          "model_name": "ProgressStyleModel",
          "model_module_version": "1.5.0",
          "state": {
            "_model_module": "@jupyter-widgets/controls",
            "_model_module_version": "1.5.0",
            "_model_name": "ProgressStyleModel",
            "_view_count": null,
            "_view_module": "@jupyter-widgets/base",
            "_view_module_version": "1.2.0",
            "_view_name": "StyleView",
            "bar_color": null,
            "description_width": ""
          }
        },
        "91b8591d5cf147099c14052abac2bbbf": {
          "model_module": "@jupyter-widgets/controls",
          "model_name": "VBoxModel",
          "model_module_version": "1.5.0",
          "state": {
            "_dom_classes": [],
            "_model_module": "@jupyter-widgets/controls",
            "_model_module_version": "1.5.0",
            "_model_name": "VBoxModel",
            "_view_count": null,
            "_view_module": "@jupyter-widgets/controls",
            "_view_module_version": "1.5.0",
            "_view_name": "VBoxView",
            "box_style": "",
            "children": [
              "IPY_MODEL_7cd77a25aed541cc8cffba45fb11ea7c",
              "IPY_MODEL_54887a41d86e45ac8e969d549c8de1bd"
            ],
            "layout": "IPY_MODEL_9778e701eca4443e8a5fbbd5eac6f2d9"
          }
        },
        "7cd77a25aed541cc8cffba45fb11ea7c": {
          "model_module": "@jupyter-widgets/controls",
          "model_name": "LabelModel",
          "model_module_version": "1.5.0",
          "state": {
            "_dom_classes": [],
            "_model_module": "@jupyter-widgets/controls",
            "_model_module_version": "1.5.0",
            "_model_name": "LabelModel",
            "_view_count": null,
            "_view_module": "@jupyter-widgets/controls",
            "_view_module_version": "1.5.0",
            "_view_name": "LabelView",
            "description": "",
            "description_tooltip": null,
            "layout": "IPY_MODEL_61f3f4ef756a4021b8c60d3595230137",
            "placeholder": "​",
            "style": "IPY_MODEL_85ad9ad9f86f449aa7c613ba5aaa6090",
            "value": "0.011 MB of 0.011 MB uploaded\r"
          }
        },
        "54887a41d86e45ac8e969d549c8de1bd": {
          "model_module": "@jupyter-widgets/controls",
          "model_name": "FloatProgressModel",
          "model_module_version": "1.5.0",
          "state": {
            "_dom_classes": [],
            "_model_module": "@jupyter-widgets/controls",
            "_model_module_version": "1.5.0",
            "_model_name": "FloatProgressModel",
            "_view_count": null,
            "_view_module": "@jupyter-widgets/controls",
            "_view_module_version": "1.5.0",
            "_view_name": "ProgressView",
            "bar_style": "",
            "description": "",
            "description_tooltip": null,
            "layout": "IPY_MODEL_b11aa5d2461f44b38fb867191efbbfaa",
            "max": 1,
            "min": 0,
            "orientation": "horizontal",
            "style": "IPY_MODEL_9b30e9636d1f426d81a2a954e58a91c9",
            "value": 1
          }
        },
        "9778e701eca4443e8a5fbbd5eac6f2d9": {
          "model_module": "@jupyter-widgets/base",
          "model_name": "LayoutModel",
          "model_module_version": "1.2.0",
          "state": {
            "_model_module": "@jupyter-widgets/base",
            "_model_module_version": "1.2.0",
            "_model_name": "LayoutModel",
            "_view_count": null,
            "_view_module": "@jupyter-widgets/base",
            "_view_module_version": "1.2.0",
            "_view_name": "LayoutView",
            "align_content": null,
            "align_items": null,
            "align_self": null,
            "border": null,
            "bottom": null,
            "display": null,
            "flex": null,
            "flex_flow": null,
            "grid_area": null,
            "grid_auto_columns": null,
            "grid_auto_flow": null,
            "grid_auto_rows": null,
            "grid_column": null,
            "grid_gap": null,
            "grid_row": null,
            "grid_template_areas": null,
            "grid_template_columns": null,
            "grid_template_rows": null,
            "height": null,
            "justify_content": null,
            "justify_items": null,
            "left": null,
            "margin": null,
            "max_height": null,
            "max_width": null,
            "min_height": null,
            "min_width": null,
            "object_fit": null,
            "object_position": null,
            "order": null,
            "overflow": null,
            "overflow_x": null,
            "overflow_y": null,
            "padding": null,
            "right": null,
            "top": null,
            "visibility": null,
            "width": null
          }
        },
        "61f3f4ef756a4021b8c60d3595230137": {
          "model_module": "@jupyter-widgets/base",
          "model_name": "LayoutModel",
          "model_module_version": "1.2.0",
          "state": {
            "_model_module": "@jupyter-widgets/base",
            "_model_module_version": "1.2.0",
            "_model_name": "LayoutModel",
            "_view_count": null,
            "_view_module": "@jupyter-widgets/base",
            "_view_module_version": "1.2.0",
            "_view_name": "LayoutView",
            "align_content": null,
            "align_items": null,
            "align_self": null,
            "border": null,
            "bottom": null,
            "display": null,
            "flex": null,
            "flex_flow": null,
            "grid_area": null,
            "grid_auto_columns": null,
            "grid_auto_flow": null,
            "grid_auto_rows": null,
            "grid_column": null,
            "grid_gap": null,
            "grid_row": null,
            "grid_template_areas": null,
            "grid_template_columns": null,
            "grid_template_rows": null,
            "height": null,
            "justify_content": null,
            "justify_items": null,
            "left": null,
            "margin": null,
            "max_height": null,
            "max_width": null,
            "min_height": null,
            "min_width": null,
            "object_fit": null,
            "object_position": null,
            "order": null,
            "overflow": null,
            "overflow_x": null,
            "overflow_y": null,
            "padding": null,
            "right": null,
            "top": null,
            "visibility": null,
            "width": null
          }
        },
        "85ad9ad9f86f449aa7c613ba5aaa6090": {
          "model_module": "@jupyter-widgets/controls",
          "model_name": "DescriptionStyleModel",
          "model_module_version": "1.5.0",
          "state": {
            "_model_module": "@jupyter-widgets/controls",
            "_model_module_version": "1.5.0",
            "_model_name": "DescriptionStyleModel",
            "_view_count": null,
            "_view_module": "@jupyter-widgets/base",
            "_view_module_version": "1.2.0",
            "_view_name": "StyleView",
            "description_width": ""
          }
        },
        "b11aa5d2461f44b38fb867191efbbfaa": {
          "model_module": "@jupyter-widgets/base",
          "model_name": "LayoutModel",
          "model_module_version": "1.2.0",
          "state": {
            "_model_module": "@jupyter-widgets/base",
            "_model_module_version": "1.2.0",
            "_model_name": "LayoutModel",
            "_view_count": null,
            "_view_module": "@jupyter-widgets/base",
            "_view_module_version": "1.2.0",
            "_view_name": "LayoutView",
            "align_content": null,
            "align_items": null,
            "align_self": null,
            "border": null,
            "bottom": null,
            "display": null,
            "flex": null,
            "flex_flow": null,
            "grid_area": null,
            "grid_auto_columns": null,
            "grid_auto_flow": null,
            "grid_auto_rows": null,
            "grid_column": null,
            "grid_gap": null,
            "grid_row": null,
            "grid_template_areas": null,
            "grid_template_columns": null,
            "grid_template_rows": null,
            "height": null,
            "justify_content": null,
            "justify_items": null,
            "left": null,
            "margin": null,
            "max_height": null,
            "max_width": null,
            "min_height": null,
            "min_width": null,
            "object_fit": null,
            "object_position": null,
            "order": null,
            "overflow": null,
            "overflow_x": null,
            "overflow_y": null,
            "padding": null,
            "right": null,
            "top": null,
            "visibility": null,
            "width": null
          }
        },
        "9b30e9636d1f426d81a2a954e58a91c9": {
          "model_module": "@jupyter-widgets/controls",
          "model_name": "ProgressStyleModel",
          "model_module_version": "1.5.0",
          "state": {
            "_model_module": "@jupyter-widgets/controls",
            "_model_module_version": "1.5.0",
            "_model_name": "ProgressStyleModel",
            "_view_count": null,
            "_view_module": "@jupyter-widgets/base",
            "_view_module_version": "1.2.0",
            "_view_name": "StyleView",
            "bar_color": null,
            "description_width": ""
          }
        },
        "3ac531e32baf485388361e643d9a61c7": {
          "model_module": "@jupyter-widgets/controls",
          "model_name": "VBoxModel",
          "model_module_version": "1.5.0",
          "state": {
            "_dom_classes": [],
            "_model_module": "@jupyter-widgets/controls",
            "_model_module_version": "1.5.0",
            "_model_name": "VBoxModel",
            "_view_count": null,
            "_view_module": "@jupyter-widgets/controls",
            "_view_module_version": "1.5.0",
            "_view_name": "VBoxView",
            "box_style": "",
            "children": [
              "IPY_MODEL_fe20195debb0450e9382225c23286b5e",
              "IPY_MODEL_4a76043410784a8b8893c76d2ee77a11"
            ],
            "layout": "IPY_MODEL_f2528fc921fd4298bb1e9adf4a5f2ee2"
          }
        },
        "fe20195debb0450e9382225c23286b5e": {
          "model_module": "@jupyter-widgets/controls",
          "model_name": "LabelModel",
          "model_module_version": "1.5.0",
          "state": {
            "_dom_classes": [],
            "_model_module": "@jupyter-widgets/controls",
            "_model_module_version": "1.5.0",
            "_model_name": "LabelModel",
            "_view_count": null,
            "_view_module": "@jupyter-widgets/controls",
            "_view_module_version": "1.5.0",
            "_view_name": "LabelView",
            "description": "",
            "description_tooltip": null,
            "layout": "IPY_MODEL_fba2c80b60e346bf8e72a77295659f42",
            "placeholder": "​",
            "style": "IPY_MODEL_6136698ba8a446b29636f976d5895bfb",
            "value": "0.011 MB of 0.011 MB uploaded\r"
          }
        },
        "4a76043410784a8b8893c76d2ee77a11": {
          "model_module": "@jupyter-widgets/controls",
          "model_name": "FloatProgressModel",
          "model_module_version": "1.5.0",
          "state": {
            "_dom_classes": [],
            "_model_module": "@jupyter-widgets/controls",
            "_model_module_version": "1.5.0",
            "_model_name": "FloatProgressModel",
            "_view_count": null,
            "_view_module": "@jupyter-widgets/controls",
            "_view_module_version": "1.5.0",
            "_view_name": "ProgressView",
            "bar_style": "",
            "description": "",
            "description_tooltip": null,
            "layout": "IPY_MODEL_f47b8ae4ec2c49569f2bf8053ec731f4",
            "max": 1,
            "min": 0,
            "orientation": "horizontal",
            "style": "IPY_MODEL_379e34f1dae64617a44fac92b7c58a24",
            "value": 1
          }
        },
        "f2528fc921fd4298bb1e9adf4a5f2ee2": {
          "model_module": "@jupyter-widgets/base",
          "model_name": "LayoutModel",
          "model_module_version": "1.2.0",
          "state": {
            "_model_module": "@jupyter-widgets/base",
            "_model_module_version": "1.2.0",
            "_model_name": "LayoutModel",
            "_view_count": null,
            "_view_module": "@jupyter-widgets/base",
            "_view_module_version": "1.2.0",
            "_view_name": "LayoutView",
            "align_content": null,
            "align_items": null,
            "align_self": null,
            "border": null,
            "bottom": null,
            "display": null,
            "flex": null,
            "flex_flow": null,
            "grid_area": null,
            "grid_auto_columns": null,
            "grid_auto_flow": null,
            "grid_auto_rows": null,
            "grid_column": null,
            "grid_gap": null,
            "grid_row": null,
            "grid_template_areas": null,
            "grid_template_columns": null,
            "grid_template_rows": null,
            "height": null,
            "justify_content": null,
            "justify_items": null,
            "left": null,
            "margin": null,
            "max_height": null,
            "max_width": null,
            "min_height": null,
            "min_width": null,
            "object_fit": null,
            "object_position": null,
            "order": null,
            "overflow": null,
            "overflow_x": null,
            "overflow_y": null,
            "padding": null,
            "right": null,
            "top": null,
            "visibility": null,
            "width": null
          }
        },
        "fba2c80b60e346bf8e72a77295659f42": {
          "model_module": "@jupyter-widgets/base",
          "model_name": "LayoutModel",
          "model_module_version": "1.2.0",
          "state": {
            "_model_module": "@jupyter-widgets/base",
            "_model_module_version": "1.2.0",
            "_model_name": "LayoutModel",
            "_view_count": null,
            "_view_module": "@jupyter-widgets/base",
            "_view_module_version": "1.2.0",
            "_view_name": "LayoutView",
            "align_content": null,
            "align_items": null,
            "align_self": null,
            "border": null,
            "bottom": null,
            "display": null,
            "flex": null,
            "flex_flow": null,
            "grid_area": null,
            "grid_auto_columns": null,
            "grid_auto_flow": null,
            "grid_auto_rows": null,
            "grid_column": null,
            "grid_gap": null,
            "grid_row": null,
            "grid_template_areas": null,
            "grid_template_columns": null,
            "grid_template_rows": null,
            "height": null,
            "justify_content": null,
            "justify_items": null,
            "left": null,
            "margin": null,
            "max_height": null,
            "max_width": null,
            "min_height": null,
            "min_width": null,
            "object_fit": null,
            "object_position": null,
            "order": null,
            "overflow": null,
            "overflow_x": null,
            "overflow_y": null,
            "padding": null,
            "right": null,
            "top": null,
            "visibility": null,
            "width": null
          }
        },
        "6136698ba8a446b29636f976d5895bfb": {
          "model_module": "@jupyter-widgets/controls",
          "model_name": "DescriptionStyleModel",
          "model_module_version": "1.5.0",
          "state": {
            "_model_module": "@jupyter-widgets/controls",
            "_model_module_version": "1.5.0",
            "_model_name": "DescriptionStyleModel",
            "_view_count": null,
            "_view_module": "@jupyter-widgets/base",
            "_view_module_version": "1.2.0",
            "_view_name": "StyleView",
            "description_width": ""
          }
        },
        "f47b8ae4ec2c49569f2bf8053ec731f4": {
          "model_module": "@jupyter-widgets/base",
          "model_name": "LayoutModel",
          "model_module_version": "1.2.0",
          "state": {
            "_model_module": "@jupyter-widgets/base",
            "_model_module_version": "1.2.0",
            "_model_name": "LayoutModel",
            "_view_count": null,
            "_view_module": "@jupyter-widgets/base",
            "_view_module_version": "1.2.0",
            "_view_name": "LayoutView",
            "align_content": null,
            "align_items": null,
            "align_self": null,
            "border": null,
            "bottom": null,
            "display": null,
            "flex": null,
            "flex_flow": null,
            "grid_area": null,
            "grid_auto_columns": null,
            "grid_auto_flow": null,
            "grid_auto_rows": null,
            "grid_column": null,
            "grid_gap": null,
            "grid_row": null,
            "grid_template_areas": null,
            "grid_template_columns": null,
            "grid_template_rows": null,
            "height": null,
            "justify_content": null,
            "justify_items": null,
            "left": null,
            "margin": null,
            "max_height": null,
            "max_width": null,
            "min_height": null,
            "min_width": null,
            "object_fit": null,
            "object_position": null,
            "order": null,
            "overflow": null,
            "overflow_x": null,
            "overflow_y": null,
            "padding": null,
            "right": null,
            "top": null,
            "visibility": null,
            "width": null
          }
        },
        "379e34f1dae64617a44fac92b7c58a24": {
          "model_module": "@jupyter-widgets/controls",
          "model_name": "ProgressStyleModel",
          "model_module_version": "1.5.0",
          "state": {
            "_model_module": "@jupyter-widgets/controls",
            "_model_module_version": "1.5.0",
            "_model_name": "ProgressStyleModel",
            "_view_count": null,
            "_view_module": "@jupyter-widgets/base",
            "_view_module_version": "1.2.0",
            "_view_name": "StyleView",
            "bar_color": null,
            "description_width": ""
          }
        },
        "119417b8b7754f2fa9d9e9be11c8a773": {
          "model_module": "@jupyter-widgets/controls",
          "model_name": "VBoxModel",
          "model_module_version": "1.5.0",
          "state": {
            "_dom_classes": [],
            "_model_module": "@jupyter-widgets/controls",
            "_model_module_version": "1.5.0",
            "_model_name": "VBoxModel",
            "_view_count": null,
            "_view_module": "@jupyter-widgets/controls",
            "_view_module_version": "1.5.0",
            "_view_name": "VBoxView",
            "box_style": "",
            "children": [
              "IPY_MODEL_72655ae8f756442298f9d89653a8a5b4",
              "IPY_MODEL_ce08851eabdc4a899bfd329c8444e0d1"
            ],
            "layout": "IPY_MODEL_7bacce16c63f4256aadc8b8a6822232b"
          }
        },
        "72655ae8f756442298f9d89653a8a5b4": {
          "model_module": "@jupyter-widgets/controls",
          "model_name": "LabelModel",
          "model_module_version": "1.5.0",
          "state": {
            "_dom_classes": [],
            "_model_module": "@jupyter-widgets/controls",
            "_model_module_version": "1.5.0",
            "_model_name": "LabelModel",
            "_view_count": null,
            "_view_module": "@jupyter-widgets/controls",
            "_view_module_version": "1.5.0",
            "_view_name": "LabelView",
            "description": "",
            "description_tooltip": null,
            "layout": "IPY_MODEL_d1f07c46f6604460acdad6a032ef023e",
            "placeholder": "​",
            "style": "IPY_MODEL_05fbdca2cdec425bb14d1f4b14e23ba4",
            "value": "0.011 MB of 0.011 MB uploaded\r"
          }
        },
        "ce08851eabdc4a899bfd329c8444e0d1": {
          "model_module": "@jupyter-widgets/controls",
          "model_name": "FloatProgressModel",
          "model_module_version": "1.5.0",
          "state": {
            "_dom_classes": [],
            "_model_module": "@jupyter-widgets/controls",
            "_model_module_version": "1.5.0",
            "_model_name": "FloatProgressModel",
            "_view_count": null,
            "_view_module": "@jupyter-widgets/controls",
            "_view_module_version": "1.5.0",
            "_view_name": "ProgressView",
            "bar_style": "",
            "description": "",
            "description_tooltip": null,
            "layout": "IPY_MODEL_b9823e54dd054bd1bd16a5649235b80c",
            "max": 1,
            "min": 0,
            "orientation": "horizontal",
            "style": "IPY_MODEL_266e1b78b37640dab80384a292938af6",
            "value": 1
          }
        },
        "7bacce16c63f4256aadc8b8a6822232b": {
          "model_module": "@jupyter-widgets/base",
          "model_name": "LayoutModel",
          "model_module_version": "1.2.0",
          "state": {
            "_model_module": "@jupyter-widgets/base",
            "_model_module_version": "1.2.0",
            "_model_name": "LayoutModel",
            "_view_count": null,
            "_view_module": "@jupyter-widgets/base",
            "_view_module_version": "1.2.0",
            "_view_name": "LayoutView",
            "align_content": null,
            "align_items": null,
            "align_self": null,
            "border": null,
            "bottom": null,
            "display": null,
            "flex": null,
            "flex_flow": null,
            "grid_area": null,
            "grid_auto_columns": null,
            "grid_auto_flow": null,
            "grid_auto_rows": null,
            "grid_column": null,
            "grid_gap": null,
            "grid_row": null,
            "grid_template_areas": null,
            "grid_template_columns": null,
            "grid_template_rows": null,
            "height": null,
            "justify_content": null,
            "justify_items": null,
            "left": null,
            "margin": null,
            "max_height": null,
            "max_width": null,
            "min_height": null,
            "min_width": null,
            "object_fit": null,
            "object_position": null,
            "order": null,
            "overflow": null,
            "overflow_x": null,
            "overflow_y": null,
            "padding": null,
            "right": null,
            "top": null,
            "visibility": null,
            "width": null
          }
        },
        "d1f07c46f6604460acdad6a032ef023e": {
          "model_module": "@jupyter-widgets/base",
          "model_name": "LayoutModel",
          "model_module_version": "1.2.0",
          "state": {
            "_model_module": "@jupyter-widgets/base",
            "_model_module_version": "1.2.0",
            "_model_name": "LayoutModel",
            "_view_count": null,
            "_view_module": "@jupyter-widgets/base",
            "_view_module_version": "1.2.0",
            "_view_name": "LayoutView",
            "align_content": null,
            "align_items": null,
            "align_self": null,
            "border": null,
            "bottom": null,
            "display": null,
            "flex": null,
            "flex_flow": null,
            "grid_area": null,
            "grid_auto_columns": null,
            "grid_auto_flow": null,
            "grid_auto_rows": null,
            "grid_column": null,
            "grid_gap": null,
            "grid_row": null,
            "grid_template_areas": null,
            "grid_template_columns": null,
            "grid_template_rows": null,
            "height": null,
            "justify_content": null,
            "justify_items": null,
            "left": null,
            "margin": null,
            "max_height": null,
            "max_width": null,
            "min_height": null,
            "min_width": null,
            "object_fit": null,
            "object_position": null,
            "order": null,
            "overflow": null,
            "overflow_x": null,
            "overflow_y": null,
            "padding": null,
            "right": null,
            "top": null,
            "visibility": null,
            "width": null
          }
        },
        "05fbdca2cdec425bb14d1f4b14e23ba4": {
          "model_module": "@jupyter-widgets/controls",
          "model_name": "DescriptionStyleModel",
          "model_module_version": "1.5.0",
          "state": {
            "_model_module": "@jupyter-widgets/controls",
            "_model_module_version": "1.5.0",
            "_model_name": "DescriptionStyleModel",
            "_view_count": null,
            "_view_module": "@jupyter-widgets/base",
            "_view_module_version": "1.2.0",
            "_view_name": "StyleView",
            "description_width": ""
          }
        },
        "b9823e54dd054bd1bd16a5649235b80c": {
          "model_module": "@jupyter-widgets/base",
          "model_name": "LayoutModel",
          "model_module_version": "1.2.0",
          "state": {
            "_model_module": "@jupyter-widgets/base",
            "_model_module_version": "1.2.0",
            "_model_name": "LayoutModel",
            "_view_count": null,
            "_view_module": "@jupyter-widgets/base",
            "_view_module_version": "1.2.0",
            "_view_name": "LayoutView",
            "align_content": null,
            "align_items": null,
            "align_self": null,
            "border": null,
            "bottom": null,
            "display": null,
            "flex": null,
            "flex_flow": null,
            "grid_area": null,
            "grid_auto_columns": null,
            "grid_auto_flow": null,
            "grid_auto_rows": null,
            "grid_column": null,
            "grid_gap": null,
            "grid_row": null,
            "grid_template_areas": null,
            "grid_template_columns": null,
            "grid_template_rows": null,
            "height": null,
            "justify_content": null,
            "justify_items": null,
            "left": null,
            "margin": null,
            "max_height": null,
            "max_width": null,
            "min_height": null,
            "min_width": null,
            "object_fit": null,
            "object_position": null,
            "order": null,
            "overflow": null,
            "overflow_x": null,
            "overflow_y": null,
            "padding": null,
            "right": null,
            "top": null,
            "visibility": null,
            "width": null
          }
        },
        "266e1b78b37640dab80384a292938af6": {
          "model_module": "@jupyter-widgets/controls",
          "model_name": "ProgressStyleModel",
          "model_module_version": "1.5.0",
          "state": {
            "_model_module": "@jupyter-widgets/controls",
            "_model_module_version": "1.5.0",
            "_model_name": "ProgressStyleModel",
            "_view_count": null,
            "_view_module": "@jupyter-widgets/base",
            "_view_module_version": "1.2.0",
            "_view_name": "StyleView",
            "bar_color": null,
            "description_width": ""
          }
        },
        "9b3deafeea674736808670fd92b19d38": {
          "model_module": "@jupyter-widgets/controls",
          "model_name": "VBoxModel",
          "model_module_version": "1.5.0",
          "state": {
            "_dom_classes": [],
            "_model_module": "@jupyter-widgets/controls",
            "_model_module_version": "1.5.0",
            "_model_name": "VBoxModel",
            "_view_count": null,
            "_view_module": "@jupyter-widgets/controls",
            "_view_module_version": "1.5.0",
            "_view_name": "VBoxView",
            "box_style": "",
            "children": [
              "IPY_MODEL_b0cc89a41d6d43ec956e75077b910e32",
              "IPY_MODEL_9af3af7aaae14f0f938abd8dbe6c0c2c"
            ],
            "layout": "IPY_MODEL_d84f7ba2938b4de6a337abe5d3576d1f"
          }
        },
        "b0cc89a41d6d43ec956e75077b910e32": {
          "model_module": "@jupyter-widgets/controls",
          "model_name": "LabelModel",
          "model_module_version": "1.5.0",
          "state": {
            "_dom_classes": [],
            "_model_module": "@jupyter-widgets/controls",
            "_model_module_version": "1.5.0",
            "_model_name": "LabelModel",
            "_view_count": null,
            "_view_module": "@jupyter-widgets/controls",
            "_view_module_version": "1.5.0",
            "_view_name": "LabelView",
            "description": "",
            "description_tooltip": null,
            "layout": "IPY_MODEL_94cb01a02cbc46dd87152dce9ea930d6",
            "placeholder": "​",
            "style": "IPY_MODEL_532093654242419cbe5c7cfde25d27c6",
            "value": "0.011 MB of 0.011 MB uploaded\r"
          }
        },
        "9af3af7aaae14f0f938abd8dbe6c0c2c": {
          "model_module": "@jupyter-widgets/controls",
          "model_name": "FloatProgressModel",
          "model_module_version": "1.5.0",
          "state": {
            "_dom_classes": [],
            "_model_module": "@jupyter-widgets/controls",
            "_model_module_version": "1.5.0",
            "_model_name": "FloatProgressModel",
            "_view_count": null,
            "_view_module": "@jupyter-widgets/controls",
            "_view_module_version": "1.5.0",
            "_view_name": "ProgressView",
            "bar_style": "",
            "description": "",
            "description_tooltip": null,
            "layout": "IPY_MODEL_412439436afa4e60b61b48ac1fdea236",
            "max": 1,
            "min": 0,
            "orientation": "horizontal",
            "style": "IPY_MODEL_a47d1719d7894900af787e4a1be09129",
            "value": 1
          }
        },
        "d84f7ba2938b4de6a337abe5d3576d1f": {
          "model_module": "@jupyter-widgets/base",
          "model_name": "LayoutModel",
          "model_module_version": "1.2.0",
          "state": {
            "_model_module": "@jupyter-widgets/base",
            "_model_module_version": "1.2.0",
            "_model_name": "LayoutModel",
            "_view_count": null,
            "_view_module": "@jupyter-widgets/base",
            "_view_module_version": "1.2.0",
            "_view_name": "LayoutView",
            "align_content": null,
            "align_items": null,
            "align_self": null,
            "border": null,
            "bottom": null,
            "display": null,
            "flex": null,
            "flex_flow": null,
            "grid_area": null,
            "grid_auto_columns": null,
            "grid_auto_flow": null,
            "grid_auto_rows": null,
            "grid_column": null,
            "grid_gap": null,
            "grid_row": null,
            "grid_template_areas": null,
            "grid_template_columns": null,
            "grid_template_rows": null,
            "height": null,
            "justify_content": null,
            "justify_items": null,
            "left": null,
            "margin": null,
            "max_height": null,
            "max_width": null,
            "min_height": null,
            "min_width": null,
            "object_fit": null,
            "object_position": null,
            "order": null,
            "overflow": null,
            "overflow_x": null,
            "overflow_y": null,
            "padding": null,
            "right": null,
            "top": null,
            "visibility": null,
            "width": null
          }
        },
        "94cb01a02cbc46dd87152dce9ea930d6": {
          "model_module": "@jupyter-widgets/base",
          "model_name": "LayoutModel",
          "model_module_version": "1.2.0",
          "state": {
            "_model_module": "@jupyter-widgets/base",
            "_model_module_version": "1.2.0",
            "_model_name": "LayoutModel",
            "_view_count": null,
            "_view_module": "@jupyter-widgets/base",
            "_view_module_version": "1.2.0",
            "_view_name": "LayoutView",
            "align_content": null,
            "align_items": null,
            "align_self": null,
            "border": null,
            "bottom": null,
            "display": null,
            "flex": null,
            "flex_flow": null,
            "grid_area": null,
            "grid_auto_columns": null,
            "grid_auto_flow": null,
            "grid_auto_rows": null,
            "grid_column": null,
            "grid_gap": null,
            "grid_row": null,
            "grid_template_areas": null,
            "grid_template_columns": null,
            "grid_template_rows": null,
            "height": null,
            "justify_content": null,
            "justify_items": null,
            "left": null,
            "margin": null,
            "max_height": null,
            "max_width": null,
            "min_height": null,
            "min_width": null,
            "object_fit": null,
            "object_position": null,
            "order": null,
            "overflow": null,
            "overflow_x": null,
            "overflow_y": null,
            "padding": null,
            "right": null,
            "top": null,
            "visibility": null,
            "width": null
          }
        },
        "532093654242419cbe5c7cfde25d27c6": {
          "model_module": "@jupyter-widgets/controls",
          "model_name": "DescriptionStyleModel",
          "model_module_version": "1.5.0",
          "state": {
            "_model_module": "@jupyter-widgets/controls",
            "_model_module_version": "1.5.0",
            "_model_name": "DescriptionStyleModel",
            "_view_count": null,
            "_view_module": "@jupyter-widgets/base",
            "_view_module_version": "1.2.0",
            "_view_name": "StyleView",
            "description_width": ""
          }
        },
        "412439436afa4e60b61b48ac1fdea236": {
          "model_module": "@jupyter-widgets/base",
          "model_name": "LayoutModel",
          "model_module_version": "1.2.0",
          "state": {
            "_model_module": "@jupyter-widgets/base",
            "_model_module_version": "1.2.0",
            "_model_name": "LayoutModel",
            "_view_count": null,
            "_view_module": "@jupyter-widgets/base",
            "_view_module_version": "1.2.0",
            "_view_name": "LayoutView",
            "align_content": null,
            "align_items": null,
            "align_self": null,
            "border": null,
            "bottom": null,
            "display": null,
            "flex": null,
            "flex_flow": null,
            "grid_area": null,
            "grid_auto_columns": null,
            "grid_auto_flow": null,
            "grid_auto_rows": null,
            "grid_column": null,
            "grid_gap": null,
            "grid_row": null,
            "grid_template_areas": null,
            "grid_template_columns": null,
            "grid_template_rows": null,
            "height": null,
            "justify_content": null,
            "justify_items": null,
            "left": null,
            "margin": null,
            "max_height": null,
            "max_width": null,
            "min_height": null,
            "min_width": null,
            "object_fit": null,
            "object_position": null,
            "order": null,
            "overflow": null,
            "overflow_x": null,
            "overflow_y": null,
            "padding": null,
            "right": null,
            "top": null,
            "visibility": null,
            "width": null
          }
        },
        "a47d1719d7894900af787e4a1be09129": {
          "model_module": "@jupyter-widgets/controls",
          "model_name": "ProgressStyleModel",
          "model_module_version": "1.5.0",
          "state": {
            "_model_module": "@jupyter-widgets/controls",
            "_model_module_version": "1.5.0",
            "_model_name": "ProgressStyleModel",
            "_view_count": null,
            "_view_module": "@jupyter-widgets/base",
            "_view_module_version": "1.2.0",
            "_view_name": "StyleView",
            "bar_color": null,
            "description_width": ""
          }
        },
        "b7c9b08b13e74d5c8eff8d633328d0bc": {
          "model_module": "@jupyter-widgets/controls",
          "model_name": "VBoxModel",
          "model_module_version": "1.5.0",
          "state": {
            "_dom_classes": [],
            "_model_module": "@jupyter-widgets/controls",
            "_model_module_version": "1.5.0",
            "_model_name": "VBoxModel",
            "_view_count": null,
            "_view_module": "@jupyter-widgets/controls",
            "_view_module_version": "1.5.0",
            "_view_name": "VBoxView",
            "box_style": "",
            "children": [
              "IPY_MODEL_ad3e53a3df004797b94d876bd2210423",
              "IPY_MODEL_4677f4da7c1f48da91dae565f3e4a6cf"
            ],
            "layout": "IPY_MODEL_ce8a13a394ad4d37aa3a4149d6c5f131"
          }
        },
        "ad3e53a3df004797b94d876bd2210423": {
          "model_module": "@jupyter-widgets/controls",
          "model_name": "LabelModel",
          "model_module_version": "1.5.0",
          "state": {
            "_dom_classes": [],
            "_model_module": "@jupyter-widgets/controls",
            "_model_module_version": "1.5.0",
            "_model_name": "LabelModel",
            "_view_count": null,
            "_view_module": "@jupyter-widgets/controls",
            "_view_module_version": "1.5.0",
            "_view_name": "LabelView",
            "description": "",
            "description_tooltip": null,
            "layout": "IPY_MODEL_e1bdf5b1e09944839399cc28ae3c739b",
            "placeholder": "​",
            "style": "IPY_MODEL_57101f97544a4ba896f695ae510926d5",
            "value": "0.011 MB of 0.011 MB uploaded\r"
          }
        },
        "4677f4da7c1f48da91dae565f3e4a6cf": {
          "model_module": "@jupyter-widgets/controls",
          "model_name": "FloatProgressModel",
          "model_module_version": "1.5.0",
          "state": {
            "_dom_classes": [],
            "_model_module": "@jupyter-widgets/controls",
            "_model_module_version": "1.5.0",
            "_model_name": "FloatProgressModel",
            "_view_count": null,
            "_view_module": "@jupyter-widgets/controls",
            "_view_module_version": "1.5.0",
            "_view_name": "ProgressView",
            "bar_style": "",
            "description": "",
            "description_tooltip": null,
            "layout": "IPY_MODEL_c396bb47c987485cabd726f4fa0c3153",
            "max": 1,
            "min": 0,
            "orientation": "horizontal",
            "style": "IPY_MODEL_8bf53031960c4aba92c22717b8448aab",
            "value": 1
          }
        },
        "ce8a13a394ad4d37aa3a4149d6c5f131": {
          "model_module": "@jupyter-widgets/base",
          "model_name": "LayoutModel",
          "model_module_version": "1.2.0",
          "state": {
            "_model_module": "@jupyter-widgets/base",
            "_model_module_version": "1.2.0",
            "_model_name": "LayoutModel",
            "_view_count": null,
            "_view_module": "@jupyter-widgets/base",
            "_view_module_version": "1.2.0",
            "_view_name": "LayoutView",
            "align_content": null,
            "align_items": null,
            "align_self": null,
            "border": null,
            "bottom": null,
            "display": null,
            "flex": null,
            "flex_flow": null,
            "grid_area": null,
            "grid_auto_columns": null,
            "grid_auto_flow": null,
            "grid_auto_rows": null,
            "grid_column": null,
            "grid_gap": null,
            "grid_row": null,
            "grid_template_areas": null,
            "grid_template_columns": null,
            "grid_template_rows": null,
            "height": null,
            "justify_content": null,
            "justify_items": null,
            "left": null,
            "margin": null,
            "max_height": null,
            "max_width": null,
            "min_height": null,
            "min_width": null,
            "object_fit": null,
            "object_position": null,
            "order": null,
            "overflow": null,
            "overflow_x": null,
            "overflow_y": null,
            "padding": null,
            "right": null,
            "top": null,
            "visibility": null,
            "width": null
          }
        },
        "e1bdf5b1e09944839399cc28ae3c739b": {
          "model_module": "@jupyter-widgets/base",
          "model_name": "LayoutModel",
          "model_module_version": "1.2.0",
          "state": {
            "_model_module": "@jupyter-widgets/base",
            "_model_module_version": "1.2.0",
            "_model_name": "LayoutModel",
            "_view_count": null,
            "_view_module": "@jupyter-widgets/base",
            "_view_module_version": "1.2.0",
            "_view_name": "LayoutView",
            "align_content": null,
            "align_items": null,
            "align_self": null,
            "border": null,
            "bottom": null,
            "display": null,
            "flex": null,
            "flex_flow": null,
            "grid_area": null,
            "grid_auto_columns": null,
            "grid_auto_flow": null,
            "grid_auto_rows": null,
            "grid_column": null,
            "grid_gap": null,
            "grid_row": null,
            "grid_template_areas": null,
            "grid_template_columns": null,
            "grid_template_rows": null,
            "height": null,
            "justify_content": null,
            "justify_items": null,
            "left": null,
            "margin": null,
            "max_height": null,
            "max_width": null,
            "min_height": null,
            "min_width": null,
            "object_fit": null,
            "object_position": null,
            "order": null,
            "overflow": null,
            "overflow_x": null,
            "overflow_y": null,
            "padding": null,
            "right": null,
            "top": null,
            "visibility": null,
            "width": null
          }
        },
        "57101f97544a4ba896f695ae510926d5": {
          "model_module": "@jupyter-widgets/controls",
          "model_name": "DescriptionStyleModel",
          "model_module_version": "1.5.0",
          "state": {
            "_model_module": "@jupyter-widgets/controls",
            "_model_module_version": "1.5.0",
            "_model_name": "DescriptionStyleModel",
            "_view_count": null,
            "_view_module": "@jupyter-widgets/base",
            "_view_module_version": "1.2.0",
            "_view_name": "StyleView",
            "description_width": ""
          }
        },
        "c396bb47c987485cabd726f4fa0c3153": {
          "model_module": "@jupyter-widgets/base",
          "model_name": "LayoutModel",
          "model_module_version": "1.2.0",
          "state": {
            "_model_module": "@jupyter-widgets/base",
            "_model_module_version": "1.2.0",
            "_model_name": "LayoutModel",
            "_view_count": null,
            "_view_module": "@jupyter-widgets/base",
            "_view_module_version": "1.2.0",
            "_view_name": "LayoutView",
            "align_content": null,
            "align_items": null,
            "align_self": null,
            "border": null,
            "bottom": null,
            "display": null,
            "flex": null,
            "flex_flow": null,
            "grid_area": null,
            "grid_auto_columns": null,
            "grid_auto_flow": null,
            "grid_auto_rows": null,
            "grid_column": null,
            "grid_gap": null,
            "grid_row": null,
            "grid_template_areas": null,
            "grid_template_columns": null,
            "grid_template_rows": null,
            "height": null,
            "justify_content": null,
            "justify_items": null,
            "left": null,
            "margin": null,
            "max_height": null,
            "max_width": null,
            "min_height": null,
            "min_width": null,
            "object_fit": null,
            "object_position": null,
            "order": null,
            "overflow": null,
            "overflow_x": null,
            "overflow_y": null,
            "padding": null,
            "right": null,
            "top": null,
            "visibility": null,
            "width": null
          }
        },
        "8bf53031960c4aba92c22717b8448aab": {
          "model_module": "@jupyter-widgets/controls",
          "model_name": "ProgressStyleModel",
          "model_module_version": "1.5.0",
          "state": {
            "_model_module": "@jupyter-widgets/controls",
            "_model_module_version": "1.5.0",
            "_model_name": "ProgressStyleModel",
            "_view_count": null,
            "_view_module": "@jupyter-widgets/base",
            "_view_module_version": "1.2.0",
            "_view_name": "StyleView",
            "bar_color": null,
            "description_width": ""
          }
        },
        "632636073ca34ea4953d5458f89f64e2": {
          "model_module": "@jupyter-widgets/controls",
          "model_name": "VBoxModel",
          "model_module_version": "1.5.0",
          "state": {
            "_dom_classes": [],
            "_model_module": "@jupyter-widgets/controls",
            "_model_module_version": "1.5.0",
            "_model_name": "VBoxModel",
            "_view_count": null,
            "_view_module": "@jupyter-widgets/controls",
            "_view_module_version": "1.5.0",
            "_view_name": "VBoxView",
            "box_style": "",
            "children": [
              "IPY_MODEL_e54c719d344e429f84b731291919a999",
              "IPY_MODEL_41e87e371412436ea91622051d13c731"
            ],
            "layout": "IPY_MODEL_7243d36ae7d34e5399e4c26613890b2c"
          }
        },
        "e54c719d344e429f84b731291919a999": {
          "model_module": "@jupyter-widgets/controls",
          "model_name": "LabelModel",
          "model_module_version": "1.5.0",
          "state": {
            "_dom_classes": [],
            "_model_module": "@jupyter-widgets/controls",
            "_model_module_version": "1.5.0",
            "_model_name": "LabelModel",
            "_view_count": null,
            "_view_module": "@jupyter-widgets/controls",
            "_view_module_version": "1.5.0",
            "_view_name": "LabelView",
            "description": "",
            "description_tooltip": null,
            "layout": "IPY_MODEL_36ab68aeb56e4226a907bb48a18e9c10",
            "placeholder": "​",
            "style": "IPY_MODEL_95fe0253459f4b85a33db57829322026",
            "value": "0.011 MB of 0.011 MB uploaded\r"
          }
        },
        "41e87e371412436ea91622051d13c731": {
          "model_module": "@jupyter-widgets/controls",
          "model_name": "FloatProgressModel",
          "model_module_version": "1.5.0",
          "state": {
            "_dom_classes": [],
            "_model_module": "@jupyter-widgets/controls",
            "_model_module_version": "1.5.0",
            "_model_name": "FloatProgressModel",
            "_view_count": null,
            "_view_module": "@jupyter-widgets/controls",
            "_view_module_version": "1.5.0",
            "_view_name": "ProgressView",
            "bar_style": "",
            "description": "",
            "description_tooltip": null,
            "layout": "IPY_MODEL_7f96136222dc47d6a5dc4df3bf10e12f",
            "max": 1,
            "min": 0,
            "orientation": "horizontal",
            "style": "IPY_MODEL_0b7c912901e6478d81ceae6e52c7ea62",
            "value": 1
          }
        },
        "7243d36ae7d34e5399e4c26613890b2c": {
          "model_module": "@jupyter-widgets/base",
          "model_name": "LayoutModel",
          "model_module_version": "1.2.0",
          "state": {
            "_model_module": "@jupyter-widgets/base",
            "_model_module_version": "1.2.0",
            "_model_name": "LayoutModel",
            "_view_count": null,
            "_view_module": "@jupyter-widgets/base",
            "_view_module_version": "1.2.0",
            "_view_name": "LayoutView",
            "align_content": null,
            "align_items": null,
            "align_self": null,
            "border": null,
            "bottom": null,
            "display": null,
            "flex": null,
            "flex_flow": null,
            "grid_area": null,
            "grid_auto_columns": null,
            "grid_auto_flow": null,
            "grid_auto_rows": null,
            "grid_column": null,
            "grid_gap": null,
            "grid_row": null,
            "grid_template_areas": null,
            "grid_template_columns": null,
            "grid_template_rows": null,
            "height": null,
            "justify_content": null,
            "justify_items": null,
            "left": null,
            "margin": null,
            "max_height": null,
            "max_width": null,
            "min_height": null,
            "min_width": null,
            "object_fit": null,
            "object_position": null,
            "order": null,
            "overflow": null,
            "overflow_x": null,
            "overflow_y": null,
            "padding": null,
            "right": null,
            "top": null,
            "visibility": null,
            "width": null
          }
        },
        "36ab68aeb56e4226a907bb48a18e9c10": {
          "model_module": "@jupyter-widgets/base",
          "model_name": "LayoutModel",
          "model_module_version": "1.2.0",
          "state": {
            "_model_module": "@jupyter-widgets/base",
            "_model_module_version": "1.2.0",
            "_model_name": "LayoutModel",
            "_view_count": null,
            "_view_module": "@jupyter-widgets/base",
            "_view_module_version": "1.2.0",
            "_view_name": "LayoutView",
            "align_content": null,
            "align_items": null,
            "align_self": null,
            "border": null,
            "bottom": null,
            "display": null,
            "flex": null,
            "flex_flow": null,
            "grid_area": null,
            "grid_auto_columns": null,
            "grid_auto_flow": null,
            "grid_auto_rows": null,
            "grid_column": null,
            "grid_gap": null,
            "grid_row": null,
            "grid_template_areas": null,
            "grid_template_columns": null,
            "grid_template_rows": null,
            "height": null,
            "justify_content": null,
            "justify_items": null,
            "left": null,
            "margin": null,
            "max_height": null,
            "max_width": null,
            "min_height": null,
            "min_width": null,
            "object_fit": null,
            "object_position": null,
            "order": null,
            "overflow": null,
            "overflow_x": null,
            "overflow_y": null,
            "padding": null,
            "right": null,
            "top": null,
            "visibility": null,
            "width": null
          }
        },
        "95fe0253459f4b85a33db57829322026": {
          "model_module": "@jupyter-widgets/controls",
          "model_name": "DescriptionStyleModel",
          "model_module_version": "1.5.0",
          "state": {
            "_model_module": "@jupyter-widgets/controls",
            "_model_module_version": "1.5.0",
            "_model_name": "DescriptionStyleModel",
            "_view_count": null,
            "_view_module": "@jupyter-widgets/base",
            "_view_module_version": "1.2.0",
            "_view_name": "StyleView",
            "description_width": ""
          }
        },
        "7f96136222dc47d6a5dc4df3bf10e12f": {
          "model_module": "@jupyter-widgets/base",
          "model_name": "LayoutModel",
          "model_module_version": "1.2.0",
          "state": {
            "_model_module": "@jupyter-widgets/base",
            "_model_module_version": "1.2.0",
            "_model_name": "LayoutModel",
            "_view_count": null,
            "_view_module": "@jupyter-widgets/base",
            "_view_module_version": "1.2.0",
            "_view_name": "LayoutView",
            "align_content": null,
            "align_items": null,
            "align_self": null,
            "border": null,
            "bottom": null,
            "display": null,
            "flex": null,
            "flex_flow": null,
            "grid_area": null,
            "grid_auto_columns": null,
            "grid_auto_flow": null,
            "grid_auto_rows": null,
            "grid_column": null,
            "grid_gap": null,
            "grid_row": null,
            "grid_template_areas": null,
            "grid_template_columns": null,
            "grid_template_rows": null,
            "height": null,
            "justify_content": null,
            "justify_items": null,
            "left": null,
            "margin": null,
            "max_height": null,
            "max_width": null,
            "min_height": null,
            "min_width": null,
            "object_fit": null,
            "object_position": null,
            "order": null,
            "overflow": null,
            "overflow_x": null,
            "overflow_y": null,
            "padding": null,
            "right": null,
            "top": null,
            "visibility": null,
            "width": null
          }
        },
        "0b7c912901e6478d81ceae6e52c7ea62": {
          "model_module": "@jupyter-widgets/controls",
          "model_name": "ProgressStyleModel",
          "model_module_version": "1.5.0",
          "state": {
            "_model_module": "@jupyter-widgets/controls",
            "_model_module_version": "1.5.0",
            "_model_name": "ProgressStyleModel",
            "_view_count": null,
            "_view_module": "@jupyter-widgets/base",
            "_view_module_version": "1.2.0",
            "_view_name": "StyleView",
            "bar_color": null,
            "description_width": ""
          }
        },
        "68e63d9f3c6347c1b7d3191c34b422f8": {
          "model_module": "@jupyter-widgets/controls",
          "model_name": "VBoxModel",
          "model_module_version": "1.5.0",
          "state": {
            "_dom_classes": [],
            "_model_module": "@jupyter-widgets/controls",
            "_model_module_version": "1.5.0",
            "_model_name": "VBoxModel",
            "_view_count": null,
            "_view_module": "@jupyter-widgets/controls",
            "_view_module_version": "1.5.0",
            "_view_name": "VBoxView",
            "box_style": "",
            "children": [
              "IPY_MODEL_64be0d8b96414360860c22215f038c41",
              "IPY_MODEL_2f76e3e5db01425f9af006732886064e"
            ],
            "layout": "IPY_MODEL_e5939249f8a141ddbc7395057d2fcc7d"
          }
        },
        "64be0d8b96414360860c22215f038c41": {
          "model_module": "@jupyter-widgets/controls",
          "model_name": "LabelModel",
          "model_module_version": "1.5.0",
          "state": {
            "_dom_classes": [],
            "_model_module": "@jupyter-widgets/controls",
            "_model_module_version": "1.5.0",
            "_model_name": "LabelModel",
            "_view_count": null,
            "_view_module": "@jupyter-widgets/controls",
            "_view_module_version": "1.5.0",
            "_view_name": "LabelView",
            "description": "",
            "description_tooltip": null,
            "layout": "IPY_MODEL_982a583c329449d6ba2d8f4a9671feed",
            "placeholder": "​",
            "style": "IPY_MODEL_cbb438f82f8e464e924b8b955874f480",
            "value": "0.011 MB of 0.011 MB uploaded\r"
          }
        },
        "2f76e3e5db01425f9af006732886064e": {
          "model_module": "@jupyter-widgets/controls",
          "model_name": "FloatProgressModel",
          "model_module_version": "1.5.0",
          "state": {
            "_dom_classes": [],
            "_model_module": "@jupyter-widgets/controls",
            "_model_module_version": "1.5.0",
            "_model_name": "FloatProgressModel",
            "_view_count": null,
            "_view_module": "@jupyter-widgets/controls",
            "_view_module_version": "1.5.0",
            "_view_name": "ProgressView",
            "bar_style": "",
            "description": "",
            "description_tooltip": null,
            "layout": "IPY_MODEL_9ceb80a27c9645d6b02aee698cd8aa2e",
            "max": 1,
            "min": 0,
            "orientation": "horizontal",
            "style": "IPY_MODEL_ac257365e6074b3ba27eadad068288a2",
            "value": 1
          }
        },
        "e5939249f8a141ddbc7395057d2fcc7d": {
          "model_module": "@jupyter-widgets/base",
          "model_name": "LayoutModel",
          "model_module_version": "1.2.0",
          "state": {
            "_model_module": "@jupyter-widgets/base",
            "_model_module_version": "1.2.0",
            "_model_name": "LayoutModel",
            "_view_count": null,
            "_view_module": "@jupyter-widgets/base",
            "_view_module_version": "1.2.0",
            "_view_name": "LayoutView",
            "align_content": null,
            "align_items": null,
            "align_self": null,
            "border": null,
            "bottom": null,
            "display": null,
            "flex": null,
            "flex_flow": null,
            "grid_area": null,
            "grid_auto_columns": null,
            "grid_auto_flow": null,
            "grid_auto_rows": null,
            "grid_column": null,
            "grid_gap": null,
            "grid_row": null,
            "grid_template_areas": null,
            "grid_template_columns": null,
            "grid_template_rows": null,
            "height": null,
            "justify_content": null,
            "justify_items": null,
            "left": null,
            "margin": null,
            "max_height": null,
            "max_width": null,
            "min_height": null,
            "min_width": null,
            "object_fit": null,
            "object_position": null,
            "order": null,
            "overflow": null,
            "overflow_x": null,
            "overflow_y": null,
            "padding": null,
            "right": null,
            "top": null,
            "visibility": null,
            "width": null
          }
        },
        "982a583c329449d6ba2d8f4a9671feed": {
          "model_module": "@jupyter-widgets/base",
          "model_name": "LayoutModel",
          "model_module_version": "1.2.0",
          "state": {
            "_model_module": "@jupyter-widgets/base",
            "_model_module_version": "1.2.0",
            "_model_name": "LayoutModel",
            "_view_count": null,
            "_view_module": "@jupyter-widgets/base",
            "_view_module_version": "1.2.0",
            "_view_name": "LayoutView",
            "align_content": null,
            "align_items": null,
            "align_self": null,
            "border": null,
            "bottom": null,
            "display": null,
            "flex": null,
            "flex_flow": null,
            "grid_area": null,
            "grid_auto_columns": null,
            "grid_auto_flow": null,
            "grid_auto_rows": null,
            "grid_column": null,
            "grid_gap": null,
            "grid_row": null,
            "grid_template_areas": null,
            "grid_template_columns": null,
            "grid_template_rows": null,
            "height": null,
            "justify_content": null,
            "justify_items": null,
            "left": null,
            "margin": null,
            "max_height": null,
            "max_width": null,
            "min_height": null,
            "min_width": null,
            "object_fit": null,
            "object_position": null,
            "order": null,
            "overflow": null,
            "overflow_x": null,
            "overflow_y": null,
            "padding": null,
            "right": null,
            "top": null,
            "visibility": null,
            "width": null
          }
        },
        "cbb438f82f8e464e924b8b955874f480": {
          "model_module": "@jupyter-widgets/controls",
          "model_name": "DescriptionStyleModel",
          "model_module_version": "1.5.0",
          "state": {
            "_model_module": "@jupyter-widgets/controls",
            "_model_module_version": "1.5.0",
            "_model_name": "DescriptionStyleModel",
            "_view_count": null,
            "_view_module": "@jupyter-widgets/base",
            "_view_module_version": "1.2.0",
            "_view_name": "StyleView",
            "description_width": ""
          }
        },
        "9ceb80a27c9645d6b02aee698cd8aa2e": {
          "model_module": "@jupyter-widgets/base",
          "model_name": "LayoutModel",
          "model_module_version": "1.2.0",
          "state": {
            "_model_module": "@jupyter-widgets/base",
            "_model_module_version": "1.2.0",
            "_model_name": "LayoutModel",
            "_view_count": null,
            "_view_module": "@jupyter-widgets/base",
            "_view_module_version": "1.2.0",
            "_view_name": "LayoutView",
            "align_content": null,
            "align_items": null,
            "align_self": null,
            "border": null,
            "bottom": null,
            "display": null,
            "flex": null,
            "flex_flow": null,
            "grid_area": null,
            "grid_auto_columns": null,
            "grid_auto_flow": null,
            "grid_auto_rows": null,
            "grid_column": null,
            "grid_gap": null,
            "grid_row": null,
            "grid_template_areas": null,
            "grid_template_columns": null,
            "grid_template_rows": null,
            "height": null,
            "justify_content": null,
            "justify_items": null,
            "left": null,
            "margin": null,
            "max_height": null,
            "max_width": null,
            "min_height": null,
            "min_width": null,
            "object_fit": null,
            "object_position": null,
            "order": null,
            "overflow": null,
            "overflow_x": null,
            "overflow_y": null,
            "padding": null,
            "right": null,
            "top": null,
            "visibility": null,
            "width": null
          }
        },
        "ac257365e6074b3ba27eadad068288a2": {
          "model_module": "@jupyter-widgets/controls",
          "model_name": "ProgressStyleModel",
          "model_module_version": "1.5.0",
          "state": {
            "_model_module": "@jupyter-widgets/controls",
            "_model_module_version": "1.5.0",
            "_model_name": "ProgressStyleModel",
            "_view_count": null,
            "_view_module": "@jupyter-widgets/base",
            "_view_module_version": "1.2.0",
            "_view_name": "StyleView",
            "bar_color": null,
            "description_width": ""
          }
        },
        "9f469db0a7da4bccae74b5c91ed30653": {
          "model_module": "@jupyter-widgets/controls",
          "model_name": "VBoxModel",
          "model_module_version": "1.5.0",
          "state": {
            "_dom_classes": [],
            "_model_module": "@jupyter-widgets/controls",
            "_model_module_version": "1.5.0",
            "_model_name": "VBoxModel",
            "_view_count": null,
            "_view_module": "@jupyter-widgets/controls",
            "_view_module_version": "1.5.0",
            "_view_name": "VBoxView",
            "box_style": "",
            "children": [
              "IPY_MODEL_836121f5c20243afb51b5432fcdbc056",
              "IPY_MODEL_6785081114634da08def8d4b29e3d1c2"
            ],
            "layout": "IPY_MODEL_bcf34521432b4c86b9af2431823b23b1"
          }
        },
        "836121f5c20243afb51b5432fcdbc056": {
          "model_module": "@jupyter-widgets/controls",
          "model_name": "LabelModel",
          "model_module_version": "1.5.0",
          "state": {
            "_dom_classes": [],
            "_model_module": "@jupyter-widgets/controls",
            "_model_module_version": "1.5.0",
            "_model_name": "LabelModel",
            "_view_count": null,
            "_view_module": "@jupyter-widgets/controls",
            "_view_module_version": "1.5.0",
            "_view_name": "LabelView",
            "description": "",
            "description_tooltip": null,
            "layout": "IPY_MODEL_a90b05b0e5534ee69cb6c27b893cf0fc",
            "placeholder": "​",
            "style": "IPY_MODEL_c0f3abce045c4b599b55482e96477b74",
            "value": "0.011 MB of 0.011 MB uploaded\r"
          }
        },
        "6785081114634da08def8d4b29e3d1c2": {
          "model_module": "@jupyter-widgets/controls",
          "model_name": "FloatProgressModel",
          "model_module_version": "1.5.0",
          "state": {
            "_dom_classes": [],
            "_model_module": "@jupyter-widgets/controls",
            "_model_module_version": "1.5.0",
            "_model_name": "FloatProgressModel",
            "_view_count": null,
            "_view_module": "@jupyter-widgets/controls",
            "_view_module_version": "1.5.0",
            "_view_name": "ProgressView",
            "bar_style": "",
            "description": "",
            "description_tooltip": null,
            "layout": "IPY_MODEL_494a9c765e564b2ba1ff7f0abd794c2d",
            "max": 1,
            "min": 0,
            "orientation": "horizontal",
            "style": "IPY_MODEL_2a34176b09c84b7fba11018e0f51f2c0",
            "value": 1
          }
        },
        "bcf34521432b4c86b9af2431823b23b1": {
          "model_module": "@jupyter-widgets/base",
          "model_name": "LayoutModel",
          "model_module_version": "1.2.0",
          "state": {
            "_model_module": "@jupyter-widgets/base",
            "_model_module_version": "1.2.0",
            "_model_name": "LayoutModel",
            "_view_count": null,
            "_view_module": "@jupyter-widgets/base",
            "_view_module_version": "1.2.0",
            "_view_name": "LayoutView",
            "align_content": null,
            "align_items": null,
            "align_self": null,
            "border": null,
            "bottom": null,
            "display": null,
            "flex": null,
            "flex_flow": null,
            "grid_area": null,
            "grid_auto_columns": null,
            "grid_auto_flow": null,
            "grid_auto_rows": null,
            "grid_column": null,
            "grid_gap": null,
            "grid_row": null,
            "grid_template_areas": null,
            "grid_template_columns": null,
            "grid_template_rows": null,
            "height": null,
            "justify_content": null,
            "justify_items": null,
            "left": null,
            "margin": null,
            "max_height": null,
            "max_width": null,
            "min_height": null,
            "min_width": null,
            "object_fit": null,
            "object_position": null,
            "order": null,
            "overflow": null,
            "overflow_x": null,
            "overflow_y": null,
            "padding": null,
            "right": null,
            "top": null,
            "visibility": null,
            "width": null
          }
        },
        "a90b05b0e5534ee69cb6c27b893cf0fc": {
          "model_module": "@jupyter-widgets/base",
          "model_name": "LayoutModel",
          "model_module_version": "1.2.0",
          "state": {
            "_model_module": "@jupyter-widgets/base",
            "_model_module_version": "1.2.0",
            "_model_name": "LayoutModel",
            "_view_count": null,
            "_view_module": "@jupyter-widgets/base",
            "_view_module_version": "1.2.0",
            "_view_name": "LayoutView",
            "align_content": null,
            "align_items": null,
            "align_self": null,
            "border": null,
            "bottom": null,
            "display": null,
            "flex": null,
            "flex_flow": null,
            "grid_area": null,
            "grid_auto_columns": null,
            "grid_auto_flow": null,
            "grid_auto_rows": null,
            "grid_column": null,
            "grid_gap": null,
            "grid_row": null,
            "grid_template_areas": null,
            "grid_template_columns": null,
            "grid_template_rows": null,
            "height": null,
            "justify_content": null,
            "justify_items": null,
            "left": null,
            "margin": null,
            "max_height": null,
            "max_width": null,
            "min_height": null,
            "min_width": null,
            "object_fit": null,
            "object_position": null,
            "order": null,
            "overflow": null,
            "overflow_x": null,
            "overflow_y": null,
            "padding": null,
            "right": null,
            "top": null,
            "visibility": null,
            "width": null
          }
        },
        "c0f3abce045c4b599b55482e96477b74": {
          "model_module": "@jupyter-widgets/controls",
          "model_name": "DescriptionStyleModel",
          "model_module_version": "1.5.0",
          "state": {
            "_model_module": "@jupyter-widgets/controls",
            "_model_module_version": "1.5.0",
            "_model_name": "DescriptionStyleModel",
            "_view_count": null,
            "_view_module": "@jupyter-widgets/base",
            "_view_module_version": "1.2.0",
            "_view_name": "StyleView",
            "description_width": ""
          }
        },
        "494a9c765e564b2ba1ff7f0abd794c2d": {
          "model_module": "@jupyter-widgets/base",
          "model_name": "LayoutModel",
          "model_module_version": "1.2.0",
          "state": {
            "_model_module": "@jupyter-widgets/base",
            "_model_module_version": "1.2.0",
            "_model_name": "LayoutModel",
            "_view_count": null,
            "_view_module": "@jupyter-widgets/base",
            "_view_module_version": "1.2.0",
            "_view_name": "LayoutView",
            "align_content": null,
            "align_items": null,
            "align_self": null,
            "border": null,
            "bottom": null,
            "display": null,
            "flex": null,
            "flex_flow": null,
            "grid_area": null,
            "grid_auto_columns": null,
            "grid_auto_flow": null,
            "grid_auto_rows": null,
            "grid_column": null,
            "grid_gap": null,
            "grid_row": null,
            "grid_template_areas": null,
            "grid_template_columns": null,
            "grid_template_rows": null,
            "height": null,
            "justify_content": null,
            "justify_items": null,
            "left": null,
            "margin": null,
            "max_height": null,
            "max_width": null,
            "min_height": null,
            "min_width": null,
            "object_fit": null,
            "object_position": null,
            "order": null,
            "overflow": null,
            "overflow_x": null,
            "overflow_y": null,
            "padding": null,
            "right": null,
            "top": null,
            "visibility": null,
            "width": null
          }
        },
        "2a34176b09c84b7fba11018e0f51f2c0": {
          "model_module": "@jupyter-widgets/controls",
          "model_name": "ProgressStyleModel",
          "model_module_version": "1.5.0",
          "state": {
            "_model_module": "@jupyter-widgets/controls",
            "_model_module_version": "1.5.0",
            "_model_name": "ProgressStyleModel",
            "_view_count": null,
            "_view_module": "@jupyter-widgets/base",
            "_view_module_version": "1.2.0",
            "_view_name": "StyleView",
            "bar_color": null,
            "description_width": ""
          }
        },
        "4a4e1e024d0940b49b9083c3fcd66942": {
          "model_module": "@jupyter-widgets/controls",
          "model_name": "VBoxModel",
          "model_module_version": "1.5.0",
          "state": {
            "_dom_classes": [],
            "_model_module": "@jupyter-widgets/controls",
            "_model_module_version": "1.5.0",
            "_model_name": "VBoxModel",
            "_view_count": null,
            "_view_module": "@jupyter-widgets/controls",
            "_view_module_version": "1.5.0",
            "_view_name": "VBoxView",
            "box_style": "",
            "children": [
              "IPY_MODEL_46019ea6617d43908d0e3be757d90d9d",
              "IPY_MODEL_8d446f0f185c49a080c9c5ab312f3e1f"
            ],
            "layout": "IPY_MODEL_2859447e44944f74b54528a749931c10"
          }
        },
        "46019ea6617d43908d0e3be757d90d9d": {
          "model_module": "@jupyter-widgets/controls",
          "model_name": "LabelModel",
          "model_module_version": "1.5.0",
          "state": {
            "_dom_classes": [],
            "_model_module": "@jupyter-widgets/controls",
            "_model_module_version": "1.5.0",
            "_model_name": "LabelModel",
            "_view_count": null,
            "_view_module": "@jupyter-widgets/controls",
            "_view_module_version": "1.5.0",
            "_view_name": "LabelView",
            "description": "",
            "description_tooltip": null,
            "layout": "IPY_MODEL_e324da814fe54280be13ef4548879bbf",
            "placeholder": "​",
            "style": "IPY_MODEL_b0b01a745002419ab1097dab91334e49",
            "value": "0.011 MB of 0.011 MB uploaded\r"
          }
        },
        "8d446f0f185c49a080c9c5ab312f3e1f": {
          "model_module": "@jupyter-widgets/controls",
          "model_name": "FloatProgressModel",
          "model_module_version": "1.5.0",
          "state": {
            "_dom_classes": [],
            "_model_module": "@jupyter-widgets/controls",
            "_model_module_version": "1.5.0",
            "_model_name": "FloatProgressModel",
            "_view_count": null,
            "_view_module": "@jupyter-widgets/controls",
            "_view_module_version": "1.5.0",
            "_view_name": "ProgressView",
            "bar_style": "",
            "description": "",
            "description_tooltip": null,
            "layout": "IPY_MODEL_33ca49a75ae4490fa3a4cc35f5dd4b4c",
            "max": 1,
            "min": 0,
            "orientation": "horizontal",
            "style": "IPY_MODEL_baba1fc8120b471bbb7f46ac18b111b0",
            "value": 1
          }
        },
        "2859447e44944f74b54528a749931c10": {
          "model_module": "@jupyter-widgets/base",
          "model_name": "LayoutModel",
          "model_module_version": "1.2.0",
          "state": {
            "_model_module": "@jupyter-widgets/base",
            "_model_module_version": "1.2.0",
            "_model_name": "LayoutModel",
            "_view_count": null,
            "_view_module": "@jupyter-widgets/base",
            "_view_module_version": "1.2.0",
            "_view_name": "LayoutView",
            "align_content": null,
            "align_items": null,
            "align_self": null,
            "border": null,
            "bottom": null,
            "display": null,
            "flex": null,
            "flex_flow": null,
            "grid_area": null,
            "grid_auto_columns": null,
            "grid_auto_flow": null,
            "grid_auto_rows": null,
            "grid_column": null,
            "grid_gap": null,
            "grid_row": null,
            "grid_template_areas": null,
            "grid_template_columns": null,
            "grid_template_rows": null,
            "height": null,
            "justify_content": null,
            "justify_items": null,
            "left": null,
            "margin": null,
            "max_height": null,
            "max_width": null,
            "min_height": null,
            "min_width": null,
            "object_fit": null,
            "object_position": null,
            "order": null,
            "overflow": null,
            "overflow_x": null,
            "overflow_y": null,
            "padding": null,
            "right": null,
            "top": null,
            "visibility": null,
            "width": null
          }
        },
        "e324da814fe54280be13ef4548879bbf": {
          "model_module": "@jupyter-widgets/base",
          "model_name": "LayoutModel",
          "model_module_version": "1.2.0",
          "state": {
            "_model_module": "@jupyter-widgets/base",
            "_model_module_version": "1.2.0",
            "_model_name": "LayoutModel",
            "_view_count": null,
            "_view_module": "@jupyter-widgets/base",
            "_view_module_version": "1.2.0",
            "_view_name": "LayoutView",
            "align_content": null,
            "align_items": null,
            "align_self": null,
            "border": null,
            "bottom": null,
            "display": null,
            "flex": null,
            "flex_flow": null,
            "grid_area": null,
            "grid_auto_columns": null,
            "grid_auto_flow": null,
            "grid_auto_rows": null,
            "grid_column": null,
            "grid_gap": null,
            "grid_row": null,
            "grid_template_areas": null,
            "grid_template_columns": null,
            "grid_template_rows": null,
            "height": null,
            "justify_content": null,
            "justify_items": null,
            "left": null,
            "margin": null,
            "max_height": null,
            "max_width": null,
            "min_height": null,
            "min_width": null,
            "object_fit": null,
            "object_position": null,
            "order": null,
            "overflow": null,
            "overflow_x": null,
            "overflow_y": null,
            "padding": null,
            "right": null,
            "top": null,
            "visibility": null,
            "width": null
          }
        },
        "b0b01a745002419ab1097dab91334e49": {
          "model_module": "@jupyter-widgets/controls",
          "model_name": "DescriptionStyleModel",
          "model_module_version": "1.5.0",
          "state": {
            "_model_module": "@jupyter-widgets/controls",
            "_model_module_version": "1.5.0",
            "_model_name": "DescriptionStyleModel",
            "_view_count": null,
            "_view_module": "@jupyter-widgets/base",
            "_view_module_version": "1.2.0",
            "_view_name": "StyleView",
            "description_width": ""
          }
        },
        "33ca49a75ae4490fa3a4cc35f5dd4b4c": {
          "model_module": "@jupyter-widgets/base",
          "model_name": "LayoutModel",
          "model_module_version": "1.2.0",
          "state": {
            "_model_module": "@jupyter-widgets/base",
            "_model_module_version": "1.2.0",
            "_model_name": "LayoutModel",
            "_view_count": null,
            "_view_module": "@jupyter-widgets/base",
            "_view_module_version": "1.2.0",
            "_view_name": "LayoutView",
            "align_content": null,
            "align_items": null,
            "align_self": null,
            "border": null,
            "bottom": null,
            "display": null,
            "flex": null,
            "flex_flow": null,
            "grid_area": null,
            "grid_auto_columns": null,
            "grid_auto_flow": null,
            "grid_auto_rows": null,
            "grid_column": null,
            "grid_gap": null,
            "grid_row": null,
            "grid_template_areas": null,
            "grid_template_columns": null,
            "grid_template_rows": null,
            "height": null,
            "justify_content": null,
            "justify_items": null,
            "left": null,
            "margin": null,
            "max_height": null,
            "max_width": null,
            "min_height": null,
            "min_width": null,
            "object_fit": null,
            "object_position": null,
            "order": null,
            "overflow": null,
            "overflow_x": null,
            "overflow_y": null,
            "padding": null,
            "right": null,
            "top": null,
            "visibility": null,
            "width": null
          }
        },
        "baba1fc8120b471bbb7f46ac18b111b0": {
          "model_module": "@jupyter-widgets/controls",
          "model_name": "ProgressStyleModel",
          "model_module_version": "1.5.0",
          "state": {
            "_model_module": "@jupyter-widgets/controls",
            "_model_module_version": "1.5.0",
            "_model_name": "ProgressStyleModel",
            "_view_count": null,
            "_view_module": "@jupyter-widgets/base",
            "_view_module_version": "1.2.0",
            "_view_name": "StyleView",
            "bar_color": null,
            "description_width": ""
          }
        },
        "06eeba58e20d46e68f37beac75048fe2": {
          "model_module": "@jupyter-widgets/controls",
          "model_name": "VBoxModel",
          "model_module_version": "1.5.0",
          "state": {
            "_dom_classes": [],
            "_model_module": "@jupyter-widgets/controls",
            "_model_module_version": "1.5.0",
            "_model_name": "VBoxModel",
            "_view_count": null,
            "_view_module": "@jupyter-widgets/controls",
            "_view_module_version": "1.5.0",
            "_view_name": "VBoxView",
            "box_style": "",
            "children": [
              "IPY_MODEL_88bd6c07ea154947bf5944d6383249dc",
              "IPY_MODEL_a62d200a812e45cf9cf507ab324dd753"
            ],
            "layout": "IPY_MODEL_3695023ee0804ce1b6d14a7fcff3a0a1"
          }
        },
        "88bd6c07ea154947bf5944d6383249dc": {
          "model_module": "@jupyter-widgets/controls",
          "model_name": "LabelModel",
          "model_module_version": "1.5.0",
          "state": {
            "_dom_classes": [],
            "_model_module": "@jupyter-widgets/controls",
            "_model_module_version": "1.5.0",
            "_model_name": "LabelModel",
            "_view_count": null,
            "_view_module": "@jupyter-widgets/controls",
            "_view_module_version": "1.5.0",
            "_view_name": "LabelView",
            "description": "",
            "description_tooltip": null,
            "layout": "IPY_MODEL_b3be994f219b4e30b0668b947cea3441",
            "placeholder": "​",
            "style": "IPY_MODEL_b1c22f4bf4544456906951a6d840b226",
            "value": "0.011 MB of 0.011 MB uploaded\r"
          }
        },
        "a62d200a812e45cf9cf507ab324dd753": {
          "model_module": "@jupyter-widgets/controls",
          "model_name": "FloatProgressModel",
          "model_module_version": "1.5.0",
          "state": {
            "_dom_classes": [],
            "_model_module": "@jupyter-widgets/controls",
            "_model_module_version": "1.5.0",
            "_model_name": "FloatProgressModel",
            "_view_count": null,
            "_view_module": "@jupyter-widgets/controls",
            "_view_module_version": "1.5.0",
            "_view_name": "ProgressView",
            "bar_style": "",
            "description": "",
            "description_tooltip": null,
            "layout": "IPY_MODEL_678d9126bda848038409bcdba0ff5054",
            "max": 1,
            "min": 0,
            "orientation": "horizontal",
            "style": "IPY_MODEL_a9d4b2b31f6a4d11b4a94bb0fa495f5b",
            "value": 1
          }
        },
        "3695023ee0804ce1b6d14a7fcff3a0a1": {
          "model_module": "@jupyter-widgets/base",
          "model_name": "LayoutModel",
          "model_module_version": "1.2.0",
          "state": {
            "_model_module": "@jupyter-widgets/base",
            "_model_module_version": "1.2.0",
            "_model_name": "LayoutModel",
            "_view_count": null,
            "_view_module": "@jupyter-widgets/base",
            "_view_module_version": "1.2.0",
            "_view_name": "LayoutView",
            "align_content": null,
            "align_items": null,
            "align_self": null,
            "border": null,
            "bottom": null,
            "display": null,
            "flex": null,
            "flex_flow": null,
            "grid_area": null,
            "grid_auto_columns": null,
            "grid_auto_flow": null,
            "grid_auto_rows": null,
            "grid_column": null,
            "grid_gap": null,
            "grid_row": null,
            "grid_template_areas": null,
            "grid_template_columns": null,
            "grid_template_rows": null,
            "height": null,
            "justify_content": null,
            "justify_items": null,
            "left": null,
            "margin": null,
            "max_height": null,
            "max_width": null,
            "min_height": null,
            "min_width": null,
            "object_fit": null,
            "object_position": null,
            "order": null,
            "overflow": null,
            "overflow_x": null,
            "overflow_y": null,
            "padding": null,
            "right": null,
            "top": null,
            "visibility": null,
            "width": null
          }
        },
        "b3be994f219b4e30b0668b947cea3441": {
          "model_module": "@jupyter-widgets/base",
          "model_name": "LayoutModel",
          "model_module_version": "1.2.0",
          "state": {
            "_model_module": "@jupyter-widgets/base",
            "_model_module_version": "1.2.0",
            "_model_name": "LayoutModel",
            "_view_count": null,
            "_view_module": "@jupyter-widgets/base",
            "_view_module_version": "1.2.0",
            "_view_name": "LayoutView",
            "align_content": null,
            "align_items": null,
            "align_self": null,
            "border": null,
            "bottom": null,
            "display": null,
            "flex": null,
            "flex_flow": null,
            "grid_area": null,
            "grid_auto_columns": null,
            "grid_auto_flow": null,
            "grid_auto_rows": null,
            "grid_column": null,
            "grid_gap": null,
            "grid_row": null,
            "grid_template_areas": null,
            "grid_template_columns": null,
            "grid_template_rows": null,
            "height": null,
            "justify_content": null,
            "justify_items": null,
            "left": null,
            "margin": null,
            "max_height": null,
            "max_width": null,
            "min_height": null,
            "min_width": null,
            "object_fit": null,
            "object_position": null,
            "order": null,
            "overflow": null,
            "overflow_x": null,
            "overflow_y": null,
            "padding": null,
            "right": null,
            "top": null,
            "visibility": null,
            "width": null
          }
        },
        "b1c22f4bf4544456906951a6d840b226": {
          "model_module": "@jupyter-widgets/controls",
          "model_name": "DescriptionStyleModel",
          "model_module_version": "1.5.0",
          "state": {
            "_model_module": "@jupyter-widgets/controls",
            "_model_module_version": "1.5.0",
            "_model_name": "DescriptionStyleModel",
            "_view_count": null,
            "_view_module": "@jupyter-widgets/base",
            "_view_module_version": "1.2.0",
            "_view_name": "StyleView",
            "description_width": ""
          }
        },
        "678d9126bda848038409bcdba0ff5054": {
          "model_module": "@jupyter-widgets/base",
          "model_name": "LayoutModel",
          "model_module_version": "1.2.0",
          "state": {
            "_model_module": "@jupyter-widgets/base",
            "_model_module_version": "1.2.0",
            "_model_name": "LayoutModel",
            "_view_count": null,
            "_view_module": "@jupyter-widgets/base",
            "_view_module_version": "1.2.0",
            "_view_name": "LayoutView",
            "align_content": null,
            "align_items": null,
            "align_self": null,
            "border": null,
            "bottom": null,
            "display": null,
            "flex": null,
            "flex_flow": null,
            "grid_area": null,
            "grid_auto_columns": null,
            "grid_auto_flow": null,
            "grid_auto_rows": null,
            "grid_column": null,
            "grid_gap": null,
            "grid_row": null,
            "grid_template_areas": null,
            "grid_template_columns": null,
            "grid_template_rows": null,
            "height": null,
            "justify_content": null,
            "justify_items": null,
            "left": null,
            "margin": null,
            "max_height": null,
            "max_width": null,
            "min_height": null,
            "min_width": null,
            "object_fit": null,
            "object_position": null,
            "order": null,
            "overflow": null,
            "overflow_x": null,
            "overflow_y": null,
            "padding": null,
            "right": null,
            "top": null,
            "visibility": null,
            "width": null
          }
        },
        "a9d4b2b31f6a4d11b4a94bb0fa495f5b": {
          "model_module": "@jupyter-widgets/controls",
          "model_name": "ProgressStyleModel",
          "model_module_version": "1.5.0",
          "state": {
            "_model_module": "@jupyter-widgets/controls",
            "_model_module_version": "1.5.0",
            "_model_name": "ProgressStyleModel",
            "_view_count": null,
            "_view_module": "@jupyter-widgets/base",
            "_view_module_version": "1.2.0",
            "_view_name": "StyleView",
            "bar_color": null,
            "description_width": ""
          }
        },
        "b99db5bb36c74cafab59771bf44b6d22": {
          "model_module": "@jupyter-widgets/controls",
          "model_name": "VBoxModel",
          "model_module_version": "1.5.0",
          "state": {
            "_dom_classes": [],
            "_model_module": "@jupyter-widgets/controls",
            "_model_module_version": "1.5.0",
            "_model_name": "VBoxModel",
            "_view_count": null,
            "_view_module": "@jupyter-widgets/controls",
            "_view_module_version": "1.5.0",
            "_view_name": "VBoxView",
            "box_style": "",
            "children": [
              "IPY_MODEL_67008a1f9ce84797a05325a7c20c047d",
              "IPY_MODEL_4bacb0e7b7a148589e860ff9d805c467"
            ],
            "layout": "IPY_MODEL_414d15606b96419490c3a504d828c909"
          }
        },
        "67008a1f9ce84797a05325a7c20c047d": {
          "model_module": "@jupyter-widgets/controls",
          "model_name": "LabelModel",
          "model_module_version": "1.5.0",
          "state": {
            "_dom_classes": [],
            "_model_module": "@jupyter-widgets/controls",
            "_model_module_version": "1.5.0",
            "_model_name": "LabelModel",
            "_view_count": null,
            "_view_module": "@jupyter-widgets/controls",
            "_view_module_version": "1.5.0",
            "_view_name": "LabelView",
            "description": "",
            "description_tooltip": null,
            "layout": "IPY_MODEL_59617c3f45794ac0a51aa394c749aa15",
            "placeholder": "​",
            "style": "IPY_MODEL_99d1c190682e42448b918131f6714040",
            "value": "0.011 MB of 0.011 MB uploaded\r"
          }
        },
        "4bacb0e7b7a148589e860ff9d805c467": {
          "model_module": "@jupyter-widgets/controls",
          "model_name": "FloatProgressModel",
          "model_module_version": "1.5.0",
          "state": {
            "_dom_classes": [],
            "_model_module": "@jupyter-widgets/controls",
            "_model_module_version": "1.5.0",
            "_model_name": "FloatProgressModel",
            "_view_count": null,
            "_view_module": "@jupyter-widgets/controls",
            "_view_module_version": "1.5.0",
            "_view_name": "ProgressView",
            "bar_style": "",
            "description": "",
            "description_tooltip": null,
            "layout": "IPY_MODEL_a46ee49a19194037b01d716195202005",
            "max": 1,
            "min": 0,
            "orientation": "horizontal",
            "style": "IPY_MODEL_49aa54fd625a435d823bee15cf2d5ad2",
            "value": 1
          }
        },
        "414d15606b96419490c3a504d828c909": {
          "model_module": "@jupyter-widgets/base",
          "model_name": "LayoutModel",
          "model_module_version": "1.2.0",
          "state": {
            "_model_module": "@jupyter-widgets/base",
            "_model_module_version": "1.2.0",
            "_model_name": "LayoutModel",
            "_view_count": null,
            "_view_module": "@jupyter-widgets/base",
            "_view_module_version": "1.2.0",
            "_view_name": "LayoutView",
            "align_content": null,
            "align_items": null,
            "align_self": null,
            "border": null,
            "bottom": null,
            "display": null,
            "flex": null,
            "flex_flow": null,
            "grid_area": null,
            "grid_auto_columns": null,
            "grid_auto_flow": null,
            "grid_auto_rows": null,
            "grid_column": null,
            "grid_gap": null,
            "grid_row": null,
            "grid_template_areas": null,
            "grid_template_columns": null,
            "grid_template_rows": null,
            "height": null,
            "justify_content": null,
            "justify_items": null,
            "left": null,
            "margin": null,
            "max_height": null,
            "max_width": null,
            "min_height": null,
            "min_width": null,
            "object_fit": null,
            "object_position": null,
            "order": null,
            "overflow": null,
            "overflow_x": null,
            "overflow_y": null,
            "padding": null,
            "right": null,
            "top": null,
            "visibility": null,
            "width": null
          }
        },
        "59617c3f45794ac0a51aa394c749aa15": {
          "model_module": "@jupyter-widgets/base",
          "model_name": "LayoutModel",
          "model_module_version": "1.2.0",
          "state": {
            "_model_module": "@jupyter-widgets/base",
            "_model_module_version": "1.2.0",
            "_model_name": "LayoutModel",
            "_view_count": null,
            "_view_module": "@jupyter-widgets/base",
            "_view_module_version": "1.2.0",
            "_view_name": "LayoutView",
            "align_content": null,
            "align_items": null,
            "align_self": null,
            "border": null,
            "bottom": null,
            "display": null,
            "flex": null,
            "flex_flow": null,
            "grid_area": null,
            "grid_auto_columns": null,
            "grid_auto_flow": null,
            "grid_auto_rows": null,
            "grid_column": null,
            "grid_gap": null,
            "grid_row": null,
            "grid_template_areas": null,
            "grid_template_columns": null,
            "grid_template_rows": null,
            "height": null,
            "justify_content": null,
            "justify_items": null,
            "left": null,
            "margin": null,
            "max_height": null,
            "max_width": null,
            "min_height": null,
            "min_width": null,
            "object_fit": null,
            "object_position": null,
            "order": null,
            "overflow": null,
            "overflow_x": null,
            "overflow_y": null,
            "padding": null,
            "right": null,
            "top": null,
            "visibility": null,
            "width": null
          }
        },
        "99d1c190682e42448b918131f6714040": {
          "model_module": "@jupyter-widgets/controls",
          "model_name": "DescriptionStyleModel",
          "model_module_version": "1.5.0",
          "state": {
            "_model_module": "@jupyter-widgets/controls",
            "_model_module_version": "1.5.0",
            "_model_name": "DescriptionStyleModel",
            "_view_count": null,
            "_view_module": "@jupyter-widgets/base",
            "_view_module_version": "1.2.0",
            "_view_name": "StyleView",
            "description_width": ""
          }
        },
        "a46ee49a19194037b01d716195202005": {
          "model_module": "@jupyter-widgets/base",
          "model_name": "LayoutModel",
          "model_module_version": "1.2.0",
          "state": {
            "_model_module": "@jupyter-widgets/base",
            "_model_module_version": "1.2.0",
            "_model_name": "LayoutModel",
            "_view_count": null,
            "_view_module": "@jupyter-widgets/base",
            "_view_module_version": "1.2.0",
            "_view_name": "LayoutView",
            "align_content": null,
            "align_items": null,
            "align_self": null,
            "border": null,
            "bottom": null,
            "display": null,
            "flex": null,
            "flex_flow": null,
            "grid_area": null,
            "grid_auto_columns": null,
            "grid_auto_flow": null,
            "grid_auto_rows": null,
            "grid_column": null,
            "grid_gap": null,
            "grid_row": null,
            "grid_template_areas": null,
            "grid_template_columns": null,
            "grid_template_rows": null,
            "height": null,
            "justify_content": null,
            "justify_items": null,
            "left": null,
            "margin": null,
            "max_height": null,
            "max_width": null,
            "min_height": null,
            "min_width": null,
            "object_fit": null,
            "object_position": null,
            "order": null,
            "overflow": null,
            "overflow_x": null,
            "overflow_y": null,
            "padding": null,
            "right": null,
            "top": null,
            "visibility": null,
            "width": null
          }
        },
        "49aa54fd625a435d823bee15cf2d5ad2": {
          "model_module": "@jupyter-widgets/controls",
          "model_name": "ProgressStyleModel",
          "model_module_version": "1.5.0",
          "state": {
            "_model_module": "@jupyter-widgets/controls",
            "_model_module_version": "1.5.0",
            "_model_name": "ProgressStyleModel",
            "_view_count": null,
            "_view_module": "@jupyter-widgets/base",
            "_view_module_version": "1.2.0",
            "_view_name": "StyleView",
            "bar_color": null,
            "description_width": ""
          }
        },
        "0a8cc6219ea04772977209a62b0e2dd6": {
          "model_module": "@jupyter-widgets/controls",
          "model_name": "VBoxModel",
          "model_module_version": "1.5.0",
          "state": {
            "_dom_classes": [],
            "_model_module": "@jupyter-widgets/controls",
            "_model_module_version": "1.5.0",
            "_model_name": "VBoxModel",
            "_view_count": null,
            "_view_module": "@jupyter-widgets/controls",
            "_view_module_version": "1.5.0",
            "_view_name": "VBoxView",
            "box_style": "",
            "children": [
              "IPY_MODEL_e86f33fdbcd441e788b9d5ca10f1e49a",
              "IPY_MODEL_8ae6cce614604258b64ca03a45fc1d3f"
            ],
            "layout": "IPY_MODEL_87d63b19221b438d9c28fce1b5bb1dca"
          }
        },
        "e86f33fdbcd441e788b9d5ca10f1e49a": {
          "model_module": "@jupyter-widgets/controls",
          "model_name": "LabelModel",
          "model_module_version": "1.5.0",
          "state": {
            "_dom_classes": [],
            "_model_module": "@jupyter-widgets/controls",
            "_model_module_version": "1.5.0",
            "_model_name": "LabelModel",
            "_view_count": null,
            "_view_module": "@jupyter-widgets/controls",
            "_view_module_version": "1.5.0",
            "_view_name": "LabelView",
            "description": "",
            "description_tooltip": null,
            "layout": "IPY_MODEL_ba358197ae5249b195137488899d2697",
            "placeholder": "​",
            "style": "IPY_MODEL_3af6244dc5c34d4c9ef50769a35ca0a3",
            "value": "0.011 MB of 0.011 MB uploaded\r"
          }
        },
        "8ae6cce614604258b64ca03a45fc1d3f": {
          "model_module": "@jupyter-widgets/controls",
          "model_name": "FloatProgressModel",
          "model_module_version": "1.5.0",
          "state": {
            "_dom_classes": [],
            "_model_module": "@jupyter-widgets/controls",
            "_model_module_version": "1.5.0",
            "_model_name": "FloatProgressModel",
            "_view_count": null,
            "_view_module": "@jupyter-widgets/controls",
            "_view_module_version": "1.5.0",
            "_view_name": "ProgressView",
            "bar_style": "",
            "description": "",
            "description_tooltip": null,
            "layout": "IPY_MODEL_bc254231295b4ddfb9eb66ddf52d77d7",
            "max": 1,
            "min": 0,
            "orientation": "horizontal",
            "style": "IPY_MODEL_ffa0e321a1fc464790927df5fe249389",
            "value": 1
          }
        },
        "87d63b19221b438d9c28fce1b5bb1dca": {
          "model_module": "@jupyter-widgets/base",
          "model_name": "LayoutModel",
          "model_module_version": "1.2.0",
          "state": {
            "_model_module": "@jupyter-widgets/base",
            "_model_module_version": "1.2.0",
            "_model_name": "LayoutModel",
            "_view_count": null,
            "_view_module": "@jupyter-widgets/base",
            "_view_module_version": "1.2.0",
            "_view_name": "LayoutView",
            "align_content": null,
            "align_items": null,
            "align_self": null,
            "border": null,
            "bottom": null,
            "display": null,
            "flex": null,
            "flex_flow": null,
            "grid_area": null,
            "grid_auto_columns": null,
            "grid_auto_flow": null,
            "grid_auto_rows": null,
            "grid_column": null,
            "grid_gap": null,
            "grid_row": null,
            "grid_template_areas": null,
            "grid_template_columns": null,
            "grid_template_rows": null,
            "height": null,
            "justify_content": null,
            "justify_items": null,
            "left": null,
            "margin": null,
            "max_height": null,
            "max_width": null,
            "min_height": null,
            "min_width": null,
            "object_fit": null,
            "object_position": null,
            "order": null,
            "overflow": null,
            "overflow_x": null,
            "overflow_y": null,
            "padding": null,
            "right": null,
            "top": null,
            "visibility": null,
            "width": null
          }
        },
        "ba358197ae5249b195137488899d2697": {
          "model_module": "@jupyter-widgets/base",
          "model_name": "LayoutModel",
          "model_module_version": "1.2.0",
          "state": {
            "_model_module": "@jupyter-widgets/base",
            "_model_module_version": "1.2.0",
            "_model_name": "LayoutModel",
            "_view_count": null,
            "_view_module": "@jupyter-widgets/base",
            "_view_module_version": "1.2.0",
            "_view_name": "LayoutView",
            "align_content": null,
            "align_items": null,
            "align_self": null,
            "border": null,
            "bottom": null,
            "display": null,
            "flex": null,
            "flex_flow": null,
            "grid_area": null,
            "grid_auto_columns": null,
            "grid_auto_flow": null,
            "grid_auto_rows": null,
            "grid_column": null,
            "grid_gap": null,
            "grid_row": null,
            "grid_template_areas": null,
            "grid_template_columns": null,
            "grid_template_rows": null,
            "height": null,
            "justify_content": null,
            "justify_items": null,
            "left": null,
            "margin": null,
            "max_height": null,
            "max_width": null,
            "min_height": null,
            "min_width": null,
            "object_fit": null,
            "object_position": null,
            "order": null,
            "overflow": null,
            "overflow_x": null,
            "overflow_y": null,
            "padding": null,
            "right": null,
            "top": null,
            "visibility": null,
            "width": null
          }
        },
        "3af6244dc5c34d4c9ef50769a35ca0a3": {
          "model_module": "@jupyter-widgets/controls",
          "model_name": "DescriptionStyleModel",
          "model_module_version": "1.5.0",
          "state": {
            "_model_module": "@jupyter-widgets/controls",
            "_model_module_version": "1.5.0",
            "_model_name": "DescriptionStyleModel",
            "_view_count": null,
            "_view_module": "@jupyter-widgets/base",
            "_view_module_version": "1.2.0",
            "_view_name": "StyleView",
            "description_width": ""
          }
        },
        "bc254231295b4ddfb9eb66ddf52d77d7": {
          "model_module": "@jupyter-widgets/base",
          "model_name": "LayoutModel",
          "model_module_version": "1.2.0",
          "state": {
            "_model_module": "@jupyter-widgets/base",
            "_model_module_version": "1.2.0",
            "_model_name": "LayoutModel",
            "_view_count": null,
            "_view_module": "@jupyter-widgets/base",
            "_view_module_version": "1.2.0",
            "_view_name": "LayoutView",
            "align_content": null,
            "align_items": null,
            "align_self": null,
            "border": null,
            "bottom": null,
            "display": null,
            "flex": null,
            "flex_flow": null,
            "grid_area": null,
            "grid_auto_columns": null,
            "grid_auto_flow": null,
            "grid_auto_rows": null,
            "grid_column": null,
            "grid_gap": null,
            "grid_row": null,
            "grid_template_areas": null,
            "grid_template_columns": null,
            "grid_template_rows": null,
            "height": null,
            "justify_content": null,
            "justify_items": null,
            "left": null,
            "margin": null,
            "max_height": null,
            "max_width": null,
            "min_height": null,
            "min_width": null,
            "object_fit": null,
            "object_position": null,
            "order": null,
            "overflow": null,
            "overflow_x": null,
            "overflow_y": null,
            "padding": null,
            "right": null,
            "top": null,
            "visibility": null,
            "width": null
          }
        },
        "ffa0e321a1fc464790927df5fe249389": {
          "model_module": "@jupyter-widgets/controls",
          "model_name": "ProgressStyleModel",
          "model_module_version": "1.5.0",
          "state": {
            "_model_module": "@jupyter-widgets/controls",
            "_model_module_version": "1.5.0",
            "_model_name": "ProgressStyleModel",
            "_view_count": null,
            "_view_module": "@jupyter-widgets/base",
            "_view_module_version": "1.2.0",
            "_view_name": "StyleView",
            "bar_color": null,
            "description_width": ""
          }
        },
        "ff8b54c634d24629a2738b1789e10b8b": {
          "model_module": "@jupyter-widgets/controls",
          "model_name": "VBoxModel",
          "model_module_version": "1.5.0",
          "state": {
            "_dom_classes": [],
            "_model_module": "@jupyter-widgets/controls",
            "_model_module_version": "1.5.0",
            "_model_name": "VBoxModel",
            "_view_count": null,
            "_view_module": "@jupyter-widgets/controls",
            "_view_module_version": "1.5.0",
            "_view_name": "VBoxView",
            "box_style": "",
            "children": [
              "IPY_MODEL_fe0b990d6b864b779b301bd31c36e06d",
              "IPY_MODEL_98a04c0ccf0a4f17aa2869de08082b9d"
            ],
            "layout": "IPY_MODEL_c15d777841274cbb8238992b1f11b020"
          }
        },
        "fe0b990d6b864b779b301bd31c36e06d": {
          "model_module": "@jupyter-widgets/controls",
          "model_name": "LabelModel",
          "model_module_version": "1.5.0",
          "state": {
            "_dom_classes": [],
            "_model_module": "@jupyter-widgets/controls",
            "_model_module_version": "1.5.0",
            "_model_name": "LabelModel",
            "_view_count": null,
            "_view_module": "@jupyter-widgets/controls",
            "_view_module_version": "1.5.0",
            "_view_name": "LabelView",
            "description": "",
            "description_tooltip": null,
            "layout": "IPY_MODEL_6da1500a1b9d4363b12c3205289ef26c",
            "placeholder": "​",
            "style": "IPY_MODEL_01622864da8b46b8a5073488e92b32aa",
            "value": "0.011 MB of 0.011 MB uploaded\r"
          }
        },
        "98a04c0ccf0a4f17aa2869de08082b9d": {
          "model_module": "@jupyter-widgets/controls",
          "model_name": "FloatProgressModel",
          "model_module_version": "1.5.0",
          "state": {
            "_dom_classes": [],
            "_model_module": "@jupyter-widgets/controls",
            "_model_module_version": "1.5.0",
            "_model_name": "FloatProgressModel",
            "_view_count": null,
            "_view_module": "@jupyter-widgets/controls",
            "_view_module_version": "1.5.0",
            "_view_name": "ProgressView",
            "bar_style": "",
            "description": "",
            "description_tooltip": null,
            "layout": "IPY_MODEL_1284d68b267945569b95483bb8d28be8",
            "max": 1,
            "min": 0,
            "orientation": "horizontal",
            "style": "IPY_MODEL_ac61d75326bd4d128d191a66104daf7b",
            "value": 1
          }
        },
        "c15d777841274cbb8238992b1f11b020": {
          "model_module": "@jupyter-widgets/base",
          "model_name": "LayoutModel",
          "model_module_version": "1.2.0",
          "state": {
            "_model_module": "@jupyter-widgets/base",
            "_model_module_version": "1.2.0",
            "_model_name": "LayoutModel",
            "_view_count": null,
            "_view_module": "@jupyter-widgets/base",
            "_view_module_version": "1.2.0",
            "_view_name": "LayoutView",
            "align_content": null,
            "align_items": null,
            "align_self": null,
            "border": null,
            "bottom": null,
            "display": null,
            "flex": null,
            "flex_flow": null,
            "grid_area": null,
            "grid_auto_columns": null,
            "grid_auto_flow": null,
            "grid_auto_rows": null,
            "grid_column": null,
            "grid_gap": null,
            "grid_row": null,
            "grid_template_areas": null,
            "grid_template_columns": null,
            "grid_template_rows": null,
            "height": null,
            "justify_content": null,
            "justify_items": null,
            "left": null,
            "margin": null,
            "max_height": null,
            "max_width": null,
            "min_height": null,
            "min_width": null,
            "object_fit": null,
            "object_position": null,
            "order": null,
            "overflow": null,
            "overflow_x": null,
            "overflow_y": null,
            "padding": null,
            "right": null,
            "top": null,
            "visibility": null,
            "width": null
          }
        },
        "6da1500a1b9d4363b12c3205289ef26c": {
          "model_module": "@jupyter-widgets/base",
          "model_name": "LayoutModel",
          "model_module_version": "1.2.0",
          "state": {
            "_model_module": "@jupyter-widgets/base",
            "_model_module_version": "1.2.0",
            "_model_name": "LayoutModel",
            "_view_count": null,
            "_view_module": "@jupyter-widgets/base",
            "_view_module_version": "1.2.0",
            "_view_name": "LayoutView",
            "align_content": null,
            "align_items": null,
            "align_self": null,
            "border": null,
            "bottom": null,
            "display": null,
            "flex": null,
            "flex_flow": null,
            "grid_area": null,
            "grid_auto_columns": null,
            "grid_auto_flow": null,
            "grid_auto_rows": null,
            "grid_column": null,
            "grid_gap": null,
            "grid_row": null,
            "grid_template_areas": null,
            "grid_template_columns": null,
            "grid_template_rows": null,
            "height": null,
            "justify_content": null,
            "justify_items": null,
            "left": null,
            "margin": null,
            "max_height": null,
            "max_width": null,
            "min_height": null,
            "min_width": null,
            "object_fit": null,
            "object_position": null,
            "order": null,
            "overflow": null,
            "overflow_x": null,
            "overflow_y": null,
            "padding": null,
            "right": null,
            "top": null,
            "visibility": null,
            "width": null
          }
        },
        "01622864da8b46b8a5073488e92b32aa": {
          "model_module": "@jupyter-widgets/controls",
          "model_name": "DescriptionStyleModel",
          "model_module_version": "1.5.0",
          "state": {
            "_model_module": "@jupyter-widgets/controls",
            "_model_module_version": "1.5.0",
            "_model_name": "DescriptionStyleModel",
            "_view_count": null,
            "_view_module": "@jupyter-widgets/base",
            "_view_module_version": "1.2.0",
            "_view_name": "StyleView",
            "description_width": ""
          }
        },
        "1284d68b267945569b95483bb8d28be8": {
          "model_module": "@jupyter-widgets/base",
          "model_name": "LayoutModel",
          "model_module_version": "1.2.0",
          "state": {
            "_model_module": "@jupyter-widgets/base",
            "_model_module_version": "1.2.0",
            "_model_name": "LayoutModel",
            "_view_count": null,
            "_view_module": "@jupyter-widgets/base",
            "_view_module_version": "1.2.0",
            "_view_name": "LayoutView",
            "align_content": null,
            "align_items": null,
            "align_self": null,
            "border": null,
            "bottom": null,
            "display": null,
            "flex": null,
            "flex_flow": null,
            "grid_area": null,
            "grid_auto_columns": null,
            "grid_auto_flow": null,
            "grid_auto_rows": null,
            "grid_column": null,
            "grid_gap": null,
            "grid_row": null,
            "grid_template_areas": null,
            "grid_template_columns": null,
            "grid_template_rows": null,
            "height": null,
            "justify_content": null,
            "justify_items": null,
            "left": null,
            "margin": null,
            "max_height": null,
            "max_width": null,
            "min_height": null,
            "min_width": null,
            "object_fit": null,
            "object_position": null,
            "order": null,
            "overflow": null,
            "overflow_x": null,
            "overflow_y": null,
            "padding": null,
            "right": null,
            "top": null,
            "visibility": null,
            "width": null
          }
        },
        "ac61d75326bd4d128d191a66104daf7b": {
          "model_module": "@jupyter-widgets/controls",
          "model_name": "ProgressStyleModel",
          "model_module_version": "1.5.0",
          "state": {
            "_model_module": "@jupyter-widgets/controls",
            "_model_module_version": "1.5.0",
            "_model_name": "ProgressStyleModel",
            "_view_count": null,
            "_view_module": "@jupyter-widgets/base",
            "_view_module_version": "1.2.0",
            "_view_name": "StyleView",
            "bar_color": null,
            "description_width": ""
          }
        },
        "491364c61f0b41029937cfa3a56c0375": {
          "model_module": "@jupyter-widgets/controls",
          "model_name": "VBoxModel",
          "model_module_version": "1.5.0",
          "state": {
            "_dom_classes": [],
            "_model_module": "@jupyter-widgets/controls",
            "_model_module_version": "1.5.0",
            "_model_name": "VBoxModel",
            "_view_count": null,
            "_view_module": "@jupyter-widgets/controls",
            "_view_module_version": "1.5.0",
            "_view_name": "VBoxView",
            "box_style": "",
            "children": [
              "IPY_MODEL_5d737cf75ca84bb6bacd8302101c136b",
              "IPY_MODEL_de8205b950c34f6c8a8e3132d64caeb8"
            ],
            "layout": "IPY_MODEL_3bab953a78f244af91fdabae3191e3ed"
          }
        },
        "5d737cf75ca84bb6bacd8302101c136b": {
          "model_module": "@jupyter-widgets/controls",
          "model_name": "LabelModel",
          "model_module_version": "1.5.0",
          "state": {
            "_dom_classes": [],
            "_model_module": "@jupyter-widgets/controls",
            "_model_module_version": "1.5.0",
            "_model_name": "LabelModel",
            "_view_count": null,
            "_view_module": "@jupyter-widgets/controls",
            "_view_module_version": "1.5.0",
            "_view_name": "LabelView",
            "description": "",
            "description_tooltip": null,
            "layout": "IPY_MODEL_54cc664e8c56475cb0df827748aaba9e",
            "placeholder": "​",
            "style": "IPY_MODEL_ceb3f2a599fd42a4adb3da6754538a28",
            "value": "0.011 MB of 0.011 MB uploaded\r"
          }
        },
        "de8205b950c34f6c8a8e3132d64caeb8": {
          "model_module": "@jupyter-widgets/controls",
          "model_name": "FloatProgressModel",
          "model_module_version": "1.5.0",
          "state": {
            "_dom_classes": [],
            "_model_module": "@jupyter-widgets/controls",
            "_model_module_version": "1.5.0",
            "_model_name": "FloatProgressModel",
            "_view_count": null,
            "_view_module": "@jupyter-widgets/controls",
            "_view_module_version": "1.5.0",
            "_view_name": "ProgressView",
            "bar_style": "",
            "description": "",
            "description_tooltip": null,
            "layout": "IPY_MODEL_9ef20109c9d44625a45c2121175b5b3a",
            "max": 1,
            "min": 0,
            "orientation": "horizontal",
            "style": "IPY_MODEL_288bd91e1eb34bfabb33942a29be24bb",
            "value": 1
          }
        },
        "3bab953a78f244af91fdabae3191e3ed": {
          "model_module": "@jupyter-widgets/base",
          "model_name": "LayoutModel",
          "model_module_version": "1.2.0",
          "state": {
            "_model_module": "@jupyter-widgets/base",
            "_model_module_version": "1.2.0",
            "_model_name": "LayoutModel",
            "_view_count": null,
            "_view_module": "@jupyter-widgets/base",
            "_view_module_version": "1.2.0",
            "_view_name": "LayoutView",
            "align_content": null,
            "align_items": null,
            "align_self": null,
            "border": null,
            "bottom": null,
            "display": null,
            "flex": null,
            "flex_flow": null,
            "grid_area": null,
            "grid_auto_columns": null,
            "grid_auto_flow": null,
            "grid_auto_rows": null,
            "grid_column": null,
            "grid_gap": null,
            "grid_row": null,
            "grid_template_areas": null,
            "grid_template_columns": null,
            "grid_template_rows": null,
            "height": null,
            "justify_content": null,
            "justify_items": null,
            "left": null,
            "margin": null,
            "max_height": null,
            "max_width": null,
            "min_height": null,
            "min_width": null,
            "object_fit": null,
            "object_position": null,
            "order": null,
            "overflow": null,
            "overflow_x": null,
            "overflow_y": null,
            "padding": null,
            "right": null,
            "top": null,
            "visibility": null,
            "width": null
          }
        },
        "54cc664e8c56475cb0df827748aaba9e": {
          "model_module": "@jupyter-widgets/base",
          "model_name": "LayoutModel",
          "model_module_version": "1.2.0",
          "state": {
            "_model_module": "@jupyter-widgets/base",
            "_model_module_version": "1.2.0",
            "_model_name": "LayoutModel",
            "_view_count": null,
            "_view_module": "@jupyter-widgets/base",
            "_view_module_version": "1.2.0",
            "_view_name": "LayoutView",
            "align_content": null,
            "align_items": null,
            "align_self": null,
            "border": null,
            "bottom": null,
            "display": null,
            "flex": null,
            "flex_flow": null,
            "grid_area": null,
            "grid_auto_columns": null,
            "grid_auto_flow": null,
            "grid_auto_rows": null,
            "grid_column": null,
            "grid_gap": null,
            "grid_row": null,
            "grid_template_areas": null,
            "grid_template_columns": null,
            "grid_template_rows": null,
            "height": null,
            "justify_content": null,
            "justify_items": null,
            "left": null,
            "margin": null,
            "max_height": null,
            "max_width": null,
            "min_height": null,
            "min_width": null,
            "object_fit": null,
            "object_position": null,
            "order": null,
            "overflow": null,
            "overflow_x": null,
            "overflow_y": null,
            "padding": null,
            "right": null,
            "top": null,
            "visibility": null,
            "width": null
          }
        },
        "ceb3f2a599fd42a4adb3da6754538a28": {
          "model_module": "@jupyter-widgets/controls",
          "model_name": "DescriptionStyleModel",
          "model_module_version": "1.5.0",
          "state": {
            "_model_module": "@jupyter-widgets/controls",
            "_model_module_version": "1.5.0",
            "_model_name": "DescriptionStyleModel",
            "_view_count": null,
            "_view_module": "@jupyter-widgets/base",
            "_view_module_version": "1.2.0",
            "_view_name": "StyleView",
            "description_width": ""
          }
        },
        "9ef20109c9d44625a45c2121175b5b3a": {
          "model_module": "@jupyter-widgets/base",
          "model_name": "LayoutModel",
          "model_module_version": "1.2.0",
          "state": {
            "_model_module": "@jupyter-widgets/base",
            "_model_module_version": "1.2.0",
            "_model_name": "LayoutModel",
            "_view_count": null,
            "_view_module": "@jupyter-widgets/base",
            "_view_module_version": "1.2.0",
            "_view_name": "LayoutView",
            "align_content": null,
            "align_items": null,
            "align_self": null,
            "border": null,
            "bottom": null,
            "display": null,
            "flex": null,
            "flex_flow": null,
            "grid_area": null,
            "grid_auto_columns": null,
            "grid_auto_flow": null,
            "grid_auto_rows": null,
            "grid_column": null,
            "grid_gap": null,
            "grid_row": null,
            "grid_template_areas": null,
            "grid_template_columns": null,
            "grid_template_rows": null,
            "height": null,
            "justify_content": null,
            "justify_items": null,
            "left": null,
            "margin": null,
            "max_height": null,
            "max_width": null,
            "min_height": null,
            "min_width": null,
            "object_fit": null,
            "object_position": null,
            "order": null,
            "overflow": null,
            "overflow_x": null,
            "overflow_y": null,
            "padding": null,
            "right": null,
            "top": null,
            "visibility": null,
            "width": null
          }
        },
        "288bd91e1eb34bfabb33942a29be24bb": {
          "model_module": "@jupyter-widgets/controls",
          "model_name": "ProgressStyleModel",
          "model_module_version": "1.5.0",
          "state": {
            "_model_module": "@jupyter-widgets/controls",
            "_model_module_version": "1.5.0",
            "_model_name": "ProgressStyleModel",
            "_view_count": null,
            "_view_module": "@jupyter-widgets/base",
            "_view_module_version": "1.2.0",
            "_view_name": "StyleView",
            "bar_color": null,
            "description_width": ""
          }
        },
        "ebb3abd761384b699ff0adb6907c6015": {
          "model_module": "@jupyter-widgets/controls",
          "model_name": "VBoxModel",
          "model_module_version": "1.5.0",
          "state": {
            "_dom_classes": [],
            "_model_module": "@jupyter-widgets/controls",
            "_model_module_version": "1.5.0",
            "_model_name": "VBoxModel",
            "_view_count": null,
            "_view_module": "@jupyter-widgets/controls",
            "_view_module_version": "1.5.0",
            "_view_name": "VBoxView",
            "box_style": "",
            "children": [
              "IPY_MODEL_3ca2464a1bcf46b3b34420a742a9d395",
              "IPY_MODEL_5335fd57752149618066b46f06023d39"
            ],
            "layout": "IPY_MODEL_7ae16e026d784a2488f8c17ed148711c"
          }
        },
        "3ca2464a1bcf46b3b34420a742a9d395": {
          "model_module": "@jupyter-widgets/controls",
          "model_name": "LabelModel",
          "model_module_version": "1.5.0",
          "state": {
            "_dom_classes": [],
            "_model_module": "@jupyter-widgets/controls",
            "_model_module_version": "1.5.0",
            "_model_name": "LabelModel",
            "_view_count": null,
            "_view_module": "@jupyter-widgets/controls",
            "_view_module_version": "1.5.0",
            "_view_name": "LabelView",
            "description": "",
            "description_tooltip": null,
            "layout": "IPY_MODEL_f8ef69912f00418191aaa5259f81aa0b",
            "placeholder": "​",
            "style": "IPY_MODEL_41f7ed273e0947228d1849fa2f3d9047",
            "value": "0.011 MB of 0.011 MB uploaded\r"
          }
        },
        "5335fd57752149618066b46f06023d39": {
          "model_module": "@jupyter-widgets/controls",
          "model_name": "FloatProgressModel",
          "model_module_version": "1.5.0",
          "state": {
            "_dom_classes": [],
            "_model_module": "@jupyter-widgets/controls",
            "_model_module_version": "1.5.0",
            "_model_name": "FloatProgressModel",
            "_view_count": null,
            "_view_module": "@jupyter-widgets/controls",
            "_view_module_version": "1.5.0",
            "_view_name": "ProgressView",
            "bar_style": "",
            "description": "",
            "description_tooltip": null,
            "layout": "IPY_MODEL_f53c42848cac4781b4d6e4c8f200e16a",
            "max": 1,
            "min": 0,
            "orientation": "horizontal",
            "style": "IPY_MODEL_9a064aabf72b4efda4d479297f391d16",
            "value": 1
          }
        },
        "7ae16e026d784a2488f8c17ed148711c": {
          "model_module": "@jupyter-widgets/base",
          "model_name": "LayoutModel",
          "model_module_version": "1.2.0",
          "state": {
            "_model_module": "@jupyter-widgets/base",
            "_model_module_version": "1.2.0",
            "_model_name": "LayoutModel",
            "_view_count": null,
            "_view_module": "@jupyter-widgets/base",
            "_view_module_version": "1.2.0",
            "_view_name": "LayoutView",
            "align_content": null,
            "align_items": null,
            "align_self": null,
            "border": null,
            "bottom": null,
            "display": null,
            "flex": null,
            "flex_flow": null,
            "grid_area": null,
            "grid_auto_columns": null,
            "grid_auto_flow": null,
            "grid_auto_rows": null,
            "grid_column": null,
            "grid_gap": null,
            "grid_row": null,
            "grid_template_areas": null,
            "grid_template_columns": null,
            "grid_template_rows": null,
            "height": null,
            "justify_content": null,
            "justify_items": null,
            "left": null,
            "margin": null,
            "max_height": null,
            "max_width": null,
            "min_height": null,
            "min_width": null,
            "object_fit": null,
            "object_position": null,
            "order": null,
            "overflow": null,
            "overflow_x": null,
            "overflow_y": null,
            "padding": null,
            "right": null,
            "top": null,
            "visibility": null,
            "width": null
          }
        },
        "f8ef69912f00418191aaa5259f81aa0b": {
          "model_module": "@jupyter-widgets/base",
          "model_name": "LayoutModel",
          "model_module_version": "1.2.0",
          "state": {
            "_model_module": "@jupyter-widgets/base",
            "_model_module_version": "1.2.0",
            "_model_name": "LayoutModel",
            "_view_count": null,
            "_view_module": "@jupyter-widgets/base",
            "_view_module_version": "1.2.0",
            "_view_name": "LayoutView",
            "align_content": null,
            "align_items": null,
            "align_self": null,
            "border": null,
            "bottom": null,
            "display": null,
            "flex": null,
            "flex_flow": null,
            "grid_area": null,
            "grid_auto_columns": null,
            "grid_auto_flow": null,
            "grid_auto_rows": null,
            "grid_column": null,
            "grid_gap": null,
            "grid_row": null,
            "grid_template_areas": null,
            "grid_template_columns": null,
            "grid_template_rows": null,
            "height": null,
            "justify_content": null,
            "justify_items": null,
            "left": null,
            "margin": null,
            "max_height": null,
            "max_width": null,
            "min_height": null,
            "min_width": null,
            "object_fit": null,
            "object_position": null,
            "order": null,
            "overflow": null,
            "overflow_x": null,
            "overflow_y": null,
            "padding": null,
            "right": null,
            "top": null,
            "visibility": null,
            "width": null
          }
        },
        "41f7ed273e0947228d1849fa2f3d9047": {
          "model_module": "@jupyter-widgets/controls",
          "model_name": "DescriptionStyleModel",
          "model_module_version": "1.5.0",
          "state": {
            "_model_module": "@jupyter-widgets/controls",
            "_model_module_version": "1.5.0",
            "_model_name": "DescriptionStyleModel",
            "_view_count": null,
            "_view_module": "@jupyter-widgets/base",
            "_view_module_version": "1.2.0",
            "_view_name": "StyleView",
            "description_width": ""
          }
        },
        "f53c42848cac4781b4d6e4c8f200e16a": {
          "model_module": "@jupyter-widgets/base",
          "model_name": "LayoutModel",
          "model_module_version": "1.2.0",
          "state": {
            "_model_module": "@jupyter-widgets/base",
            "_model_module_version": "1.2.0",
            "_model_name": "LayoutModel",
            "_view_count": null,
            "_view_module": "@jupyter-widgets/base",
            "_view_module_version": "1.2.0",
            "_view_name": "LayoutView",
            "align_content": null,
            "align_items": null,
            "align_self": null,
            "border": null,
            "bottom": null,
            "display": null,
            "flex": null,
            "flex_flow": null,
            "grid_area": null,
            "grid_auto_columns": null,
            "grid_auto_flow": null,
            "grid_auto_rows": null,
            "grid_column": null,
            "grid_gap": null,
            "grid_row": null,
            "grid_template_areas": null,
            "grid_template_columns": null,
            "grid_template_rows": null,
            "height": null,
            "justify_content": null,
            "justify_items": null,
            "left": null,
            "margin": null,
            "max_height": null,
            "max_width": null,
            "min_height": null,
            "min_width": null,
            "object_fit": null,
            "object_position": null,
            "order": null,
            "overflow": null,
            "overflow_x": null,
            "overflow_y": null,
            "padding": null,
            "right": null,
            "top": null,
            "visibility": null,
            "width": null
          }
        },
        "9a064aabf72b4efda4d479297f391d16": {
          "model_module": "@jupyter-widgets/controls",
          "model_name": "ProgressStyleModel",
          "model_module_version": "1.5.0",
          "state": {
            "_model_module": "@jupyter-widgets/controls",
            "_model_module_version": "1.5.0",
            "_model_name": "ProgressStyleModel",
            "_view_count": null,
            "_view_module": "@jupyter-widgets/base",
            "_view_module_version": "1.2.0",
            "_view_name": "StyleView",
            "bar_color": null,
            "description_width": ""
          }
        },
        "7e74be2b4cb440d9be5ce21c161632f9": {
          "model_module": "@jupyter-widgets/controls",
          "model_name": "VBoxModel",
          "model_module_version": "1.5.0",
          "state": {
            "_dom_classes": [],
            "_model_module": "@jupyter-widgets/controls",
            "_model_module_version": "1.5.0",
            "_model_name": "VBoxModel",
            "_view_count": null,
            "_view_module": "@jupyter-widgets/controls",
            "_view_module_version": "1.5.0",
            "_view_name": "VBoxView",
            "box_style": "",
            "children": [
              "IPY_MODEL_7f87ea61359e49e2a0412064db24049c",
              "IPY_MODEL_a4083b33b8fa42aaa1f410d7074ed25c"
            ],
            "layout": "IPY_MODEL_b495d2eb7f8c4b109d8226648ce984b3"
          }
        },
        "7f87ea61359e49e2a0412064db24049c": {
          "model_module": "@jupyter-widgets/controls",
          "model_name": "LabelModel",
          "model_module_version": "1.5.0",
          "state": {
            "_dom_classes": [],
            "_model_module": "@jupyter-widgets/controls",
            "_model_module_version": "1.5.0",
            "_model_name": "LabelModel",
            "_view_count": null,
            "_view_module": "@jupyter-widgets/controls",
            "_view_module_version": "1.5.0",
            "_view_name": "LabelView",
            "description": "",
            "description_tooltip": null,
            "layout": "IPY_MODEL_494691cc1a024d459ca443550549cc64",
            "placeholder": "​",
            "style": "IPY_MODEL_8444ad9984924abbb5c730a8bc2d5b12",
            "value": "0.011 MB of 0.011 MB uploaded\r"
          }
        },
        "a4083b33b8fa42aaa1f410d7074ed25c": {
          "model_module": "@jupyter-widgets/controls",
          "model_name": "FloatProgressModel",
          "model_module_version": "1.5.0",
          "state": {
            "_dom_classes": [],
            "_model_module": "@jupyter-widgets/controls",
            "_model_module_version": "1.5.0",
            "_model_name": "FloatProgressModel",
            "_view_count": null,
            "_view_module": "@jupyter-widgets/controls",
            "_view_module_version": "1.5.0",
            "_view_name": "ProgressView",
            "bar_style": "",
            "description": "",
            "description_tooltip": null,
            "layout": "IPY_MODEL_4cabda3152b840399d3d8d7a23d59a53",
            "max": 1,
            "min": 0,
            "orientation": "horizontal",
            "style": "IPY_MODEL_e0303795d31745759d4385b215b9c00c",
            "value": 1
          }
        },
        "b495d2eb7f8c4b109d8226648ce984b3": {
          "model_module": "@jupyter-widgets/base",
          "model_name": "LayoutModel",
          "model_module_version": "1.2.0",
          "state": {
            "_model_module": "@jupyter-widgets/base",
            "_model_module_version": "1.2.0",
            "_model_name": "LayoutModel",
            "_view_count": null,
            "_view_module": "@jupyter-widgets/base",
            "_view_module_version": "1.2.0",
            "_view_name": "LayoutView",
            "align_content": null,
            "align_items": null,
            "align_self": null,
            "border": null,
            "bottom": null,
            "display": null,
            "flex": null,
            "flex_flow": null,
            "grid_area": null,
            "grid_auto_columns": null,
            "grid_auto_flow": null,
            "grid_auto_rows": null,
            "grid_column": null,
            "grid_gap": null,
            "grid_row": null,
            "grid_template_areas": null,
            "grid_template_columns": null,
            "grid_template_rows": null,
            "height": null,
            "justify_content": null,
            "justify_items": null,
            "left": null,
            "margin": null,
            "max_height": null,
            "max_width": null,
            "min_height": null,
            "min_width": null,
            "object_fit": null,
            "object_position": null,
            "order": null,
            "overflow": null,
            "overflow_x": null,
            "overflow_y": null,
            "padding": null,
            "right": null,
            "top": null,
            "visibility": null,
            "width": null
          }
        },
        "494691cc1a024d459ca443550549cc64": {
          "model_module": "@jupyter-widgets/base",
          "model_name": "LayoutModel",
          "model_module_version": "1.2.0",
          "state": {
            "_model_module": "@jupyter-widgets/base",
            "_model_module_version": "1.2.0",
            "_model_name": "LayoutModel",
            "_view_count": null,
            "_view_module": "@jupyter-widgets/base",
            "_view_module_version": "1.2.0",
            "_view_name": "LayoutView",
            "align_content": null,
            "align_items": null,
            "align_self": null,
            "border": null,
            "bottom": null,
            "display": null,
            "flex": null,
            "flex_flow": null,
            "grid_area": null,
            "grid_auto_columns": null,
            "grid_auto_flow": null,
            "grid_auto_rows": null,
            "grid_column": null,
            "grid_gap": null,
            "grid_row": null,
            "grid_template_areas": null,
            "grid_template_columns": null,
            "grid_template_rows": null,
            "height": null,
            "justify_content": null,
            "justify_items": null,
            "left": null,
            "margin": null,
            "max_height": null,
            "max_width": null,
            "min_height": null,
            "min_width": null,
            "object_fit": null,
            "object_position": null,
            "order": null,
            "overflow": null,
            "overflow_x": null,
            "overflow_y": null,
            "padding": null,
            "right": null,
            "top": null,
            "visibility": null,
            "width": null
          }
        },
        "8444ad9984924abbb5c730a8bc2d5b12": {
          "model_module": "@jupyter-widgets/controls",
          "model_name": "DescriptionStyleModel",
          "model_module_version": "1.5.0",
          "state": {
            "_model_module": "@jupyter-widgets/controls",
            "_model_module_version": "1.5.0",
            "_model_name": "DescriptionStyleModel",
            "_view_count": null,
            "_view_module": "@jupyter-widgets/base",
            "_view_module_version": "1.2.0",
            "_view_name": "StyleView",
            "description_width": ""
          }
        },
        "4cabda3152b840399d3d8d7a23d59a53": {
          "model_module": "@jupyter-widgets/base",
          "model_name": "LayoutModel",
          "model_module_version": "1.2.0",
          "state": {
            "_model_module": "@jupyter-widgets/base",
            "_model_module_version": "1.2.0",
            "_model_name": "LayoutModel",
            "_view_count": null,
            "_view_module": "@jupyter-widgets/base",
            "_view_module_version": "1.2.0",
            "_view_name": "LayoutView",
            "align_content": null,
            "align_items": null,
            "align_self": null,
            "border": null,
            "bottom": null,
            "display": null,
            "flex": null,
            "flex_flow": null,
            "grid_area": null,
            "grid_auto_columns": null,
            "grid_auto_flow": null,
            "grid_auto_rows": null,
            "grid_column": null,
            "grid_gap": null,
            "grid_row": null,
            "grid_template_areas": null,
            "grid_template_columns": null,
            "grid_template_rows": null,
            "height": null,
            "justify_content": null,
            "justify_items": null,
            "left": null,
            "margin": null,
            "max_height": null,
            "max_width": null,
            "min_height": null,
            "min_width": null,
            "object_fit": null,
            "object_position": null,
            "order": null,
            "overflow": null,
            "overflow_x": null,
            "overflow_y": null,
            "padding": null,
            "right": null,
            "top": null,
            "visibility": null,
            "width": null
          }
        },
        "e0303795d31745759d4385b215b9c00c": {
          "model_module": "@jupyter-widgets/controls",
          "model_name": "ProgressStyleModel",
          "model_module_version": "1.5.0",
          "state": {
            "_model_module": "@jupyter-widgets/controls",
            "_model_module_version": "1.5.0",
            "_model_name": "ProgressStyleModel",
            "_view_count": null,
            "_view_module": "@jupyter-widgets/base",
            "_view_module_version": "1.2.0",
            "_view_name": "StyleView",
            "bar_color": null,
            "description_width": ""
          }
        }
      }
    }
  },
  "cells": [
    {
      "cell_type": "markdown",
      "source": [
        "# **Predicting Sea Surface Temperatures**\n",
        "\n",
        "---\n",
        "\n",
        "Group 4: Bennett Blanco, Jenn Hong, Setu Shah"
      ],
      "metadata": {
        "id": "l6XPrsAid0Qw"
      }
    },
    {
      "cell_type": "markdown",
      "source": [
        "## Data Source\n",
        "\n",
        "---"
      ],
      "metadata": {
        "id": "bKjneyKmBZvk"
      }
    },
    {
      "cell_type": "markdown",
      "source": [
        "**Data Source:** National Oceanic and Atmospheric Administration\n",
        "\n",
        "The ICOADS dataset contains global marine data from ships (merchant, navy, research) and buoys, each capturing details according to the current weather or ocean conditions (wave height, sea temperature, wind speed, and so on). Each record contains the exact location of the observation which is great for visualizations. The historical depth of the data is quite comprehensive — there are records going back to 1662.\n",
        "\n",
        "We picked the most recent year of data with good quality data available, which was 2015. We grouped by month and day and picked average values for all variables due to the large amount of missing values in the dataset.\n",
        "\n",
        "**Access Links:**\n",
        "\n",
        "[International Comprehensive Ocean-Atmosphere Data Set (ICOADS)](https://console.cloud.google.com/marketplace/product/noaa-public/icoads)\n",
        "\n",
        "[2015 Big Query Dataset](bigquery-public-data.noaa_icoads.icoads_core_2015)\n",
        "\n"
      ],
      "metadata": {
        "id": "u4ip1eWU_xlZ"
      }
    },
    {
      "cell_type": "markdown",
      "source": [
        "### **Column Description:**\n",
        "\n",
        "\n",
        "| Column     | Description |\n",
        "| ----------- | ----------- |\n",
        "| month   |   Month of the year when the barometer is read |\n",
        "| day                       | Day of the year when the barometer is read |\n",
        "| timestamp                 | Converted UTC timestamp for the actual time of observation at which the barometer is read |\n",
        "| latitude                 | Position to hundredths of a degree +N or –S and +E or −W |\n",
        "| longitude                 | Position to hundredths of a degree +N or –S and +E or −W |\n",
        "| avg_sea_surface_temp      | Sea Surface Temperature (°C)|\n",
        "| avg_wind_direction_true   | The direction (true) from which wind is blowing (or will blow), stored in whole degrees (range: 1-360°) |\n",
        "| avg_wind_speed            | Wind speed which is stored in tenths of a meter per second |\n",
        "| avg_visibility            | Visibility (horizontal visibility at the surface in kilometers) according to WMO Code 4377 |\n",
        "| avg_sea_level_pressure    | Amount of pressure tendency at station level during the three hours preceding the time of observation in tenths of hPa (i.e., millibars) |\n",
        "| avg_air_temperature       | Air Temperature (°C) |\n",
        "| avg_wetbulb_temperature   | Wetbulb Temperature (°C) |\n",
        "| avg_dewpoint_temperature | Average Dewpoint Temperature (°C) |\n",
        "| avg_total_cloud_amount | Codes 0 to 9 (WMO Code 2700) show the total fraction of the celestial dome covered by clouds |\n",
        "\n",
        "\n",
        "|  InvoiceNo     | 6 digit numbers that are being used to keep track of each invoice being generated at the business      |\n",
        "|  StockCode  | Alphanumeric 5-digit number uniquely assigned to each distinct product|\n",
        "|     Description  |  Product Name     |\n",
        "|       Quantity| The quantities of each product (item) per transaction      |\n",
        "| InvoiceDate      |  The day and time when each transaction was generated     |\n",
        "| UnitPrice      | Product Price Per Unit (in £)   |\n",
        "| CustomerID      | 5-digit integral number uniquely assigned to each customer     |\n",
        "| Country | The name of the country where each customer resides||"
      ],
      "metadata": {
        "id": "pvBxc1Wy93MV"
      }
    },
    {
      "cell_type": "markdown",
      "source": [
        "## Data Preparation\n",
        "\n",
        "---"
      ],
      "metadata": {
        "id": "KfgbtwEHihaN"
      }
    },
    {
      "cell_type": "code",
      "source": [
        "# Download files from Google Drive\n",
        "!gdown 1I9H_vD1lvNgsQ0dK1JA3pRA-uHm7tmVw\n",
        "!gdown 1KBZZbtFqRdr7HuQyncVa9Byw7nobEhcT"
      ],
      "metadata": {
        "colab": {
          "base_uri": "https://localhost:8080/"
        },
        "id": "dCcOmgAZcYqp",
        "outputId": "cb3ac4da-ea73-47e7-b56a-400c11df835c"
      },
      "execution_count": 1,
      "outputs": [
        {
          "output_type": "stream",
          "name": "stdout",
          "text": [
            "Downloading...\n",
            "From: https://drive.google.com/uc?id=1I9H_vD1lvNgsQ0dK1JA3pRA-uHm7tmVw\n",
            "To: /content/Avg_Variables.csv\n",
            "100% 30.0M/30.0M [00:00<00:00, 140MB/s]\n",
            "Downloading...\n",
            "From: https://drive.google.com/uc?id=1KBZZbtFqRdr7HuQyncVa9Byw7nobEhcT\n",
            "To: /content/Average_Sea_Surface_Temps.csv\n",
            "100% 15.6M/15.6M [00:00<00:00, 133MB/s]\n"
          ]
        }
      ]
    },
    {
      "cell_type": "code",
      "execution_count": 2,
      "metadata": {
        "id": "U2u5F6EOGuH1"
      },
      "outputs": [],
      "source": [
        "import numpy as np\n",
        "import pandas as pd\n",
        "\n",
        "# Reading the data\n",
        "sea_temp = pd.read_csv(\"Average_Sea_Surface_Temps.csv\")\n",
        "sea_variables = pd.read_csv(\"Avg_Variables.csv\")"
      ]
    },
    {
      "cell_type": "code",
      "source": [
        "# Data overview\n",
        "sea_temp.info()"
      ],
      "metadata": {
        "colab": {
          "base_uri": "https://localhost:8080/"
        },
        "id": "6NreDEJmOgLh",
        "outputId": "b4c03ea5-e12f-4340-f645-e3730f1b1b2a"
      },
      "execution_count": null,
      "outputs": [
        {
          "output_type": "stream",
          "name": "stdout",
          "text": [
            "<class 'pandas.core.frame.DataFrame'>\n",
            "RangeIndex: 345646 entries, 0 to 345645\n",
            "Data columns (total 4 columns):\n",
            " #   Column                Non-Null Count   Dtype  \n",
            "---  ------                --------------   -----  \n",
            " 0   month                 345646 non-null  int64  \n",
            " 1   day                   345646 non-null  int64  \n",
            " 2   timestamp             345646 non-null  object \n",
            " 3   avg_sea_surface_temp  345646 non-null  float64\n",
            "dtypes: float64(1), int64(2), object(1)\n",
            "memory usage: 10.5+ MB\n"
          ]
        }
      ]
    },
    {
      "cell_type": "code",
      "source": [
        "sea_temp.head(5)"
      ],
      "metadata": {
        "colab": {
          "base_uri": "https://localhost:8080/",
          "height": 206
        },
        "id": "Y7fcLXa-dMSN",
        "outputId": "45d339c8-38d6-4124-a2b8-b6d729c82549"
      },
      "execution_count": null,
      "outputs": [
        {
          "output_type": "execute_result",
          "data": {
            "text/plain": [
              "   month  day                timestamp  avg_sea_surface_temp\n",
              "0      1    1  2015-01-01 00:00:00 UTC             17.304762\n",
              "1      1    1  2015-01-01 00:01:00 UTC             18.765000\n",
              "2      1    1  2015-01-01 00:03:00 UTC             20.312500\n",
              "3      1    1  2015-01-01 00:04:00 UTC             13.773333\n",
              "4      1    1  2015-01-01 00:06:00 UTC             12.241818"
            ],
            "text/html": [
              "\n",
              "  <div id=\"df-848d942c-8ce4-4179-8e99-dc5c315c68b8\" class=\"colab-df-container\">\n",
              "    <div>\n",
              "<style scoped>\n",
              "    .dataframe tbody tr th:only-of-type {\n",
              "        vertical-align: middle;\n",
              "    }\n",
              "\n",
              "    .dataframe tbody tr th {\n",
              "        vertical-align: top;\n",
              "    }\n",
              "\n",
              "    .dataframe thead th {\n",
              "        text-align: right;\n",
              "    }\n",
              "</style>\n",
              "<table border=\"1\" class=\"dataframe\">\n",
              "  <thead>\n",
              "    <tr style=\"text-align: right;\">\n",
              "      <th></th>\n",
              "      <th>month</th>\n",
              "      <th>day</th>\n",
              "      <th>timestamp</th>\n",
              "      <th>avg_sea_surface_temp</th>\n",
              "    </tr>\n",
              "  </thead>\n",
              "  <tbody>\n",
              "    <tr>\n",
              "      <th>0</th>\n",
              "      <td>1</td>\n",
              "      <td>1</td>\n",
              "      <td>2015-01-01 00:00:00 UTC</td>\n",
              "      <td>17.304762</td>\n",
              "    </tr>\n",
              "    <tr>\n",
              "      <th>1</th>\n",
              "      <td>1</td>\n",
              "      <td>1</td>\n",
              "      <td>2015-01-01 00:01:00 UTC</td>\n",
              "      <td>18.765000</td>\n",
              "    </tr>\n",
              "    <tr>\n",
              "      <th>2</th>\n",
              "      <td>1</td>\n",
              "      <td>1</td>\n",
              "      <td>2015-01-01 00:03:00 UTC</td>\n",
              "      <td>20.312500</td>\n",
              "    </tr>\n",
              "    <tr>\n",
              "      <th>3</th>\n",
              "      <td>1</td>\n",
              "      <td>1</td>\n",
              "      <td>2015-01-01 00:04:00 UTC</td>\n",
              "      <td>13.773333</td>\n",
              "    </tr>\n",
              "    <tr>\n",
              "      <th>4</th>\n",
              "      <td>1</td>\n",
              "      <td>1</td>\n",
              "      <td>2015-01-01 00:06:00 UTC</td>\n",
              "      <td>12.241818</td>\n",
              "    </tr>\n",
              "  </tbody>\n",
              "</table>\n",
              "</div>\n",
              "    <div class=\"colab-df-buttons\">\n",
              "\n",
              "  <div class=\"colab-df-container\">\n",
              "    <button class=\"colab-df-convert\" onclick=\"convertToInteractive('df-848d942c-8ce4-4179-8e99-dc5c315c68b8')\"\n",
              "            title=\"Convert this dataframe to an interactive table.\"\n",
              "            style=\"display:none;\">\n",
              "\n",
              "  <svg xmlns=\"http://www.w3.org/2000/svg\" height=\"24px\" viewBox=\"0 -960 960 960\">\n",
              "    <path d=\"M120-120v-720h720v720H120Zm60-500h600v-160H180v160Zm220 220h160v-160H400v160Zm0 220h160v-160H400v160ZM180-400h160v-160H180v160Zm440 0h160v-160H620v160ZM180-180h160v-160H180v160Zm440 0h160v-160H620v160Z\"/>\n",
              "  </svg>\n",
              "    </button>\n",
              "\n",
              "  <style>\n",
              "    .colab-df-container {\n",
              "      display:flex;\n",
              "      gap: 12px;\n",
              "    }\n",
              "\n",
              "    .colab-df-convert {\n",
              "      background-color: #E8F0FE;\n",
              "      border: none;\n",
              "      border-radius: 50%;\n",
              "      cursor: pointer;\n",
              "      display: none;\n",
              "      fill: #1967D2;\n",
              "      height: 32px;\n",
              "      padding: 0 0 0 0;\n",
              "      width: 32px;\n",
              "    }\n",
              "\n",
              "    .colab-df-convert:hover {\n",
              "      background-color: #E2EBFA;\n",
              "      box-shadow: 0px 1px 2px rgba(60, 64, 67, 0.3), 0px 1px 3px 1px rgba(60, 64, 67, 0.15);\n",
              "      fill: #174EA6;\n",
              "    }\n",
              "\n",
              "    .colab-df-buttons div {\n",
              "      margin-bottom: 4px;\n",
              "    }\n",
              "\n",
              "    [theme=dark] .colab-df-convert {\n",
              "      background-color: #3B4455;\n",
              "      fill: #D2E3FC;\n",
              "    }\n",
              "\n",
              "    [theme=dark] .colab-df-convert:hover {\n",
              "      background-color: #434B5C;\n",
              "      box-shadow: 0px 1px 3px 1px rgba(0, 0, 0, 0.15);\n",
              "      filter: drop-shadow(0px 1px 2px rgba(0, 0, 0, 0.3));\n",
              "      fill: #FFFFFF;\n",
              "    }\n",
              "  </style>\n",
              "\n",
              "    <script>\n",
              "      const buttonEl =\n",
              "        document.querySelector('#df-848d942c-8ce4-4179-8e99-dc5c315c68b8 button.colab-df-convert');\n",
              "      buttonEl.style.display =\n",
              "        google.colab.kernel.accessAllowed ? 'block' : 'none';\n",
              "\n",
              "      async function convertToInteractive(key) {\n",
              "        const element = document.querySelector('#df-848d942c-8ce4-4179-8e99-dc5c315c68b8');\n",
              "        const dataTable =\n",
              "          await google.colab.kernel.invokeFunction('convertToInteractive',\n",
              "                                                    [key], {});\n",
              "        if (!dataTable) return;\n",
              "\n",
              "        const docLinkHtml = 'Like what you see? Visit the ' +\n",
              "          '<a target=\"_blank\" href=https://colab.research.google.com/notebooks/data_table.ipynb>data table notebook</a>'\n",
              "          + ' to learn more about interactive tables.';\n",
              "        element.innerHTML = '';\n",
              "        dataTable['output_type'] = 'display_data';\n",
              "        await google.colab.output.renderOutput(dataTable, element);\n",
              "        const docLink = document.createElement('div');\n",
              "        docLink.innerHTML = docLinkHtml;\n",
              "        element.appendChild(docLink);\n",
              "      }\n",
              "    </script>\n",
              "  </div>\n",
              "\n",
              "\n",
              "<div id=\"df-dc514391-4cd4-4e86-a8e7-1d9e3d11f727\">\n",
              "  <button class=\"colab-df-quickchart\" onclick=\"quickchart('df-dc514391-4cd4-4e86-a8e7-1d9e3d11f727')\"\n",
              "            title=\"Suggest charts\"\n",
              "            style=\"display:none;\">\n",
              "\n",
              "<svg xmlns=\"http://www.w3.org/2000/svg\" height=\"24px\"viewBox=\"0 0 24 24\"\n",
              "     width=\"24px\">\n",
              "    <g>\n",
              "        <path d=\"M19 3H5c-1.1 0-2 .9-2 2v14c0 1.1.9 2 2 2h14c1.1 0 2-.9 2-2V5c0-1.1-.9-2-2-2zM9 17H7v-7h2v7zm4 0h-2V7h2v10zm4 0h-2v-4h2v4z\"/>\n",
              "    </g>\n",
              "</svg>\n",
              "  </button>\n",
              "\n",
              "<style>\n",
              "  .colab-df-quickchart {\n",
              "      --bg-color: #E8F0FE;\n",
              "      --fill-color: #1967D2;\n",
              "      --hover-bg-color: #E2EBFA;\n",
              "      --hover-fill-color: #174EA6;\n",
              "      --disabled-fill-color: #AAA;\n",
              "      --disabled-bg-color: #DDD;\n",
              "  }\n",
              "\n",
              "  [theme=dark] .colab-df-quickchart {\n",
              "      --bg-color: #3B4455;\n",
              "      --fill-color: #D2E3FC;\n",
              "      --hover-bg-color: #434B5C;\n",
              "      --hover-fill-color: #FFFFFF;\n",
              "      --disabled-bg-color: #3B4455;\n",
              "      --disabled-fill-color: #666;\n",
              "  }\n",
              "\n",
              "  .colab-df-quickchart {\n",
              "    background-color: var(--bg-color);\n",
              "    border: none;\n",
              "    border-radius: 50%;\n",
              "    cursor: pointer;\n",
              "    display: none;\n",
              "    fill: var(--fill-color);\n",
              "    height: 32px;\n",
              "    padding: 0;\n",
              "    width: 32px;\n",
              "  }\n",
              "\n",
              "  .colab-df-quickchart:hover {\n",
              "    background-color: var(--hover-bg-color);\n",
              "    box-shadow: 0 1px 2px rgba(60, 64, 67, 0.3), 0 1px 3px 1px rgba(60, 64, 67, 0.15);\n",
              "    fill: var(--button-hover-fill-color);\n",
              "  }\n",
              "\n",
              "  .colab-df-quickchart-complete:disabled,\n",
              "  .colab-df-quickchart-complete:disabled:hover {\n",
              "    background-color: var(--disabled-bg-color);\n",
              "    fill: var(--disabled-fill-color);\n",
              "    box-shadow: none;\n",
              "  }\n",
              "\n",
              "  .colab-df-spinner {\n",
              "    border: 2px solid var(--fill-color);\n",
              "    border-color: transparent;\n",
              "    border-bottom-color: var(--fill-color);\n",
              "    animation:\n",
              "      spin 1s steps(1) infinite;\n",
              "  }\n",
              "\n",
              "  @keyframes spin {\n",
              "    0% {\n",
              "      border-color: transparent;\n",
              "      border-bottom-color: var(--fill-color);\n",
              "      border-left-color: var(--fill-color);\n",
              "    }\n",
              "    20% {\n",
              "      border-color: transparent;\n",
              "      border-left-color: var(--fill-color);\n",
              "      border-top-color: var(--fill-color);\n",
              "    }\n",
              "    30% {\n",
              "      border-color: transparent;\n",
              "      border-left-color: var(--fill-color);\n",
              "      border-top-color: var(--fill-color);\n",
              "      border-right-color: var(--fill-color);\n",
              "    }\n",
              "    40% {\n",
              "      border-color: transparent;\n",
              "      border-right-color: var(--fill-color);\n",
              "      border-top-color: var(--fill-color);\n",
              "    }\n",
              "    60% {\n",
              "      border-color: transparent;\n",
              "      border-right-color: var(--fill-color);\n",
              "    }\n",
              "    80% {\n",
              "      border-color: transparent;\n",
              "      border-right-color: var(--fill-color);\n",
              "      border-bottom-color: var(--fill-color);\n",
              "    }\n",
              "    90% {\n",
              "      border-color: transparent;\n",
              "      border-bottom-color: var(--fill-color);\n",
              "    }\n",
              "  }\n",
              "</style>\n",
              "\n",
              "  <script>\n",
              "    async function quickchart(key) {\n",
              "      const quickchartButtonEl =\n",
              "        document.querySelector('#' + key + ' button');\n",
              "      quickchartButtonEl.disabled = true;  // To prevent multiple clicks.\n",
              "      quickchartButtonEl.classList.add('colab-df-spinner');\n",
              "      try {\n",
              "        const charts = await google.colab.kernel.invokeFunction(\n",
              "            'suggestCharts', [key], {});\n",
              "      } catch (error) {\n",
              "        console.error('Error during call to suggestCharts:', error);\n",
              "      }\n",
              "      quickchartButtonEl.classList.remove('colab-df-spinner');\n",
              "      quickchartButtonEl.classList.add('colab-df-quickchart-complete');\n",
              "    }\n",
              "    (() => {\n",
              "      let quickchartButtonEl =\n",
              "        document.querySelector('#df-dc514391-4cd4-4e86-a8e7-1d9e3d11f727 button');\n",
              "      quickchartButtonEl.style.display =\n",
              "        google.colab.kernel.accessAllowed ? 'block' : 'none';\n",
              "    })();\n",
              "  </script>\n",
              "</div>\n",
              "    </div>\n",
              "  </div>\n"
            ],
            "application/vnd.google.colaboratory.intrinsic+json": {
              "type": "dataframe",
              "variable_name": "sea_temp"
            }
          },
          "metadata": {},
          "execution_count": 4
        }
      ]
    },
    {
      "cell_type": "code",
      "source": [
        "# Grouping by month and day\n",
        "sea_temp = sea_temp.groupby(['month', 'day']).agg({'avg_sea_surface_temp':'mean'}).reset_index()"
      ],
      "metadata": {
        "id": "mYKANd5UcsmG"
      },
      "execution_count": 3,
      "outputs": []
    },
    {
      "cell_type": "code",
      "source": [
        "sea_temp.head(3)"
      ],
      "metadata": {
        "colab": {
          "base_uri": "https://localhost:8080/",
          "height": 143
        },
        "id": "oeDPINaKdxPx",
        "outputId": "8a57c0e8-ab3b-42bd-a2de-d4c83dfe3d4a"
      },
      "execution_count": null,
      "outputs": [
        {
          "output_type": "execute_result",
          "data": {
            "text/plain": [
              "   month  day  avg_sea_surface_temp\n",
              "0      1    1             18.233160\n",
              "1      1    2             18.347285\n",
              "2      1    3             18.337298"
            ],
            "text/html": [
              "\n",
              "  <div id=\"df-35117d75-37fa-4c46-b62b-24818c7bc03a\" class=\"colab-df-container\">\n",
              "    <div>\n",
              "<style scoped>\n",
              "    .dataframe tbody tr th:only-of-type {\n",
              "        vertical-align: middle;\n",
              "    }\n",
              "\n",
              "    .dataframe tbody tr th {\n",
              "        vertical-align: top;\n",
              "    }\n",
              "\n",
              "    .dataframe thead th {\n",
              "        text-align: right;\n",
              "    }\n",
              "</style>\n",
              "<table border=\"1\" class=\"dataframe\">\n",
              "  <thead>\n",
              "    <tr style=\"text-align: right;\">\n",
              "      <th></th>\n",
              "      <th>month</th>\n",
              "      <th>day</th>\n",
              "      <th>avg_sea_surface_temp</th>\n",
              "    </tr>\n",
              "  </thead>\n",
              "  <tbody>\n",
              "    <tr>\n",
              "      <th>0</th>\n",
              "      <td>1</td>\n",
              "      <td>1</td>\n",
              "      <td>18.233160</td>\n",
              "    </tr>\n",
              "    <tr>\n",
              "      <th>1</th>\n",
              "      <td>1</td>\n",
              "      <td>2</td>\n",
              "      <td>18.347285</td>\n",
              "    </tr>\n",
              "    <tr>\n",
              "      <th>2</th>\n",
              "      <td>1</td>\n",
              "      <td>3</td>\n",
              "      <td>18.337298</td>\n",
              "    </tr>\n",
              "  </tbody>\n",
              "</table>\n",
              "</div>\n",
              "    <div class=\"colab-df-buttons\">\n",
              "\n",
              "  <div class=\"colab-df-container\">\n",
              "    <button class=\"colab-df-convert\" onclick=\"convertToInteractive('df-35117d75-37fa-4c46-b62b-24818c7bc03a')\"\n",
              "            title=\"Convert this dataframe to an interactive table.\"\n",
              "            style=\"display:none;\">\n",
              "\n",
              "  <svg xmlns=\"http://www.w3.org/2000/svg\" height=\"24px\" viewBox=\"0 -960 960 960\">\n",
              "    <path d=\"M120-120v-720h720v720H120Zm60-500h600v-160H180v160Zm220 220h160v-160H400v160Zm0 220h160v-160H400v160ZM180-400h160v-160H180v160Zm440 0h160v-160H620v160ZM180-180h160v-160H180v160Zm440 0h160v-160H620v160Z\"/>\n",
              "  </svg>\n",
              "    </button>\n",
              "\n",
              "  <style>\n",
              "    .colab-df-container {\n",
              "      display:flex;\n",
              "      gap: 12px;\n",
              "    }\n",
              "\n",
              "    .colab-df-convert {\n",
              "      background-color: #E8F0FE;\n",
              "      border: none;\n",
              "      border-radius: 50%;\n",
              "      cursor: pointer;\n",
              "      display: none;\n",
              "      fill: #1967D2;\n",
              "      height: 32px;\n",
              "      padding: 0 0 0 0;\n",
              "      width: 32px;\n",
              "    }\n",
              "\n",
              "    .colab-df-convert:hover {\n",
              "      background-color: #E2EBFA;\n",
              "      box-shadow: 0px 1px 2px rgba(60, 64, 67, 0.3), 0px 1px 3px 1px rgba(60, 64, 67, 0.15);\n",
              "      fill: #174EA6;\n",
              "    }\n",
              "\n",
              "    .colab-df-buttons div {\n",
              "      margin-bottom: 4px;\n",
              "    }\n",
              "\n",
              "    [theme=dark] .colab-df-convert {\n",
              "      background-color: #3B4455;\n",
              "      fill: #D2E3FC;\n",
              "    }\n",
              "\n",
              "    [theme=dark] .colab-df-convert:hover {\n",
              "      background-color: #434B5C;\n",
              "      box-shadow: 0px 1px 3px 1px rgba(0, 0, 0, 0.15);\n",
              "      filter: drop-shadow(0px 1px 2px rgba(0, 0, 0, 0.3));\n",
              "      fill: #FFFFFF;\n",
              "    }\n",
              "  </style>\n",
              "\n",
              "    <script>\n",
              "      const buttonEl =\n",
              "        document.querySelector('#df-35117d75-37fa-4c46-b62b-24818c7bc03a button.colab-df-convert');\n",
              "      buttonEl.style.display =\n",
              "        google.colab.kernel.accessAllowed ? 'block' : 'none';\n",
              "\n",
              "      async function convertToInteractive(key) {\n",
              "        const element = document.querySelector('#df-35117d75-37fa-4c46-b62b-24818c7bc03a');\n",
              "        const dataTable =\n",
              "          await google.colab.kernel.invokeFunction('convertToInteractive',\n",
              "                                                    [key], {});\n",
              "        if (!dataTable) return;\n",
              "\n",
              "        const docLinkHtml = 'Like what you see? Visit the ' +\n",
              "          '<a target=\"_blank\" href=https://colab.research.google.com/notebooks/data_table.ipynb>data table notebook</a>'\n",
              "          + ' to learn more about interactive tables.';\n",
              "        element.innerHTML = '';\n",
              "        dataTable['output_type'] = 'display_data';\n",
              "        await google.colab.output.renderOutput(dataTable, element);\n",
              "        const docLink = document.createElement('div');\n",
              "        docLink.innerHTML = docLinkHtml;\n",
              "        element.appendChild(docLink);\n",
              "      }\n",
              "    </script>\n",
              "  </div>\n",
              "\n",
              "\n",
              "<div id=\"df-b7619670-b9da-4ec2-85f1-cd401613977c\">\n",
              "  <button class=\"colab-df-quickchart\" onclick=\"quickchart('df-b7619670-b9da-4ec2-85f1-cd401613977c')\"\n",
              "            title=\"Suggest charts\"\n",
              "            style=\"display:none;\">\n",
              "\n",
              "<svg xmlns=\"http://www.w3.org/2000/svg\" height=\"24px\"viewBox=\"0 0 24 24\"\n",
              "     width=\"24px\">\n",
              "    <g>\n",
              "        <path d=\"M19 3H5c-1.1 0-2 .9-2 2v14c0 1.1.9 2 2 2h14c1.1 0 2-.9 2-2V5c0-1.1-.9-2-2-2zM9 17H7v-7h2v7zm4 0h-2V7h2v10zm4 0h-2v-4h2v4z\"/>\n",
              "    </g>\n",
              "</svg>\n",
              "  </button>\n",
              "\n",
              "<style>\n",
              "  .colab-df-quickchart {\n",
              "      --bg-color: #E8F0FE;\n",
              "      --fill-color: #1967D2;\n",
              "      --hover-bg-color: #E2EBFA;\n",
              "      --hover-fill-color: #174EA6;\n",
              "      --disabled-fill-color: #AAA;\n",
              "      --disabled-bg-color: #DDD;\n",
              "  }\n",
              "\n",
              "  [theme=dark] .colab-df-quickchart {\n",
              "      --bg-color: #3B4455;\n",
              "      --fill-color: #D2E3FC;\n",
              "      --hover-bg-color: #434B5C;\n",
              "      --hover-fill-color: #FFFFFF;\n",
              "      --disabled-bg-color: #3B4455;\n",
              "      --disabled-fill-color: #666;\n",
              "  }\n",
              "\n",
              "  .colab-df-quickchart {\n",
              "    background-color: var(--bg-color);\n",
              "    border: none;\n",
              "    border-radius: 50%;\n",
              "    cursor: pointer;\n",
              "    display: none;\n",
              "    fill: var(--fill-color);\n",
              "    height: 32px;\n",
              "    padding: 0;\n",
              "    width: 32px;\n",
              "  }\n",
              "\n",
              "  .colab-df-quickchart:hover {\n",
              "    background-color: var(--hover-bg-color);\n",
              "    box-shadow: 0 1px 2px rgba(60, 64, 67, 0.3), 0 1px 3px 1px rgba(60, 64, 67, 0.15);\n",
              "    fill: var(--button-hover-fill-color);\n",
              "  }\n",
              "\n",
              "  .colab-df-quickchart-complete:disabled,\n",
              "  .colab-df-quickchart-complete:disabled:hover {\n",
              "    background-color: var(--disabled-bg-color);\n",
              "    fill: var(--disabled-fill-color);\n",
              "    box-shadow: none;\n",
              "  }\n",
              "\n",
              "  .colab-df-spinner {\n",
              "    border: 2px solid var(--fill-color);\n",
              "    border-color: transparent;\n",
              "    border-bottom-color: var(--fill-color);\n",
              "    animation:\n",
              "      spin 1s steps(1) infinite;\n",
              "  }\n",
              "\n",
              "  @keyframes spin {\n",
              "    0% {\n",
              "      border-color: transparent;\n",
              "      border-bottom-color: var(--fill-color);\n",
              "      border-left-color: var(--fill-color);\n",
              "    }\n",
              "    20% {\n",
              "      border-color: transparent;\n",
              "      border-left-color: var(--fill-color);\n",
              "      border-top-color: var(--fill-color);\n",
              "    }\n",
              "    30% {\n",
              "      border-color: transparent;\n",
              "      border-left-color: var(--fill-color);\n",
              "      border-top-color: var(--fill-color);\n",
              "      border-right-color: var(--fill-color);\n",
              "    }\n",
              "    40% {\n",
              "      border-color: transparent;\n",
              "      border-right-color: var(--fill-color);\n",
              "      border-top-color: var(--fill-color);\n",
              "    }\n",
              "    60% {\n",
              "      border-color: transparent;\n",
              "      border-right-color: var(--fill-color);\n",
              "    }\n",
              "    80% {\n",
              "      border-color: transparent;\n",
              "      border-right-color: var(--fill-color);\n",
              "      border-bottom-color: var(--fill-color);\n",
              "    }\n",
              "    90% {\n",
              "      border-color: transparent;\n",
              "      border-bottom-color: var(--fill-color);\n",
              "    }\n",
              "  }\n",
              "</style>\n",
              "\n",
              "  <script>\n",
              "    async function quickchart(key) {\n",
              "      const quickchartButtonEl =\n",
              "        document.querySelector('#' + key + ' button');\n",
              "      quickchartButtonEl.disabled = true;  // To prevent multiple clicks.\n",
              "      quickchartButtonEl.classList.add('colab-df-spinner');\n",
              "      try {\n",
              "        const charts = await google.colab.kernel.invokeFunction(\n",
              "            'suggestCharts', [key], {});\n",
              "      } catch (error) {\n",
              "        console.error('Error during call to suggestCharts:', error);\n",
              "      }\n",
              "      quickchartButtonEl.classList.remove('colab-df-spinner');\n",
              "      quickchartButtonEl.classList.add('colab-df-quickchart-complete');\n",
              "    }\n",
              "    (() => {\n",
              "      let quickchartButtonEl =\n",
              "        document.querySelector('#df-b7619670-b9da-4ec2-85f1-cd401613977c button');\n",
              "      quickchartButtonEl.style.display =\n",
              "        google.colab.kernel.accessAllowed ? 'block' : 'none';\n",
              "    })();\n",
              "  </script>\n",
              "</div>\n",
              "    </div>\n",
              "  </div>\n"
            ],
            "application/vnd.google.colaboratory.intrinsic+json": {
              "type": "dataframe",
              "variable_name": "sea_temp",
              "summary": "{\n  \"name\": \"sea_temp\",\n  \"rows\": 365,\n  \"fields\": [\n    {\n      \"column\": \"month\",\n      \"properties\": {\n        \"dtype\": \"number\",\n        \"std\": 3,\n        \"min\": 1,\n        \"max\": 12,\n        \"num_unique_values\": 12,\n        \"samples\": [\n          11,\n          10,\n          1\n        ],\n        \"semantic_type\": \"\",\n        \"description\": \"\"\n      }\n    },\n    {\n      \"column\": \"day\",\n      \"properties\": {\n        \"dtype\": \"number\",\n        \"std\": 8,\n        \"min\": 1,\n        \"max\": 31,\n        \"num_unique_values\": 31,\n        \"samples\": [\n          28,\n          16,\n          24\n        ],\n        \"semantic_type\": \"\",\n        \"description\": \"\"\n      }\n    },\n    {\n      \"column\": \"avg_sea_surface_temp\",\n      \"properties\": {\n        \"dtype\": \"number\",\n        \"std\": 1.9492038734754715,\n        \"min\": 17.048895310742655,\n        \"max\": 23.34261752670494,\n        \"num_unique_values\": 365,\n        \"samples\": [\n          23.010713595593412,\n          17.837511322313226,\n          17.67015346045046\n        ],\n        \"semantic_type\": \"\",\n        \"description\": \"\"\n      }\n    }\n  ]\n}"
            }
          },
          "metadata": {},
          "execution_count": 6
        }
      ]
    },
    {
      "cell_type": "code",
      "source": [
        "# Check summary statistics\n",
        "sea_temp.describe()"
      ],
      "metadata": {
        "colab": {
          "base_uri": "https://localhost:8080/",
          "height": 300
        },
        "id": "J9zbBKBMOZrh",
        "outputId": "5a660dd1-8828-4fbb-9ab7-37e6a32af58d"
      },
      "execution_count": null,
      "outputs": [
        {
          "output_type": "execute_result",
          "data": {
            "text/plain": [
              "            month         day  avg_sea_surface_temp\n",
              "count  365.000000  365.000000            365.000000\n",
              "mean     6.526027   15.720548             20.238121\n",
              "std      3.452584    8.808321              1.949204\n",
              "min      1.000000    1.000000             17.048895\n",
              "25%      4.000000    8.000000             18.416053\n",
              "50%      7.000000   16.000000             20.030956\n",
              "75%     10.000000   23.000000             22.114404\n",
              "max     12.000000   31.000000             23.342618"
            ],
            "text/html": [
              "\n",
              "  <div id=\"df-bf92e445-a339-4fa6-9d17-34d9bbae638c\" class=\"colab-df-container\">\n",
              "    <div>\n",
              "<style scoped>\n",
              "    .dataframe tbody tr th:only-of-type {\n",
              "        vertical-align: middle;\n",
              "    }\n",
              "\n",
              "    .dataframe tbody tr th {\n",
              "        vertical-align: top;\n",
              "    }\n",
              "\n",
              "    .dataframe thead th {\n",
              "        text-align: right;\n",
              "    }\n",
              "</style>\n",
              "<table border=\"1\" class=\"dataframe\">\n",
              "  <thead>\n",
              "    <tr style=\"text-align: right;\">\n",
              "      <th></th>\n",
              "      <th>month</th>\n",
              "      <th>day</th>\n",
              "      <th>avg_sea_surface_temp</th>\n",
              "    </tr>\n",
              "  </thead>\n",
              "  <tbody>\n",
              "    <tr>\n",
              "      <th>count</th>\n",
              "      <td>365.000000</td>\n",
              "      <td>365.000000</td>\n",
              "      <td>365.000000</td>\n",
              "    </tr>\n",
              "    <tr>\n",
              "      <th>mean</th>\n",
              "      <td>6.526027</td>\n",
              "      <td>15.720548</td>\n",
              "      <td>20.238121</td>\n",
              "    </tr>\n",
              "    <tr>\n",
              "      <th>std</th>\n",
              "      <td>3.452584</td>\n",
              "      <td>8.808321</td>\n",
              "      <td>1.949204</td>\n",
              "    </tr>\n",
              "    <tr>\n",
              "      <th>min</th>\n",
              "      <td>1.000000</td>\n",
              "      <td>1.000000</td>\n",
              "      <td>17.048895</td>\n",
              "    </tr>\n",
              "    <tr>\n",
              "      <th>25%</th>\n",
              "      <td>4.000000</td>\n",
              "      <td>8.000000</td>\n",
              "      <td>18.416053</td>\n",
              "    </tr>\n",
              "    <tr>\n",
              "      <th>50%</th>\n",
              "      <td>7.000000</td>\n",
              "      <td>16.000000</td>\n",
              "      <td>20.030956</td>\n",
              "    </tr>\n",
              "    <tr>\n",
              "      <th>75%</th>\n",
              "      <td>10.000000</td>\n",
              "      <td>23.000000</td>\n",
              "      <td>22.114404</td>\n",
              "    </tr>\n",
              "    <tr>\n",
              "      <th>max</th>\n",
              "      <td>12.000000</td>\n",
              "      <td>31.000000</td>\n",
              "      <td>23.342618</td>\n",
              "    </tr>\n",
              "  </tbody>\n",
              "</table>\n",
              "</div>\n",
              "    <div class=\"colab-df-buttons\">\n",
              "\n",
              "  <div class=\"colab-df-container\">\n",
              "    <button class=\"colab-df-convert\" onclick=\"convertToInteractive('df-bf92e445-a339-4fa6-9d17-34d9bbae638c')\"\n",
              "            title=\"Convert this dataframe to an interactive table.\"\n",
              "            style=\"display:none;\">\n",
              "\n",
              "  <svg xmlns=\"http://www.w3.org/2000/svg\" height=\"24px\" viewBox=\"0 -960 960 960\">\n",
              "    <path d=\"M120-120v-720h720v720H120Zm60-500h600v-160H180v160Zm220 220h160v-160H400v160Zm0 220h160v-160H400v160ZM180-400h160v-160H180v160Zm440 0h160v-160H620v160ZM180-180h160v-160H180v160Zm440 0h160v-160H620v160Z\"/>\n",
              "  </svg>\n",
              "    </button>\n",
              "\n",
              "  <style>\n",
              "    .colab-df-container {\n",
              "      display:flex;\n",
              "      gap: 12px;\n",
              "    }\n",
              "\n",
              "    .colab-df-convert {\n",
              "      background-color: #E8F0FE;\n",
              "      border: none;\n",
              "      border-radius: 50%;\n",
              "      cursor: pointer;\n",
              "      display: none;\n",
              "      fill: #1967D2;\n",
              "      height: 32px;\n",
              "      padding: 0 0 0 0;\n",
              "      width: 32px;\n",
              "    }\n",
              "\n",
              "    .colab-df-convert:hover {\n",
              "      background-color: #E2EBFA;\n",
              "      box-shadow: 0px 1px 2px rgba(60, 64, 67, 0.3), 0px 1px 3px 1px rgba(60, 64, 67, 0.15);\n",
              "      fill: #174EA6;\n",
              "    }\n",
              "\n",
              "    .colab-df-buttons div {\n",
              "      margin-bottom: 4px;\n",
              "    }\n",
              "\n",
              "    [theme=dark] .colab-df-convert {\n",
              "      background-color: #3B4455;\n",
              "      fill: #D2E3FC;\n",
              "    }\n",
              "\n",
              "    [theme=dark] .colab-df-convert:hover {\n",
              "      background-color: #434B5C;\n",
              "      box-shadow: 0px 1px 3px 1px rgba(0, 0, 0, 0.15);\n",
              "      filter: drop-shadow(0px 1px 2px rgba(0, 0, 0, 0.3));\n",
              "      fill: #FFFFFF;\n",
              "    }\n",
              "  </style>\n",
              "\n",
              "    <script>\n",
              "      const buttonEl =\n",
              "        document.querySelector('#df-bf92e445-a339-4fa6-9d17-34d9bbae638c button.colab-df-convert');\n",
              "      buttonEl.style.display =\n",
              "        google.colab.kernel.accessAllowed ? 'block' : 'none';\n",
              "\n",
              "      async function convertToInteractive(key) {\n",
              "        const element = document.querySelector('#df-bf92e445-a339-4fa6-9d17-34d9bbae638c');\n",
              "        const dataTable =\n",
              "          await google.colab.kernel.invokeFunction('convertToInteractive',\n",
              "                                                    [key], {});\n",
              "        if (!dataTable) return;\n",
              "\n",
              "        const docLinkHtml = 'Like what you see? Visit the ' +\n",
              "          '<a target=\"_blank\" href=https://colab.research.google.com/notebooks/data_table.ipynb>data table notebook</a>'\n",
              "          + ' to learn more about interactive tables.';\n",
              "        element.innerHTML = '';\n",
              "        dataTable['output_type'] = 'display_data';\n",
              "        await google.colab.output.renderOutput(dataTable, element);\n",
              "        const docLink = document.createElement('div');\n",
              "        docLink.innerHTML = docLinkHtml;\n",
              "        element.appendChild(docLink);\n",
              "      }\n",
              "    </script>\n",
              "  </div>\n",
              "\n",
              "\n",
              "<div id=\"df-ae77dedc-4e06-4e95-bd46-0aee630335ac\">\n",
              "  <button class=\"colab-df-quickchart\" onclick=\"quickchart('df-ae77dedc-4e06-4e95-bd46-0aee630335ac')\"\n",
              "            title=\"Suggest charts\"\n",
              "            style=\"display:none;\">\n",
              "\n",
              "<svg xmlns=\"http://www.w3.org/2000/svg\" height=\"24px\"viewBox=\"0 0 24 24\"\n",
              "     width=\"24px\">\n",
              "    <g>\n",
              "        <path d=\"M19 3H5c-1.1 0-2 .9-2 2v14c0 1.1.9 2 2 2h14c1.1 0 2-.9 2-2V5c0-1.1-.9-2-2-2zM9 17H7v-7h2v7zm4 0h-2V7h2v10zm4 0h-2v-4h2v4z\"/>\n",
              "    </g>\n",
              "</svg>\n",
              "  </button>\n",
              "\n",
              "<style>\n",
              "  .colab-df-quickchart {\n",
              "      --bg-color: #E8F0FE;\n",
              "      --fill-color: #1967D2;\n",
              "      --hover-bg-color: #E2EBFA;\n",
              "      --hover-fill-color: #174EA6;\n",
              "      --disabled-fill-color: #AAA;\n",
              "      --disabled-bg-color: #DDD;\n",
              "  }\n",
              "\n",
              "  [theme=dark] .colab-df-quickchart {\n",
              "      --bg-color: #3B4455;\n",
              "      --fill-color: #D2E3FC;\n",
              "      --hover-bg-color: #434B5C;\n",
              "      --hover-fill-color: #FFFFFF;\n",
              "      --disabled-bg-color: #3B4455;\n",
              "      --disabled-fill-color: #666;\n",
              "  }\n",
              "\n",
              "  .colab-df-quickchart {\n",
              "    background-color: var(--bg-color);\n",
              "    border: none;\n",
              "    border-radius: 50%;\n",
              "    cursor: pointer;\n",
              "    display: none;\n",
              "    fill: var(--fill-color);\n",
              "    height: 32px;\n",
              "    padding: 0;\n",
              "    width: 32px;\n",
              "  }\n",
              "\n",
              "  .colab-df-quickchart:hover {\n",
              "    background-color: var(--hover-bg-color);\n",
              "    box-shadow: 0 1px 2px rgba(60, 64, 67, 0.3), 0 1px 3px 1px rgba(60, 64, 67, 0.15);\n",
              "    fill: var(--button-hover-fill-color);\n",
              "  }\n",
              "\n",
              "  .colab-df-quickchart-complete:disabled,\n",
              "  .colab-df-quickchart-complete:disabled:hover {\n",
              "    background-color: var(--disabled-bg-color);\n",
              "    fill: var(--disabled-fill-color);\n",
              "    box-shadow: none;\n",
              "  }\n",
              "\n",
              "  .colab-df-spinner {\n",
              "    border: 2px solid var(--fill-color);\n",
              "    border-color: transparent;\n",
              "    border-bottom-color: var(--fill-color);\n",
              "    animation:\n",
              "      spin 1s steps(1) infinite;\n",
              "  }\n",
              "\n",
              "  @keyframes spin {\n",
              "    0% {\n",
              "      border-color: transparent;\n",
              "      border-bottom-color: var(--fill-color);\n",
              "      border-left-color: var(--fill-color);\n",
              "    }\n",
              "    20% {\n",
              "      border-color: transparent;\n",
              "      border-left-color: var(--fill-color);\n",
              "      border-top-color: var(--fill-color);\n",
              "    }\n",
              "    30% {\n",
              "      border-color: transparent;\n",
              "      border-left-color: var(--fill-color);\n",
              "      border-top-color: var(--fill-color);\n",
              "      border-right-color: var(--fill-color);\n",
              "    }\n",
              "    40% {\n",
              "      border-color: transparent;\n",
              "      border-right-color: var(--fill-color);\n",
              "      border-top-color: var(--fill-color);\n",
              "    }\n",
              "    60% {\n",
              "      border-color: transparent;\n",
              "      border-right-color: var(--fill-color);\n",
              "    }\n",
              "    80% {\n",
              "      border-color: transparent;\n",
              "      border-right-color: var(--fill-color);\n",
              "      border-bottom-color: var(--fill-color);\n",
              "    }\n",
              "    90% {\n",
              "      border-color: transparent;\n",
              "      border-bottom-color: var(--fill-color);\n",
              "    }\n",
              "  }\n",
              "</style>\n",
              "\n",
              "  <script>\n",
              "    async function quickchart(key) {\n",
              "      const quickchartButtonEl =\n",
              "        document.querySelector('#' + key + ' button');\n",
              "      quickchartButtonEl.disabled = true;  // To prevent multiple clicks.\n",
              "      quickchartButtonEl.classList.add('colab-df-spinner');\n",
              "      try {\n",
              "        const charts = await google.colab.kernel.invokeFunction(\n",
              "            'suggestCharts', [key], {});\n",
              "      } catch (error) {\n",
              "        console.error('Error during call to suggestCharts:', error);\n",
              "      }\n",
              "      quickchartButtonEl.classList.remove('colab-df-spinner');\n",
              "      quickchartButtonEl.classList.add('colab-df-quickchart-complete');\n",
              "    }\n",
              "    (() => {\n",
              "      let quickchartButtonEl =\n",
              "        document.querySelector('#df-ae77dedc-4e06-4e95-bd46-0aee630335ac button');\n",
              "      quickchartButtonEl.style.display =\n",
              "        google.colab.kernel.accessAllowed ? 'block' : 'none';\n",
              "    })();\n",
              "  </script>\n",
              "</div>\n",
              "    </div>\n",
              "  </div>\n"
            ],
            "application/vnd.google.colaboratory.intrinsic+json": {
              "type": "dataframe",
              "summary": "{\n  \"name\": \"sea_temp\",\n  \"rows\": 8,\n  \"fields\": [\n    {\n      \"column\": \"month\",\n      \"properties\": {\n        \"dtype\": \"number\",\n        \"std\": 126.87540079295492,\n        \"min\": 1.0,\n        \"max\": 365.0,\n        \"num_unique_values\": 8,\n        \"samples\": [\n          6.526027397260274,\n          7.0,\n          365.0\n        ],\n        \"semantic_type\": \"\",\n        \"description\": \"\"\n      }\n    },\n    {\n      \"column\": \"day\",\n      \"properties\": {\n        \"dtype\": \"number\",\n        \"std\": 124.16625344966374,\n        \"min\": 1.0,\n        \"max\": 365.0,\n        \"num_unique_values\": 8,\n        \"samples\": [\n          15.72054794520548,\n          16.0,\n          365.0\n        ],\n        \"semantic_type\": \"\",\n        \"description\": \"\"\n      }\n    },\n    {\n      \"column\": \"avg_sea_surface_temp\",\n      \"properties\": {\n        \"dtype\": \"number\",\n        \"std\": 123.00885425917572,\n        \"min\": 1.9492038734754715,\n        \"max\": 365.0,\n        \"num_unique_values\": 8,\n        \"samples\": [\n          20.23812129341322,\n          20.03095550600102,\n          365.0\n        ],\n        \"semantic_type\": \"\",\n        \"description\": \"\"\n      }\n    }\n  ]\n}"
            }
          },
          "metadata": {},
          "execution_count": 7
        }
      ]
    },
    {
      "cell_type": "markdown",
      "source": [
        "## Univariate MLP\n",
        "\n",
        "---"
      ],
      "metadata": {
        "id": "PW909otr4HTp"
      }
    },
    {
      "cell_type": "markdown",
      "source": [
        "As our baseline deep learning model, we chose a univariate multi-layer perceptron model for predicting daily average global sea surface temperatures.\n",
        "\n",
        "We preprocessed the data by normalizing input features using Min-Max scaler. By doing so, all features will be transformed into the range [0,1].\n",
        "\n",
        "Next, we created sequences of the data that would be fed into the MLP model for prediction. In other words, we feed data sequenced by n days and the model would predict the temperature for each (n+1)th day.\n",
        "\n",
        "We chose MSE as our training criterion because we wanted to penalize wrong predictions (outliers) of temperature. We also experimented with MAE for greater interpretability. However, since MAE only calculates the magnitude of the error and does take into account the direction of the error, we stuck with MSE.\n"
      ],
      "metadata": {
        "id": "FtxV95DdDUFN"
      }
    },
    {
      "cell_type": "code",
      "source": [
        "# Splitting the data\n",
        "split_ratio = 0.8\n",
        "train_size = int(len(sea_temp) * split_ratio)"
      ],
      "metadata": {
        "id": "f_2Ld5Azbj41"
      },
      "execution_count": 4,
      "outputs": []
    },
    {
      "cell_type": "code",
      "source": [
        "# Scaling the data\n",
        "\n",
        "from sklearn.preprocessing import MinMaxScaler\n",
        "\n",
        "X = sea_temp[['avg_sea_surface_temp']]\n",
        "\n",
        "scaler = MinMaxScaler()\n",
        "\n",
        "scaled_data = scaler.fit_transform(X)\n",
        "\n",
        "# Splitting the data\n",
        "split_ratio = 0.8\n",
        "train_size = int(len(sea_temp) * split_ratio)"
      ],
      "metadata": {
        "id": "OqHOsdyFaLDh"
      },
      "execution_count": 5,
      "outputs": []
    },
    {
      "cell_type": "markdown",
      "source": [
        "### Model 1\n",
        "\n",
        "lr = 0.0001\n",
        "momentum= 0.9\n",
        "epochs = 500\n",
        "sequence_length = 49"
      ],
      "metadata": {
        "id": "cRGV7jutevmT"
      }
    },
    {
      "cell_type": "code",
      "source": [
        "# Creating sequences\n",
        "sequence_length = 49\n",
        "\n",
        "def create_sequences(data, sequence_length):\n",
        "\n",
        "  total_sequence=[]\n",
        "  prices = []\n",
        "\n",
        "  for day in range(0, (len(data) - sequence_length)):\n",
        "    start_index = day\n",
        "    end_index = sequence_length + day\n",
        "    day_sequence = data[start_index:end_index]\n",
        "    day_price = data[end_index]\n",
        "\n",
        "    total_sequence.append(day_sequence)\n",
        "    prices.append(day_price)\n",
        "  return np.array(total_sequence), np.array(prices)\n",
        "\n",
        "sequences = create_sequences(scaled_data, sequence_length)\n",
        "X = sequences[0]\n",
        "y = sequences[1]"
      ],
      "metadata": {
        "id": "UFGDewUxjbog"
      },
      "execution_count": null,
      "outputs": []
    },
    {
      "cell_type": "code",
      "source": [
        "import torch\n",
        "\n",
        "# Split the data into training and testing sets\n",
        "train_size = int(X.shape[0]* split_ratio)\n",
        "X_train = torch.tensor(X[:train_size]).float()\n",
        "y_train = torch.tensor(y[:train_size]).float()\n",
        "X_test = torch.tensor(X[train_size:]).float()\n",
        "y_test = torch.tensor(y[train_size:]).float()"
      ],
      "metadata": {
        "id": "ss_6HdbKjbog"
      },
      "execution_count": null,
      "outputs": []
    },
    {
      "cell_type": "code",
      "source": [
        "import torch\n",
        "import torch.nn as nn\n",
        "\n",
        "# Define the MLP model\n",
        "class MLP(nn.Module):\n",
        "    def __init__(self, input_size):\n",
        "      super(MLP, self).__init__()\n",
        "      self.model = nn.Sequential(\n",
        "          nn.Linear(input_size, 20),\n",
        "          nn.Linear(20, 10),\n",
        "          nn.Linear(10, 1)\n",
        "      )\n",
        "\n",
        "    def forward(self, x):\n",
        "      x = x.view(-1, input_size)\n",
        "      x = self.model(x)\n",
        "      return x\n",
        "\n",
        "# Instantiate the model\n",
        "input_size = sequence_length\n",
        "model = MLP(input_size)"
      ],
      "metadata": {
        "id": "amY2eh1Hjbog"
      },
      "execution_count": null,
      "outputs": []
    },
    {
      "cell_type": "code",
      "source": [
        "# Model 1 Parameters\n",
        "\n",
        "lr = 0.0001\n",
        "momentum= 0.9\n",
        "epochs = 500"
      ],
      "metadata": {
        "id": "myFOk8qDeh88"
      },
      "execution_count": null,
      "outputs": []
    },
    {
      "cell_type": "code",
      "source": [
        "import torch.optim as optim\n",
        "\n",
        "criterion_training = nn.MSELoss()\n",
        "criterion_testing = nn.MSELoss()\n",
        "optimizer = optim.SGD(model.parameters(), lr=lr, momentum=momentum)"
      ],
      "metadata": {
        "id": "rvgzgVtndIbZ"
      },
      "execution_count": null,
      "outputs": []
    },
    {
      "cell_type": "code",
      "source": [
        "# Putting the y data in the correct format\n",
        "\n",
        "y_test_actual = torch.tensor(scaler.inverse_transform(y_test))\n",
        "y_train_actual = torch.tensor(scaler.inverse_transform(y_train))\n",
        "\n",
        "# Initializing a best model for later use\n",
        "best_test_error = torch.tensor(float(500))\n",
        "best_model_state = None\n",
        "\n",
        "# Train the model\n",
        "for epoch in range(epochs):\n",
        "\n",
        "    optimizer.zero_grad()\n",
        "    model.train()\n",
        "    pred = model(X_train)\n",
        "\n",
        "    predictions_train_actual = torch.tensor(scaler.inverse_transform(pred.detach()))\n",
        "    actual_train_error = criterion_training(predictions_train_actual, y_train_actual)\n",
        "\n",
        "    loss = criterion_training(pred, y_train)\n",
        "    # Update model here based on error\n",
        "    loss.backward()\n",
        "    optimizer.step()\n",
        "\n",
        "    model.eval()\n",
        "    # Evaluate the model on the test data\n",
        "    with torch.no_grad():\n",
        "      # Evaluate the model here.\n",
        "      pred_test = model(X_test)\n",
        "      loss_test = criterion_testing(pred_test, y_test)\n",
        "\n",
        "      predictions_test_actual = torch.tensor(scaler.inverse_transform(pred_test.detach()))\n",
        "      actual_test_error = criterion_testing(predictions_test_actual, y_test_actual)\n",
        "\n",
        "    #defining a best model\n",
        "    if actual_test_error < best_test_error:\n",
        "        best_test_error = actual_test_error\n",
        "        best_model_state = model.state_dict()\n",
        "\n",
        "    if epoch %10 == 0:\n",
        "      print(f\"Epoch {epoch}: Training Actual Error= {actual_train_error}, Test Actual Error= {actual_test_error}\")"
      ],
      "metadata": {
        "colab": {
          "base_uri": "https://localhost:8080/"
        },
        "id": "U9WqfsvPc-eV",
        "outputId": "0cc1b3e4-05e4-41a6-b91b-997a82007f97"
      },
      "execution_count": null,
      "outputs": [
        {
          "output_type": "stream",
          "name": "stdout",
          "text": [
            "Epoch 0: Training Actual Error= 5.167929815198863, Test Actual Error= 0.5823485687110341\n",
            "Epoch 10: Training Actual Error= 4.908772276348545, Test Actual Error= 0.5593122137279737\n",
            "Epoch 20: Training Actual Error= 4.437197723867715, Test Actual Error= 0.5389265145008185\n",
            "Epoch 30: Training Actual Error= 3.933556464327463, Test Actual Error= 0.5441267352705441\n",
            "Epoch 40: Training Actual Error= 3.4595329768188496, Test Actual Error= 0.5789099109348933\n",
            "Epoch 50: Training Actual Error= 3.0331806567092006, Test Actual Error= 0.6407053773307493\n",
            "Epoch 60: Training Actual Error= 2.6572152302110235, Test Actual Error= 0.725277923926257\n",
            "Epoch 70: Training Actual Error= 2.329171692020241, Test Actual Error= 0.8282549021466902\n",
            "Epoch 80: Training Actual Error= 2.044977309195873, Test Actual Error= 0.9455372311170892\n",
            "Epoch 90: Training Actual Error= 1.8002020874911073, Test Actual Error= 1.0733914912949454\n",
            "Epoch 100: Training Actual Error= 1.590492988009319, Test Actual Error= 1.208467501025093\n",
            "Epoch 110: Training Actual Error= 1.411730564099417, Test Actual Error= 1.3477961484691523\n",
            "Epoch 120: Training Actual Error= 1.2600885432195452, Test Actual Error= 1.4887881587923104\n",
            "Epoch 130: Training Actual Error= 1.1320531185429148, Test Actual Error= 1.6292258126229786\n",
            "Epoch 140: Training Actual Error= 1.024431206424395, Test Actual Error= 1.7672511530046977\n",
            "Epoch 150: Training Actual Error= 0.9343489047393259, Test Actual Error= 1.9013462880864116\n",
            "Epoch 160: Training Actual Error= 0.8592431469044386, Test Actual Error= 2.0303113522444676\n",
            "Epoch 170: Training Actual Error= 0.7968488694808155, Test Actual Error= 2.1532358566676972\n",
            "Epoch 180: Training Actual Error= 0.7451802451751705, Test Actual Error= 2.26947050415721\n",
            "Epoch 190: Training Actual Error= 0.7025128006224965, Test Actual Error= 2.3785915156305606\n",
            "Epoch 200: Training Actual Error= 0.6673601831067731, Test Actual Error= 2.4803693117250205\n",
            "Epoch 210: Training Actual Error= 0.6384512324453463, Test Actual Error= 2.5747377777795375\n",
            "Epoch 220: Training Actual Error= 0.6147065630591291, Test Actual Error= 2.6617626617778236\n",
            "Epoch 230: Training Actual Error= 0.5952144491859156, Test Actual Error= 2.7416180964544465\n",
            "Epoch 240: Training Actual Error= 0.5792110567398979, Test Actual Error= 2.8145562595888935\n",
            "Epoch 250: Training Actual Error= 0.566059990003055, Test Actual Error= 2.880891879228277\n",
            "Epoch 260: Training Actual Error= 0.5552324452745591, Test Actual Error= 2.940978974477194\n",
            "Epoch 270: Training Actual Error= 0.5462929431250861, Test Actual Error= 2.995198028345243\n",
            "Epoch 280: Training Actual Error= 0.5388831588898385, Test Actual Error= 3.0439427756219697\n",
            "Epoch 290: Training Actual Error= 0.5327099073603359, Test Actual Error= 3.087611737189002\n",
            "Epoch 300: Training Actual Error= 0.5275341830913869, Test Actual Error= 3.1265956018084196\n",
            "Epoch 310: Training Actual Error= 0.5231618595465934, Test Actual Error= 3.161276362318183\n",
            "Epoch 320: Training Actual Error= 0.5194354783968713, Test Actual Error= 3.192020282826605\n",
            "Epoch 330: Training Actual Error= 0.5162282689853682, Test Actual Error= 3.219173743037327\n",
            "Epoch 340: Training Actual Error= 0.513437518631713, Test Actual Error= 3.243065005365783\n",
            "Epoch 350: Training Actual Error= 0.5109809718737357, Test Actual Error= 3.263998817798046\n",
            "Epoch 360: Training Actual Error= 0.5087926019497289, Test Actual Error= 3.2822568374114587\n",
            "Epoch 370: Training Actual Error= 0.5068195659295759, Test Actual Error= 3.2981031431651138\n",
            "Epoch 380: Training Actual Error= 0.5050195136619644, Test Actual Error= 3.3117753479111207\n",
            "Epoch 390: Training Actual Error= 0.5033587017417128, Test Actual Error= 3.3234955117714167\n",
            "Epoch 400: Training Actual Error= 0.5018101258103524, Test Actual Error= 3.3334642527066287\n",
            "Epoch 410: Training Actual Error= 0.5003525088439275, Test Actual Error= 3.3418628361947404\n",
            "Epoch 420: Training Actual Error= 0.4989686004137477, Test Actual Error= 3.3488569801446646\n",
            "Epoch 430: Training Actual Error= 0.49764492612412475, Test Actual Error= 3.354594069356013\n",
            "Epoch 440: Training Actual Error= 0.496370686341004, Test Actual Error= 3.3592102215209416\n",
            "Epoch 450: Training Actual Error= 0.49513732677791883, Test Actual Error= 3.3628273032677036\n",
            "Epoch 460: Training Actual Error= 0.49393804052127255, Test Actual Error= 3.3655526549432473\n",
            "Epoch 470: Training Actual Error= 0.49276738327226643, Test Actual Error= 3.3674852131504815\n",
            "Epoch 480: Training Actual Error= 0.4916211506356101, Test Actual Error= 3.3687125600943624\n",
            "Epoch 490: Training Actual Error= 0.4904959980206277, Test Actual Error= 3.3693115062344017\n"
          ]
        }
      ]
    },
    {
      "cell_type": "markdown",
      "source": [
        "### Model 2\n",
        "\n",
        "lr = 0.01\n",
        "momentum= 0.9\n",
        "epochs = 500\n",
        "sequence_length = 49"
      ],
      "metadata": {
        "id": "SVKlmd0jgbz9"
      }
    },
    {
      "cell_type": "code",
      "source": [
        "# Creating sequences\n",
        "sequence_length = 49\n",
        "\n",
        "def create_sequences(data, sequence_length):\n",
        "\n",
        "  total_sequence=[]\n",
        "  prices = []\n",
        "\n",
        "  for day in range(0, (len(data) - sequence_length)):\n",
        "    start_index = day\n",
        "    end_index = sequence_length + day\n",
        "    day_sequence = data[start_index:end_index]\n",
        "    day_price = data[end_index]\n",
        "\n",
        "    total_sequence.append(day_sequence)\n",
        "    prices.append(day_price)\n",
        "  return np.array(total_sequence), np.array(prices)\n",
        "\n",
        "sequences = create_sequences(scaled_data, sequence_length)\n",
        "X = sequences[0]\n",
        "y = sequences[1]"
      ],
      "metadata": {
        "id": "WeF3fuz7jRKU"
      },
      "execution_count": null,
      "outputs": []
    },
    {
      "cell_type": "code",
      "source": [
        "import torch\n",
        "\n",
        "# Split the data into training and testing sets\n",
        "train_size = int(X.shape[0]* split_ratio)\n",
        "X_train = torch.tensor(X[:train_size]).float()\n",
        "y_train = torch.tensor(y[:train_size]).float()\n",
        "X_test = torch.tensor(X[train_size:]).float()\n",
        "y_test = torch.tensor(y[train_size:]).float()"
      ],
      "metadata": {
        "id": "1iN4j3KejT0r"
      },
      "execution_count": null,
      "outputs": []
    },
    {
      "cell_type": "code",
      "source": [
        "import torch\n",
        "import torch.nn as nn\n",
        "\n",
        "# Define the MLP model\n",
        "class MLP(nn.Module):\n",
        "    def __init__(self, input_size):\n",
        "      super(MLP, self).__init__()\n",
        "      self.model = nn.Sequential(\n",
        "          nn.Linear(input_size, 20),\n",
        "          nn.Linear(20, 10),\n",
        "          nn.Linear(10, 1)\n",
        "      )\n",
        "\n",
        "    def forward(self, x):\n",
        "      x = x.view(-1, input_size)\n",
        "      x = self.model(x)\n",
        "      return x\n",
        "\n",
        "# Instantiate the model\n",
        "input_size = sequence_length\n",
        "model = MLP(input_size)"
      ],
      "metadata": {
        "id": "NY_SV5E5jWfV"
      },
      "execution_count": null,
      "outputs": []
    },
    {
      "cell_type": "code",
      "source": [
        "# Model 2 Parameters\n",
        "\n",
        "lr = 0.01\n",
        "momentum= 0.9\n",
        "epochs = 500"
      ],
      "metadata": {
        "id": "pOgGIom3gbz9"
      },
      "execution_count": null,
      "outputs": []
    },
    {
      "cell_type": "code",
      "source": [
        "import torch.optim as optim\n",
        "\n",
        "criterion_training = nn.MSELoss()\n",
        "criterion_testing = nn.MSELoss()\n",
        "optimizer = optim.SGD(model.parameters(), lr=lr, momentum=momentum)"
      ],
      "metadata": {
        "id": "1IoWq-KPgbz9"
      },
      "execution_count": null,
      "outputs": []
    },
    {
      "cell_type": "code",
      "source": [
        "# Putting the y data in the correct format\n",
        "\n",
        "y_test_actual = torch.tensor(scaler.inverse_transform(y_test))\n",
        "y_train_actual = torch.tensor(scaler.inverse_transform(y_train))\n",
        "\n",
        "# Initializing a best model for later use\n",
        "best_test_error = torch.tensor(float(500))\n",
        "best_model_state = None\n",
        "\n",
        "# Train the model\n",
        "for epoch in range(epochs):\n",
        "\n",
        "    optimizer.zero_grad()\n",
        "    model.train()\n",
        "    pred = model(X_train)\n",
        "\n",
        "    predictions_train_actual = torch.tensor(scaler.inverse_transform(pred.detach()))\n",
        "    actual_train_error = criterion_training(predictions_train_actual, y_train_actual)\n",
        "\n",
        "    loss = criterion_training(pred, y_train)\n",
        "    # Update model here based on error\n",
        "    loss.backward()\n",
        "    optimizer.step()\n",
        "\n",
        "    model.eval()\n",
        "    # Evaluate the model on the test data\n",
        "    with torch.no_grad():\n",
        "      # Evaluate the model here.\n",
        "      pred_test = model(X_test)\n",
        "      loss_test = criterion_testing(pred_test, y_test)\n",
        "\n",
        "      predictions_test_actual = torch.tensor(scaler.inverse_transform(pred_test.detach()))\n",
        "      actual_test_error = criterion_testing(predictions_test_actual, y_test_actual)\n",
        "\n",
        "    #defining a best model\n",
        "    if actual_test_error < best_test_error:\n",
        "        best_test_error = actual_test_error\n",
        "        best_model_state = model.state_dict()\n",
        "\n",
        "    if epoch %10 == 0:\n",
        "      print(f\"Epoch {epoch}: Training Actual Error= {actual_train_error}, Test Actual Error= {actual_test_error}\")"
      ],
      "metadata": {
        "colab": {
          "base_uri": "https://localhost:8080/"
        },
        "outputId": "16d20204-ef75-4f38-a27d-a6aed39abe22",
        "id": "8w9xOEOvgbz9"
      },
      "execution_count": null,
      "outputs": [
        {
          "output_type": "stream",
          "name": "stdout",
          "text": [
            "Epoch 0: Training Actual Error= 39.937707457575186, Test Actual Error= 12.406951747605152\n",
            "Epoch 10: Training Actual Error= 4.033297905749451, Test Actual Error= 11.330390892920786\n",
            "Epoch 20: Training Actual Error= 2.68662899767544, Test Actual Error= 2.7492317045798753\n",
            "Epoch 30: Training Actual Error= 0.988305121061186, Test Actual Error= 3.180025163055138\n",
            "Epoch 40: Training Actual Error= 0.695640214918255, Test Actual Error= 4.602713378066791\n",
            "Epoch 50: Training Actual Error= 0.4254336050327315, Test Actual Error= 2.4069909456868843\n",
            "Epoch 60: Training Actual Error= 0.35621673159535466, Test Actual Error= 2.01085774227552\n",
            "Epoch 70: Training Actual Error= 0.3370610007286515, Test Actual Error= 2.2198621762812003\n",
            "Epoch 80: Training Actual Error= 0.30310765205507584, Test Actual Error= 1.9457976069409468\n",
            "Epoch 90: Training Actual Error= 0.28052536754217416, Test Actual Error= 1.6657164298088378\n",
            "Epoch 100: Training Actual Error= 0.25863354429309243, Test Actual Error= 1.5634845352786924\n",
            "Epoch 110: Training Actual Error= 0.23970399960047015, Test Actual Error= 1.4338085681464383\n",
            "Epoch 120: Training Actual Error= 0.22186373910060486, Test Actual Error= 1.2605726257408474\n",
            "Epoch 130: Training Actual Error= 0.20532787285031967, Test Actual Error= 1.1137089040557948\n",
            "Epoch 140: Training Actual Error= 0.19002615924782648, Test Actual Error= 0.9899149823024458\n",
            "Epoch 150: Training Actual Error= 0.17597002751501276, Test Actual Error= 0.8719078599538843\n",
            "Epoch 160: Training Actual Error= 0.16315167599062638, Test Actual Error= 0.7627618300135168\n",
            "Epoch 170: Training Actual Error= 0.1515664099421242, Test Actual Error= 0.6668067615053777\n",
            "Epoch 180: Training Actual Error= 0.14120035407525824, Test Actual Error= 0.5826035590920363\n",
            "Epoch 190: Training Actual Error= 0.13202475604722352, Test Actual Error= 0.5084133218898423\n",
            "Epoch 200: Training Actual Error= 0.12399316019436146, Test Actual Error= 0.4439391889384424\n",
            "Epoch 210: Training Actual Error= 0.11704268446777077, Test Actual Error= 0.3889559405611373\n",
            "Epoch 220: Training Actual Error= 0.11109525382328421, Test Actual Error= 0.34274961750335825\n",
            "Epoch 230: Training Actual Error= 0.10606105704858634, Test Actual Error= 0.3044038774953506\n",
            "Epoch 240: Training Actual Error= 0.10184264877156067, Test Actual Error= 0.2730077420921751\n",
            "Epoch 250: Training Actual Error= 0.09833925632246204, Test Actual Error= 0.2476652536697107\n",
            "Epoch 260: Training Actual Error= 0.09545121629373382, Test Actual Error= 0.22748834242361404\n",
            "Epoch 270: Training Actual Error= 0.09308337814835739, Test Actual Error= 0.2116274080356232\n",
            "Epoch 280: Training Actual Error= 0.09114815921688602, Test Actual Error= 0.19930403170861055\n",
            "Epoch 290: Training Actual Error= 0.08956714287230909, Test Actual Error= 0.18982991834063673\n",
            "Epoch 300: Training Actual Error= 0.08827204943981894, Test Actual Error= 0.18261258878981548\n",
            "Epoch 310: Training Actual Error= 0.08720483498361811, Test Actual Error= 0.1771533080195991\n",
            "Epoch 320: Training Actual Error= 0.08631721521163277, Test Actual Error= 0.1730416749711165\n",
            "Epoch 330: Training Actual Error= 0.08556976228964615, Test Actual Error= 0.16994654264405365\n",
            "Epoch 340: Training Actual Error= 0.0849308539180179, Test Actual Error= 0.16760675295791094\n",
            "Epoch 350: Training Actual Error= 0.08437553358639582, Test Actual Error= 0.16581943398462773\n",
            "Epoch 360: Training Actual Error= 0.08388424182076833, Test Actual Error= 0.16442967867425473\n",
            "Epoch 370: Training Actual Error= 0.08344200411747897, Test Actual Error= 0.1633211606427767\n",
            "Epoch 380: Training Actual Error= 0.08303734181294156, Test Actual Error= 0.16240786648838895\n",
            "Epoch 390: Training Actual Error= 0.0826615252051938, Test Actual Error= 0.16162694801977842\n",
            "Epoch 400: Training Actual Error= 0.08230807185884415, Test Actual Error= 0.16093351473161657\n",
            "Epoch 410: Training Actual Error= 0.08197205337817236, Test Actual Error= 0.16029572642303627\n",
            "Epoch 420: Training Actual Error= 0.08164990125932557, Test Actual Error= 0.1596918397671369\n",
            "Epoch 430: Training Actual Error= 0.08133887488828324, Test Actual Error= 0.15910686133225413\n",
            "Epoch 440: Training Actual Error= 0.08103699301069993, Test Actual Error= 0.15853118935668015\n",
            "Epoch 450: Training Actual Error= 0.0807428083685862, Test Actual Error= 0.15795865098237352\n",
            "Epoch 460: Training Actual Error= 0.08045516306995885, Test Actual Error= 0.15738574155718754\n",
            "Epoch 470: Training Actual Error= 0.0801732869784999, Test Actual Error= 0.1568105181893069\n",
            "Epoch 480: Training Actual Error= 0.07989654083518923, Test Actual Error= 0.15623212444169687\n",
            "Epoch 490: Training Actual Error= 0.07962452624005416, Test Actual Error= 0.1556507223877553\n"
          ]
        }
      ]
    },
    {
      "cell_type": "markdown",
      "source": [
        "### Model 3\n",
        "\n",
        "lr = 0.01\n",
        "momentum= 0.9\n",
        "epochs = 500\n",
        "sequence_length = 100"
      ],
      "metadata": {
        "id": "Dvv5srx-jlRB"
      }
    },
    {
      "cell_type": "code",
      "source": [
        "# Creating sequences\n",
        "sequence_length = 100\n",
        "\n",
        "def create_sequences(data, sequence_length):\n",
        "\n",
        "  total_sequence=[]\n",
        "  prices = []\n",
        "\n",
        "  for day in range(0, (len(data) - sequence_length)):\n",
        "    start_index = day\n",
        "    end_index = sequence_length + day\n",
        "    day_sequence = data[start_index:end_index]\n",
        "    day_price = data[end_index]\n",
        "\n",
        "    total_sequence.append(day_sequence)\n",
        "    prices.append(day_price)\n",
        "  return np.array(total_sequence), np.array(prices)\n",
        "\n",
        "sequences = create_sequences(scaled_data, sequence_length)\n",
        "X = sequences[0]\n",
        "y = sequences[1]"
      ],
      "metadata": {
        "id": "qTvzRxcQjlRC"
      },
      "execution_count": null,
      "outputs": []
    },
    {
      "cell_type": "code",
      "source": [
        "import torch\n",
        "\n",
        "# Split the data into training and testing sets\n",
        "train_size = int(X.shape[0]* split_ratio)\n",
        "X_train = torch.tensor(X[:train_size]).float()\n",
        "y_train = torch.tensor(y[:train_size]).float()\n",
        "X_test = torch.tensor(X[train_size:]).float()\n",
        "y_test = torch.tensor(y[train_size:]).float()"
      ],
      "metadata": {
        "id": "BRhC52JmjlRC"
      },
      "execution_count": null,
      "outputs": []
    },
    {
      "cell_type": "code",
      "source": [
        "import torch\n",
        "import torch.nn as nn\n",
        "\n",
        "# Define the MLP model\n",
        "class MLP(nn.Module):\n",
        "    def __init__(self, input_size):\n",
        "      super(MLP, self).__init__()\n",
        "      self.model = nn.Sequential(\n",
        "          nn.Linear(input_size, 20),\n",
        "          nn.Linear(20, 10),\n",
        "          nn.Linear(10, 1)\n",
        "      )\n",
        "\n",
        "    def forward(self, x):\n",
        "      x = x.view(-1, input_size)\n",
        "      x = self.model(x)\n",
        "      return x\n",
        "\n",
        "# Instantiate the model\n",
        "input_size = sequence_length\n",
        "model = MLP(input_size)"
      ],
      "metadata": {
        "id": "tDCrb-eqjlRC"
      },
      "execution_count": null,
      "outputs": []
    },
    {
      "cell_type": "code",
      "source": [
        "# Model 3 Parameters\n",
        "\n",
        "lr = 0.01\n",
        "momentum= 0.9\n",
        "epochs = 500"
      ],
      "metadata": {
        "id": "bQlTML3ejlRC"
      },
      "execution_count": null,
      "outputs": []
    },
    {
      "cell_type": "code",
      "source": [
        "import torch.optim as optim\n",
        "\n",
        "criterion_training = nn.MSELoss()\n",
        "criterion_testing = nn.MSELoss()\n",
        "optimizer = optim.SGD(model.parameters(), lr=lr, momentum=momentum)"
      ],
      "metadata": {
        "id": "AVy7_STrjlRC"
      },
      "execution_count": null,
      "outputs": []
    },
    {
      "cell_type": "code",
      "source": [
        "# Putting the y data in the correct format\n",
        "\n",
        "y_test_actual = torch.tensor(scaler.inverse_transform(y_test))\n",
        "y_train_actual = torch.tensor(scaler.inverse_transform(y_train))\n",
        "\n",
        "# Initializing a best model for later use\n",
        "best_test_error = torch.tensor(float(500))\n",
        "best_model_state = None\n",
        "\n",
        "# Train the model\n",
        "for epoch in range(epochs):\n",
        "\n",
        "    optimizer.zero_grad()\n",
        "    model.train()\n",
        "    pred = model(X_train)\n",
        "\n",
        "    predictions_train_actual = torch.tensor(scaler.inverse_transform(pred.detach()))\n",
        "    actual_train_error = criterion_training(predictions_train_actual, y_train_actual)\n",
        "\n",
        "    loss = criterion_training(pred, y_train)\n",
        "    # Update model here based on error\n",
        "    loss.backward()\n",
        "    optimizer.step()\n",
        "\n",
        "    model.eval()\n",
        "    # Evaluate the model on the test data\n",
        "    with torch.no_grad():\n",
        "      # Evaluate the model here.\n",
        "      pred_test = model(X_test)\n",
        "      loss_test = criterion_testing(pred_test, y_test)\n",
        "\n",
        "      predictions_test_actual = torch.tensor(scaler.inverse_transform(pred_test.detach()))\n",
        "      actual_test_error = criterion_testing(predictions_test_actual, y_test_actual)\n",
        "\n",
        "    #defining a best model\n",
        "    if actual_test_error < best_test_error:\n",
        "        best_test_error = actual_test_error\n",
        "        best_model_state = model.state_dict()\n",
        "\n",
        "    if epoch %10 == 0:\n",
        "      print(f\"Epoch {epoch}: Training Actual Error= {actual_train_error}, Test Actual Error= {actual_test_error}\")"
      ],
      "metadata": {
        "colab": {
          "base_uri": "https://localhost:8080/"
        },
        "outputId": "bb13288d-8a30-4b4a-86a9-e5e47998b8f6",
        "id": "DyBUmanSjlRC"
      },
      "execution_count": null,
      "outputs": [
        {
          "output_type": "stream",
          "name": "stdout",
          "text": [
            "Epoch 0: Training Actual Error= 7.5660515347793105, Test Actual Error= 0.532142219237169\n",
            "Epoch 10: Training Actual Error= 0.9316664464133589, Test Actual Error= 6.581909437919834\n",
            "Epoch 20: Training Actual Error= 0.5369087650789158, Test Actual Error= 5.716014176113783\n",
            "Epoch 30: Training Actual Error= 0.4504496428280754, Test Actual Error= 3.912008688068836\n",
            "Epoch 40: Training Actual Error= 0.398149157824146, Test Actual Error= 4.165180228542856\n",
            "Epoch 50: Training Actual Error= 0.34405123140543725, Test Actual Error= 2.7181432746419767\n",
            "Epoch 60: Training Actual Error= 0.28819804624676193, Test Actual Error= 2.5532513932400156\n",
            "Epoch 70: Training Actual Error= 0.23711757792883686, Test Actual Error= 1.6150049337722192\n",
            "Epoch 80: Training Actual Error= 0.19329570203122126, Test Actual Error= 1.3015347596891578\n",
            "Epoch 90: Training Actual Error= 0.15869615583535177, Test Actual Error= 0.8497572851295566\n",
            "Epoch 100: Training Actual Error= 0.13323956491594702, Test Actual Error= 0.5715397000472395\n",
            "Epoch 110: Training Actual Error= 0.11507861276687881, Test Actual Error= 0.3961689929256774\n",
            "Epoch 120: Training Actual Error= 0.10241510593082245, Test Actual Error= 0.26528114454858653\n",
            "Epoch 130: Training Actual Error= 0.09389731334597094, Test Actual Error= 0.19273697221323408\n",
            "Epoch 140: Training Actual Error= 0.08830248237111037, Test Actual Error= 0.15201033478993772\n",
            "Epoch 150: Training Actual Error= 0.08466759124892304, Test Actual Error= 0.12816034082336772\n",
            "Epoch 160: Training Actual Error= 0.08231656094761106, Test Actual Error= 0.1162639611171281\n",
            "Epoch 170: Training Actual Error= 0.08077573541658206, Test Actual Error= 0.11106264154022218\n",
            "Epoch 180: Training Actual Error= 0.07973383863887296, Test Actual Error= 0.10915423895261031\n",
            "Epoch 190: Training Actual Error= 0.07899307736613716, Test Actual Error= 0.10901140186645229\n",
            "Epoch 200: Training Actual Error= 0.07843121276614917, Test Actual Error= 0.10970692525725596\n",
            "Epoch 210: Training Actual Error= 0.07797465776327507, Test Actual Error= 0.11066103445613985\n",
            "Epoch 220: Training Actual Error= 0.07757979703412714, Test Actual Error= 0.11160372908645341\n",
            "Epoch 230: Training Actual Error= 0.07722118686373709, Test Actual Error= 0.1124263506682935\n",
            "Epoch 240: Training Actual Error= 0.07688427778447096, Test Actual Error= 0.11309040840830871\n",
            "Epoch 250: Training Actual Error= 0.07656065299432717, Test Actual Error= 0.11359601258328988\n",
            "Epoch 260: Training Actual Error= 0.07624556962022508, Test Actual Error= 0.11396215111492232\n",
            "Epoch 270: Training Actual Error= 0.07593631793396488, Test Actual Error= 0.11421258599850151\n",
            "Epoch 280: Training Actual Error= 0.075631352949896, Test Actual Error= 0.11436993197636122\n",
            "Epoch 290: Training Actual Error= 0.07532984166374995, Test Actual Error= 0.11445444219261193\n",
            "Epoch 300: Training Actual Error= 0.07503125546004566, Test Actual Error= 0.11448281957024013\n",
            "Epoch 310: Training Actual Error= 0.07473536441340839, Test Actual Error= 0.11446861390861846\n",
            "Epoch 320: Training Actual Error= 0.07444185401278283, Test Actual Error= 0.11442236187247673\n",
            "Epoch 330: Training Actual Error= 0.07415072285821656, Test Actual Error= 0.11435217225333733\n",
            "Epoch 340: Training Actual Error= 0.07386184948513035, Test Actual Error= 0.11426453060546361\n",
            "Epoch 350: Training Actual Error= 0.0735751546689298, Test Actual Error= 0.1141639021411061\n",
            "Epoch 360: Training Actual Error= 0.07329062998722177, Test Actual Error= 0.11405406210357116\n",
            "Epoch 370: Training Actual Error= 0.07300816065742244, Test Actual Error= 0.11393743919852638\n",
            "Epoch 380: Training Actual Error= 0.07272780703643583, Test Actual Error= 0.11381628525519634\n",
            "Epoch 390: Training Actual Error= 0.07244945478787096, Test Actual Error= 0.11369200925523017\n",
            "Epoch 400: Training Actual Error= 0.07217309773224154, Test Actual Error= 0.11356563329767283\n",
            "Epoch 410: Training Actual Error= 0.0718987512692896, Test Actual Error= 0.11343812775838293\n",
            "Epoch 420: Training Actual Error= 0.07162631449427286, Test Actual Error= 0.11330997907808062\n",
            "Epoch 430: Training Actual Error= 0.07135577027034552, Test Actual Error= 0.11318174075508833\n",
            "Epoch 440: Training Actual Error= 0.07108714201850044, Test Actual Error= 0.11305369614692067\n",
            "Epoch 450: Training Actual Error= 0.07082035204527544, Test Actual Error= 0.1129260452424726\n",
            "Epoch 460: Training Actual Error= 0.07055538390322574, Test Actual Error= 0.11279902035045791\n",
            "Epoch 470: Training Actual Error= 0.07029219499249006, Test Actual Error= 0.11267271163632439\n",
            "Epoch 480: Training Actual Error= 0.07003079356036408, Test Actual Error= 0.11254727437617652\n",
            "Epoch 490: Training Actual Error= 0.0697711583909351, Test Actual Error= 0.11242276292175866\n"
          ]
        }
      ]
    },
    {
      "cell_type": "markdown",
      "source": [
        "So far this is the best model"
      ],
      "metadata": {
        "id": "hLXN4d5TwAw9"
      }
    },
    {
      "cell_type": "markdown",
      "source": [
        "### Model 4\n",
        "\n",
        "lr = 0.01\n",
        "momentum= 0.9\n",
        "epochs = 500\n",
        "sequence_length = 100\n",
        "\n",
        "layers changed:\n",
        "          nn.Linear(input_size, 40),\n",
        "          nn.Linear(40, 20),\n",
        "          nn.Linear(20, 1)"
      ],
      "metadata": {
        "id": "cP8pp-KvkerA"
      }
    },
    {
      "cell_type": "code",
      "source": [
        "# Creating sequences\n",
        "sequence_length = 100\n",
        "\n",
        "def create_sequences(data, sequence_length):\n",
        "\n",
        "  total_sequence=[]\n",
        "  prices = []\n",
        "\n",
        "  for day in range(0, (len(data) - sequence_length)):\n",
        "    start_index = day\n",
        "    end_index = sequence_length + day\n",
        "    day_sequence = data[start_index:end_index]\n",
        "    day_price = data[end_index]\n",
        "\n",
        "    total_sequence.append(day_sequence)\n",
        "    prices.append(day_price)\n",
        "  return np.array(total_sequence), np.array(prices)\n",
        "\n",
        "sequences = create_sequences(scaled_data, sequence_length)\n",
        "X = sequences[0]\n",
        "y = sequences[1]"
      ],
      "metadata": {
        "id": "IRscgxQqkerA"
      },
      "execution_count": null,
      "outputs": []
    },
    {
      "cell_type": "code",
      "source": [
        "import torch\n",
        "\n",
        "# Split the data into training and testing sets\n",
        "train_size = int(X.shape[0]* split_ratio)\n",
        "X_train = torch.tensor(X[:train_size]).float()\n",
        "y_train = torch.tensor(y[:train_size]).float()\n",
        "X_test = torch.tensor(X[train_size:]).float()\n",
        "y_test = torch.tensor(y[train_size:]).float()"
      ],
      "metadata": {
        "id": "BtoUfvvRkerA"
      },
      "execution_count": null,
      "outputs": []
    },
    {
      "cell_type": "code",
      "source": [
        "import torch\n",
        "import torch.nn as nn\n",
        "\n",
        "# Define the MLP model\n",
        "class MLP(nn.Module):\n",
        "    def __init__(self, input_size):\n",
        "      super(MLP, self).__init__()\n",
        "      self.model = nn.Sequential(\n",
        "          nn.Linear(input_size, 40),\n",
        "          nn.Linear(40, 20),\n",
        "          nn.Linear(20, 1)\n",
        "      )\n",
        "\n",
        "    def forward(self, x):\n",
        "      x = x.view(-1, input_size)\n",
        "      x = self.model(x)\n",
        "      return x\n",
        "\n",
        "# Instantiate the model\n",
        "input_size = sequence_length\n",
        "model = MLP(input_size)"
      ],
      "metadata": {
        "id": "5F2E3TXQkerA"
      },
      "execution_count": null,
      "outputs": []
    },
    {
      "cell_type": "code",
      "source": [
        "# Model 4 Parameters\n",
        "\n",
        "lr = 0.01\n",
        "momentum= 0.9\n",
        "epochs = 500"
      ],
      "metadata": {
        "id": "xLp7JVG0kerA"
      },
      "execution_count": null,
      "outputs": []
    },
    {
      "cell_type": "code",
      "source": [
        "import torch.optim as optim\n",
        "\n",
        "criterion_training = nn.MSELoss()\n",
        "criterion_testing = nn.MSELoss()\n",
        "optimizer = optim.SGD(model.parameters(), lr=lr, momentum=momentum)"
      ],
      "metadata": {
        "id": "pU276IGgkerA"
      },
      "execution_count": null,
      "outputs": []
    },
    {
      "cell_type": "code",
      "source": [
        "# Putting the y data in the correct format\n",
        "\n",
        "y_test_actual = torch.tensor(scaler.inverse_transform(y_test))\n",
        "y_train_actual = torch.tensor(scaler.inverse_transform(y_train))\n",
        "\n",
        "# Initializing a best model for later use\n",
        "best_test_error = torch.tensor(float(500))\n",
        "best_model_state = None\n",
        "\n",
        "# Train the model\n",
        "for epoch in range(epochs):\n",
        "\n",
        "    optimizer.zero_grad()\n",
        "    model.train()\n",
        "    pred = model(X_train)\n",
        "\n",
        "    predictions_train_actual = torch.tensor(scaler.inverse_transform(pred.detach()))\n",
        "    actual_train_error = criterion_training(predictions_train_actual, y_train_actual)\n",
        "\n",
        "    loss = criterion_training(pred, y_train)\n",
        "    # Update model here based on error\n",
        "    loss.backward()\n",
        "    optimizer.step()\n",
        "\n",
        "    model.eval()\n",
        "    # Evaluate the model on the test data\n",
        "    with torch.no_grad():\n",
        "      # Evaluate the model here.\n",
        "      pred_test = model(X_test)\n",
        "      loss_test = criterion_testing(pred_test, y_test)\n",
        "\n",
        "      predictions_test_actual = torch.tensor(scaler.inverse_transform(pred_test.detach()))\n",
        "      actual_test_error = criterion_testing(predictions_test_actual, y_test_actual)\n",
        "\n",
        "    #defining a best model\n",
        "    if actual_test_error < best_test_error:\n",
        "        best_test_error = actual_test_error\n",
        "        best_model_state = model.state_dict()\n",
        "\n",
        "    if epoch %10 == 0:\n",
        "      print(f\"Epoch {epoch}: Training Actual Error= {actual_train_error}, Test Actual Error= {actual_test_error}\")"
      ],
      "metadata": {
        "colab": {
          "base_uri": "https://localhost:8080/"
        },
        "outputId": "74ac61c5-e2cc-487b-bc34-7f9a497b7e6e",
        "id": "8cyTMWYgkerA"
      },
      "execution_count": null,
      "outputs": [
        {
          "output_type": "stream",
          "name": "stdout",
          "text": [
            "Epoch 0: Training Actual Error= 13.384886755575767, Test Actual Error= 0.5906319692526074\n",
            "Epoch 10: Training Actual Error= 1.4968146718862017, Test Actual Error= 8.903274573248481\n",
            "Epoch 20: Training Actual Error= 1.1905304812426722, Test Actual Error= 4.694598788975136\n",
            "Epoch 30: Training Actual Error= 0.850545754072595, Test Actual Error= 7.507205503053895\n",
            "Epoch 40: Training Actual Error= 0.6965286319613155, Test Actual Error= 4.430349794452536\n",
            "Epoch 50: Training Actual Error= 0.558708442992374, Test Actual Error= 5.369325860787195\n",
            "Epoch 60: Training Actual Error= 0.4548795407009266, Test Actual Error= 3.6390455401232438\n",
            "Epoch 70: Training Actual Error= 0.3747167497586957, Test Actual Error= 3.4451971224566584\n",
            "Epoch 80: Training Actual Error= 0.3087268464205595, Test Actual Error= 2.502137808368712\n",
            "Epoch 90: Training Actual Error= 0.2539792220691466, Test Actual Error= 1.9723863130790171\n",
            "Epoch 100: Training Actual Error= 0.2089146331178367, Test Actual Error= 1.4264960638281456\n",
            "Epoch 110: Training Actual Error= 0.17297631492002424, Test Actual Error= 0.9841724152086587\n",
            "Epoch 120: Training Actual Error= 0.14536071129671757, Test Actual Error= 0.6857496807650396\n",
            "Epoch 130: Training Actual Error= 0.12494433391033181, Test Actual Error= 0.4550890218770156\n",
            "Epoch 140: Training Actual Error= 0.11036726484167217, Test Actual Error= 0.3125506956318028\n",
            "Epoch 150: Training Actual Error= 0.10023307562839588, Test Actual Error= 0.22343271187727304\n",
            "Epoch 160: Training Actual Error= 0.09332732746794044, Test Actual Error= 0.16860885127716566\n",
            "Epoch 170: Training Actual Error= 0.08869064615753061, Test Actual Error= 0.13805126922841524\n",
            "Epoch 180: Training Actual Error= 0.0855960883075587, Test Actual Error= 0.12145954804916373\n",
            "Epoch 190: Training Actual Error= 0.08351708021143855, Test Actual Error= 0.11306994757340334\n",
            "Epoch 200: Training Actual Error= 0.0820901821502641, Test Actual Error= 0.10963645737187884\n",
            "Epoch 210: Training Actual Error= 0.08107347569722684, Test Actual Error= 0.10887227647775002\n",
            "Epoch 220: Training Actual Error= 0.0803109338095711, Test Actual Error= 0.10941970493263238\n",
            "Epoch 230: Training Actual Error= 0.07970418247968189, Test Actual Error= 0.11053135987221704\n",
            "Epoch 240: Training Actual Error= 0.0791924362012985, Test Actual Error= 0.11178161181287337\n",
            "Epoch 250: Training Actual Error= 0.07873858560210599, Test Actual Error= 0.11295561657510772\n",
            "Epoch 260: Training Actual Error= 0.07832044777260974, Test Actual Error= 0.11396553470573735\n",
            "Epoch 270: Training Actual Error= 0.07792472845365067, Test Actual Error= 0.11478795957672691\n",
            "Epoch 280: Training Actual Error= 0.07754356006222203, Test Actual Error= 0.11543061784507738\n",
            "Epoch 290: Training Actual Error= 0.0771722856069892, Test Actual Error= 0.11591525321578994\n",
            "Epoch 300: Training Actual Error= 0.07680815861681316, Test Actual Error= 0.11626738571498005\n",
            "Epoch 310: Training Actual Error= 0.07644956726634376, Test Actual Error= 0.11651174172575558\n",
            "Epoch 320: Training Actual Error= 0.07609556204858275, Test Actual Error= 0.11667036220569561\n",
            "Epoch 330: Training Actual Error= 0.0757455551695705, Test Actual Error= 0.11676186834056833\n",
            "Epoch 340: Training Actual Error= 0.07539913526187912, Test Actual Error= 0.11680137610514453\n",
            "Epoch 350: Training Actual Error= 0.07505612307106659, Test Actual Error= 0.11680096727516888\n",
            "Epoch 360: Training Actual Error= 0.07471634872585843, Test Actual Error= 0.11677022462600829\n",
            "Epoch 370: Training Actual Error= 0.07437969508034442, Test Actual Error= 0.11671665148134173\n",
            "Epoch 380: Training Actual Error= 0.07404605883477168, Test Actual Error= 0.11664587039952641\n",
            "Epoch 390: Training Actual Error= 0.07371538250712713, Test Actual Error= 0.11656239049570348\n",
            "Epoch 400: Training Actual Error= 0.07338759033581045, Test Actual Error= 0.11646951832812656\n",
            "Epoch 410: Training Actual Error= 0.07306265754160933, Test Actual Error= 0.11636980278309897\n",
            "Epoch 420: Training Actual Error= 0.07274045517827092, Test Actual Error= 0.116265299375864\n",
            "Epoch 430: Training Actual Error= 0.07242100612080953, Test Actual Error= 0.11615748317616346\n",
            "Epoch 440: Training Actual Error= 0.0721042568237202, Test Actual Error= 0.11604741568344944\n",
            "Epoch 450: Training Actual Error= 0.07179014495954568, Test Actual Error= 0.1159360446511142\n",
            "Epoch 460: Training Actual Error= 0.0714786327764337, Test Actual Error= 0.11582389143299096\n",
            "Epoch 470: Training Actual Error= 0.07116970277844686, Test Actual Error= 0.11571152382843339\n",
            "Epoch 480: Training Actual Error= 0.07086322619287203, Test Actual Error= 0.11559926157827206\n",
            "Epoch 490: Training Actual Error= 0.07055926049733408, Test Actual Error= 0.1154873662969508\n"
          ]
        }
      ]
    },
    {
      "cell_type": "markdown",
      "source": [
        "### Model 5\n",
        "\n",
        "lr = 0.01\n",
        "momentum= 0.9\n",
        "epochs = 500\n",
        "sequence_length = 100\n",
        "\n",
        "layers changed:\n",
        "          nn.Linear(input_size, 80),\n",
        "          nn.Linear(80, 60),\n",
        "          nn.Linear(60, 1)"
      ],
      "metadata": {
        "id": "YRMFJhJv2kO7"
      }
    },
    {
      "cell_type": "code",
      "source": [
        "# Creating sequences\n",
        "sequence_length = 100\n",
        "\n",
        "def create_sequences(data, sequence_length):\n",
        "\n",
        "  total_sequence=[]\n",
        "  prices = []\n",
        "\n",
        "  for day in range(0, (len(data) - sequence_length)):\n",
        "    start_index = day\n",
        "    end_index = sequence_length + day\n",
        "    day_sequence = data[start_index:end_index]\n",
        "    day_price = data[end_index]\n",
        "\n",
        "    total_sequence.append(day_sequence)\n",
        "    prices.append(day_price)\n",
        "  return np.array(total_sequence), np.array(prices)\n",
        "\n",
        "sequences = create_sequences(scaled_data, sequence_length)\n",
        "X = sequences[0]\n",
        "y = sequences[1]"
      ],
      "metadata": {
        "id": "_tNXQOVz2kO7"
      },
      "execution_count": null,
      "outputs": []
    },
    {
      "cell_type": "code",
      "source": [
        "import torch\n",
        "\n",
        "# Split the data into training and testing sets\n",
        "train_size = int(X.shape[0]* split_ratio)\n",
        "X_train = torch.tensor(X[:train_size]).float()\n",
        "y_train = torch.tensor(y[:train_size]).float()\n",
        "X_test = torch.tensor(X[train_size:]).float()\n",
        "y_test = torch.tensor(y[train_size:]).float()"
      ],
      "metadata": {
        "id": "F0LqLz-b2kO7"
      },
      "execution_count": null,
      "outputs": []
    },
    {
      "cell_type": "code",
      "source": [
        "import torch\n",
        "import torch.nn as nn\n",
        "\n",
        "# Define the MLP model\n",
        "class MLP(nn.Module):\n",
        "    def __init__(self, input_size):\n",
        "      super(MLP, self).__init__()\n",
        "      self.model = nn.Sequential(\n",
        "          nn.Linear(input_size, 80),\n",
        "          nn.Linear(80, 60),\n",
        "          nn.Linear(60, 1)\n",
        "      )\n",
        "\n",
        "    def forward(self, x):\n",
        "      x = x.view(-1, input_size)\n",
        "      x = self.model(x)\n",
        "      return x\n",
        "\n",
        "# Instantiate the model\n",
        "input_size = sequence_length\n",
        "model = MLP(input_size)"
      ],
      "metadata": {
        "id": "uXfJS38T2kO8"
      },
      "execution_count": null,
      "outputs": []
    },
    {
      "cell_type": "code",
      "source": [
        "# Model 4 Parameters\n",
        "\n",
        "lr = 0.01\n",
        "momentum= 0.9\n",
        "epochs = 500"
      ],
      "metadata": {
        "id": "INYkDxHU2kO8"
      },
      "execution_count": null,
      "outputs": []
    },
    {
      "cell_type": "code",
      "source": [
        "import torch.optim as optim\n",
        "\n",
        "criterion_training = nn.MSELoss()\n",
        "criterion_testing = nn.MSELoss()\n",
        "optimizer = optim.SGD(model.parameters(), lr=lr, momentum=momentum)"
      ],
      "metadata": {
        "id": "BnFXjnCc2kO8"
      },
      "execution_count": null,
      "outputs": []
    },
    {
      "cell_type": "code",
      "source": [
        "# Putting the y data in the correct format\n",
        "\n",
        "y_test_actual = torch.tensor(scaler.inverse_transform(y_test))\n",
        "y_train_actual = torch.tensor(scaler.inverse_transform(y_train))\n",
        "\n",
        "# Initializing a best model for later use\n",
        "best_test_error = torch.tensor(float(500))\n",
        "best_model_state = None\n",
        "\n",
        "# Train the model\n",
        "for epoch in range(epochs):\n",
        "\n",
        "    optimizer.zero_grad()\n",
        "    model.train()\n",
        "    pred = model(X_train)\n",
        "\n",
        "    predictions_train_actual = torch.tensor(scaler.inverse_transform(pred.detach()))\n",
        "    actual_train_error = criterion_training(predictions_train_actual, y_train_actual)\n",
        "\n",
        "    loss = criterion_training(pred, y_train)\n",
        "    # Update model here based on error\n",
        "    loss.backward()\n",
        "    optimizer.step()\n",
        "\n",
        "    model.eval()\n",
        "    # Evaluate the model on the test data\n",
        "    with torch.no_grad():\n",
        "      # Evaluate the model here.\n",
        "      pred_test = model(X_test)\n",
        "      loss_test = criterion_testing(pred_test, y_test)\n",
        "\n",
        "      predictions_test_actual = torch.tensor(scaler.inverse_transform(pred_test.detach()))\n",
        "      actual_test_error = criterion_testing(predictions_test_actual, y_test_actual)\n",
        "\n",
        "    #defining a best model\n",
        "    if actual_test_error < best_test_error:\n",
        "        best_test_error = actual_test_error\n",
        "        best_model_state = model.state_dict()\n",
        "\n",
        "    if epoch %10 == 0:\n",
        "      print(f\"Epoch {epoch}: Training Actual Error= {actual_train_error}, Test Actual Error= {actual_test_error}\")"
      ],
      "metadata": {
        "colab": {
          "base_uri": "https://localhost:8080/"
        },
        "outputId": "3dc07457-b31f-4e4f-e914-79807fc1981d",
        "id": "tSkaEgK_2kO8"
      },
      "execution_count": null,
      "outputs": [
        {
          "output_type": "stream",
          "name": "stdout",
          "text": [
            "Epoch 0: Training Actual Error= 31.72359025699594, Test Actual Error= 0.6606966466368782\n",
            "Epoch 10: Training Actual Error= 8.18684515660177, Test Actual Error= 0.3527293166058925\n",
            "Epoch 20: Training Actual Error= 1.1015302833391287, Test Actual Error= 3.4857479730148047\n",
            "Epoch 30: Training Actual Error= 0.3391865146608457, Test Actual Error= 2.1127063499315906\n",
            "Epoch 40: Training Actual Error= 0.33115677651736586, Test Actual Error= 1.067613024211882\n",
            "Epoch 50: Training Actual Error= 0.2996492769592937, Test Actual Error= 1.948866475443947\n",
            "Epoch 60: Training Actual Error= 0.22976368507327136, Test Actual Error= 0.9219832156950766\n",
            "Epoch 70: Training Actual Error= 0.16791783731980917, Test Actual Error= 0.9610569849230213\n",
            "Epoch 80: Training Actual Error= 0.13321203595583123, Test Actual Error= 0.6778540984530278\n",
            "Epoch 90: Training Actual Error= 0.11341530918671869, Test Actual Error= 0.42226932777109644\n",
            "Epoch 100: Training Actual Error= 0.09871721116692724, Test Actual Error= 0.3272282335399723\n",
            "Epoch 110: Training Actual Error= 0.08867792741515321, Test Actual Error= 0.2263094278642562\n",
            "Epoch 120: Training Actual Error= 0.08243679230197185, Test Actual Error= 0.16786662646453657\n",
            "Epoch 130: Training Actual Error= 0.07835227850574573, Test Actual Error= 0.14286828354513856\n",
            "Epoch 140: Training Actual Error= 0.07570481128374415, Test Actual Error= 0.12674110569397384\n",
            "Epoch 150: Training Actual Error= 0.07397937186253263, Test Actual Error= 0.11791743396602042\n",
            "Epoch 160: Training Actual Error= 0.07281022441164649, Test Actual Error= 0.11444564624667627\n",
            "Epoch 170: Training Actual Error= 0.07198536556825165, Test Actual Error= 0.1129483156886241\n",
            "Epoch 180: Training Actual Error= 0.07136606305393708, Test Actual Error= 0.1124273554473032\n",
            "Epoch 190: Training Actual Error= 0.07086979172242402, Test Actual Error= 0.11257506869969347\n",
            "Epoch 200: Training Actual Error= 0.07044694485073101, Test Actual Error= 0.1129570280593093\n",
            "Epoch 210: Training Actual Error= 0.07006815211070491, Test Actual Error= 0.11334462904965802\n",
            "Epoch 220: Training Actual Error= 0.06971622160488596, Test Actual Error= 0.1136849358126853\n",
            "Epoch 230: Training Actual Error= 0.06938115134735252, Test Actual Error= 0.11394983482952716\n",
            "Epoch 240: Training Actual Error= 0.06905708769332156, Test Actual Error= 0.11412530868699541\n",
            "Epoch 250: Training Actual Error= 0.06874068845663524, Test Actual Error= 0.11421970791987751\n",
            "Epoch 260: Training Actual Error= 0.06842999178544579, Test Actual Error= 0.11424738532219397\n",
            "Epoch 270: Training Actual Error= 0.0681238927652294, Test Actual Error= 0.1142202288862724\n",
            "Epoch 280: Training Actual Error= 0.06782168635339604, Test Actual Error= 0.11414927788438543\n",
            "Epoch 290: Training Actual Error= 0.06752297541397659, Test Actual Error= 0.11404477058397795\n",
            "Epoch 300: Training Actual Error= 0.06722747925664604, Test Actual Error= 0.11391491182785773\n",
            "Epoch 310: Training Actual Error= 0.066935075472927, Test Actual Error= 0.11376620671788097\n",
            "Epoch 320: Training Actual Error= 0.06664560389671355, Test Actual Error= 0.1136037272416256\n",
            "Epoch 330: Training Actual Error= 0.06635898306777394, Test Actual Error= 0.11343143984564238\n",
            "Epoch 340: Training Actual Error= 0.06607514258146119, Test Actual Error= 0.11325244964228037\n",
            "Epoch 350: Training Actual Error= 0.06579409442357635, Test Actual Error= 0.1130692011606579\n",
            "Epoch 360: Training Actual Error= 0.06551563703523197, Test Actual Error= 0.11288323898444391\n",
            "Epoch 370: Training Actual Error= 0.06523981395730635, Test Actual Error= 0.11269592881716942\n",
            "Epoch 380: Training Actual Error= 0.06496658557691551, Test Actual Error= 0.11250834297932419\n",
            "Epoch 390: Training Actual Error= 0.0646958602492958, Test Actual Error= 0.11232119763646224\n",
            "Epoch 400: Training Actual Error= 0.06442762572875613, Test Actual Error= 0.11213501106081283\n",
            "Epoch 410: Training Actual Error= 0.06416181163314924, Test Actual Error= 0.11195018556069537\n",
            "Epoch 420: Training Actual Error= 0.06389843891115544, Test Actual Error= 0.11176699325018231\n",
            "Epoch 430: Training Actual Error= 0.06363736102589508, Test Actual Error= 0.11158566035656076\n",
            "Epoch 440: Training Actual Error= 0.06337864230648782, Test Actual Error= 0.1114063110759818\n",
            "Epoch 450: Training Actual Error= 0.06312222859116168, Test Actual Error= 0.11122903051033385\n",
            "Epoch 460: Training Actual Error= 0.06286802711964619, Test Actual Error= 0.11105392804861389\n",
            "Epoch 470: Training Actual Error= 0.06261606058847054, Test Actual Error= 0.1108809532044717\n",
            "Epoch 480: Training Actual Error= 0.06236623672073259, Test Actual Error= 0.11071015569018253\n",
            "Epoch 490: Training Actual Error= 0.062118601355472515, Test Actual Error= 0.11054160344791668\n"
          ]
        }
      ]
    },
    {
      "cell_type": "markdown",
      "source": [
        "### Model 6\n",
        "\n",
        "lr = 0.01\n",
        "momentum= 0.9\n",
        "epochs = 500\n",
        "sequence_length = 100\n",
        "\n",
        "layers changed:\n",
        "          nn.Linear(input_size, 20),\n",
        "          nn.Linear(20, 10),\n",
        "          nn.Linear(10, 1)\n",
        "\n",
        "Adding relu (it performs worse potentially because of dead neurons problem)"
      ],
      "metadata": {
        "id": "QjWE8sZ6lCPx"
      }
    },
    {
      "cell_type": "code",
      "source": [
        "# Creating sequences\n",
        "sequence_length = 100\n",
        "\n",
        "def create_sequences(data, sequence_length):\n",
        "\n",
        "  total_sequence=[]\n",
        "  prices = []\n",
        "\n",
        "  for day in range(0, (len(data) - sequence_length)):\n",
        "    start_index = day\n",
        "    end_index = sequence_length + day\n",
        "    day_sequence = data[start_index:end_index]\n",
        "    day_price = data[end_index]\n",
        "\n",
        "    total_sequence.append(day_sequence)\n",
        "    prices.append(day_price)\n",
        "  return np.array(total_sequence), np.array(prices)\n",
        "\n",
        "sequences = create_sequences(scaled_data, sequence_length)\n",
        "X = sequences[0]\n",
        "y = sequences[1]"
      ],
      "metadata": {
        "id": "zy76bKjIlCPx"
      },
      "execution_count": null,
      "outputs": []
    },
    {
      "cell_type": "code",
      "source": [
        "import torch\n",
        "\n",
        "# Split the data into training and testing sets\n",
        "train_size = int(X.shape[0]* split_ratio)\n",
        "X_train = torch.tensor(X[:train_size]).float()\n",
        "y_train = torch.tensor(y[:train_size]).float()\n",
        "X_test = torch.tensor(X[train_size:]).float()\n",
        "y_test = torch.tensor(y[train_size:]).float()"
      ],
      "metadata": {
        "id": "rBjFcm3SlCPx"
      },
      "execution_count": null,
      "outputs": []
    },
    {
      "cell_type": "code",
      "source": [
        "import torch\n",
        "import torch.nn as nn\n",
        "\n",
        "# Define the MLP model\n",
        "class MLP(nn.Module):\n",
        "    def __init__(self, input_size):\n",
        "      super(MLP, self).__init__()\n",
        "      self.model = nn.Sequential(\n",
        "          nn.Linear(input_size, 40),\n",
        "          nn.ReLU(),\n",
        "          nn.Linear(40, 20),\n",
        "          nn.ReLU(),\n",
        "          nn.Linear(20, 1)\n",
        "      )\n",
        "\n",
        "    def forward(self, x):\n",
        "      x = x.view(-1, input_size)\n",
        "      x = self.model(x)\n",
        "      return x\n",
        "\n",
        "# Instantiate the model\n",
        "input_size = sequence_length\n",
        "model = MLP(input_size)"
      ],
      "metadata": {
        "id": "2vRiy6eZlCPx"
      },
      "execution_count": null,
      "outputs": []
    },
    {
      "cell_type": "code",
      "source": [
        "# Model 4 Parameters\n",
        "\n",
        "lr = 0.01\n",
        "momentum= 0.9\n",
        "epochs = 500"
      ],
      "metadata": {
        "id": "FlS7Ci3ilCPx"
      },
      "execution_count": null,
      "outputs": []
    },
    {
      "cell_type": "code",
      "source": [
        "import torch.optim as optim\n",
        "\n",
        "criterion_training = nn.MSELoss()\n",
        "criterion_testing = nn.MSELoss()\n",
        "optimizer = optim.SGD(model.parameters(), lr=lr, momentum=momentum)"
      ],
      "metadata": {
        "id": "tHYb6CzclCPx"
      },
      "execution_count": null,
      "outputs": []
    },
    {
      "cell_type": "code",
      "source": [
        "# Putting the y data in the correct format\n",
        "\n",
        "y_test_actual = torch.tensor(scaler.inverse_transform(y_test))\n",
        "y_train_actual = torch.tensor(scaler.inverse_transform(y_train))\n",
        "\n",
        "# Initializing a best model for later use\n",
        "best_test_error = torch.tensor(float(500))\n",
        "best_model_state = None\n",
        "\n",
        "# Train the model\n",
        "for epoch in range(epochs):\n",
        "\n",
        "    optimizer.zero_grad()\n",
        "    model.train()\n",
        "    pred = model(X_train)\n",
        "\n",
        "    predictions_train_actual = torch.tensor(scaler.inverse_transform(pred.detach()))\n",
        "    actual_train_error = criterion_training(predictions_train_actual, y_train_actual)\n",
        "\n",
        "    loss = criterion_training(pred, y_train)\n",
        "    # Update model here based on error\n",
        "    loss.backward()\n",
        "    optimizer.step()\n",
        "\n",
        "    model.eval()\n",
        "    # Evaluate the model on the test data\n",
        "    with torch.no_grad():\n",
        "      # Evaluate the model here.\n",
        "      pred_test = model(X_test)\n",
        "      loss_test = criterion_testing(pred_test, y_test)\n",
        "\n",
        "      predictions_test_actual = torch.tensor(scaler.inverse_transform(pred_test.detach()))\n",
        "      actual_test_error = criterion_testing(predictions_test_actual, y_test_actual)\n",
        "\n",
        "    #defining a best model\n",
        "    if actual_test_error < best_test_error:\n",
        "        best_test_error = actual_test_error\n",
        "        best_model_state = model.state_dict()\n",
        "\n",
        "    if epoch %10 == 0:\n",
        "      print(f\"Epoch {epoch}: Training Actual Error= {actual_train_error}, Test Actual Error= {actual_test_error}\")"
      ],
      "metadata": {
        "colab": {
          "base_uri": "https://localhost:8080/"
        },
        "outputId": "6c2f14c6-1e23-4de3-d3f4-a1bbc6b985cc",
        "id": "FkaCrR2FlCPy"
      },
      "execution_count": null,
      "outputs": [
        {
          "output_type": "stream",
          "name": "stdout",
          "text": [
            "Epoch 0: Training Actual Error= 22.999304338080844, Test Actual Error= 2.786146913342259\n",
            "Epoch 10: Training Actual Error= 6.229840872154818, Test Actual Error= 25.912361464260933\n",
            "Epoch 20: Training Actual Error= 2.015951338987597, Test Actual Error= 3.59780542539857\n",
            "Epoch 30: Training Actual Error= 1.0022704120648214, Test Actual Error= 10.970772315153113\n",
            "Epoch 40: Training Actual Error= 0.8066110104449932, Test Actual Error= 7.035282108767556\n",
            "Epoch 50: Training Actual Error= 0.7489957418918355, Test Actual Error= 7.080752632265583\n",
            "Epoch 60: Training Actual Error= 0.679516689145636, Test Actual Error= 7.344703110862274\n",
            "Epoch 70: Training Actual Error= 0.6069675475045129, Test Actual Error= 6.095274400634\n",
            "Epoch 80: Training Actual Error= 0.5442073157486783, Test Actual Error= 6.081179747676663\n",
            "Epoch 90: Training Actual Error= 0.4884245384745342, Test Actual Error= 5.211223810684511\n",
            "Epoch 100: Training Actual Error= 0.4368845860999709, Test Actual Error= 4.830818639498538\n",
            "Epoch 110: Training Actual Error= 0.3874609160671531, Test Actual Error= 4.1796788323336145\n",
            "Epoch 120: Training Actual Error= 0.3390899596168059, Test Actual Error= 3.6867267873390785\n",
            "Epoch 130: Training Actual Error= 0.2917552291775267, Test Actual Error= 3.1379649391135502\n",
            "Epoch 140: Training Actual Error= 0.24583330797895575, Test Actual Error= 2.688244954859013\n",
            "Epoch 150: Training Actual Error= 0.20413510010176927, Test Actual Error= 2.2849864249318417\n",
            "Epoch 160: Training Actual Error= 0.169345401671102, Test Actual Error= 1.9414142061087152\n",
            "Epoch 170: Training Actual Error= 0.1417756466527529, Test Actual Error= 1.6456162648121941\n",
            "Epoch 180: Training Actual Error= 0.12091638519123829, Test Actual Error= 1.395854282242324\n",
            "Epoch 190: Training Actual Error= 0.10540999841441208, Test Actual Error= 1.196507511679572\n",
            "Epoch 200: Training Actual Error= 0.09414472486746119, Test Actual Error= 1.038965475136383\n",
            "Epoch 210: Training Actual Error= 0.08608510791865502, Test Actual Error= 0.9180782686523316\n",
            "Epoch 220: Training Actual Error= 0.08037298014745214, Test Actual Error= 0.824482686290068\n",
            "Epoch 230: Training Actual Error= 0.0763063736361787, Test Actual Error= 0.7539403552732084\n",
            "Epoch 240: Training Actual Error= 0.07336639769607287, Test Actual Error= 0.7019975921853965\n",
            "Epoch 250: Training Actual Error= 0.0711517098583972, Test Actual Error= 0.6645947328094033\n",
            "Epoch 260: Training Actual Error= 0.06943600255755862, Test Actual Error= 0.6382390533848602\n",
            "Epoch 270: Training Actual Error= 0.06808161669193742, Test Actual Error= 0.6194510079767706\n",
            "Epoch 280: Training Actual Error= 0.06697060362155709, Test Actual Error= 0.6055083048239817\n",
            "Epoch 290: Training Actual Error= 0.06611105427955481, Test Actual Error= 0.5938905335682809\n",
            "Epoch 300: Training Actual Error= 0.06544674088740969, Test Actual Error= 0.5814010360657864\n",
            "Epoch 310: Training Actual Error= 0.06487223401039174, Test Actual Error= 0.5699861563866425\n",
            "Epoch 320: Training Actual Error= 0.06434469182091274, Test Actual Error= 0.5618050232364703\n",
            "Epoch 330: Training Actual Error= 0.0639211751466118, Test Actual Error= 0.5521186677147731\n",
            "Epoch 340: Training Actual Error= 0.06354100171172752, Test Actual Error= 0.5430081588846338\n",
            "Epoch 350: Training Actual Error= 0.06318268417797274, Test Actual Error= 0.5352340271673541\n",
            "Epoch 360: Training Actual Error= 0.06284492403567672, Test Actual Error= 0.5292566767784656\n",
            "Epoch 370: Training Actual Error= 0.0625271372848802, Test Actual Error= 0.5227436345983567\n",
            "Epoch 380: Training Actual Error= 0.06219710949318093, Test Actual Error= 0.5177726992321485\n",
            "Epoch 390: Training Actual Error= 0.06190248657560141, Test Actual Error= 0.514609411284821\n",
            "Epoch 400: Training Actual Error= 0.061627781369153575, Test Actual Error= 0.510599297422128\n",
            "Epoch 410: Training Actual Error= 0.06136993924421184, Test Actual Error= 0.5073783037758725\n",
            "Epoch 420: Training Actual Error= 0.06112743349399316, Test Actual Error= 0.5041188190657251\n",
            "Epoch 430: Training Actual Error= 0.06089617625582372, Test Actual Error= 0.5009692471394657\n",
            "Epoch 440: Training Actual Error= 0.06067832797353018, Test Actual Error= 0.49820889659361134\n",
            "Epoch 450: Training Actual Error= 0.06048145712645039, Test Actual Error= 0.4951842237452036\n",
            "Epoch 460: Training Actual Error= 0.060291219778111305, Test Actual Error= 0.4922171405226049\n",
            "Epoch 470: Training Actual Error= 0.06010563138685072, Test Actual Error= 0.48968994563104823\n",
            "Epoch 480: Training Actual Error= 0.059926959074425676, Test Actual Error= 0.48754795614170415\n",
            "Epoch 490: Training Actual Error= 0.05975362525231326, Test Actual Error= 0.4850210862527491\n"
          ]
        }
      ]
    },
    {
      "cell_type": "markdown",
      "source": [
        "### Model 7\n",
        "\n",
        "lr = 0.01\n",
        "momentum= 0.9\n",
        "epochs = 500\n",
        "sequence_length = 100\n",
        "\n",
        "layers changed:\n",
        "          nn.Linear(input_size, 20),\n",
        "          nn.Linear(20, 10),\n",
        "          nn.Linear(10, 1)\n",
        "\n",
        "Using Adam as optimizer"
      ],
      "metadata": {
        "id": "1Zd8orUSe6OG"
      }
    },
    {
      "cell_type": "code",
      "source": [
        "# Creating sequences\n",
        "sequence_length = 100\n",
        "\n",
        "def create_sequences(data, sequence_length):\n",
        "\n",
        "  total_sequence=[]\n",
        "  prices = []\n",
        "\n",
        "  for day in range(0, (len(data) - sequence_length)):\n",
        "    start_index = day\n",
        "    end_index = sequence_length + day\n",
        "    day_sequence = data[start_index:end_index]\n",
        "    day_price = data[end_index]\n",
        "\n",
        "    total_sequence.append(day_sequence)\n",
        "    prices.append(day_price)\n",
        "  return np.array(total_sequence), np.array(prices)\n",
        "\n",
        "sequences = create_sequences(scaled_data, sequence_length)\n",
        "X = sequences[0]\n",
        "y = sequences[1]"
      ],
      "metadata": {
        "id": "5QPFD46ce6OG"
      },
      "execution_count": null,
      "outputs": []
    },
    {
      "cell_type": "code",
      "source": [
        "import torch\n",
        "\n",
        "# Split the data into training and testing sets\n",
        "train_size = int(X.shape[0]* split_ratio)\n",
        "X_train = torch.tensor(X[:train_size]).float()\n",
        "y_train = torch.tensor(y[:train_size]).float()\n",
        "X_test = torch.tensor(X[train_size:]).float()\n",
        "y_test = torch.tensor(y[train_size:]).float()"
      ],
      "metadata": {
        "id": "u165DLMue6OG"
      },
      "execution_count": null,
      "outputs": []
    },
    {
      "cell_type": "code",
      "source": [
        "import torch\n",
        "import torch.nn as nn\n",
        "\n",
        "# Define the MLP model\n",
        "class MLP(nn.Module):\n",
        "    def __init__(self, input_size):\n",
        "      super(MLP, self).__init__()\n",
        "      self.model = nn.Sequential(\n",
        "          nn.Linear(input_size, 40),\n",
        "          nn.ReLU(),\n",
        "          nn.Linear(40, 20),\n",
        "          nn.ReLU(),\n",
        "          nn.Linear(20, 1)\n",
        "      )\n",
        "\n",
        "    def forward(self, x):\n",
        "      x = x.view(-1, input_size)\n",
        "      x = self.model(x)\n",
        "      return x\n",
        "\n",
        "# Instantiate the model\n",
        "input_size = sequence_length\n",
        "model = MLP(input_size)"
      ],
      "metadata": {
        "id": "FlyKRfn1e6OG"
      },
      "execution_count": null,
      "outputs": []
    },
    {
      "cell_type": "code",
      "source": [
        "# Model 4 Parameters\n",
        "\n",
        "lr = 0.01\n",
        "momentum= 0.9\n",
        "epochs = 500"
      ],
      "metadata": {
        "id": "KSep13IKe6OG"
      },
      "execution_count": null,
      "outputs": []
    },
    {
      "cell_type": "code",
      "source": [
        "import torch.optim as optim\n",
        "\n",
        "criterion_training = nn.MSELoss()\n",
        "criterion_testing = nn.MSELoss()\n",
        "optimizer = optim.Adam(model.parameters(), lr=lr)"
      ],
      "metadata": {
        "id": "ckT7NgaRe6OG"
      },
      "execution_count": null,
      "outputs": []
    },
    {
      "cell_type": "code",
      "source": [
        "# Putting the y data in the correct format\n",
        "\n",
        "y_test_actual = torch.tensor(scaler.inverse_transform(y_test))\n",
        "y_train_actual = torch.tensor(scaler.inverse_transform(y_train))\n",
        "\n",
        "# Initializing a best model for later use\n",
        "best_test_error = torch.tensor(float(500))\n",
        "best_model_state = None\n",
        "\n",
        "# Train the model\n",
        "for epoch in range(epochs):\n",
        "\n",
        "    optimizer.zero_grad()\n",
        "    model.train()\n",
        "    pred = model(X_train)\n",
        "\n",
        "    predictions_train_actual = torch.tensor(scaler.inverse_transform(pred.detach()))\n",
        "    actual_train_error = criterion_training(predictions_train_actual, y_train_actual)\n",
        "\n",
        "    loss = criterion_training(pred, y_train)\n",
        "    # Update model here based on error\n",
        "    loss.backward()\n",
        "    optimizer.step()\n",
        "\n",
        "    model.eval()\n",
        "    # Evaluate the model on the test data\n",
        "    with torch.no_grad():\n",
        "      # Evaluate the model here.\n",
        "      pred_test = model(X_test)\n",
        "      loss_test = criterion_testing(pred_test, y_test)\n",
        "\n",
        "      predictions_test_actual = torch.tensor(scaler.inverse_transform(pred_test.detach()))\n",
        "      actual_test_error = criterion_testing(predictions_test_actual, y_test_actual)\n",
        "\n",
        "    #defining a best model\n",
        "    if actual_test_error < best_test_error:\n",
        "        best_test_error = actual_test_error\n",
        "        best_model_state = model.state_dict()\n",
        "\n",
        "    if epoch %10 == 0:\n",
        "      print(f\"Epoch {epoch}: Training Actual Error= {actual_train_error}, Test Actual Error= {actual_test_error}\")"
      ],
      "metadata": {
        "colab": {
          "base_uri": "https://localhost:8080/"
        },
        "outputId": "59b48733-1701-47f5-be99-da538b7a77cb",
        "id": "txnXFEJWe6OG"
      },
      "execution_count": null,
      "outputs": [
        {
          "output_type": "stream",
          "name": "stdout",
          "text": [
            "Epoch 0: Training Actual Error= 12.914581475556421, Test Actual Error= 2.832257011320409\n",
            "Epoch 10: Training Actual Error= 0.7085818598438066, Test Actual Error= 7.881571335411787\n",
            "Epoch 20: Training Actual Error= 0.7748806010551391, Test Actual Error= 3.169282001145288\n",
            "Epoch 30: Training Actual Error= 0.3560419983214852, Test Actual Error= 2.205023113767295\n",
            "Epoch 40: Training Actual Error= 0.1955736256199082, Test Actual Error= 1.3678633930867787\n",
            "Epoch 50: Training Actual Error= 0.17116201804387787, Test Actual Error= 1.1272666173463348\n",
            "Epoch 60: Training Actual Error= 0.151878931141413, Test Actual Error= 0.9044436104078185\n",
            "Epoch 70: Training Actual Error= 0.12999591626268442, Test Actual Error= 0.8199593938560137\n",
            "Epoch 80: Training Actual Error= 0.11330457942064498, Test Actual Error= 0.745171943019413\n",
            "Epoch 90: Training Actual Error= 0.10018033260687334, Test Actual Error= 0.6433958715874512\n",
            "Epoch 100: Training Actual Error= 0.08988993794461901, Test Actual Error= 0.5451162354403402\n",
            "Epoch 110: Training Actual Error= 0.08268455695991223, Test Actual Error= 0.46645626281135616\n",
            "Epoch 120: Training Actual Error= 0.07743998377559713, Test Actual Error= 0.41166614090708303\n",
            "Epoch 130: Training Actual Error= 0.07355991925331104, Test Actual Error= 0.37803512020775004\n",
            "Epoch 140: Training Actual Error= 0.07081189379021233, Test Actual Error= 0.338916802952604\n",
            "Epoch 150: Training Actual Error= 0.0688125348979733, Test Actual Error= 0.3078297792694573\n",
            "Epoch 160: Training Actual Error= 0.06730757829313631, Test Actual Error= 0.2889746284227266\n",
            "Epoch 170: Training Actual Error= 0.06609975692721484, Test Actual Error= 0.27710481666376996\n",
            "Epoch 180: Training Actual Error= 0.06503508451519797, Test Actual Error= 0.2693776152637507\n",
            "Epoch 190: Training Actual Error= 0.06402614316719477, Test Actual Error= 0.26428933280669803\n",
            "Epoch 200: Training Actual Error= 0.06305051141065657, Test Actual Error= 0.26099024041674723\n",
            "Epoch 210: Training Actual Error= 0.06208157780592363, Test Actual Error= 0.26080212885706516\n",
            "Epoch 220: Training Actual Error= 0.061115812211821906, Test Actual Error= 0.2619605468851902\n",
            "Epoch 230: Training Actual Error= 0.06014756083072114, Test Actual Error= 0.26301169907768474\n",
            "Epoch 240: Training Actual Error= 0.059176317898592505, Test Actual Error= 0.2654730817450537\n",
            "Epoch 250: Training Actual Error= 0.058203750157120655, Test Actual Error= 0.2686947656188914\n",
            "Epoch 260: Training Actual Error= 0.05722998999440089, Test Actual Error= 0.27284421640670486\n",
            "Epoch 270: Training Actual Error= 0.05625638315838302, Test Actual Error= 0.27601972611393394\n",
            "Epoch 280: Training Actual Error= 0.055282680240277667, Test Actual Error= 0.28035943038730055\n",
            "Epoch 290: Training Actual Error= 0.054311470714178835, Test Actual Error= 0.28513139761234807\n",
            "Epoch 300: Training Actual Error= 0.05334286769118921, Test Actual Error= 0.28953750652697047\n",
            "Epoch 310: Training Actual Error= 0.0523783103391947, Test Actual Error= 0.29467559143544203\n",
            "Epoch 320: Training Actual Error= 0.051418840122633654, Test Actual Error= 0.2998739033132399\n",
            "Epoch 330: Training Actual Error= 0.050465557787553954, Test Actual Error= 0.30528455063779825\n",
            "Epoch 340: Training Actual Error= 0.04951991137432534, Test Actual Error= 0.31097719732396206\n",
            "Epoch 350: Training Actual Error= 0.04858293576411938, Test Actual Error= 0.3172042054977882\n",
            "Epoch 360: Training Actual Error= 0.04765593363354113, Test Actual Error= 0.3234825007994414\n",
            "Epoch 370: Training Actual Error= 0.04674047728616779, Test Actual Error= 0.3297738291748651\n",
            "Epoch 380: Training Actual Error= 0.045837809992661946, Test Actual Error= 0.3367113039798475\n",
            "Epoch 390: Training Actual Error= 0.04494943103984005, Test Actual Error= 0.3439007220270133\n",
            "Epoch 400: Training Actual Error= 0.044077266453343845, Test Actual Error= 0.35081712720990793\n",
            "Epoch 410: Training Actual Error= 0.04322217187791115, Test Actual Error= 0.3586400648423454\n",
            "Epoch 420: Training Actual Error= 0.04238565469590424, Test Actual Error= 0.36721540033334105\n",
            "Epoch 430: Training Actual Error= 0.0415699611460653, Test Actual Error= 0.3748469635710481\n",
            "Epoch 440: Training Actual Error= 0.04077637543852867, Test Actual Error= 0.383560149763965\n",
            "Epoch 450: Training Actual Error= 0.0400062666808145, Test Actual Error= 0.39252702952243623\n",
            "Epoch 460: Training Actual Error= 0.039261032989266795, Test Actual Error= 0.4006697820863896\n",
            "Epoch 470: Training Actual Error= 0.03854137235748427, Test Actual Error= 0.4103366699299407\n",
            "Epoch 480: Training Actual Error= 0.03784834138625333, Test Actual Error= 0.41939857103006734\n",
            "Epoch 490: Training Actual Error= 0.03718394052422446, Test Actual Error= 0.42845464972162944\n"
          ]
        }
      ]
    },
    {
      "cell_type": "markdown",
      "source": [
        "### Model 8\n",
        "\n",
        "lr = 0.01\n",
        "momentum= 0.9\n",
        "epochs = 500\n",
        "sequence_length = 7"
      ],
      "metadata": {
        "id": "7kh9vAqLf7r-"
      }
    },
    {
      "cell_type": "code",
      "source": [
        "# Creating sequences\n",
        "sequence_length = 7\n",
        "\n",
        "def create_sequences(data, sequence_length):\n",
        "\n",
        "  total_sequence=[]\n",
        "  prices = []\n",
        "\n",
        "  for day in range(0, (len(data) - sequence_length)):\n",
        "    start_index = day\n",
        "    end_index = sequence_length + day\n",
        "    day_sequence = data[start_index:end_index]\n",
        "    day_price = data[end_index]\n",
        "\n",
        "    total_sequence.append(day_sequence)\n",
        "    prices.append(day_price)\n",
        "  return np.array(total_sequence), np.array(prices)\n",
        "\n",
        "sequences = create_sequences(scaled_data, sequence_length)\n",
        "X = sequences[0]\n",
        "y = sequences[1]"
      ],
      "metadata": {
        "id": "g5We2yPXf7r_"
      },
      "execution_count": null,
      "outputs": []
    },
    {
      "cell_type": "code",
      "source": [
        "import torch\n",
        "\n",
        "# Split the data into training and testing sets\n",
        "train_size = int(X.shape[0]* split_ratio)\n",
        "X_train = torch.tensor(X[:train_size]).float()\n",
        "y_train = torch.tensor(y[:train_size]).float()\n",
        "X_test = torch.tensor(X[train_size:]).float()\n",
        "y_test = torch.tensor(y[train_size:]).float()"
      ],
      "metadata": {
        "id": "qfJmGEI_f7r_"
      },
      "execution_count": null,
      "outputs": []
    },
    {
      "cell_type": "code",
      "source": [
        "import torch\n",
        "import torch.nn as nn\n",
        "\n",
        "# Define the MLP model\n",
        "class MLP(nn.Module):\n",
        "    def __init__(self, input_size):\n",
        "      super(MLP, self).__init__()\n",
        "      self.model = nn.Sequential(\n",
        "          nn.Linear(input_size, 80),\n",
        "          nn.Linear(80, 60),\n",
        "          nn.Linear(60, 1)\n",
        "      )\n",
        "\n",
        "    def forward(self, x):\n",
        "      x = x.view(-1, input_size)\n",
        "      x = self.model(x)\n",
        "      return x\n",
        "\n",
        "# Instantiate the model\n",
        "input_size = sequence_length\n",
        "model = MLP(input_size)"
      ],
      "metadata": {
        "id": "VdaoHPWBf7r_"
      },
      "execution_count": null,
      "outputs": []
    },
    {
      "cell_type": "code",
      "source": [
        "# Model 4 Parameters\n",
        "\n",
        "lr = 0.01\n",
        "momentum= 0.9\n",
        "epochs = 500"
      ],
      "metadata": {
        "id": "8aD9Kb3gf7r_"
      },
      "execution_count": null,
      "outputs": []
    },
    {
      "cell_type": "code",
      "source": [
        "import torch.optim as optim\n",
        "\n",
        "criterion_training = nn.MSELoss()\n",
        "criterion_testing = nn.MSELoss()\n",
        "optimizer = optim.SGD(model.parameters(), lr=lr, momentum=momentum)"
      ],
      "metadata": {
        "id": "ozHyovNAf7r_"
      },
      "execution_count": null,
      "outputs": []
    },
    {
      "cell_type": "code",
      "source": [
        "# Putting the y data in the correct format\n",
        "\n",
        "y_test_actual = torch.tensor(scaler.inverse_transform(y_test))\n",
        "y_train_actual = torch.tensor(scaler.inverse_transform(y_train))\n",
        "\n",
        "# Initializing a best model for later use\n",
        "best_test_error = torch.tensor(float(500))\n",
        "best_model_state = None\n",
        "\n",
        "# Train the model\n",
        "for epoch in range(epochs):\n",
        "\n",
        "    optimizer.zero_grad()\n",
        "    model.train()\n",
        "    pred = model(X_train)\n",
        "\n",
        "    predictions_train_actual = torch.tensor(scaler.inverse_transform(pred.detach()))\n",
        "    actual_train_error = criterion_training(predictions_train_actual, y_train_actual)\n",
        "\n",
        "    loss = criterion_training(pred, y_train)\n",
        "    # Update model here based on error\n",
        "    loss.backward()\n",
        "    optimizer.step()\n",
        "\n",
        "    model.eval()\n",
        "    # Evaluate the model on the test data\n",
        "    with torch.no_grad():\n",
        "      # Evaluate the model here.\n",
        "      pred_test = model(X_test)\n",
        "      loss_test = criterion_testing(pred_test, y_test)\n",
        "\n",
        "      predictions_test_actual = torch.tensor(scaler.inverse_transform(pred_test.detach()))\n",
        "      actual_test_error = criterion_testing(predictions_test_actual, y_test_actual)\n",
        "\n",
        "    #defining a best model\n",
        "    if actual_test_error < best_test_error:\n",
        "        best_test_error = actual_test_error\n",
        "        best_model_state = model.state_dict()\n",
        "\n",
        "    if epoch %10 == 0:\n",
        "      print(f\"Epoch {epoch}: Training Actual Error= {actual_train_error}, Test Actual Error= {actual_test_error}\")"
      ],
      "metadata": {
        "colab": {
          "base_uri": "https://localhost:8080/"
        },
        "outputId": "cb7e1cc3-1eca-4152-d13a-4ebee6a4ad26",
        "id": "kdQRU1M6f7r_"
      },
      "execution_count": null,
      "outputs": [
        {
          "output_type": "stream",
          "name": "stdout",
          "text": [
            "Epoch 0: Training Actual Error= 23.433751588309434, Test Actual Error= 6.254822939859325\n",
            "Epoch 10: Training Actual Error= 0.7911931177186886, Test Actual Error= 0.2819495338648579\n",
            "Epoch 20: Training Actual Error= 0.17487365239838934, Test Actual Error= 0.2750017616931901\n",
            "Epoch 30: Training Actual Error= 0.10051518898668084, Test Actual Error= 0.09070144642585093\n",
            "Epoch 40: Training Actual Error= 0.08630989035256505, Test Actual Error= 0.2504438958106248\n",
            "Epoch 50: Training Actual Error= 0.08773861686879729, Test Actual Error= 0.0859669390246972\n",
            "Epoch 60: Training Actual Error= 0.08051890715155993, Test Actual Error= 0.18380858043311182\n",
            "Epoch 70: Training Actual Error= 0.07744471091420901, Test Actual Error= 0.10659977387153205\n",
            "Epoch 80: Training Actual Error= 0.07543137973705874, Test Actual Error= 0.1472098753921709\n",
            "Epoch 90: Training Actual Error= 0.07446121061765908, Test Actual Error= 0.11727531199354929\n",
            "Epoch 100: Training Actual Error= 0.07391772040528019, Test Actual Error= 0.13369589744461113\n",
            "Epoch 110: Training Actual Error= 0.07358601448846543, Test Actual Error= 0.1228383816904795\n",
            "Epoch 120: Training Actual Error= 0.07334792328313909, Test Actual Error= 0.1289100406642829\n",
            "Epoch 130: Training Actual Error= 0.07315018232702315, Test Actual Error= 0.12463898148451465\n",
            "Epoch 140: Training Actual Error= 0.07296947087104003, Test Actual Error= 0.12642831424517956\n",
            "Epoch 150: Training Actual Error= 0.07279638216901371, Test Actual Error= 0.12463443367326293\n",
            "Epoch 160: Training Actual Error= 0.07262712111332177, Test Actual Error= 0.12497857675473717\n",
            "Epoch 170: Training Actual Error= 0.07246017901057548, Test Actual Error= 0.124125489783154\n",
            "Epoch 180: Training Actual Error= 0.07229492460341294, Test Actual Error= 0.12396994309604306\n",
            "Epoch 190: Training Actual Error= 0.07213117642131235, Test Actual Error= 0.12341963083646298\n",
            "Epoch 200: Training Actual Error= 0.07196884183824644, Test Actual Error= 0.1230877227193505\n",
            "Epoch 210: Training Actual Error= 0.07180787909809394, Test Actual Error= 0.12263846362484661\n",
            "Epoch 220: Training Actual Error= 0.07164823325491824, Test Actual Error= 0.12225760867603233\n",
            "Epoch 230: Training Actual Error= 0.07148991616669144, Test Actual Error= 0.12184649024760587\n",
            "Epoch 240: Training Actual Error= 0.07133291179508704, Test Actual Error= 0.1214556271066659\n",
            "Epoch 250: Training Actual Error= 0.0711771780520916, Test Actual Error= 0.12105905178157969\n",
            "Epoch 260: Training Actual Error= 0.07102273640041865, Test Actual Error= 0.12066884794156493\n",
            "Epoch 270: Training Actual Error= 0.07086953621335072, Test Actual Error= 0.12027991073933765\n",
            "Epoch 280: Training Actual Error= 0.07071759518846472, Test Actual Error= 0.11989411160000657\n",
            "Epoch 290: Training Actual Error= 0.07056687606635405, Test Actual Error= 0.11951106870885085\n",
            "Epoch 300: Training Actual Error= 0.07041739192221251, Test Actual Error= 0.11913059700930052\n",
            "Epoch 310: Training Actual Error= 0.07026909066140086, Test Actual Error= 0.11875281517827913\n",
            "Epoch 320: Training Actual Error= 0.07012198479753724, Test Actual Error= 0.11837758804545079\n",
            "Epoch 330: Training Actual Error= 0.06997606766622619, Test Actual Error= 0.1180050751021284\n",
            "Epoch 340: Training Actual Error= 0.06983131517774983, Test Actual Error= 0.11763491021651287\n",
            "Epoch 350: Training Actual Error= 0.06968770998430647, Test Actual Error= 0.11726744348169671\n",
            "Epoch 360: Training Actual Error= 0.06954524918355189, Test Actual Error= 0.11690241394584791\n",
            "Epoch 370: Training Actual Error= 0.06940392382343874, Test Actual Error= 0.11653981921308462\n",
            "Epoch 380: Training Actual Error= 0.0692637043028863, Test Actual Error= 0.11617977036151059\n",
            "Epoch 390: Training Actual Error= 0.06912460449682789, Test Actual Error= 0.11582209458315439\n",
            "Epoch 400: Training Actual Error= 0.06898660994357192, Test Actual Error= 0.11546682176641895\n",
            "Epoch 410: Training Actual Error= 0.06884970636270336, Test Actual Error= 0.11511391254687214\n",
            "Epoch 420: Training Actual Error= 0.0687138666675017, Test Actual Error= 0.11476329901609028\n",
            "Epoch 430: Training Actual Error= 0.06857907425532603, Test Actual Error= 0.11441504364256667\n",
            "Epoch 440: Training Actual Error= 0.06844535511582106, Test Actual Error= 0.11406914259223254\n",
            "Epoch 450: Training Actual Error= 0.0683126809670815, Test Actual Error= 0.1137255386276433\n",
            "Epoch 460: Training Actual Error= 0.06818102767145484, Test Actual Error= 0.11338410839940208\n",
            "Epoch 470: Training Actual Error= 0.06805040001365946, Test Actual Error= 0.11304498884540631\n",
            "Epoch 480: Training Actual Error= 0.06792080372347124, Test Actual Error= 0.11270809907494964\n",
            "Epoch 490: Training Actual Error= 0.06779220149026717, Test Actual Error= 0.11237341402991838\n"
          ]
        }
      ]
    },
    {
      "cell_type": "markdown",
      "source": [
        "### WandB MLP\n",
        "\n",
        "---"
      ],
      "metadata": {
        "id": "YWubkiJ-4Mgw"
      }
    },
    {
      "cell_type": "markdown",
      "source": [
        "Next, we wanted to perform a grid search over the hyperparameters and log the results in WandB for tracking the experiments.\n",
        "\n",
        "[WandB Report Link](https://api.wandb.ai/links/ba-865/x2b0xmxp)"
      ],
      "metadata": {
        "id": "Jr6vO-kvA1Dh"
      }
    },
    {
      "cell_type": "code",
      "source": [
        "# Install WandB\n",
        "%%capture\n",
        "!pip install wandb"
      ],
      "metadata": {
        "id": "TQssRSS05zDb"
      },
      "execution_count": null,
      "outputs": []
    },
    {
      "cell_type": "code",
      "source": [
        "import wandb\n",
        "from wandb.keras import WandbMetricsLogger\n",
        "import torch\n",
        "from sklearn.preprocessing import MinMaxScaler\n",
        "import torch.nn as nn\n",
        "import torch.optim as optim\n",
        "\n",
        "# Scaling the data\n",
        "X = sea_temp[['avg_sea_surface_temp']]\n",
        "\n",
        "scaler = MinMaxScaler()\n",
        "\n",
        "scaled_data = scaler.fit_transform(X)\n",
        "\n",
        "# Splitting the data\n",
        "split_ratio = 0.8\n",
        "train_size = int(len(sea_temp) * split_ratio)\n",
        "\n",
        "# Creating sequences\n",
        "sequence_length = 7\n",
        "\n",
        "def create_sequences(data, sequence_length):\n",
        "\n",
        "  total_sequence=[]\n",
        "  prices = []\n",
        "\n",
        "  for day in range(0, (len(data) - sequence_length)):\n",
        "    start_index = day\n",
        "    end_index = sequence_length + day\n",
        "    day_sequence = data[start_index:end_index]\n",
        "    day_price = data[end_index]\n",
        "\n",
        "    total_sequence.append(day_sequence)\n",
        "    prices.append(day_price)\n",
        "  return np.array(total_sequence), np.array(prices)\n",
        "\n",
        "sequences = create_sequences(scaled_data, sequence_length)\n",
        "X = sequences[0]\n",
        "y = sequences[1]\n",
        "\n",
        "# Split the data into training and testing sets\n",
        "train_size = int(X.shape[0]* split_ratio)\n",
        "X_train = torch.tensor(X[:train_size]).float()\n",
        "y_train = torch.tensor(y[:train_size]).float()\n",
        "X_test = torch.tensor(X[train_size:]).float()\n",
        "y_test = torch.tensor(y[train_size:]).float()\n",
        "\n",
        "\n",
        "# Step 1: Define your sweep configs here\n",
        "sweep_configs = {\n",
        "    \"name\": \"BA 865 Project\",\n",
        "    \"method\": \"grid\",\n",
        "    \"metric\": {\"goal\": \"minimize\", \"name\": \"test_accuracy\"},\n",
        "    \"parameters\": {\n",
        "        \"learning_rate\": {\"values\": [1e-1, 1e-2, 1e-3]},\n",
        "        \"momentum\": {\"values\": [0.85, 0.9, 0.95]},\n",
        "        \"epochs\": {\"values\": [100, 500, 1000]}},\n",
        "    }\n",
        "\n",
        "# Step 2: Write a function that contains the code necessary for running a single experiment.\n",
        "def main():\n",
        "    # initialize WandB\n",
        "  #run = wandb.init()\n",
        "\n",
        "    # 2.1 Define the model\n",
        "  class MLP(nn.Module):\n",
        "    def __init__(self, input_size):\n",
        "      super(MLP, self).__init__()\n",
        "      self.model = nn.Sequential(\n",
        "          nn.Linear(input_size, 80),\n",
        "          nn.Linear(80, 60),\n",
        "          nn.Linear(60, 1)\n",
        "      )\n",
        "\n",
        "    def forward(self, x):\n",
        "      x = x.view(-1, input_size)\n",
        "      x = self.model(x)\n",
        "      return x\n",
        "\n",
        "      # Instantiate the model\n",
        "  input_size = sequence_length\n",
        "  model = MLP(input_size)\n",
        "\n",
        "    # 2.2 Compile the model\n",
        "  def train_model(config=None):\n",
        "    with wandb.init(config=config):\n",
        "      config = wandb.config\n",
        "      criterion_training = nn.MSELoss()\n",
        "      criterion_testing = nn.MSELoss()\n",
        "      optimizer = optim.SGD(model.parameters(), lr=config.learning_rate, momentum=config.momentum)\n",
        "      callback = [WandbMetricsLogger()]\n",
        "\n",
        "     # Putting the y data in the correct format\n",
        "      y_test_actual = torch.tensor(scaler.inverse_transform(y_test))\n",
        "      y_train_actual = torch.tensor(scaler.inverse_transform(y_train))\n",
        "\n",
        "      # Train the model\n",
        "      for epoch in range(config.epochs):\n",
        "\n",
        "          optimizer.zero_grad()\n",
        "          model.train()\n",
        "          pred = model(X_train)\n",
        "\n",
        "          predictions_train_actual = torch.tensor(scaler.inverse_transform(pred.detach()))\n",
        "          actual_train_error = criterion_training(predictions_train_actual, y_train_actual)\n",
        "\n",
        "          loss = criterion_training(pred, y_train)\n",
        "          wandb.log({\"train_loss\": loss, \"train_accuracy\": actual_train_error})\n",
        "          # Update model here based on error\n",
        "          loss.backward()\n",
        "          optimizer.step()\n",
        "\n",
        "          model.eval()\n",
        "          # Evaluate the model on the test data\n",
        "          with torch.no_grad():\n",
        "            # Evaluate the model here.\n",
        "            pred_test = model(X_test)\n",
        "            loss_test = criterion_testing(pred_test, y_test)\n",
        "\n",
        "            predictions_test_actual = torch.tensor(scaler.inverse_transform(pred_test.detach()))\n",
        "            actual_test_error = criterion_testing(predictions_test_actual, y_test_actual)\n",
        "            wandb.log({\"test_loss\": loss_test, \"test_accuracy\": actual_test_error})\n",
        "\n",
        "            wandb.run.summary[\"test_accuracy\"] = actual_test_error\n",
        "\n",
        "# Step 3: Initialize sweep by passing in the config.\n",
        "  sweep_id = wandb.sweep(sweep_configs, project = 'project test 2')\n",
        "  wandb.agent(sweep_id, function=train_model)\n",
        "\n",
        "# Step 4: Start sweep job.\n",
        "main()"
      ],
      "metadata": {
        "colab": {
          "base_uri": "https://localhost:8080/",
          "height": 1000,
          "referenced_widgets": [
            "e0fbf28ed2ab4476aaeb6c6297d2b912",
            "f902c7ce956e4215ac3517b87082e47d",
            "db6ddc9d86604e56a80db0c00935a38a",
            "ca348168255043eaa66634cdf378d617",
            "32899acdab4b46399bf521af8b2df42b",
            "58567a57440c4e40a1f36d4a9bed2246",
            "cdac10279b514aa19d88471db6825238",
            "b73513fc572e4a5aa2bb9996020c5ec6",
            "ca1904a472264155b214b284d63074e5",
            "80c2794924e1481e85cc062789f84207",
            "b25c668a455c45c0a67f620d2d0c99d7",
            "dfd6d7f51dce4c01bb9788ad34c4fa66",
            "a2390e77ebcd48a79327944f3b5612bc",
            "1965128344a64616bd18966ef067f15e",
            "f6b64f7446bb418c88c5fef6e1c4cb62",
            "050bb914503c4ee08f9e60cbd68f9c73",
            "a181f03a038042dcb489fc87c8dd6f48",
            "e0a24c3f88994f28824165b9c72f361b",
            "854905b0826a492389ee980cf94100ea",
            "f66c2e0063b441acb4c492f7109e335e",
            "e1bdfeb382264eeaa87f8df2e1519a71",
            "28f960bbe6a444d2bdca41641b0eb64c",
            "3862d18ac76e48c3afce6e894a42c813",
            "f796fcf952864aad932acad1f5f3cd38",
            "d43a5c98fc7e4162b552d0d53b4044b4",
            "82c7b2f1e91340348f1911f73923f0f4",
            "573c1fc4a9604ff9907ccc8d0108d357",
            "ad5a546cd0c149f599f69b245152dcbc",
            "c6dd621e6b0344f38ec747db7b7b5d71",
            "2f9f120e6e0543aea824c98d6a377733",
            "a8d44cfbe6d247588dc12567944eaccd",
            "0dba5c453094448283ebcbcc56c2c7d8",
            "34d25ba1993f4f4c86cb4865b9170b6d",
            "f8b483e454d54455bdeb159c52b15085",
            "be7e4f7a5a7441d2b9e714ba5352e020",
            "7f396271d63b41ccacd4acdd03295667",
            "f159ca80afda486197803449ef4732b4",
            "31030722948947a693c11481588fa63f",
            "8cb64517f83f4e55bc078a2dd35dd6e1",
            "27ab5bc8c8354ae89058ad7e5c761a9c",
            "99660c03f4b34bb88a8658866303df2f",
            "85e526c1633c4bb1a3921e8bf590f90a",
            "f0b17cbac77d4bfaa5389cca74456e1a",
            "d0168643d02848128e35ff29efb6225f",
            "d7b9e28b7ba24286884081326adbe166",
            "3b09813f4d1441c1b9f838e43c39ea54",
            "30c2262c22fb4c6b99a7971a3af3e5eb",
            "b524bd6c38c645669cba6075c5f9dbf6",
            "cc7bcbd7df2a43e79d507ebfd90a3133",
            "14e5826dd7c742838924101acb33bb13",
            "02e60c1d93924b099a569ae5b34b5747",
            "718e49bdad544e1eb427c6e9882bbaa7",
            "77a796a8e4724e0eb5e6aabd8c105048",
            "c81729a6537047ff8ab8d8ba3500eb85",
            "6946c24352534c21bdd4840f686957cd",
            "af3b31308afe4bd8a57a7233a28840f0",
            "f8ff1873eed14de1bf88ba12d87f136a",
            "7e2983dcd79f4724b949cf9c5005cb2d",
            "c0bb8f683696498fbb156e66ed8a8f9f",
            "5c2cfbf4602d4a34ba62953d49ad281a",
            "e41172de784f4dea975e2695ae39b9d9",
            "46963a968a3d421ebc3d99d04747811a",
            "98fcfb6189e0440197003849dae27a8b",
            "dde05985c5bc4a9e8ce3ebb01333b629",
            "d4feaf9bcea1443d83af6bce1ed8251b",
            "cceb537a0a1c4261838a8bd82055b4d5",
            "1663420c5fa047c5afe24e91523e8576",
            "dd90c60bb0ab4291aa3d0ac604839152",
            "d0a348ff543e4114b278188c680b1a7b",
            "7458d99c52f04f6e86768436fc0c0fe0",
            "601608ea48d44886bc8e35a6564eb7f5",
            "b156776f532c433d8cdfa38ac625f499"
          ]
        },
        "id": "t1NKJswk52JQ",
        "outputId": "2c55ada2-ca7b-4308-c251-b2629fc3b209"
      },
      "execution_count": null,
      "outputs": [
        {
          "output_type": "stream",
          "name": "stdout",
          "text": [
            "Create sweep with ID: yje34zks\n",
            "Sweep URL: https://wandb.ai/ba-865/project%20test%202/sweeps/yje34zks\n"
          ]
        },
        {
          "output_type": "stream",
          "name": "stderr",
          "text": [
            "\u001b[34m\u001b[1mwandb\u001b[0m: Agent Starting Run: eb5gqj0k with config:\n",
            "\u001b[34m\u001b[1mwandb\u001b[0m: \tepochs: 500\n",
            "\u001b[34m\u001b[1mwandb\u001b[0m: \tlearning_rate: 0.1\n",
            "\u001b[34m\u001b[1mwandb\u001b[0m: \tmomentum: 0.85\n",
            "\u001b[34m\u001b[1mwandb\u001b[0m: Currently logged in as: \u001b[33msetushah\u001b[0m (\u001b[33mba-865\u001b[0m). Use \u001b[1m`wandb login --relogin`\u001b[0m to force relogin\n"
          ]
        },
        {
          "output_type": "display_data",
          "data": {
            "text/plain": [
              "<IPython.core.display.HTML object>"
            ],
            "text/html": [
              "Tracking run with wandb version 0.16.6"
            ]
          },
          "metadata": {}
        },
        {
          "output_type": "display_data",
          "data": {
            "text/plain": [
              "<IPython.core.display.HTML object>"
            ],
            "text/html": [
              "Run data is saved locally in <code>/content/wandb/run-20240425_025756-eb5gqj0k</code>"
            ]
          },
          "metadata": {}
        },
        {
          "output_type": "display_data",
          "data": {
            "text/plain": [
              "<IPython.core.display.HTML object>"
            ],
            "text/html": [
              "Syncing run <strong><a href='https://wandb.ai/ba-865/project%20test%202/runs/eb5gqj0k' target=\"_blank\">faithful-sweep-1</a></strong> to <a href='https://wandb.ai/ba-865/project%20test%202' target=\"_blank\">Weights & Biases</a> (<a href='https://wandb.me/run' target=\"_blank\">docs</a>)<br/>Sweep page: <a href='https://wandb.ai/ba-865/project%20test%202/sweeps/yje34zks' target=\"_blank\">https://wandb.ai/ba-865/project%20test%202/sweeps/yje34zks</a>"
            ]
          },
          "metadata": {}
        },
        {
          "output_type": "display_data",
          "data": {
            "text/plain": [
              "<IPython.core.display.HTML object>"
            ],
            "text/html": [
              " View project at <a href='https://wandb.ai/ba-865/project%20test%202' target=\"_blank\">https://wandb.ai/ba-865/project%20test%202</a>"
            ]
          },
          "metadata": {}
        },
        {
          "output_type": "display_data",
          "data": {
            "text/plain": [
              "<IPython.core.display.HTML object>"
            ],
            "text/html": [
              " View sweep at <a href='https://wandb.ai/ba-865/project%20test%202/sweeps/yje34zks' target=\"_blank\">https://wandb.ai/ba-865/project%20test%202/sweeps/yje34zks</a>"
            ]
          },
          "metadata": {}
        },
        {
          "output_type": "display_data",
          "data": {
            "text/plain": [
              "<IPython.core.display.HTML object>"
            ],
            "text/html": [
              " View run at <a href='https://wandb.ai/ba-865/project%20test%202/runs/eb5gqj0k' target=\"_blank\">https://wandb.ai/ba-865/project%20test%202/runs/eb5gqj0k</a>"
            ]
          },
          "metadata": {}
        },
        {
          "output_type": "display_data",
          "data": {
            "text/plain": [
              "VBox(children=(Label(value='0.001 MB of 0.011 MB uploaded\\r'), FloatProgress(value=0.11025938140654247, max=1.…"
            ],
            "application/vnd.jupyter.widget-view+json": {
              "version_major": 2,
              "version_minor": 0,
              "model_id": "e0fbf28ed2ab4476aaeb6c6297d2b912"
            }
          },
          "metadata": {}
        },
        {
          "output_type": "display_data",
          "data": {
            "text/plain": [
              "<IPython.core.display.HTML object>"
            ],
            "text/html": [
              "<style>\n",
              "    table.wandb td:nth-child(1) { padding: 0 10px; text-align: left ; width: auto;} td:nth-child(2) {text-align: left ; width: 100%}\n",
              "    .wandb-row { display: flex; flex-direction: row; flex-wrap: wrap; justify-content: flex-start; width: 100% }\n",
              "    .wandb-col { display: flex; flex-direction: column; flex-basis: 100%; flex: 1; padding: 10px; }\n",
              "    </style>\n",
              "<div class=\"wandb-row\"><div class=\"wandb-col\"><h3>Run history:</h3><br/><table class=\"wandb\"><tr><td>test_accuracy</td><td>█▂▁▁▁▁▁▁▁▁▁▁▁▁▁▁▁▁▁▁▁▁▁▁▁▁▁▁▁▁▁▁▁▁▁▁▁▁▁▁</td></tr><tr><td>test_loss</td><td>█▂▁▁▁▁▁▁▁▁▁▁▁▁▁▁▁▁▁▁▁▁▁▁▁▁▁▁▁▁▁▁▁▁▁▁▁▁▁▁</td></tr><tr><td>train_accuracy</td><td>█▇▂▁▁▁▁▁▁▁▁▁▁▁▁▁▁▁▁▁▁▁▁▁▁▁▁▁▁▁▁▁▁▁▁▁▁▁▁▁</td></tr><tr><td>train_loss</td><td>█▇▂▁▁▁▁▁▁▁▁▁▁▁▁▁▁▁▁▁▁▁▁▁▁▁▁▁▁▁▁▁▁▁▁▁▁▁▁▁</td></tr></table><br/></div><div class=\"wandb-col\"><h3>Run summary:</h3><br/><table class=\"wandb\"><tr><td>test_accuracy</td><td>0.07041</td></tr><tr><td>test_loss</td><td>0.00178</td></tr><tr><td>train_accuracy</td><td>0.05451</td></tr><tr><td>train_loss</td><td>0.00138</td></tr></table><br/></div></div>"
            ]
          },
          "metadata": {}
        },
        {
          "output_type": "display_data",
          "data": {
            "text/plain": [
              "<IPython.core.display.HTML object>"
            ],
            "text/html": [
              " View run <strong style=\"color:#cdcd00\">faithful-sweep-1</strong> at: <a href='https://wandb.ai/ba-865/project%20test%202/runs/eb5gqj0k' target=\"_blank\">https://wandb.ai/ba-865/project%20test%202/runs/eb5gqj0k</a><br/> View project at: <a href='https://wandb.ai/ba-865/project%20test%202' target=\"_blank\">https://wandb.ai/ba-865/project%20test%202</a><br/>Synced 4 W&B file(s), 0 media file(s), 0 artifact file(s) and 0 other file(s)"
            ]
          },
          "metadata": {}
        },
        {
          "output_type": "display_data",
          "data": {
            "text/plain": [
              "<IPython.core.display.HTML object>"
            ],
            "text/html": [
              "Find logs at: <code>./wandb/run-20240425_025756-eb5gqj0k/logs</code>"
            ]
          },
          "metadata": {}
        },
        {
          "output_type": "stream",
          "name": "stderr",
          "text": [
            "\u001b[34m\u001b[1mwandb\u001b[0m: Agent Starting Run: m77sha6p with config:\n",
            "\u001b[34m\u001b[1mwandb\u001b[0m: \tepochs: 500\n",
            "\u001b[34m\u001b[1mwandb\u001b[0m: \tlearning_rate: 0.1\n",
            "\u001b[34m\u001b[1mwandb\u001b[0m: \tmomentum: 0.9\n"
          ]
        },
        {
          "output_type": "display_data",
          "data": {
            "text/plain": [
              "<IPython.core.display.HTML object>"
            ],
            "text/html": [
              "Tracking run with wandb version 0.16.6"
            ]
          },
          "metadata": {}
        },
        {
          "output_type": "display_data",
          "data": {
            "text/plain": [
              "<IPython.core.display.HTML object>"
            ],
            "text/html": [
              "Run data is saved locally in <code>/content/wandb/run-20240425_025807-m77sha6p</code>"
            ]
          },
          "metadata": {}
        },
        {
          "output_type": "display_data",
          "data": {
            "text/plain": [
              "<IPython.core.display.HTML object>"
            ],
            "text/html": [
              "Syncing run <strong><a href='https://wandb.ai/ba-865/project%20test%202/runs/m77sha6p' target=\"_blank\">azure-sweep-2</a></strong> to <a href='https://wandb.ai/ba-865/project%20test%202' target=\"_blank\">Weights & Biases</a> (<a href='https://wandb.me/run' target=\"_blank\">docs</a>)<br/>Sweep page: <a href='https://wandb.ai/ba-865/project%20test%202/sweeps/yje34zks' target=\"_blank\">https://wandb.ai/ba-865/project%20test%202/sweeps/yje34zks</a>"
            ]
          },
          "metadata": {}
        },
        {
          "output_type": "display_data",
          "data": {
            "text/plain": [
              "<IPython.core.display.HTML object>"
            ],
            "text/html": [
              " View project at <a href='https://wandb.ai/ba-865/project%20test%202' target=\"_blank\">https://wandb.ai/ba-865/project%20test%202</a>"
            ]
          },
          "metadata": {}
        },
        {
          "output_type": "display_data",
          "data": {
            "text/plain": [
              "<IPython.core.display.HTML object>"
            ],
            "text/html": [
              " View sweep at <a href='https://wandb.ai/ba-865/project%20test%202/sweeps/yje34zks' target=\"_blank\">https://wandb.ai/ba-865/project%20test%202/sweeps/yje34zks</a>"
            ]
          },
          "metadata": {}
        },
        {
          "output_type": "display_data",
          "data": {
            "text/plain": [
              "<IPython.core.display.HTML object>"
            ],
            "text/html": [
              " View run at <a href='https://wandb.ai/ba-865/project%20test%202/runs/m77sha6p' target=\"_blank\">https://wandb.ai/ba-865/project%20test%202/runs/m77sha6p</a>"
            ]
          },
          "metadata": {}
        },
        {
          "output_type": "display_data",
          "data": {
            "text/plain": [
              "VBox(children=(Label(value='0.001 MB of 0.002 MB uploaded\\r'), FloatProgress(value=0.5399737876802096, max=1.0…"
            ],
            "application/vnd.jupyter.widget-view+json": {
              "version_major": 2,
              "version_minor": 0,
              "model_id": "ca1904a472264155b214b284d63074e5"
            }
          },
          "metadata": {}
        },
        {
          "output_type": "display_data",
          "data": {
            "text/plain": [
              "<IPython.core.display.HTML object>"
            ],
            "text/html": [
              "<style>\n",
              "    table.wandb td:nth-child(1) { padding: 0 10px; text-align: left ; width: auto;} td:nth-child(2) {text-align: left ; width: 100%}\n",
              "    .wandb-row { display: flex; flex-direction: row; flex-wrap: wrap; justify-content: flex-start; width: 100% }\n",
              "    .wandb-col { display: flex; flex-direction: column; flex-basis: 100%; flex: 1; padding: 10px; }\n",
              "    </style>\n",
              "<div class=\"wandb-row\"><div class=\"wandb-col\"><h3>Run history:</h3><br/><table class=\"wandb\"><tr><td>test_accuracy</td><td>██▇▇▇▆▆▅▅▅▅▄▄▄▄▄▃▃▃▃▃▃▂▂▂▂▂▂▂▂▂▂▁▁▁▁▁▁▁▁</td></tr><tr><td>test_loss</td><td>██▇▇▇▆▆▅▅▅▅▄▄▄▄▄▃▃▃▃▃▃▂▂▂▂▂▂▂▂▂▂▁▁▁▁▁▁▁▁</td></tr><tr><td>train_accuracy</td><td>██▇▇▆▆▆▅▅▅▄▄▄▄▃▃▃▃▃▃▂▂▂▂▂▂▂▂▂▂▁▁▁▁▁▁▁▁▁▁</td></tr><tr><td>train_loss</td><td>██▇▇▆▆▆▅▅▅▄▄▄▄▃▃▃▃▃▃▂▂▂▂▂▂▂▂▂▂▁▁▁▁▁▁▁▁▁▁</td></tr></table><br/></div><div class=\"wandb-col\"><h3>Run summary:</h3><br/><table class=\"wandb\"><tr><td>test_accuracy</td><td>0.0625</td></tr><tr><td>test_loss</td><td>0.00158</td></tr><tr><td>train_accuracy</td><td>0.05294</td></tr><tr><td>train_loss</td><td>0.00134</td></tr></table><br/></div></div>"
            ]
          },
          "metadata": {}
        },
        {
          "output_type": "display_data",
          "data": {
            "text/plain": [
              "<IPython.core.display.HTML object>"
            ],
            "text/html": [
              " View run <strong style=\"color:#cdcd00\">azure-sweep-2</strong> at: <a href='https://wandb.ai/ba-865/project%20test%202/runs/m77sha6p' target=\"_blank\">https://wandb.ai/ba-865/project%20test%202/runs/m77sha6p</a><br/> View project at: <a href='https://wandb.ai/ba-865/project%20test%202' target=\"_blank\">https://wandb.ai/ba-865/project%20test%202</a><br/>Synced 4 W&B file(s), 0 media file(s), 0 artifact file(s) and 0 other file(s)"
            ]
          },
          "metadata": {}
        },
        {
          "output_type": "display_data",
          "data": {
            "text/plain": [
              "<IPython.core.display.HTML object>"
            ],
            "text/html": [
              "Find logs at: <code>./wandb/run-20240425_025807-m77sha6p/logs</code>"
            ]
          },
          "metadata": {}
        },
        {
          "output_type": "stream",
          "name": "stderr",
          "text": [
            "\u001b[34m\u001b[1mwandb\u001b[0m: Agent Starting Run: 1hpx8cs3 with config:\n",
            "\u001b[34m\u001b[1mwandb\u001b[0m: \tepochs: 500\n",
            "\u001b[34m\u001b[1mwandb\u001b[0m: \tlearning_rate: 0.1\n",
            "\u001b[34m\u001b[1mwandb\u001b[0m: \tmomentum: 0.95\n"
          ]
        },
        {
          "output_type": "display_data",
          "data": {
            "text/plain": [
              "<IPython.core.display.HTML object>"
            ],
            "text/html": [
              "Tracking run with wandb version 0.16.6"
            ]
          },
          "metadata": {}
        },
        {
          "output_type": "display_data",
          "data": {
            "text/plain": [
              "<IPython.core.display.HTML object>"
            ],
            "text/html": [
              "Run data is saved locally in <code>/content/wandb/run-20240425_025817-1hpx8cs3</code>"
            ]
          },
          "metadata": {}
        },
        {
          "output_type": "display_data",
          "data": {
            "text/plain": [
              "<IPython.core.display.HTML object>"
            ],
            "text/html": [
              "Syncing run <strong><a href='https://wandb.ai/ba-865/project%20test%202/runs/1hpx8cs3' target=\"_blank\">visionary-sweep-3</a></strong> to <a href='https://wandb.ai/ba-865/project%20test%202' target=\"_blank\">Weights & Biases</a> (<a href='https://wandb.me/run' target=\"_blank\">docs</a>)<br/>Sweep page: <a href='https://wandb.ai/ba-865/project%20test%202/sweeps/yje34zks' target=\"_blank\">https://wandb.ai/ba-865/project%20test%202/sweeps/yje34zks</a>"
            ]
          },
          "metadata": {}
        },
        {
          "output_type": "display_data",
          "data": {
            "text/plain": [
              "<IPython.core.display.HTML object>"
            ],
            "text/html": [
              " View project at <a href='https://wandb.ai/ba-865/project%20test%202' target=\"_blank\">https://wandb.ai/ba-865/project%20test%202</a>"
            ]
          },
          "metadata": {}
        },
        {
          "output_type": "display_data",
          "data": {
            "text/plain": [
              "<IPython.core.display.HTML object>"
            ],
            "text/html": [
              " View sweep at <a href='https://wandb.ai/ba-865/project%20test%202/sweeps/yje34zks' target=\"_blank\">https://wandb.ai/ba-865/project%20test%202/sweeps/yje34zks</a>"
            ]
          },
          "metadata": {}
        },
        {
          "output_type": "display_data",
          "data": {
            "text/plain": [
              "<IPython.core.display.HTML object>"
            ],
            "text/html": [
              " View run at <a href='https://wandb.ai/ba-865/project%20test%202/runs/1hpx8cs3' target=\"_blank\">https://wandb.ai/ba-865/project%20test%202/runs/1hpx8cs3</a>"
            ]
          },
          "metadata": {}
        },
        {
          "output_type": "display_data",
          "data": {
            "text/plain": [
              "VBox(children=(Label(value='0.001 MB of 0.002 MB uploaded\\r'), FloatProgress(value=0.5394679459223725, max=1.0…"
            ],
            "application/vnd.jupyter.widget-view+json": {
              "version_major": 2,
              "version_minor": 0,
              "model_id": "a181f03a038042dcb489fc87c8dd6f48"
            }
          },
          "metadata": {}
        },
        {
          "output_type": "display_data",
          "data": {
            "text/plain": [
              "<IPython.core.display.HTML object>"
            ],
            "text/html": [
              "<style>\n",
              "    table.wandb td:nth-child(1) { padding: 0 10px; text-align: left ; width: auto;} td:nth-child(2) {text-align: left ; width: 100%}\n",
              "    .wandb-row { display: flex; flex-direction: row; flex-wrap: wrap; justify-content: flex-start; width: 100% }\n",
              "    .wandb-col { display: flex; flex-direction: column; flex-basis: 100%; flex: 1; padding: 10px; }\n",
              "    </style>\n",
              "<div class=\"wandb-row\"><div class=\"wandb-col\"><h3>Run history:</h3><br/><table class=\"wandb\"><tr><td>test_accuracy</td><td>██▇▇▇▆▆▅▅▅▄▄▄▃▃▃▃▃▃▂▂▂▂▂▂▂▂▂▂▁▁▁▁▁▁▁▁▁▁▁</td></tr><tr><td>test_loss</td><td>██▇▇▇▆▆▅▅▅▄▄▄▃▃▃▃▃▃▂▂▂▂▂▂▂▂▂▂▁▁▁▁▁▁▁▁▁▁▁</td></tr><tr><td>train_accuracy</td><td>██▇▇▆▆▅▅▄▄▄▃▃▃▃▃▂▂▂▂▂▂▂▂▂▂▁▁▁▁▁▁▁▁▁▁▁▁▁▁</td></tr><tr><td>train_loss</td><td>██▇▇▆▆▅▅▄▄▄▃▃▃▃▃▂▂▂▂▂▂▂▂▂▂▁▁▁▁▁▁▁▁▁▁▁▁▁▁</td></tr></table><br/></div><div class=\"wandb-col\"><h3>Run summary:</h3><br/><table class=\"wandb\"><tr><td>test_accuracy</td><td>0.06109</td></tr><tr><td>test_loss</td><td>0.00154</td></tr><tr><td>train_accuracy</td><td>0.05279</td></tr><tr><td>train_loss</td><td>0.00133</td></tr></table><br/></div></div>"
            ]
          },
          "metadata": {}
        },
        {
          "output_type": "display_data",
          "data": {
            "text/plain": [
              "<IPython.core.display.HTML object>"
            ],
            "text/html": [
              " View run <strong style=\"color:#cdcd00\">visionary-sweep-3</strong> at: <a href='https://wandb.ai/ba-865/project%20test%202/runs/1hpx8cs3' target=\"_blank\">https://wandb.ai/ba-865/project%20test%202/runs/1hpx8cs3</a><br/> View project at: <a href='https://wandb.ai/ba-865/project%20test%202' target=\"_blank\">https://wandb.ai/ba-865/project%20test%202</a><br/>Synced 4 W&B file(s), 0 media file(s), 0 artifact file(s) and 0 other file(s)"
            ]
          },
          "metadata": {}
        },
        {
          "output_type": "display_data",
          "data": {
            "text/plain": [
              "<IPython.core.display.HTML object>"
            ],
            "text/html": [
              "Find logs at: <code>./wandb/run-20240425_025817-1hpx8cs3/logs</code>"
            ]
          },
          "metadata": {}
        },
        {
          "output_type": "stream",
          "name": "stderr",
          "text": [
            "\u001b[34m\u001b[1mwandb\u001b[0m: Agent Starting Run: 2h7lyoho with config:\n",
            "\u001b[34m\u001b[1mwandb\u001b[0m: \tepochs: 500\n",
            "\u001b[34m\u001b[1mwandb\u001b[0m: \tlearning_rate: 0.01\n",
            "\u001b[34m\u001b[1mwandb\u001b[0m: \tmomentum: 0.85\n"
          ]
        },
        {
          "output_type": "display_data",
          "data": {
            "text/plain": [
              "<IPython.core.display.HTML object>"
            ],
            "text/html": [
              "Tracking run with wandb version 0.16.6"
            ]
          },
          "metadata": {}
        },
        {
          "output_type": "display_data",
          "data": {
            "text/plain": [
              "<IPython.core.display.HTML object>"
            ],
            "text/html": [
              "Run data is saved locally in <code>/content/wandb/run-20240425_025828-2h7lyoho</code>"
            ]
          },
          "metadata": {}
        },
        {
          "output_type": "display_data",
          "data": {
            "text/plain": [
              "<IPython.core.display.HTML object>"
            ],
            "text/html": [
              "Syncing run <strong><a href='https://wandb.ai/ba-865/project%20test%202/runs/2h7lyoho' target=\"_blank\">tough-sweep-4</a></strong> to <a href='https://wandb.ai/ba-865/project%20test%202' target=\"_blank\">Weights & Biases</a> (<a href='https://wandb.me/run' target=\"_blank\">docs</a>)<br/>Sweep page: <a href='https://wandb.ai/ba-865/project%20test%202/sweeps/yje34zks' target=\"_blank\">https://wandb.ai/ba-865/project%20test%202/sweeps/yje34zks</a>"
            ]
          },
          "metadata": {}
        },
        {
          "output_type": "display_data",
          "data": {
            "text/plain": [
              "<IPython.core.display.HTML object>"
            ],
            "text/html": [
              " View project at <a href='https://wandb.ai/ba-865/project%20test%202' target=\"_blank\">https://wandb.ai/ba-865/project%20test%202</a>"
            ]
          },
          "metadata": {}
        },
        {
          "output_type": "display_data",
          "data": {
            "text/plain": [
              "<IPython.core.display.HTML object>"
            ],
            "text/html": [
              " View sweep at <a href='https://wandb.ai/ba-865/project%20test%202/sweeps/yje34zks' target=\"_blank\">https://wandb.ai/ba-865/project%20test%202/sweeps/yje34zks</a>"
            ]
          },
          "metadata": {}
        },
        {
          "output_type": "display_data",
          "data": {
            "text/plain": [
              "<IPython.core.display.HTML object>"
            ],
            "text/html": [
              " View run at <a href='https://wandb.ai/ba-865/project%20test%202/runs/2h7lyoho' target=\"_blank\">https://wandb.ai/ba-865/project%20test%202/runs/2h7lyoho</a>"
            ]
          },
          "metadata": {}
        },
        {
          "output_type": "display_data",
          "data": {
            "text/plain": [
              "VBox(children=(Label(value='0.001 MB of 0.011 MB uploaded\\r'), FloatProgress(value=0.10902322283283106, max=1.…"
            ],
            "application/vnd.jupyter.widget-view+json": {
              "version_major": 2,
              "version_minor": 0,
              "model_id": "d43a5c98fc7e4162b552d0d53b4044b4"
            }
          },
          "metadata": {}
        },
        {
          "output_type": "display_data",
          "data": {
            "text/plain": [
              "<IPython.core.display.HTML object>"
            ],
            "text/html": [
              "<style>\n",
              "    table.wandb td:nth-child(1) { padding: 0 10px; text-align: left ; width: auto;} td:nth-child(2) {text-align: left ; width: 100%}\n",
              "    .wandb-row { display: flex; flex-direction: row; flex-wrap: wrap; justify-content: flex-start; width: 100% }\n",
              "    .wandb-col { display: flex; flex-direction: column; flex-basis: 100%; flex: 1; padding: 10px; }\n",
              "    </style>\n",
              "<div class=\"wandb-row\"><div class=\"wandb-col\"><h3>Run history:</h3><br/><table class=\"wandb\"><tr><td>test_accuracy</td><td>████▇▇▇▇▇▆▆▆▆▆▅▅▅▅▅▅▄▄▄▄▄▃▃▃▃▃▃▂▂▂▂▂▂▁▁▁</td></tr><tr><td>test_loss</td><td>████▇▇▇▇▇▆▆▆▆▆▅▅▅▅▅▅▄▄▄▄▄▃▃▃▃▃▃▂▂▂▂▂▂▁▁▁</td></tr><tr><td>train_accuracy</td><td>███▇▇▇▇▇▇▆▆▆▆▆▆▅▅▅▅▄▄▄▄▄▄▃▃▃▃▃▃▂▂▂▂▂▂▁▁▁</td></tr><tr><td>train_loss</td><td>███▇▇▇▇▇▆▆▆▆▆▅▅▅▅▅▅▄▄▄▄▄▄▃▃▃▃▃▃▂▂▂▂▂▂▁▁▁</td></tr></table><br/></div><div class=\"wandb-col\"><h3>Run summary:</h3><br/><table class=\"wandb\"><tr><td>test_accuracy</td><td>0.06108</td></tr><tr><td>test_loss</td><td>0.00154</td></tr><tr><td>train_accuracy</td><td>0.05279</td></tr><tr><td>train_loss</td><td>0.00133</td></tr></table><br/></div></div>"
            ]
          },
          "metadata": {}
        },
        {
          "output_type": "display_data",
          "data": {
            "text/plain": [
              "<IPython.core.display.HTML object>"
            ],
            "text/html": [
              " View run <strong style=\"color:#cdcd00\">tough-sweep-4</strong> at: <a href='https://wandb.ai/ba-865/project%20test%202/runs/2h7lyoho' target=\"_blank\">https://wandb.ai/ba-865/project%20test%202/runs/2h7lyoho</a><br/> View project at: <a href='https://wandb.ai/ba-865/project%20test%202' target=\"_blank\">https://wandb.ai/ba-865/project%20test%202</a><br/>Synced 4 W&B file(s), 0 media file(s), 0 artifact file(s) and 0 other file(s)"
            ]
          },
          "metadata": {}
        },
        {
          "output_type": "display_data",
          "data": {
            "text/plain": [
              "<IPython.core.display.HTML object>"
            ],
            "text/html": [
              "Find logs at: <code>./wandb/run-20240425_025828-2h7lyoho/logs</code>"
            ]
          },
          "metadata": {}
        },
        {
          "output_type": "stream",
          "name": "stderr",
          "text": [
            "\u001b[34m\u001b[1mwandb\u001b[0m: Agent Starting Run: ofqevxls with config:\n",
            "\u001b[34m\u001b[1mwandb\u001b[0m: \tepochs: 500\n",
            "\u001b[34m\u001b[1mwandb\u001b[0m: \tlearning_rate: 0.01\n",
            "\u001b[34m\u001b[1mwandb\u001b[0m: \tmomentum: 0.9\n"
          ]
        },
        {
          "output_type": "display_data",
          "data": {
            "text/plain": [
              "<IPython.core.display.HTML object>"
            ],
            "text/html": [
              "Tracking run with wandb version 0.16.6"
            ]
          },
          "metadata": {}
        },
        {
          "output_type": "display_data",
          "data": {
            "text/plain": [
              "<IPython.core.display.HTML object>"
            ],
            "text/html": [
              "Run data is saved locally in <code>/content/wandb/run-20240425_025838-ofqevxls</code>"
            ]
          },
          "metadata": {}
        },
        {
          "output_type": "display_data",
          "data": {
            "text/plain": [
              "<IPython.core.display.HTML object>"
            ],
            "text/html": [
              "Syncing run <strong><a href='https://wandb.ai/ba-865/project%20test%202/runs/ofqevxls' target=\"_blank\">ethereal-sweep-5</a></strong> to <a href='https://wandb.ai/ba-865/project%20test%202' target=\"_blank\">Weights & Biases</a> (<a href='https://wandb.me/run' target=\"_blank\">docs</a>)<br/>Sweep page: <a href='https://wandb.ai/ba-865/project%20test%202/sweeps/yje34zks' target=\"_blank\">https://wandb.ai/ba-865/project%20test%202/sweeps/yje34zks</a>"
            ]
          },
          "metadata": {}
        },
        {
          "output_type": "display_data",
          "data": {
            "text/plain": [
              "<IPython.core.display.HTML object>"
            ],
            "text/html": [
              " View project at <a href='https://wandb.ai/ba-865/project%20test%202' target=\"_blank\">https://wandb.ai/ba-865/project%20test%202</a>"
            ]
          },
          "metadata": {}
        },
        {
          "output_type": "display_data",
          "data": {
            "text/plain": [
              "<IPython.core.display.HTML object>"
            ],
            "text/html": [
              " View sweep at <a href='https://wandb.ai/ba-865/project%20test%202/sweeps/yje34zks' target=\"_blank\">https://wandb.ai/ba-865/project%20test%202/sweeps/yje34zks</a>"
            ]
          },
          "metadata": {}
        },
        {
          "output_type": "display_data",
          "data": {
            "text/plain": [
              "<IPython.core.display.HTML object>"
            ],
            "text/html": [
              " View run at <a href='https://wandb.ai/ba-865/project%20test%202/runs/ofqevxls' target=\"_blank\">https://wandb.ai/ba-865/project%20test%202/runs/ofqevxls</a>"
            ]
          },
          "metadata": {}
        },
        {
          "output_type": "display_data",
          "data": {
            "text/plain": [
              "VBox(children=(Label(value='0.001 MB of 0.002 MB uploaded\\r'), FloatProgress(value=0.539232781168265, max=1.0)…"
            ],
            "application/vnd.jupyter.widget-view+json": {
              "version_major": 2,
              "version_minor": 0,
              "model_id": "34d25ba1993f4f4c86cb4865b9170b6d"
            }
          },
          "metadata": {}
        },
        {
          "output_type": "display_data",
          "data": {
            "text/plain": [
              "<IPython.core.display.HTML object>"
            ],
            "text/html": [
              "<style>\n",
              "    table.wandb td:nth-child(1) { padding: 0 10px; text-align: left ; width: auto;} td:nth-child(2) {text-align: left ; width: 100%}\n",
              "    .wandb-row { display: flex; flex-direction: row; flex-wrap: wrap; justify-content: flex-start; width: 100% }\n",
              "    .wandb-col { display: flex; flex-direction: column; flex-basis: 100%; flex: 1; padding: 10px; }\n",
              "    </style>\n",
              "<div class=\"wandb-row\"><div class=\"wandb-col\"><h3>Run history:</h3><br/><table class=\"wandb\"><tr><td>test_accuracy</td><td>████▇▇▇▇▇▆▆▆▆▆▅▅▅▅▅▅▄▄▄▄▄▃▃▃▃▃▃▂▂▂▂▂▁▁▁▁</td></tr><tr><td>test_loss</td><td>████▇▇▇▇▇▆▆▆▆▆▅▅▅▅▅▅▄▄▄▄▄▃▃▃▃▃▃▂▂▂▂▂▁▁▁▁</td></tr><tr><td>train_accuracy</td><td>████▇▇▇▇▇▆▆▆▆▆▅▅▅▅▅▅▄▄▄▄▄▃▃▃▃▃▃▂▂▂▂▂▂▁▁▁</td></tr><tr><td>train_loss</td><td>███▇▇▇▇▇▇▆▆▆▆▆▅▅▅▅▅▅▄▄▄▄▄▃▃▃▃▃▃▃▂▂▂▂▂▁▁▁</td></tr></table><br/></div><div class=\"wandb-col\"><h3>Run summary:</h3><br/><table class=\"wandb\"><tr><td>test_accuracy</td><td>0.06107</td></tr><tr><td>test_loss</td><td>0.00154</td></tr><tr><td>train_accuracy</td><td>0.05279</td></tr><tr><td>train_loss</td><td>0.00133</td></tr></table><br/></div></div>"
            ]
          },
          "metadata": {}
        },
        {
          "output_type": "display_data",
          "data": {
            "text/plain": [
              "<IPython.core.display.HTML object>"
            ],
            "text/html": [
              " View run <strong style=\"color:#cdcd00\">ethereal-sweep-5</strong> at: <a href='https://wandb.ai/ba-865/project%20test%202/runs/ofqevxls' target=\"_blank\">https://wandb.ai/ba-865/project%20test%202/runs/ofqevxls</a><br/> View project at: <a href='https://wandb.ai/ba-865/project%20test%202' target=\"_blank\">https://wandb.ai/ba-865/project%20test%202</a><br/>Synced 4 W&B file(s), 0 media file(s), 0 artifact file(s) and 0 other file(s)"
            ]
          },
          "metadata": {}
        },
        {
          "output_type": "display_data",
          "data": {
            "text/plain": [
              "<IPython.core.display.HTML object>"
            ],
            "text/html": [
              "Find logs at: <code>./wandb/run-20240425_025838-ofqevxls/logs</code>"
            ]
          },
          "metadata": {}
        },
        {
          "output_type": "stream",
          "name": "stderr",
          "text": [
            "\u001b[34m\u001b[1mwandb\u001b[0m: Agent Starting Run: zvy4vbj8 with config:\n",
            "\u001b[34m\u001b[1mwandb\u001b[0m: \tepochs: 500\n",
            "\u001b[34m\u001b[1mwandb\u001b[0m: \tlearning_rate: 0.01\n",
            "\u001b[34m\u001b[1mwandb\u001b[0m: \tmomentum: 0.95\n"
          ]
        },
        {
          "output_type": "display_data",
          "data": {
            "text/plain": [
              "<IPython.core.display.HTML object>"
            ],
            "text/html": [
              "Tracking run with wandb version 0.16.6"
            ]
          },
          "metadata": {}
        },
        {
          "output_type": "display_data",
          "data": {
            "text/plain": [
              "<IPython.core.display.HTML object>"
            ],
            "text/html": [
              "Run data is saved locally in <code>/content/wandb/run-20240425_025849-zvy4vbj8</code>"
            ]
          },
          "metadata": {}
        },
        {
          "output_type": "display_data",
          "data": {
            "text/plain": [
              "<IPython.core.display.HTML object>"
            ],
            "text/html": [
              "Syncing run <strong><a href='https://wandb.ai/ba-865/project%20test%202/runs/zvy4vbj8' target=\"_blank\">rural-sweep-6</a></strong> to <a href='https://wandb.ai/ba-865/project%20test%202' target=\"_blank\">Weights & Biases</a> (<a href='https://wandb.me/run' target=\"_blank\">docs</a>)<br/>Sweep page: <a href='https://wandb.ai/ba-865/project%20test%202/sweeps/yje34zks' target=\"_blank\">https://wandb.ai/ba-865/project%20test%202/sweeps/yje34zks</a>"
            ]
          },
          "metadata": {}
        },
        {
          "output_type": "display_data",
          "data": {
            "text/plain": [
              "<IPython.core.display.HTML object>"
            ],
            "text/html": [
              " View project at <a href='https://wandb.ai/ba-865/project%20test%202' target=\"_blank\">https://wandb.ai/ba-865/project%20test%202</a>"
            ]
          },
          "metadata": {}
        },
        {
          "output_type": "display_data",
          "data": {
            "text/plain": [
              "<IPython.core.display.HTML object>"
            ],
            "text/html": [
              " View sweep at <a href='https://wandb.ai/ba-865/project%20test%202/sweeps/yje34zks' target=\"_blank\">https://wandb.ai/ba-865/project%20test%202/sweeps/yje34zks</a>"
            ]
          },
          "metadata": {}
        },
        {
          "output_type": "display_data",
          "data": {
            "text/plain": [
              "<IPython.core.display.HTML object>"
            ],
            "text/html": [
              " View run at <a href='https://wandb.ai/ba-865/project%20test%202/runs/zvy4vbj8' target=\"_blank\">https://wandb.ai/ba-865/project%20test%202/runs/zvy4vbj8</a>"
            ]
          },
          "metadata": {}
        },
        {
          "output_type": "display_data",
          "data": {
            "text/plain": [
              "VBox(children=(Label(value='0.001 MB of 0.002 MB uploaded\\r'), FloatProgress(value=0.5390318360226777, max=1.0…"
            ],
            "application/vnd.jupyter.widget-view+json": {
              "version_major": 2,
              "version_minor": 0,
              "model_id": "99660c03f4b34bb88a8658866303df2f"
            }
          },
          "metadata": {}
        },
        {
          "output_type": "display_data",
          "data": {
            "text/plain": [
              "<IPython.core.display.HTML object>"
            ],
            "text/html": [
              "<style>\n",
              "    table.wandb td:nth-child(1) { padding: 0 10px; text-align: left ; width: auto;} td:nth-child(2) {text-align: left ; width: 100%}\n",
              "    .wandb-row { display: flex; flex-direction: row; flex-wrap: wrap; justify-content: flex-start; width: 100% }\n",
              "    .wandb-col { display: flex; flex-direction: column; flex-basis: 100%; flex: 1; padding: 10px; }\n",
              "    </style>\n",
              "<div class=\"wandb-row\"><div class=\"wandb-col\"><h3>Run history:</h3><br/><table class=\"wandb\"><tr><td>test_accuracy</td><td>████▇▇▇▇▇▆▆▆▆▆▆▅▅▅▅▅▄▄▄▄▄▃▃▃▃▃▃▂▂▂▂▂▁▁▁▁</td></tr><tr><td>test_loss</td><td>████▇▇▇▇▇▆▆▆▆▆▆▅▅▅▅▅▄▄▄▄▄▃▃▃▃▃▃▂▂▂▂▂▁▁▁▁</td></tr><tr><td>train_accuracy</td><td>█████▇▇▇▇▆▆▆▆▆▅▅▅▅▅▄▄▄▄▄▄▃▃▃▃▃▂▂▂▂▂▂▂▁▁▁</td></tr><tr><td>train_loss</td><td>████▇▇▇▇▇▆▆▆▆▆▅▅▅▅▅▄▄▄▄▄▄▃▃▃▃▃▂▂▂▂▂▂▂▁▁▁</td></tr></table><br/></div><div class=\"wandb-col\"><h3>Run summary:</h3><br/><table class=\"wandb\"><tr><td>test_accuracy</td><td>0.06105</td></tr><tr><td>test_loss</td><td>0.00154</td></tr><tr><td>train_accuracy</td><td>0.05279</td></tr><tr><td>train_loss</td><td>0.00133</td></tr></table><br/></div></div>"
            ]
          },
          "metadata": {}
        },
        {
          "output_type": "display_data",
          "data": {
            "text/plain": [
              "<IPython.core.display.HTML object>"
            ],
            "text/html": [
              " View run <strong style=\"color:#cdcd00\">rural-sweep-6</strong> at: <a href='https://wandb.ai/ba-865/project%20test%202/runs/zvy4vbj8' target=\"_blank\">https://wandb.ai/ba-865/project%20test%202/runs/zvy4vbj8</a><br/> View project at: <a href='https://wandb.ai/ba-865/project%20test%202' target=\"_blank\">https://wandb.ai/ba-865/project%20test%202</a><br/>Synced 4 W&B file(s), 0 media file(s), 0 artifact file(s) and 0 other file(s)"
            ]
          },
          "metadata": {}
        },
        {
          "output_type": "display_data",
          "data": {
            "text/plain": [
              "<IPython.core.display.HTML object>"
            ],
            "text/html": [
              "Find logs at: <code>./wandb/run-20240425_025849-zvy4vbj8/logs</code>"
            ]
          },
          "metadata": {}
        },
        {
          "output_type": "stream",
          "name": "stderr",
          "text": [
            "\u001b[34m\u001b[1mwandb\u001b[0m: Agent Starting Run: cmytkiun with config:\n",
            "\u001b[34m\u001b[1mwandb\u001b[0m: \tepochs: 500\n",
            "\u001b[34m\u001b[1mwandb\u001b[0m: \tlearning_rate: 0.001\n",
            "\u001b[34m\u001b[1mwandb\u001b[0m: \tmomentum: 0.85\n"
          ]
        },
        {
          "output_type": "display_data",
          "data": {
            "text/plain": [
              "<IPython.core.display.HTML object>"
            ],
            "text/html": [
              "Tracking run with wandb version 0.16.6"
            ]
          },
          "metadata": {}
        },
        {
          "output_type": "display_data",
          "data": {
            "text/plain": [
              "<IPython.core.display.HTML object>"
            ],
            "text/html": [
              "Run data is saved locally in <code>/content/wandb/run-20240425_025859-cmytkiun</code>"
            ]
          },
          "metadata": {}
        },
        {
          "output_type": "display_data",
          "data": {
            "text/plain": [
              "<IPython.core.display.HTML object>"
            ],
            "text/html": [
              "Syncing run <strong><a href='https://wandb.ai/ba-865/project%20test%202/runs/cmytkiun' target=\"_blank\">fragrant-sweep-7</a></strong> to <a href='https://wandb.ai/ba-865/project%20test%202' target=\"_blank\">Weights & Biases</a> (<a href='https://wandb.me/run' target=\"_blank\">docs</a>)<br/>Sweep page: <a href='https://wandb.ai/ba-865/project%20test%202/sweeps/yje34zks' target=\"_blank\">https://wandb.ai/ba-865/project%20test%202/sweeps/yje34zks</a>"
            ]
          },
          "metadata": {}
        },
        {
          "output_type": "display_data",
          "data": {
            "text/plain": [
              "<IPython.core.display.HTML object>"
            ],
            "text/html": [
              " View project at <a href='https://wandb.ai/ba-865/project%20test%202' target=\"_blank\">https://wandb.ai/ba-865/project%20test%202</a>"
            ]
          },
          "metadata": {}
        },
        {
          "output_type": "display_data",
          "data": {
            "text/plain": [
              "<IPython.core.display.HTML object>"
            ],
            "text/html": [
              " View sweep at <a href='https://wandb.ai/ba-865/project%20test%202/sweeps/yje34zks' target=\"_blank\">https://wandb.ai/ba-865/project%20test%202/sweeps/yje34zks</a>"
            ]
          },
          "metadata": {}
        },
        {
          "output_type": "display_data",
          "data": {
            "text/plain": [
              "<IPython.core.display.HTML object>"
            ],
            "text/html": [
              " View run at <a href='https://wandb.ai/ba-865/project%20test%202/runs/cmytkiun' target=\"_blank\">https://wandb.ai/ba-865/project%20test%202/runs/cmytkiun</a>"
            ]
          },
          "metadata": {}
        },
        {
          "output_type": "display_data",
          "data": {
            "text/plain": [
              "VBox(children=(Label(value='0.011 MB of 0.011 MB uploaded\\r'), FloatProgress(value=1.0, max=1.0)))"
            ],
            "application/vnd.jupyter.widget-view+json": {
              "version_major": 2,
              "version_minor": 0,
              "model_id": "cc7bcbd7df2a43e79d507ebfd90a3133"
            }
          },
          "metadata": {}
        },
        {
          "output_type": "display_data",
          "data": {
            "text/plain": [
              "<IPython.core.display.HTML object>"
            ],
            "text/html": [
              "<style>\n",
              "    table.wandb td:nth-child(1) { padding: 0 10px; text-align: left ; width: auto;} td:nth-child(2) {text-align: left ; width: 100%}\n",
              "    .wandb-row { display: flex; flex-direction: row; flex-wrap: wrap; justify-content: flex-start; width: 100% }\n",
              "    .wandb-col { display: flex; flex-direction: column; flex-basis: 100%; flex: 1; padding: 10px; }\n",
              "    </style>\n",
              "<div class=\"wandb-row\"><div class=\"wandb-col\"><h3>Run history:</h3><br/><table class=\"wandb\"><tr><td>test_accuracy</td><td>▆▇▇████████████▇▇▇▇▆▆▆▆▅▅▅▅▄▄▄▃▃▃▃▃▂▂▂▁▁</td></tr><tr><td>test_loss</td><td>▆▇▇▇██████████▇▇▇▇▆▆▆▆▆▅▅▅▅▄▄▄▃▃▃▃▃▂▂▂▂▁</td></tr><tr><td>train_accuracy</td><td>▇▇▇▆██▆▆▇▇▆▅▅▅▅▃▄▄▅▅▅▅▃▄▃▄▄▄▃▅▂▂▃▃▃▂▂▂▃▁</td></tr><tr><td>train_loss</td><td>▆▇▇▅██▅▆▇█▅▅▅▅▅▂▄▅▅▅▆▅▃▄▃▃▃▄▃▅▄▃▃▂▄▂▂▃▃▁</td></tr></table><br/></div><div class=\"wandb-col\"><h3>Run summary:</h3><br/><table class=\"wandb\"><tr><td>test_accuracy</td><td>0.06105</td></tr><tr><td>test_loss</td><td>0.00154</td></tr><tr><td>train_accuracy</td><td>0.05279</td></tr><tr><td>train_loss</td><td>0.00133</td></tr></table><br/></div></div>"
            ]
          },
          "metadata": {}
        },
        {
          "output_type": "display_data",
          "data": {
            "text/plain": [
              "<IPython.core.display.HTML object>"
            ],
            "text/html": [
              " View run <strong style=\"color:#cdcd00\">fragrant-sweep-7</strong> at: <a href='https://wandb.ai/ba-865/project%20test%202/runs/cmytkiun' target=\"_blank\">https://wandb.ai/ba-865/project%20test%202/runs/cmytkiun</a><br/> View project at: <a href='https://wandb.ai/ba-865/project%20test%202' target=\"_blank\">https://wandb.ai/ba-865/project%20test%202</a><br/>Synced 4 W&B file(s), 0 media file(s), 0 artifact file(s) and 0 other file(s)"
            ]
          },
          "metadata": {}
        },
        {
          "output_type": "display_data",
          "data": {
            "text/plain": [
              "<IPython.core.display.HTML object>"
            ],
            "text/html": [
              "Find logs at: <code>./wandb/run-20240425_025859-cmytkiun/logs</code>"
            ]
          },
          "metadata": {}
        },
        {
          "output_type": "stream",
          "name": "stderr",
          "text": [
            "\u001b[34m\u001b[1mwandb\u001b[0m: Agent Starting Run: rfxyci0i with config:\n",
            "\u001b[34m\u001b[1mwandb\u001b[0m: \tepochs: 500\n",
            "\u001b[34m\u001b[1mwandb\u001b[0m: \tlearning_rate: 0.001\n",
            "\u001b[34m\u001b[1mwandb\u001b[0m: \tmomentum: 0.9\n"
          ]
        },
        {
          "output_type": "display_data",
          "data": {
            "text/plain": [
              "<IPython.core.display.HTML object>"
            ],
            "text/html": [
              "Tracking run with wandb version 0.16.6"
            ]
          },
          "metadata": {}
        },
        {
          "output_type": "display_data",
          "data": {
            "text/plain": [
              "<IPython.core.display.HTML object>"
            ],
            "text/html": [
              "Run data is saved locally in <code>/content/wandb/run-20240425_025910-rfxyci0i</code>"
            ]
          },
          "metadata": {}
        },
        {
          "output_type": "display_data",
          "data": {
            "text/plain": [
              "<IPython.core.display.HTML object>"
            ],
            "text/html": [
              "Syncing run <strong><a href='https://wandb.ai/ba-865/project%20test%202/runs/rfxyci0i' target=\"_blank\">wild-sweep-8</a></strong> to <a href='https://wandb.ai/ba-865/project%20test%202' target=\"_blank\">Weights & Biases</a> (<a href='https://wandb.me/run' target=\"_blank\">docs</a>)<br/>Sweep page: <a href='https://wandb.ai/ba-865/project%20test%202/sweeps/yje34zks' target=\"_blank\">https://wandb.ai/ba-865/project%20test%202/sweeps/yje34zks</a>"
            ]
          },
          "metadata": {}
        },
        {
          "output_type": "display_data",
          "data": {
            "text/plain": [
              "<IPython.core.display.HTML object>"
            ],
            "text/html": [
              " View project at <a href='https://wandb.ai/ba-865/project%20test%202' target=\"_blank\">https://wandb.ai/ba-865/project%20test%202</a>"
            ]
          },
          "metadata": {}
        },
        {
          "output_type": "display_data",
          "data": {
            "text/plain": [
              "<IPython.core.display.HTML object>"
            ],
            "text/html": [
              " View sweep at <a href='https://wandb.ai/ba-865/project%20test%202/sweeps/yje34zks' target=\"_blank\">https://wandb.ai/ba-865/project%20test%202/sweeps/yje34zks</a>"
            ]
          },
          "metadata": {}
        },
        {
          "output_type": "display_data",
          "data": {
            "text/plain": [
              "<IPython.core.display.HTML object>"
            ],
            "text/html": [
              " View run at <a href='https://wandb.ai/ba-865/project%20test%202/runs/rfxyci0i' target=\"_blank\">https://wandb.ai/ba-865/project%20test%202/runs/rfxyci0i</a>"
            ]
          },
          "metadata": {}
        },
        {
          "output_type": "display_data",
          "data": {
            "text/plain": [
              "VBox(children=(Label(value='0.001 MB of 0.011 MB uploaded\\r'), FloatProgress(value=0.10943730615861763, max=1.…"
            ],
            "application/vnd.jupyter.widget-view+json": {
              "version_major": 2,
              "version_minor": 0,
              "model_id": "f8ff1873eed14de1bf88ba12d87f136a"
            }
          },
          "metadata": {}
        },
        {
          "output_type": "display_data",
          "data": {
            "text/plain": [
              "<IPython.core.display.HTML object>"
            ],
            "text/html": [
              "<style>\n",
              "    table.wandb td:nth-child(1) { padding: 0 10px; text-align: left ; width: auto;} td:nth-child(2) {text-align: left ; width: 100%}\n",
              "    .wandb-row { display: flex; flex-direction: row; flex-wrap: wrap; justify-content: flex-start; width: 100% }\n",
              "    .wandb-col { display: flex; flex-direction: column; flex-basis: 100%; flex: 1; padding: 10px; }\n",
              "    </style>\n",
              "<div class=\"wandb-row\"><div class=\"wandb-col\"><h3>Run history:</h3><br/><table class=\"wandb\"><tr><td>test_accuracy</td><td>██▇▇▆▅▅▅▅▅▄▄▄▄▄▄▄▄▃▃▃▃▃▃▃▃▂▂▂▂▂▂▂▂▁▁▁▁▁▁</td></tr><tr><td>test_loss</td><td>██▇▇▆▅▅▅▅▅▄▄▄▄▄▄▄▄▃▃▃▃▃▃▃▃▂▂▂▂▂▂▂▂▁▁▁▁▁▁</td></tr><tr><td>train_accuracy</td><td>▇██▇▇▆▆▆▆▆▆▆▅▅▅▅▅▅▅▄▅▄▅▅▃▃▃▅▄▃▂▂▂▂▃▃▂▂▃▁</td></tr><tr><td>train_loss</td><td>▆█▇▇▇▅▅▅▇▅▆▆▅▅▅▅▅▅▅▄▅▅▅▅▄▂▃▅▅▃▂▂▂▂▃▂▂▁▃▂</td></tr></table><br/></div><div class=\"wandb-col\"><h3>Run summary:</h3><br/><table class=\"wandb\"><tr><td>test_accuracy</td><td>0.06105</td></tr><tr><td>test_loss</td><td>0.00154</td></tr><tr><td>train_accuracy</td><td>0.05279</td></tr><tr><td>train_loss</td><td>0.00133</td></tr></table><br/></div></div>"
            ]
          },
          "metadata": {}
        },
        {
          "output_type": "display_data",
          "data": {
            "text/plain": [
              "<IPython.core.display.HTML object>"
            ],
            "text/html": [
              " View run <strong style=\"color:#cdcd00\">wild-sweep-8</strong> at: <a href='https://wandb.ai/ba-865/project%20test%202/runs/rfxyci0i' target=\"_blank\">https://wandb.ai/ba-865/project%20test%202/runs/rfxyci0i</a><br/> View project at: <a href='https://wandb.ai/ba-865/project%20test%202' target=\"_blank\">https://wandb.ai/ba-865/project%20test%202</a><br/>Synced 4 W&B file(s), 0 media file(s), 0 artifact file(s) and 0 other file(s)"
            ]
          },
          "metadata": {}
        },
        {
          "output_type": "display_data",
          "data": {
            "text/plain": [
              "<IPython.core.display.HTML object>"
            ],
            "text/html": [
              "Find logs at: <code>./wandb/run-20240425_025910-rfxyci0i/logs</code>"
            ]
          },
          "metadata": {}
        },
        {
          "output_type": "stream",
          "name": "stderr",
          "text": [
            "\u001b[34m\u001b[1mwandb\u001b[0m: Agent Starting Run: 0tgxhmlz with config:\n",
            "\u001b[34m\u001b[1mwandb\u001b[0m: \tepochs: 500\n",
            "\u001b[34m\u001b[1mwandb\u001b[0m: \tlearning_rate: 0.001\n",
            "\u001b[34m\u001b[1mwandb\u001b[0m: \tmomentum: 0.95\n"
          ]
        },
        {
          "output_type": "display_data",
          "data": {
            "text/plain": [
              "<IPython.core.display.HTML object>"
            ],
            "text/html": [
              "Tracking run with wandb version 0.16.6"
            ]
          },
          "metadata": {}
        },
        {
          "output_type": "display_data",
          "data": {
            "text/plain": [
              "<IPython.core.display.HTML object>"
            ],
            "text/html": [
              "Run data is saved locally in <code>/content/wandb/run-20240425_025919-0tgxhmlz</code>"
            ]
          },
          "metadata": {}
        },
        {
          "output_type": "display_data",
          "data": {
            "text/plain": [
              "<IPython.core.display.HTML object>"
            ],
            "text/html": [
              "Syncing run <strong><a href='https://wandb.ai/ba-865/project%20test%202/runs/0tgxhmlz' target=\"_blank\">dry-sweep-9</a></strong> to <a href='https://wandb.ai/ba-865/project%20test%202' target=\"_blank\">Weights & Biases</a> (<a href='https://wandb.me/run' target=\"_blank\">docs</a>)<br/>Sweep page: <a href='https://wandb.ai/ba-865/project%20test%202/sweeps/yje34zks' target=\"_blank\">https://wandb.ai/ba-865/project%20test%202/sweeps/yje34zks</a>"
            ]
          },
          "metadata": {}
        },
        {
          "output_type": "display_data",
          "data": {
            "text/plain": [
              "<IPython.core.display.HTML object>"
            ],
            "text/html": [
              " View project at <a href='https://wandb.ai/ba-865/project%20test%202' target=\"_blank\">https://wandb.ai/ba-865/project%20test%202</a>"
            ]
          },
          "metadata": {}
        },
        {
          "output_type": "display_data",
          "data": {
            "text/plain": [
              "<IPython.core.display.HTML object>"
            ],
            "text/html": [
              " View sweep at <a href='https://wandb.ai/ba-865/project%20test%202/sweeps/yje34zks' target=\"_blank\">https://wandb.ai/ba-865/project%20test%202/sweeps/yje34zks</a>"
            ]
          },
          "metadata": {}
        },
        {
          "output_type": "display_data",
          "data": {
            "text/plain": [
              "<IPython.core.display.HTML object>"
            ],
            "text/html": [
              " View run at <a href='https://wandb.ai/ba-865/project%20test%202/runs/0tgxhmlz' target=\"_blank\">https://wandb.ai/ba-865/project%20test%202/runs/0tgxhmlz</a>"
            ]
          },
          "metadata": {}
        },
        {
          "output_type": "display_data",
          "data": {
            "text/plain": [
              "VBox(children=(Label(value='0.001 MB of 0.011 MB uploaded\\r'), FloatProgress(value=0.10957569315262645, max=1.…"
            ],
            "application/vnd.jupyter.widget-view+json": {
              "version_major": 2,
              "version_minor": 0,
              "model_id": "d4feaf9bcea1443d83af6bce1ed8251b"
            }
          },
          "metadata": {}
        },
        {
          "output_type": "display_data",
          "data": {
            "text/plain": [
              "<IPython.core.display.HTML object>"
            ],
            "text/html": [
              "<style>\n",
              "    table.wandb td:nth-child(1) { padding: 0 10px; text-align: left ; width: auto;} td:nth-child(2) {text-align: left ; width: 100%}\n",
              "    .wandb-row { display: flex; flex-direction: row; flex-wrap: wrap; justify-content: flex-start; width: 100% }\n",
              "    .wandb-col { display: flex; flex-direction: column; flex-basis: 100%; flex: 1; padding: 10px; }\n",
              "    </style>\n",
              "<div class=\"wandb-row\"><div class=\"wandb-col\"><h3>Run history:</h3><br/><table class=\"wandb\"><tr><td>test_accuracy</td><td>███████▇▇▇▇▆▆▆▆▆▆▅▅▅▅▅▄▄▄▄▃▃▃▃▃▃▂▂▂▂▂▁▁▁</td></tr><tr><td>test_loss</td><td>███████▇▇▇▇▆▆▆▆▆▆▅▅▅▅▅▄▄▄▄▃▃▃▃▃▃▂▂▂▂▂▁▁▁</td></tr><tr><td>train_accuracy</td><td>█▇████▇▇▇▇▆▆▆▅▆▆▅▅▅▅▅▄▄▄▄▄▄▃▃▂▂▃▃▂▁▁▂▁▁▂</td></tr><tr><td>train_loss</td><td>█▇▇▇▇▇▇▆▆▆▆▆▆▅▆▅▅▅▅▅▄▄▃▃▄▄▄▃▃▂▃▃▂▂▁▁▁▁▁▁</td></tr></table><br/></div><div class=\"wandb-col\"><h3>Run summary:</h3><br/><table class=\"wandb\"><tr><td>test_accuracy</td><td>0.06105</td></tr><tr><td>test_loss</td><td>0.00154</td></tr><tr><td>train_accuracy</td><td>0.05279</td></tr><tr><td>train_loss</td><td>0.00133</td></tr></table><br/></div></div>"
            ]
          },
          "metadata": {}
        },
        {
          "output_type": "display_data",
          "data": {
            "text/plain": [
              "<IPython.core.display.HTML object>"
            ],
            "text/html": [
              " View run <strong style=\"color:#cdcd00\">dry-sweep-9</strong> at: <a href='https://wandb.ai/ba-865/project%20test%202/runs/0tgxhmlz' target=\"_blank\">https://wandb.ai/ba-865/project%20test%202/runs/0tgxhmlz</a><br/> View project at: <a href='https://wandb.ai/ba-865/project%20test%202' target=\"_blank\">https://wandb.ai/ba-865/project%20test%202</a><br/>Synced 4 W&B file(s), 0 media file(s), 0 artifact file(s) and 0 other file(s)"
            ]
          },
          "metadata": {}
        },
        {
          "output_type": "display_data",
          "data": {
            "text/plain": [
              "<IPython.core.display.HTML object>"
            ],
            "text/html": [
              "Find logs at: <code>./wandb/run-20240425_025919-0tgxhmlz/logs</code>"
            ]
          },
          "metadata": {}
        },
        {
          "output_type": "stream",
          "name": "stderr",
          "text": [
            "\u001b[34m\u001b[1mwandb\u001b[0m: Sweep Agent: Waiting for job.\n",
            "\u001b[34m\u001b[1mwandb\u001b[0m: Sweep Agent: Exiting.\n"
          ]
        }
      ]
    },
    {
      "cell_type": "markdown",
      "source": [
        "The WandB grid search experiments did not show improvement over our best baseline model number 5."
      ],
      "metadata": {
        "id": "NsRem98nF-wE"
      }
    },
    {
      "cell_type": "markdown",
      "source": [
        "## Univariate RNN/LSTM\n",
        "\n",
        "---"
      ],
      "metadata": {
        "id": "PtTNkzPdG4qS"
      }
    },
    {
      "cell_type": "markdown",
      "source": [
        "### RNN\n",
        "\n",
        "----"
      ],
      "metadata": {
        "id": "pPdq1dCtJg6v"
      }
    },
    {
      "cell_type": "markdown",
      "source": [
        "Next, we implement a more advanced technique called Recurrent Neural Networks. RNNs are specialized neural networks that maintain an internal memory that stores information from past inputs and updates it as new inputs arrive.\n",
        "\n",
        "RNNs accept sequences as input, with each element representing a time step. They feature recurrent connections that enable updates at each time step based on the current input and the previous hidden state.\n",
        "\n",
        "During training, RNNs are optimized using backpropagation, which involves unfolding the network over time and updating the weights to minimize prediction errors.\n",
        "\n",
        "\n",
        "\n",
        "\n",
        "\n"
      ],
      "metadata": {
        "id": "YCvkw13gIpTV"
      }
    },
    {
      "cell_type": "code",
      "source": [
        "# Creating sequences\n",
        "sequence_length = 7\n",
        "\n",
        "def create_sequences(data, sequence_length):\n",
        "\n",
        "  total_sequence=[]\n",
        "  prices = []\n",
        "\n",
        "  for day in range(0, (len(data) - sequence_length)):\n",
        "    start_index = day\n",
        "    end_index = sequence_length + day\n",
        "    day_sequence = data[start_index:end_index]\n",
        "    day_price = data[end_index]\n",
        "\n",
        "    total_sequence.append(day_sequence)\n",
        "    prices.append(day_price)\n",
        "  return np.array(total_sequence), np.array(prices)\n",
        "\n",
        "sequences = create_sequences(scaled_data, sequence_length)\n",
        "X = sequences[0]\n",
        "y = sequences[1]\n",
        "\n",
        "# Split the data into training and testing sets\n",
        "train_size = int(X.shape[0]* split_ratio)\n",
        "X_train = torch.tensor(X[:train_size]).float()\n",
        "y_train = torch.tensor(y[:train_size]).float()\n",
        "X_test = torch.tensor(X[train_size:]).float()\n",
        "y_test = torch.tensor(y[train_size:]).float()"
      ],
      "metadata": {
        "id": "gCAUW1pZHsY-"
      },
      "execution_count": 9,
      "outputs": []
    },
    {
      "cell_type": "code",
      "source": [
        "import torch\n",
        "import torch.nn as nn\n",
        "\n",
        "class RNN(nn.Module):\n",
        "    def __init__(self, input_size, hidden_size, num_layers, output_size):\n",
        "        super(RNN, self).__init__()\n",
        "        self.hidden_size = hidden_size\n",
        "        self.num_layers = num_layers\n",
        "        self.rnn = nn.RNN(input_size, hidden_size, num_layers, batch_first=True)\n",
        "        self.fc = nn.Linear(hidden_size, output_size)\n",
        "\n",
        "    def forward(self, x):\n",
        "        # Initialize hidden state with zeros\n",
        "        h0 = torch.zeros(self.num_layers, x.size(0), self.hidden_size).to(x.device)\n",
        "\n",
        "        # Forward propagate RNN\n",
        "        out, _ = self.rnn(x, h0)\n",
        "\n",
        "        # Decode the hidden state of the last time step\n",
        "        out = self.fc(out[:, -1, :])\n",
        "        return out\n",
        "\n",
        "# Example usage:\n",
        "# Define input parameters\n",
        "input_size = 1  # Number of features in input data (e.g., time series)\n",
        "hidden_size = 64  # Number of hidden units in the RNN\n",
        "num_layers = 2  # Number of RNN layers\n",
        "output_size = 1  # Number of features in output data (e.g., regression target)\n",
        "\n",
        "# Instantiate the model\n",
        "model = RNN(input_size, hidden_size, num_layers, output_size)\n",
        "\n",
        "# Print model architecture\n",
        "print(model)"
      ],
      "metadata": {
        "colab": {
          "base_uri": "https://localhost:8080/"
        },
        "id": "N9UlwWv3hiYd",
        "outputId": "cefa9f7d-216e-44dc-b1ed-71be7cc5c331"
      },
      "execution_count": 10,
      "outputs": [
        {
          "output_type": "stream",
          "name": "stdout",
          "text": [
            "RNN(\n",
            "  (rnn): RNN(1, 64, num_layers=2, batch_first=True)\n",
            "  (fc): Linear(in_features=64, out_features=1, bias=True)\n",
            ")\n"
          ]
        }
      ]
    },
    {
      "cell_type": "code",
      "source": [
        "import torch.optim as optim\n",
        "\n",
        "# Define the loss function\n",
        "criterion = nn.MSELoss()\n",
        "\n",
        "# Define the optimizer\n",
        "optimizer = optim.Adam(model.parameters(), lr=0.001)\n",
        "\n",
        "# Training loop\n",
        "num_epochs = 50\n",
        "for epoch in range(num_epochs):\n",
        "    # Forward pass\n",
        "    outputs = model(X_train)\n",
        "    loss = criterion(outputs, y_train)\n",
        "\n",
        "    # Backward pass and optimization\n",
        "    optimizer.zero_grad()\n",
        "    loss.backward()\n",
        "    optimizer.step()\n",
        "\n",
        "    # Calculate training accuracy\n",
        "    train_accuracy = torch.mean(torch.abs(outputs - y_train)).item()\n",
        "\n",
        "    # Evaluate on test set\n",
        "    with torch.no_grad():\n",
        "        model.eval()  # Set the model to evaluation mode\n",
        "        test_outputs = model(X_test)\n",
        "        test_accuracy = torch.mean(torch.abs(test_outputs - y_test)).item()\n",
        "\n",
        "    # Print progress\n",
        "    print(f'Epoch [{epoch+1}/{num_epochs}], Training Accuracy (MSE): {train_accuracy:.4f}, Test Accuracy (MSE): {test_accuracy:.4f}')"
      ],
      "metadata": {
        "colab": {
          "base_uri": "https://localhost:8080/"
        },
        "id": "nR5pKsVlhkSi",
        "outputId": "3947bc55-76a3-4c4c-9cd0-09ab2abdd81f"
      },
      "execution_count": 11,
      "outputs": [
        {
          "output_type": "stream",
          "name": "stdout",
          "text": [
            "Epoch [1/50], Training Accuracy (MSE): 0.5085, Test Accuracy (MSE): 0.2251\n",
            "Epoch [2/50], Training Accuracy (MSE): 0.4084, Test Accuracy (MSE): 0.1516\n",
            "Epoch [3/50], Training Accuracy (MSE): 0.3391, Test Accuracy (MSE): 0.1450\n",
            "Epoch [4/50], Training Accuracy (MSE): 0.2884, Test Accuracy (MSE): 0.1776\n",
            "Epoch [5/50], Training Accuracy (MSE): 0.2588, Test Accuracy (MSE): 0.2493\n",
            "Epoch [6/50], Training Accuracy (MSE): 0.2483, Test Accuracy (MSE): 0.3387\n",
            "Epoch [7/50], Training Accuracy (MSE): 0.2582, Test Accuracy (MSE): 0.3713\n",
            "Epoch [8/50], Training Accuracy (MSE): 0.2657, Test Accuracy (MSE): 0.3552\n",
            "Epoch [9/50], Training Accuracy (MSE): 0.2566, Test Accuracy (MSE): 0.3104\n",
            "Epoch [10/50], Training Accuracy (MSE): 0.2391, Test Accuracy (MSE): 0.2538\n",
            "Epoch [11/50], Training Accuracy (MSE): 0.2249, Test Accuracy (MSE): 0.2010\n",
            "Epoch [12/50], Training Accuracy (MSE): 0.2179, Test Accuracy (MSE): 0.1679\n",
            "Epoch [13/50], Training Accuracy (MSE): 0.2166, Test Accuracy (MSE): 0.1460\n",
            "Epoch [14/50], Training Accuracy (MSE): 0.2162, Test Accuracy (MSE): 0.1302\n",
            "Epoch [15/50], Training Accuracy (MSE): 0.2149, Test Accuracy (MSE): 0.1191\n",
            "Epoch [16/50], Training Accuracy (MSE): 0.2104, Test Accuracy (MSE): 0.1112\n",
            "Epoch [17/50], Training Accuracy (MSE): 0.2021, Test Accuracy (MSE): 0.1058\n",
            "Epoch [18/50], Training Accuracy (MSE): 0.1891, Test Accuracy (MSE): 0.1027\n",
            "Epoch [19/50], Training Accuracy (MSE): 0.1714, Test Accuracy (MSE): 0.1022\n",
            "Epoch [20/50], Training Accuracy (MSE): 0.1496, Test Accuracy (MSE): 0.1077\n",
            "Epoch [21/50], Training Accuracy (MSE): 0.1252, Test Accuracy (MSE): 0.1249\n",
            "Epoch [22/50], Training Accuracy (MSE): 0.1038, Test Accuracy (MSE): 0.1475\n",
            "Epoch [23/50], Training Accuracy (MSE): 0.0921, Test Accuracy (MSE): 0.1561\n",
            "Epoch [24/50], Training Accuracy (MSE): 0.0929, Test Accuracy (MSE): 0.1439\n",
            "Epoch [25/50], Training Accuracy (MSE): 0.0896, Test Accuracy (MSE): 0.1099\n",
            "Epoch [26/50], Training Accuracy (MSE): 0.0667, Test Accuracy (MSE): 0.0648\n",
            "Epoch [27/50], Training Accuracy (MSE): 0.0447, Test Accuracy (MSE): 0.0540\n",
            "Epoch [28/50], Training Accuracy (MSE): 0.0551, Test Accuracy (MSE): 0.0679\n",
            "Epoch [29/50], Training Accuracy (MSE): 0.0795, Test Accuracy (MSE): 0.0791\n",
            "Epoch [30/50], Training Accuracy (MSE): 0.0918, Test Accuracy (MSE): 0.0737\n",
            "Epoch [31/50], Training Accuracy (MSE): 0.0853, Test Accuracy (MSE): 0.0619\n",
            "Epoch [32/50], Training Accuracy (MSE): 0.0695, Test Accuracy (MSE): 0.0574\n",
            "Epoch [33/50], Training Accuracy (MSE): 0.0557, Test Accuracy (MSE): 0.0625\n",
            "Epoch [34/50], Training Accuracy (MSE): 0.0508, Test Accuracy (MSE): 0.0770\n",
            "Epoch [35/50], Training Accuracy (MSE): 0.0514, Test Accuracy (MSE): 0.0878\n",
            "Epoch [36/50], Training Accuracy (MSE): 0.0504, Test Accuracy (MSE): 0.0880\n",
            "Epoch [37/50], Training Accuracy (MSE): 0.0444, Test Accuracy (MSE): 0.0806\n",
            "Epoch [38/50], Training Accuracy (MSE): 0.0396, Test Accuracy (MSE): 0.0702\n",
            "Epoch [39/50], Training Accuracy (MSE): 0.0426, Test Accuracy (MSE): 0.0612\n",
            "Epoch [40/50], Training Accuracy (MSE): 0.0488, Test Accuracy (MSE): 0.0559\n",
            "Epoch [41/50], Training Accuracy (MSE): 0.0545, Test Accuracy (MSE): 0.0540\n",
            "Epoch [42/50], Training Accuracy (MSE): 0.0576, Test Accuracy (MSE): 0.0545\n",
            "Epoch [43/50], Training Accuracy (MSE): 0.0574, Test Accuracy (MSE): 0.0574\n",
            "Epoch [44/50], Training Accuracy (MSE): 0.0544, Test Accuracy (MSE): 0.0628\n",
            "Epoch [45/50], Training Accuracy (MSE): 0.0497, Test Accuracy (MSE): 0.0698\n",
            "Epoch [46/50], Training Accuracy (MSE): 0.0451, Test Accuracy (MSE): 0.0765\n",
            "Epoch [47/50], Training Accuracy (MSE): 0.0418, Test Accuracy (MSE): 0.0803\n",
            "Epoch [48/50], Training Accuracy (MSE): 0.0398, Test Accuracy (MSE): 0.0792\n",
            "Epoch [49/50], Training Accuracy (MSE): 0.0381, Test Accuracy (MSE): 0.0730\n",
            "Epoch [50/50], Training Accuracy (MSE): 0.0354, Test Accuracy (MSE): 0.0628\n"
          ]
        }
      ]
    },
    {
      "cell_type": "markdown",
      "source": [
        "This is our best model so far. The RNN model is able to capture the complex relationship between the sequenced data that is fed into it."
      ],
      "metadata": {
        "id": "Ativx69KK4l6"
      }
    },
    {
      "cell_type": "markdown",
      "source": [
        "### LSTM\n",
        "\n",
        "----"
      ],
      "metadata": {
        "id": "y_fHqZvDJY4o"
      }
    },
    {
      "cell_type": "markdown",
      "source": [
        "Long Short-Term Memory (LSTM) networks are a type of RNN designed to address the vanishing gradient problem and capture long-term dependencies in sequential data.\n",
        "\n",
        "Unlike traditional RNNs, LSTMs have specialized memory cells with self-gating mechanisms that regulate the flow of information over time. These memory cells maintain a constant error flow, allowing them to retain information over long sequences without suffering from vanishing gradients.\n",
        "\n",
        "By selectively updating and forgetting information, LSTMs can effectively capture dependencies across multiple time steps, making them well-suited for our task involving sequential data for sea temperature prediction."
      ],
      "metadata": {
        "id": "orecrDq8LEDJ"
      }
    },
    {
      "cell_type": "code",
      "source": [
        "import torch.optim as optim\n",
        "import torch.nn as nn\n",
        "\n",
        "# Define the LSTM model\n",
        "class LSTM(nn.Module):\n",
        "    def __init__(self, input_size, hidden_size, num_layers, output_size):\n",
        "        super(LSTM, self).__init__()\n",
        "        self.hidden_size = hidden_size\n",
        "        self.num_layers = num_layers\n",
        "        self.lstm = nn.LSTM(input_size, hidden_size, num_layers, batch_first=True)\n",
        "        self.fc = nn.Linear(hidden_size, output_size)\n",
        "\n",
        "    def forward(self, x):\n",
        "        h0 = torch.zeros(self.num_layers, x.size(0), self.hidden_size).to(x.device)\n",
        "        c0 = torch.zeros(self.num_layers, x.size(0), self.hidden_size).to(x.device)\n",
        "        out, _ = self.lstm(x, (h0, c0))\n",
        "        out = self.fc(out[:, -1, :])\n",
        "        return out\n",
        "\n",
        "# Example usage:\n",
        "# Define input parameters\n",
        "input_size = 1  # Number of features in input data (e.g., time series)\n",
        "hidden_size = 64  # Number of hidden units in the LSTM\n",
        "num_layers = 2  # Number of LSTM layers\n",
        "output_size = 1  # Number of features in output data (e.g., regression target)\n",
        "\n",
        "# Instantiate the model\n",
        "model = LSTM(input_size, hidden_size, num_layers, output_size)\n",
        "\n",
        "# Print model architecture\n",
        "print(model)"
      ],
      "metadata": {
        "colab": {
          "base_uri": "https://localhost:8080/"
        },
        "id": "WMxwrePyJZJB",
        "outputId": "dfdc788c-8ff3-466b-e4f7-dfc51168bcd4"
      },
      "execution_count": 12,
      "outputs": [
        {
          "output_type": "stream",
          "name": "stdout",
          "text": [
            "LSTM(\n",
            "  (lstm): LSTM(1, 64, num_layers=2, batch_first=True)\n",
            "  (fc): Linear(in_features=64, out_features=1, bias=True)\n",
            ")\n"
          ]
        }
      ]
    },
    {
      "cell_type": "code",
      "source": [
        "# Define the loss function\n",
        "criterion = nn.MSELoss()\n",
        "\n",
        "# Define the optimizer\n",
        "optimizer = optim.Adam(model.parameters(), lr=0.001)\n",
        "\n",
        "# Training loop\n",
        "num_epochs = 50\n",
        "for epoch in range(num_epochs):\n",
        "    # Forward pass\n",
        "    outputs = model(X_train)\n",
        "    loss = criterion(outputs, y_train)\n",
        "\n",
        "    # Backward pass and optimization\n",
        "    optimizer.zero_grad()\n",
        "    loss.backward()\n",
        "    optimizer.step()\n",
        "\n",
        "    # Calculate training accuracy\n",
        "    train_accuracy = torch.mean(torch.abs(outputs - y_train)).item()\n",
        "\n",
        "    # Evaluate on test set\n",
        "    with torch.no_grad():\n",
        "        model.eval()  # Set the model to evaluation mode\n",
        "        test_outputs = model(X_test)\n",
        "        test_accuracy = torch.mean(torch.abs(test_outputs - y_test)).item()\n",
        "\n",
        "    # Print progress\n",
        "    print(f'Epoch [{epoch+1}/{num_epochs}], Training MSE: {train_accuracy:.4f}, Test MSE: {test_accuracy:.4f}')"
      ],
      "metadata": {
        "colab": {
          "base_uri": "https://localhost:8080/"
        },
        "id": "P1_MOPeZJlR_",
        "outputId": "649a052c-5453-48f5-c9c3-3b67be427888"
      },
      "execution_count": 13,
      "outputs": [
        {
          "output_type": "stream",
          "name": "stdout",
          "text": [
            "Epoch [1/50], Training MSE: 0.5295, Test MSE: 0.3262\n",
            "Epoch [2/50], Training MSE: 0.5063, Test MSE: 0.3030\n",
            "Epoch [3/50], Training MSE: 0.4840, Test MSE: 0.2795\n",
            "Epoch [4/50], Training MSE: 0.4619, Test MSE: 0.2553\n",
            "Epoch [5/50], Training MSE: 0.4407, Test MSE: 0.2303\n",
            "Epoch [6/50], Training MSE: 0.4210, Test MSE: 0.2051\n",
            "Epoch [7/50], Training MSE: 0.4023, Test MSE: 0.1844\n",
            "Epoch [8/50], Training MSE: 0.3840, Test MSE: 0.1670\n",
            "Epoch [9/50], Training MSE: 0.3653, Test MSE: 0.1543\n",
            "Epoch [10/50], Training MSE: 0.3471, Test MSE: 0.1483\n",
            "Epoch [11/50], Training MSE: 0.3295, Test MSE: 0.1486\n",
            "Epoch [12/50], Training MSE: 0.3111, Test MSE: 0.1503\n",
            "Epoch [13/50], Training MSE: 0.2921, Test MSE: 0.1600\n",
            "Epoch [14/50], Training MSE: 0.2772, Test MSE: 0.1795\n",
            "Epoch [15/50], Training MSE: 0.2644, Test MSE: 0.2077\n",
            "Epoch [16/50], Training MSE: 0.2549, Test MSE: 0.2522\n",
            "Epoch [17/50], Training MSE: 0.2494, Test MSE: 0.3053\n",
            "Epoch [18/50], Training MSE: 0.2514, Test MSE: 0.3384\n",
            "Epoch [19/50], Training MSE: 0.2563, Test MSE: 0.3469\n",
            "Epoch [20/50], Training MSE: 0.2573, Test MSE: 0.3357\n",
            "Epoch [21/50], Training MSE: 0.2530, Test MSE: 0.3115\n",
            "Epoch [22/50], Training MSE: 0.2464, Test MSE: 0.2807\n",
            "Epoch [23/50], Training MSE: 0.2411, Test MSE: 0.2483\n",
            "Epoch [24/50], Training MSE: 0.2382, Test MSE: 0.2205\n",
            "Epoch [25/50], Training MSE: 0.2377, Test MSE: 0.2021\n",
            "Epoch [26/50], Training MSE: 0.2394, Test MSE: 0.1883\n",
            "Epoch [27/50], Training MSE: 0.2411, Test MSE: 0.1790\n",
            "Epoch [28/50], Training MSE: 0.2423, Test MSE: 0.1717\n",
            "Epoch [29/50], Training MSE: 0.2432, Test MSE: 0.1663\n",
            "Epoch [30/50], Training MSE: 0.2433, Test MSE: 0.1629\n",
            "Epoch [31/50], Training MSE: 0.2424, Test MSE: 0.1609\n",
            "Epoch [32/50], Training MSE: 0.2404, Test MSE: 0.1601\n",
            "Epoch [33/50], Training MSE: 0.2372, Test MSE: 0.1605\n",
            "Epoch [34/50], Training MSE: 0.2329, Test MSE: 0.1624\n",
            "Epoch [35/50], Training MSE: 0.2276, Test MSE: 0.1652\n",
            "Epoch [36/50], Training MSE: 0.2213, Test MSE: 0.1688\n",
            "Epoch [37/50], Training MSE: 0.2143, Test MSE: 0.1749\n",
            "Epoch [38/50], Training MSE: 0.2068, Test MSE: 0.1819\n",
            "Epoch [39/50], Training MSE: 0.1987, Test MSE: 0.1918\n",
            "Epoch [40/50], Training MSE: 0.1908, Test MSE: 0.2033\n",
            "Epoch [41/50], Training MSE: 0.1838, Test MSE: 0.2129\n",
            "Epoch [42/50], Training MSE: 0.1783, Test MSE: 0.2177\n",
            "Epoch [43/50], Training MSE: 0.1730, Test MSE: 0.2168\n",
            "Epoch [44/50], Training MSE: 0.1677, Test MSE: 0.2101\n",
            "Epoch [45/50], Training MSE: 0.1621, Test MSE: 0.1985\n",
            "Epoch [46/50], Training MSE: 0.1563, Test MSE: 0.1834\n",
            "Epoch [47/50], Training MSE: 0.1509, Test MSE: 0.1671\n",
            "Epoch [48/50], Training MSE: 0.1463, Test MSE: 0.1523\n",
            "Epoch [49/50], Training MSE: 0.1429, Test MSE: 0.1398\n",
            "Epoch [50/50], Training MSE: 0.1396, Test MSE: 0.1303\n"
          ]
        }
      ]
    },
    {
      "cell_type": "markdown",
      "source": [
        "From the above, we observe that the baseline LSTM model performs worse than the RNN.\n",
        "\n",
        "Hence, we decided to increase the model complexity by introducing more layers, normalization, and bidirectionality (and dropout layers to prevent overfitting).\n",
        "Bidirectionality refers to the ability of the LSTM model to process input sequences in both forward and backward directions. By incorporating information from both past and future contexts, we can now capture dependencies that may not be evident in a unidirectional model."
      ],
      "metadata": {
        "id": "nrm3PfhjMkSP"
      }
    },
    {
      "cell_type": "code",
      "source": [
        "# This code is from ChatGPT\n",
        "\n",
        "class ComplexLSTM(nn.Module):\n",
        "    def __init__(self, input_size, hidden_size, num_layers, output_size, bidirectional=True, dropout=0.0):\n",
        "        super(ComplexLSTM, self).__init__()\n",
        "        self.hidden_size = hidden_size\n",
        "        self.num_layers = num_layers\n",
        "        self.bidirectional = bidirectional\n",
        "\n",
        "        # LSTM layers\n",
        "        self.lstm = nn.LSTM(input_size, hidden_size, num_layers, batch_first=True, bidirectional=bidirectional)\n",
        "\n",
        "        # Fully connected layer\n",
        "        self.fc = nn.Linear(hidden_size * (2 if bidirectional else 1), output_size)\n",
        "\n",
        "        # Layer normalization\n",
        "        self.layer_norm = nn.LayerNorm(hidden_size * (2 if bidirectional else 1))\n",
        "\n",
        "        # Dropout\n",
        "        self.dropout = nn.Dropout(dropout)\n",
        "\n",
        "    def forward(self, x):\n",
        "        # Initialize hidden state and cell state\n",
        "        h0 = torch.zeros(self.num_layers * (2 if self.bidirectional else 1), x.size(0), self.hidden_size).to(x.device)\n",
        "        c0 = torch.zeros(self.num_layers * (2 if self.bidirectional else 1), x.size(0), self.hidden_size).to(x.device)\n",
        "\n",
        "        # LSTM layer\n",
        "        lstm_out, _ = self.lstm(x, (h0, c0))\n",
        "\n",
        "        # Apply layer normalization\n",
        "        lstm_out = self.layer_norm(lstm_out)\n",
        "\n",
        "        # Apply dropout\n",
        "        lstm_out = self.dropout(lstm_out)\n",
        "\n",
        "        # Decode the hidden state of the last time step\n",
        "        out = self.fc(lstm_out[:, -1, :])\n",
        "        return out\n",
        "\n",
        "# Define input parameters\n",
        "input_size = 1  # Number of features in input data\n",
        "hidden_size = 64  # Number of hidden units in the LSTM\n",
        "num_layers = 2  # Number of LSTM layers\n",
        "output_size = 1  # Number of features in output data\n",
        "\n",
        "# Instantiate the model\n",
        "model = ComplexLSTM(input_size, hidden_size, num_layers, output_size, bidirectional=True, dropout=0.2)\n",
        "\n",
        "# Print model architecture\n",
        "print(model)"
      ],
      "metadata": {
        "colab": {
          "base_uri": "https://localhost:8080/"
        },
        "id": "3HHWCC4oMJ8K",
        "outputId": "eae3e4f8-a87a-4eca-f914-89c39231a452"
      },
      "execution_count": 14,
      "outputs": [
        {
          "output_type": "stream",
          "name": "stdout",
          "text": [
            "ComplexLSTM(\n",
            "  (lstm): LSTM(1, 64, num_layers=2, batch_first=True, bidirectional=True)\n",
            "  (fc): Linear(in_features=128, out_features=1, bias=True)\n",
            "  (layer_norm): LayerNorm((128,), eps=1e-05, elementwise_affine=True)\n",
            "  (dropout): Dropout(p=0.2, inplace=False)\n",
            ")\n"
          ]
        }
      ]
    },
    {
      "cell_type": "code",
      "source": [
        "# Define the loss function\n",
        "criterion = nn.MSELoss()\n",
        "\n",
        "# Define the optimizer\n",
        "optimizer = optim.Adam(model.parameters(), lr=0.001)\n",
        "\n",
        "# Training loop\n",
        "num_epochs = 50\n",
        "for epoch in range(num_epochs):\n",
        "    # Forward pass\n",
        "    outputs = model(X_train)\n",
        "    loss = criterion(outputs, y_train)\n",
        "\n",
        "    # Backward pass and optimization\n",
        "    optimizer.zero_grad()\n",
        "    loss.backward()\n",
        "    optimizer.step()\n",
        "\n",
        "    # Calculate training accuracy\n",
        "    train_accuracy = torch.mean(torch.abs(outputs - y_train)).item()\n",
        "\n",
        "    # Evaluate on test set\n",
        "    with torch.no_grad():\n",
        "        model.eval()  # Set the model to evaluation mode\n",
        "        test_outputs = model(X_test)\n",
        "        test_accuracy = torch.mean(torch.abs(test_outputs - y_test)).item()\n",
        "\n",
        "    # Print progress\n",
        "    print(f'Epoch [{epoch+1}/{num_epochs}], Training MSE: {train_accuracy:.4f}, Test MSE: {test_accuracy:.4f}')"
      ],
      "metadata": {
        "colab": {
          "base_uri": "https://localhost:8080/"
        },
        "id": "rmS4zXTTMNHd",
        "outputId": "3af96d22-90a7-49be-ba82-dab08a29cb79"
      },
      "execution_count": 15,
      "outputs": [
        {
          "output_type": "stream",
          "name": "stdout",
          "text": [
            "Epoch [1/50], Training MSE: 0.4246, Test MSE: 0.1859\n",
            "Epoch [2/50], Training MSE: 0.4080, Test MSE: 0.1549\n",
            "Epoch [3/50], Training MSE: 0.2991, Test MSE: 0.2640\n",
            "Epoch [4/50], Training MSE: 0.2401, Test MSE: 0.3773\n",
            "Epoch [5/50], Training MSE: 0.2566, Test MSE: 0.3184\n",
            "Epoch [6/50], Training MSE: 0.2144, Test MSE: 0.1662\n",
            "Epoch [7/50], Training MSE: 0.1393, Test MSE: 0.0625\n",
            "Epoch [8/50], Training MSE: 0.1277, Test MSE: 0.1070\n",
            "Epoch [9/50], Training MSE: 0.1763, Test MSE: 0.1148\n",
            "Epoch [10/50], Training MSE: 0.1672, Test MSE: 0.0526\n",
            "Epoch [11/50], Training MSE: 0.0864, Test MSE: 0.0565\n",
            "Epoch [12/50], Training MSE: 0.0386, Test MSE: 0.1285\n",
            "Epoch [13/50], Training MSE: 0.1211, Test MSE: 0.1421\n",
            "Epoch [14/50], Training MSE: 0.1444, Test MSE: 0.0930\n",
            "Epoch [15/50], Training MSE: 0.1063, Test MSE: 0.0525\n",
            "Epoch [16/50], Training MSE: 0.0725, Test MSE: 0.0866\n",
            "Epoch [17/50], Training MSE: 0.0867, Test MSE: 0.1284\n",
            "Epoch [18/50], Training MSE: 0.1183, Test MSE: 0.1202\n",
            "Epoch [19/50], Training MSE: 0.1115, Test MSE: 0.0736\n",
            "Epoch [20/50], Training MSE: 0.0778, Test MSE: 0.0485\n",
            "Epoch [21/50], Training MSE: 0.0642, Test MSE: 0.0669\n",
            "Epoch [22/50], Training MSE: 0.0784, Test MSE: 0.0896\n",
            "Epoch [23/50], Training MSE: 0.0917, Test MSE: 0.0801\n",
            "Epoch [24/50], Training MSE: 0.0764, Test MSE: 0.0489\n",
            "Epoch [25/50], Training MSE: 0.0422, Test MSE: 0.0308\n",
            "Epoch [26/50], Training MSE: 0.0344, Test MSE: 0.0429\n",
            "Epoch [27/50], Training MSE: 0.0603, Test MSE: 0.0466\n",
            "Epoch [28/50], Training MSE: 0.0704, Test MSE: 0.0353\n",
            "Epoch [29/50], Training MSE: 0.0569, Test MSE: 0.0329\n",
            "Epoch [30/50], Training MSE: 0.0367, Test MSE: 0.0611\n",
            "Epoch [31/50], Training MSE: 0.0364, Test MSE: 0.0872\n",
            "Epoch [32/50], Training MSE: 0.0512, Test MSE: 0.0946\n",
            "Epoch [33/50], Training MSE: 0.0568, Test MSE: 0.0825\n",
            "Epoch [34/50], Training MSE: 0.0479, Test MSE: 0.0584\n",
            "Epoch [35/50], Training MSE: 0.0406, Test MSE: 0.0391\n",
            "Epoch [36/50], Training MSE: 0.0441, Test MSE: 0.0322\n",
            "Epoch [37/50], Training MSE: 0.0515, Test MSE: 0.0315\n",
            "Epoch [38/50], Training MSE: 0.0521, Test MSE: 0.0334\n",
            "Epoch [39/50], Training MSE: 0.0442, Test MSE: 0.0434\n",
            "Epoch [40/50], Training MSE: 0.0360, Test MSE: 0.0596\n",
            "Epoch [41/50], Training MSE: 0.0353, Test MSE: 0.0689\n",
            "Epoch [42/50], Training MSE: 0.0392, Test MSE: 0.0652\n",
            "Epoch [43/50], Training MSE: 0.0375, Test MSE: 0.0506\n",
            "Epoch [44/50], Training MSE: 0.0302, Test MSE: 0.0346\n",
            "Epoch [45/50], Training MSE: 0.0285, Test MSE: 0.0290\n",
            "Epoch [46/50], Training MSE: 0.0334, Test MSE: 0.0294\n",
            "Epoch [47/50], Training MSE: 0.0365, Test MSE: 0.0294\n",
            "Epoch [48/50], Training MSE: 0.0330, Test MSE: 0.0319\n",
            "Epoch [49/50], Training MSE: 0.0279, Test MSE: 0.0397\n",
            "Epoch [50/50], Training MSE: 0.0289, Test MSE: 0.0457\n"
          ]
        }
      ]
    },
    {
      "cell_type": "markdown",
      "source": [
        "Our model performance improves significantly than the baseline. However, we notice that there is some bouncing around during the convergence. Our test MSE in the final epoch is actually higher than some previous epochs.\n",
        "\n",
        "Notice that this is our best overall model now. We made a marginal improvement over our RNN model in the previous section."
      ],
      "metadata": {
        "id": "g7MAOwQINDtJ"
      }
    },
    {
      "cell_type": "markdown",
      "source": [
        "## Random Forest\n",
        "\n",
        "---"
      ],
      "metadata": {
        "id": "juNQf_0T4RxO"
      }
    },
    {
      "cell_type": "markdown",
      "source": [
        "In the next phase, we wanted used Random Forest as a means to get feature importance for the other variables in our dataset. It would also work as a baseline comparison to our MLP model, to verify whether using an MLP (and RNN/LSTM) model is necessary or useful."
      ],
      "metadata": {
        "id": "EHvLKJKSBDyc"
      }
    },
    {
      "cell_type": "code",
      "source": [
        "# Checking dataframe\n",
        "sea_variables.info()"
      ],
      "metadata": {
        "colab": {
          "base_uri": "https://localhost:8080/"
        },
        "id": "HVJ9UgYYptln",
        "outputId": "a23e49f4-174a-40fe-b6e5-3b364c4985fa"
      },
      "execution_count": null,
      "outputs": [
        {
          "output_type": "stream",
          "name": "stdout",
          "text": [
            "<class 'pandas.core.frame.DataFrame'>\n",
            "RangeIndex: 345646 entries, 0 to 345645\n",
            "Data columns (total 12 columns):\n",
            " #   Column                    Non-Null Count   Dtype  \n",
            "---  ------                    --------------   -----  \n",
            " 0   month                     345646 non-null  int64  \n",
            " 1   day                       345646 non-null  int64  \n",
            " 2   timestamp                 345646 non-null  object \n",
            " 3   avg_sea_surface_temp      345646 non-null  float64\n",
            " 4   avg_wind_direction_true   200954 non-null  float64\n",
            " 5   avg_wind_speed            200622 non-null  float64\n",
            " 6   avg_visibility            18775 non-null   float64\n",
            " 7   avg_sea_level_pressure    198507 non-null  float64\n",
            " 8   avg_air_temperature       204296 non-null  float64\n",
            " 9   avg_wetbulb_temperature   15669 non-null   float64\n",
            " 10  avg_dewpoint_temperature  141826 non-null  float64\n",
            " 11  avg_total_cloud_amount    11877 non-null   float64\n",
            "dtypes: float64(9), int64(2), object(1)\n",
            "memory usage: 31.6+ MB\n"
          ]
        }
      ]
    },
    {
      "cell_type": "code",
      "source": [
        "# Checking for missing values\n",
        "sea_variables.isna().sum() / len(sea_variables)"
      ],
      "metadata": {
        "colab": {
          "base_uri": "https://localhost:8080/"
        },
        "id": "eoxEd8Rupv4V",
        "outputId": "be69bf4f-8b13-4f40-ea44-158c93f5ab9e"
      },
      "execution_count": null,
      "outputs": [
        {
          "output_type": "execute_result",
          "data": {
            "text/plain": [
              "month                       0.000000\n",
              "day                         0.000000\n",
              "timestamp                   0.000000\n",
              "avg_sea_surface_temp        0.000000\n",
              "avg_wind_direction_true     0.418613\n",
              "avg_wind_speed              0.419574\n",
              "avg_visibility              0.945681\n",
              "avg_sea_level_pressure      0.425693\n",
              "avg_air_temperature         0.408944\n",
              "avg_wetbulb_temperature     0.954667\n",
              "avg_dewpoint_temperature    0.589678\n",
              "avg_total_cloud_amount      0.965638\n",
              "dtype: float64"
            ]
          },
          "metadata": {},
          "execution_count": 11
        }
      ]
    },
    {
      "cell_type": "code",
      "source": [
        "# Dropping timestamp column\n",
        "sea_variables = sea_variables.drop(columns=[\"timestamp\"])"
      ],
      "metadata": {
        "id": "FlrGkqmkYqDd"
      },
      "execution_count": null,
      "outputs": []
    },
    {
      "cell_type": "code",
      "source": [
        "# Aggregating by month and day\n",
        "day_agg_df = sea_variables.groupby([\"month\", \"day\"]).mean().reset_index()"
      ],
      "metadata": {
        "id": "wa_7eoRyYyGt"
      },
      "execution_count": null,
      "outputs": []
    },
    {
      "cell_type": "code",
      "source": [
        "# Rechecking for missing values\n",
        "day_agg_df.isna().sum() / len(day_agg_df)"
      ],
      "metadata": {
        "colab": {
          "base_uri": "https://localhost:8080/"
        },
        "id": "d9JSQ1jGZITN",
        "outputId": "edec38e0-a1d2-481c-a277-e7bdd92c9b0c"
      },
      "execution_count": null,
      "outputs": [
        {
          "output_type": "execute_result",
          "data": {
            "text/plain": [
              "month                       0.0\n",
              "day                         0.0\n",
              "avg_sea_surface_temp        0.0\n",
              "avg_wind_direction_true     0.0\n",
              "avg_wind_speed              0.0\n",
              "avg_visibility              0.0\n",
              "avg_sea_level_pressure      0.0\n",
              "avg_air_temperature         0.0\n",
              "avg_wetbulb_temperature     0.0\n",
              "avg_dewpoint_temperature    0.0\n",
              "avg_total_cloud_amount      0.0\n",
              "dtype: float64"
            ]
          },
          "metadata": {},
          "execution_count": 14
        }
      ]
    },
    {
      "cell_type": "code",
      "source": [
        "# Dropping columns for modeling\n",
        "day_agg_df = day_agg_df.drop(columns=[\"month\", \"day\"])"
      ],
      "metadata": {
        "id": "osU0hw6RbMNX"
      },
      "execution_count": null,
      "outputs": []
    },
    {
      "cell_type": "code",
      "source": [
        "# Lagging the data by one day so today's features are predicting tomorrow's temperature\n",
        "day_agg_df[\"avg_sea_surface_temp\"] = day_agg_df[\"avg_sea_surface_temp\"].shift(periods=1)"
      ],
      "metadata": {
        "id": "JtPxra9UE6O1"
      },
      "execution_count": null,
      "outputs": []
    },
    {
      "cell_type": "code",
      "source": [
        "# Drop missing values\n",
        "day_agg_df = day_agg_df.dropna()"
      ],
      "metadata": {
        "id": "VBfjgWoqHHLw"
      },
      "execution_count": null,
      "outputs": []
    },
    {
      "cell_type": "code",
      "source": [
        "from sklearn.model_selection import train_test_split\n",
        "\n",
        "# Splitting dataset for training and testing\n",
        "X = day_agg_df.drop(\"avg_sea_surface_temp\", axis=1)\n",
        "y = day_agg_df[\"avg_sea_surface_temp\"].copy()\n",
        "X_train, X_test, y_train, y_test = train_test_split(X, y, test_size=0.25, random_state=0)"
      ],
      "metadata": {
        "id": "C_2LPUkTbYoz"
      },
      "execution_count": null,
      "outputs": []
    },
    {
      "cell_type": "code",
      "source": [
        "from sklearn.preprocessing import StandardScaler\n",
        "from sklearn.ensemble import RandomForestRegressor\n",
        "from sklearn.pipeline import make_pipeline\n",
        "from sklearn.metrics import mean_absolute_error\n",
        "\n",
        "# Preprocessing\n",
        "std_scaler = StandardScaler()\n",
        "forest_reg = make_pipeline(std_scaler, RandomForestRegressor(random_state=42))\n",
        "\n",
        "# Fitting Random Forest model\n",
        "forest_reg.fit(X_train, y_train)\n",
        "y_train_predictions = forest_reg.predict(X_train)\n",
        "forest_mae = mean_absolute_error(y_train, y_train_predictions)\n",
        "\n",
        "print(f\"The training data MAE is {forest_mae} or about {(forest_mae/y_train.mean()*100):.2f}% error\")"
      ],
      "metadata": {
        "colab": {
          "base_uri": "https://localhost:8080/"
        },
        "id": "FiivazjZb-Lv",
        "outputId": "178cab3a-1671-4322-9adc-e8cb2f088ddd"
      },
      "execution_count": null,
      "outputs": [
        {
          "output_type": "stream",
          "name": "stdout",
          "text": [
            "The training data MAE is 0.17013065637858463 or about 0.84% error\n"
          ]
        }
      ]
    },
    {
      "cell_type": "code",
      "source": [
        "# Testing model\n",
        "y_test_predictions = forest_reg.predict(X_test)\n",
        "forest_test_mae = mean_absolute_error(y_test, y_test_predictions)\n",
        "\n",
        "print(f\"The test data MAE is {forest_test_mae} or about {(forest_test_mae/y_test.mean()*100):.2f}% error\")"
      ],
      "metadata": {
        "colab": {
          "base_uri": "https://localhost:8080/"
        },
        "id": "R3phBl6KeG63",
        "outputId": "d4e098a0-b6b0-4f68-e61d-6ae1286963dd"
      },
      "execution_count": null,
      "outputs": [
        {
          "output_type": "stream",
          "name": "stdout",
          "text": [
            "The test data MAE is 0.4447973378657917 or about 2.22% error\n"
          ]
        }
      ]
    },
    {
      "cell_type": "code",
      "source": [
        "from sklearn.model_selection import RandomizedSearchCV\n",
        "from scipy.stats import randint\n",
        "\n",
        "# Performing Random Search\n",
        "param_distribs = {'randomforestregressor__max_depth': randint(low=1, high=50),\n",
        "                  'randomforestregressor__min_samples_leaf': randint(low=1, high=20)}\n",
        "\n",
        "rnd_search = RandomizedSearchCV(\n",
        "    forest_reg, param_distributions=param_distribs, n_iter=50, cv=3,\n",
        "    scoring='neg_mean_absolute_error', random_state=42)\n",
        "\n",
        "rnd_search.fit(X_train, y_train)"
      ],
      "metadata": {
        "id": "9TCXpKz5sDVb",
        "colab": {
          "base_uri": "https://localhost:8080/",
          "height": 152
        },
        "outputId": "9a6b81eb-8c65-4de2-96a5-712b804e9b51"
      },
      "execution_count": null,
      "outputs": [
        {
          "output_type": "execute_result",
          "data": {
            "text/plain": [
              "RandomizedSearchCV(cv=3,\n",
              "                   estimator=Pipeline(steps=[('standardscaler',\n",
              "                                              StandardScaler()),\n",
              "                                             ('randomforestregressor',\n",
              "                                              RandomForestRegressor(random_state=42))]),\n",
              "                   n_iter=50,\n",
              "                   param_distributions={'randomforestregressor__max_depth': <scipy.stats._distn_infrastructure.rv_discrete_frozen object at 0x7ef9d079dcf0>,\n",
              "                                        'randomforestregressor__min_samples_leaf': <scipy.stats._distn_infrastructure.rv_discrete_frozen object at 0x7ef9cf9c9750>},\n",
              "                   random_state=42, scoring='neg_mean_absolute_error')"
            ],
            "text/html": [
              "<style>#sk-container-id-2 {color: black;background-color: white;}#sk-container-id-2 pre{padding: 0;}#sk-container-id-2 div.sk-toggleable {background-color: white;}#sk-container-id-2 label.sk-toggleable__label {cursor: pointer;display: block;width: 100%;margin-bottom: 0;padding: 0.3em;box-sizing: border-box;text-align: center;}#sk-container-id-2 label.sk-toggleable__label-arrow:before {content: \"▸\";float: left;margin-right: 0.25em;color: #696969;}#sk-container-id-2 label.sk-toggleable__label-arrow:hover:before {color: black;}#sk-container-id-2 div.sk-estimator:hover label.sk-toggleable__label-arrow:before {color: black;}#sk-container-id-2 div.sk-toggleable__content {max-height: 0;max-width: 0;overflow: hidden;text-align: left;background-color: #f0f8ff;}#sk-container-id-2 div.sk-toggleable__content pre {margin: 0.2em;color: black;border-radius: 0.25em;background-color: #f0f8ff;}#sk-container-id-2 input.sk-toggleable__control:checked~div.sk-toggleable__content {max-height: 200px;max-width: 100%;overflow: auto;}#sk-container-id-2 input.sk-toggleable__control:checked~label.sk-toggleable__label-arrow:before {content: \"▾\";}#sk-container-id-2 div.sk-estimator input.sk-toggleable__control:checked~label.sk-toggleable__label {background-color: #d4ebff;}#sk-container-id-2 div.sk-label input.sk-toggleable__control:checked~label.sk-toggleable__label {background-color: #d4ebff;}#sk-container-id-2 input.sk-hidden--visually {border: 0;clip: rect(1px 1px 1px 1px);clip: rect(1px, 1px, 1px, 1px);height: 1px;margin: -1px;overflow: hidden;padding: 0;position: absolute;width: 1px;}#sk-container-id-2 div.sk-estimator {font-family: monospace;background-color: #f0f8ff;border: 1px dotted black;border-radius: 0.25em;box-sizing: border-box;margin-bottom: 0.5em;}#sk-container-id-2 div.sk-estimator:hover {background-color: #d4ebff;}#sk-container-id-2 div.sk-parallel-item::after {content: \"\";width: 100%;border-bottom: 1px solid gray;flex-grow: 1;}#sk-container-id-2 div.sk-label:hover label.sk-toggleable__label {background-color: #d4ebff;}#sk-container-id-2 div.sk-serial::before {content: \"\";position: absolute;border-left: 1px solid gray;box-sizing: border-box;top: 0;bottom: 0;left: 50%;z-index: 0;}#sk-container-id-2 div.sk-serial {display: flex;flex-direction: column;align-items: center;background-color: white;padding-right: 0.2em;padding-left: 0.2em;position: relative;}#sk-container-id-2 div.sk-item {position: relative;z-index: 1;}#sk-container-id-2 div.sk-parallel {display: flex;align-items: stretch;justify-content: center;background-color: white;position: relative;}#sk-container-id-2 div.sk-item::before, #sk-container-id-2 div.sk-parallel-item::before {content: \"\";position: absolute;border-left: 1px solid gray;box-sizing: border-box;top: 0;bottom: 0;left: 50%;z-index: -1;}#sk-container-id-2 div.sk-parallel-item {display: flex;flex-direction: column;z-index: 1;position: relative;background-color: white;}#sk-container-id-2 div.sk-parallel-item:first-child::after {align-self: flex-end;width: 50%;}#sk-container-id-2 div.sk-parallel-item:last-child::after {align-self: flex-start;width: 50%;}#sk-container-id-2 div.sk-parallel-item:only-child::after {width: 0;}#sk-container-id-2 div.sk-dashed-wrapped {border: 1px dashed gray;margin: 0 0.4em 0.5em 0.4em;box-sizing: border-box;padding-bottom: 0.4em;background-color: white;}#sk-container-id-2 div.sk-label label {font-family: monospace;font-weight: bold;display: inline-block;line-height: 1.2em;}#sk-container-id-2 div.sk-label-container {text-align: center;}#sk-container-id-2 div.sk-container {/* jupyter's `normalize.less` sets `[hidden] { display: none; }` but bootstrap.min.css set `[hidden] { display: none !important; }` so we also need the `!important` here to be able to override the default hidden behavior on the sphinx rendered scikit-learn.org. See: https://github.com/scikit-learn/scikit-learn/issues/21755 */display: inline-block !important;position: relative;}#sk-container-id-2 div.sk-text-repr-fallback {display: none;}</style><div id=\"sk-container-id-2\" class=\"sk-top-container\"><div class=\"sk-text-repr-fallback\"><pre>RandomizedSearchCV(cv=3,\n",
              "                   estimator=Pipeline(steps=[(&#x27;standardscaler&#x27;,\n",
              "                                              StandardScaler()),\n",
              "                                             (&#x27;randomforestregressor&#x27;,\n",
              "                                              RandomForestRegressor(random_state=42))]),\n",
              "                   n_iter=50,\n",
              "                   param_distributions={&#x27;randomforestregressor__max_depth&#x27;: &lt;scipy.stats._distn_infrastructure.rv_discrete_frozen object at 0x7ef9d079dcf0&gt;,\n",
              "                                        &#x27;randomforestregressor__min_samples_leaf&#x27;: &lt;scipy.stats._distn_infrastructure.rv_discrete_frozen object at 0x7ef9cf9c9750&gt;},\n",
              "                   random_state=42, scoring=&#x27;neg_mean_absolute_error&#x27;)</pre><b>In a Jupyter environment, please rerun this cell to show the HTML representation or trust the notebook. <br />On GitHub, the HTML representation is unable to render, please try loading this page with nbviewer.org.</b></div><div class=\"sk-container\" hidden><div class=\"sk-item sk-dashed-wrapped\"><div class=\"sk-label-container\"><div class=\"sk-label sk-toggleable\"><input class=\"sk-toggleable__control sk-hidden--visually\" id=\"sk-estimator-id-5\" type=\"checkbox\" ><label for=\"sk-estimator-id-5\" class=\"sk-toggleable__label sk-toggleable__label-arrow\">RandomizedSearchCV</label><div class=\"sk-toggleable__content\"><pre>RandomizedSearchCV(cv=3,\n",
              "                   estimator=Pipeline(steps=[(&#x27;standardscaler&#x27;,\n",
              "                                              StandardScaler()),\n",
              "                                             (&#x27;randomforestregressor&#x27;,\n",
              "                                              RandomForestRegressor(random_state=42))]),\n",
              "                   n_iter=50,\n",
              "                   param_distributions={&#x27;randomforestregressor__max_depth&#x27;: &lt;scipy.stats._distn_infrastructure.rv_discrete_frozen object at 0x7ef9d079dcf0&gt;,\n",
              "                                        &#x27;randomforestregressor__min_samples_leaf&#x27;: &lt;scipy.stats._distn_infrastructure.rv_discrete_frozen object at 0x7ef9cf9c9750&gt;},\n",
              "                   random_state=42, scoring=&#x27;neg_mean_absolute_error&#x27;)</pre></div></div></div><div class=\"sk-parallel\"><div class=\"sk-parallel-item\"><div class=\"sk-item\"><div class=\"sk-label-container\"><div class=\"sk-label sk-toggleable\"><input class=\"sk-toggleable__control sk-hidden--visually\" id=\"sk-estimator-id-6\" type=\"checkbox\" ><label for=\"sk-estimator-id-6\" class=\"sk-toggleable__label sk-toggleable__label-arrow\">estimator: Pipeline</label><div class=\"sk-toggleable__content\"><pre>Pipeline(steps=[(&#x27;standardscaler&#x27;, StandardScaler()),\n",
              "                (&#x27;randomforestregressor&#x27;,\n",
              "                 RandomForestRegressor(random_state=42))])</pre></div></div></div><div class=\"sk-serial\"><div class=\"sk-item\"><div class=\"sk-serial\"><div class=\"sk-item\"><div class=\"sk-estimator sk-toggleable\"><input class=\"sk-toggleable__control sk-hidden--visually\" id=\"sk-estimator-id-7\" type=\"checkbox\" ><label for=\"sk-estimator-id-7\" class=\"sk-toggleable__label sk-toggleable__label-arrow\">StandardScaler</label><div class=\"sk-toggleable__content\"><pre>StandardScaler()</pre></div></div></div><div class=\"sk-item\"><div class=\"sk-estimator sk-toggleable\"><input class=\"sk-toggleable__control sk-hidden--visually\" id=\"sk-estimator-id-8\" type=\"checkbox\" ><label for=\"sk-estimator-id-8\" class=\"sk-toggleable__label sk-toggleable__label-arrow\">RandomForestRegressor</label><div class=\"sk-toggleable__content\"><pre>RandomForestRegressor(random_state=42)</pre></div></div></div></div></div></div></div></div></div></div></div></div>"
            ]
          },
          "metadata": {},
          "execution_count": 26
        }
      ]
    },
    {
      "cell_type": "code",
      "source": [
        "# Print results of random search\n",
        "rnd_res = pd.DataFrame(rnd_search.cv_results_)\n",
        "rnd_res.sort_values(by=\"mean_test_score\", ascending=False, inplace=True)\n",
        "rnd_res.filter(regex = '(^param_|mean_test_score)', axis=1).head(10)"
      ],
      "metadata": {
        "colab": {
          "base_uri": "https://localhost:8080/",
          "height": 363
        },
        "id": "g0FbE0botRXV",
        "outputId": "c985a012-f824-4ee7-e443-69f73f2eb9fd"
      },
      "execution_count": null,
      "outputs": [
        {
          "output_type": "execute_result",
          "data": {
            "text/plain": [
              "   param_randomforestregressor__max_depth  \\\n",
              "15                                     44   \n",
              "5                                      40   \n",
              "46                                     35   \n",
              "6                                      22   \n",
              "20                                      9   \n",
              "42                                      9   \n",
              "40                                     45   \n",
              "25                                     17   \n",
              "4                                      11   \n",
              "28                                     42   \n",
              "\n",
              "   param_randomforestregressor__min_samples_leaf  mean_test_score  \n",
              "15                                             3        -0.451236  \n",
              "5                                              3        -0.451236  \n",
              "46                                             3        -0.451236  \n",
              "6                                              2        -0.453930  \n",
              "20                                             2        -0.454246  \n",
              "42                                             1        -0.454271  \n",
              "40                                             1        -0.455363  \n",
              "25                                             4        -0.455672  \n",
              "4                                              4        -0.455672  \n",
              "28                                             4        -0.455672  "
            ],
            "text/html": [
              "\n",
              "  <div id=\"df-2456268c-d7ea-4450-902f-aa9174a180b0\" class=\"colab-df-container\">\n",
              "    <div>\n",
              "<style scoped>\n",
              "    .dataframe tbody tr th:only-of-type {\n",
              "        vertical-align: middle;\n",
              "    }\n",
              "\n",
              "    .dataframe tbody tr th {\n",
              "        vertical-align: top;\n",
              "    }\n",
              "\n",
              "    .dataframe thead th {\n",
              "        text-align: right;\n",
              "    }\n",
              "</style>\n",
              "<table border=\"1\" class=\"dataframe\">\n",
              "  <thead>\n",
              "    <tr style=\"text-align: right;\">\n",
              "      <th></th>\n",
              "      <th>param_randomforestregressor__max_depth</th>\n",
              "      <th>param_randomforestregressor__min_samples_leaf</th>\n",
              "      <th>mean_test_score</th>\n",
              "    </tr>\n",
              "  </thead>\n",
              "  <tbody>\n",
              "    <tr>\n",
              "      <th>15</th>\n",
              "      <td>44</td>\n",
              "      <td>3</td>\n",
              "      <td>-0.451236</td>\n",
              "    </tr>\n",
              "    <tr>\n",
              "      <th>5</th>\n",
              "      <td>40</td>\n",
              "      <td>3</td>\n",
              "      <td>-0.451236</td>\n",
              "    </tr>\n",
              "    <tr>\n",
              "      <th>46</th>\n",
              "      <td>35</td>\n",
              "      <td>3</td>\n",
              "      <td>-0.451236</td>\n",
              "    </tr>\n",
              "    <tr>\n",
              "      <th>6</th>\n",
              "      <td>22</td>\n",
              "      <td>2</td>\n",
              "      <td>-0.453930</td>\n",
              "    </tr>\n",
              "    <tr>\n",
              "      <th>20</th>\n",
              "      <td>9</td>\n",
              "      <td>2</td>\n",
              "      <td>-0.454246</td>\n",
              "    </tr>\n",
              "    <tr>\n",
              "      <th>42</th>\n",
              "      <td>9</td>\n",
              "      <td>1</td>\n",
              "      <td>-0.454271</td>\n",
              "    </tr>\n",
              "    <tr>\n",
              "      <th>40</th>\n",
              "      <td>45</td>\n",
              "      <td>1</td>\n",
              "      <td>-0.455363</td>\n",
              "    </tr>\n",
              "    <tr>\n",
              "      <th>25</th>\n",
              "      <td>17</td>\n",
              "      <td>4</td>\n",
              "      <td>-0.455672</td>\n",
              "    </tr>\n",
              "    <tr>\n",
              "      <th>4</th>\n",
              "      <td>11</td>\n",
              "      <td>4</td>\n",
              "      <td>-0.455672</td>\n",
              "    </tr>\n",
              "    <tr>\n",
              "      <th>28</th>\n",
              "      <td>42</td>\n",
              "      <td>4</td>\n",
              "      <td>-0.455672</td>\n",
              "    </tr>\n",
              "  </tbody>\n",
              "</table>\n",
              "</div>\n",
              "    <div class=\"colab-df-buttons\">\n",
              "\n",
              "  <div class=\"colab-df-container\">\n",
              "    <button class=\"colab-df-convert\" onclick=\"convertToInteractive('df-2456268c-d7ea-4450-902f-aa9174a180b0')\"\n",
              "            title=\"Convert this dataframe to an interactive table.\"\n",
              "            style=\"display:none;\">\n",
              "\n",
              "  <svg xmlns=\"http://www.w3.org/2000/svg\" height=\"24px\" viewBox=\"0 -960 960 960\">\n",
              "    <path d=\"M120-120v-720h720v720H120Zm60-500h600v-160H180v160Zm220 220h160v-160H400v160Zm0 220h160v-160H400v160ZM180-400h160v-160H180v160Zm440 0h160v-160H620v160ZM180-180h160v-160H180v160Zm440 0h160v-160H620v160Z\"/>\n",
              "  </svg>\n",
              "    </button>\n",
              "\n",
              "  <style>\n",
              "    .colab-df-container {\n",
              "      display:flex;\n",
              "      gap: 12px;\n",
              "    }\n",
              "\n",
              "    .colab-df-convert {\n",
              "      background-color: #E8F0FE;\n",
              "      border: none;\n",
              "      border-radius: 50%;\n",
              "      cursor: pointer;\n",
              "      display: none;\n",
              "      fill: #1967D2;\n",
              "      height: 32px;\n",
              "      padding: 0 0 0 0;\n",
              "      width: 32px;\n",
              "    }\n",
              "\n",
              "    .colab-df-convert:hover {\n",
              "      background-color: #E2EBFA;\n",
              "      box-shadow: 0px 1px 2px rgba(60, 64, 67, 0.3), 0px 1px 3px 1px rgba(60, 64, 67, 0.15);\n",
              "      fill: #174EA6;\n",
              "    }\n",
              "\n",
              "    .colab-df-buttons div {\n",
              "      margin-bottom: 4px;\n",
              "    }\n",
              "\n",
              "    [theme=dark] .colab-df-convert {\n",
              "      background-color: #3B4455;\n",
              "      fill: #D2E3FC;\n",
              "    }\n",
              "\n",
              "    [theme=dark] .colab-df-convert:hover {\n",
              "      background-color: #434B5C;\n",
              "      box-shadow: 0px 1px 3px 1px rgba(0, 0, 0, 0.15);\n",
              "      filter: drop-shadow(0px 1px 2px rgba(0, 0, 0, 0.3));\n",
              "      fill: #FFFFFF;\n",
              "    }\n",
              "  </style>\n",
              "\n",
              "    <script>\n",
              "      const buttonEl =\n",
              "        document.querySelector('#df-2456268c-d7ea-4450-902f-aa9174a180b0 button.colab-df-convert');\n",
              "      buttonEl.style.display =\n",
              "        google.colab.kernel.accessAllowed ? 'block' : 'none';\n",
              "\n",
              "      async function convertToInteractive(key) {\n",
              "        const element = document.querySelector('#df-2456268c-d7ea-4450-902f-aa9174a180b0');\n",
              "        const dataTable =\n",
              "          await google.colab.kernel.invokeFunction('convertToInteractive',\n",
              "                                                    [key], {});\n",
              "        if (!dataTable) return;\n",
              "\n",
              "        const docLinkHtml = 'Like what you see? Visit the ' +\n",
              "          '<a target=\"_blank\" href=https://colab.research.google.com/notebooks/data_table.ipynb>data table notebook</a>'\n",
              "          + ' to learn more about interactive tables.';\n",
              "        element.innerHTML = '';\n",
              "        dataTable['output_type'] = 'display_data';\n",
              "        await google.colab.output.renderOutput(dataTable, element);\n",
              "        const docLink = document.createElement('div');\n",
              "        docLink.innerHTML = docLinkHtml;\n",
              "        element.appendChild(docLink);\n",
              "      }\n",
              "    </script>\n",
              "  </div>\n",
              "\n",
              "\n",
              "<div id=\"df-a4a4518e-de1a-4852-b1a2-563a3a198b22\">\n",
              "  <button class=\"colab-df-quickchart\" onclick=\"quickchart('df-a4a4518e-de1a-4852-b1a2-563a3a198b22')\"\n",
              "            title=\"Suggest charts\"\n",
              "            style=\"display:none;\">\n",
              "\n",
              "<svg xmlns=\"http://www.w3.org/2000/svg\" height=\"24px\"viewBox=\"0 0 24 24\"\n",
              "     width=\"24px\">\n",
              "    <g>\n",
              "        <path d=\"M19 3H5c-1.1 0-2 .9-2 2v14c0 1.1.9 2 2 2h14c1.1 0 2-.9 2-2V5c0-1.1-.9-2-2-2zM9 17H7v-7h2v7zm4 0h-2V7h2v10zm4 0h-2v-4h2v4z\"/>\n",
              "    </g>\n",
              "</svg>\n",
              "  </button>\n",
              "\n",
              "<style>\n",
              "  .colab-df-quickchart {\n",
              "      --bg-color: #E8F0FE;\n",
              "      --fill-color: #1967D2;\n",
              "      --hover-bg-color: #E2EBFA;\n",
              "      --hover-fill-color: #174EA6;\n",
              "      --disabled-fill-color: #AAA;\n",
              "      --disabled-bg-color: #DDD;\n",
              "  }\n",
              "\n",
              "  [theme=dark] .colab-df-quickchart {\n",
              "      --bg-color: #3B4455;\n",
              "      --fill-color: #D2E3FC;\n",
              "      --hover-bg-color: #434B5C;\n",
              "      --hover-fill-color: #FFFFFF;\n",
              "      --disabled-bg-color: #3B4455;\n",
              "      --disabled-fill-color: #666;\n",
              "  }\n",
              "\n",
              "  .colab-df-quickchart {\n",
              "    background-color: var(--bg-color);\n",
              "    border: none;\n",
              "    border-radius: 50%;\n",
              "    cursor: pointer;\n",
              "    display: none;\n",
              "    fill: var(--fill-color);\n",
              "    height: 32px;\n",
              "    padding: 0;\n",
              "    width: 32px;\n",
              "  }\n",
              "\n",
              "  .colab-df-quickchart:hover {\n",
              "    background-color: var(--hover-bg-color);\n",
              "    box-shadow: 0 1px 2px rgba(60, 64, 67, 0.3), 0 1px 3px 1px rgba(60, 64, 67, 0.15);\n",
              "    fill: var(--button-hover-fill-color);\n",
              "  }\n",
              "\n",
              "  .colab-df-quickchart-complete:disabled,\n",
              "  .colab-df-quickchart-complete:disabled:hover {\n",
              "    background-color: var(--disabled-bg-color);\n",
              "    fill: var(--disabled-fill-color);\n",
              "    box-shadow: none;\n",
              "  }\n",
              "\n",
              "  .colab-df-spinner {\n",
              "    border: 2px solid var(--fill-color);\n",
              "    border-color: transparent;\n",
              "    border-bottom-color: var(--fill-color);\n",
              "    animation:\n",
              "      spin 1s steps(1) infinite;\n",
              "  }\n",
              "\n",
              "  @keyframes spin {\n",
              "    0% {\n",
              "      border-color: transparent;\n",
              "      border-bottom-color: var(--fill-color);\n",
              "      border-left-color: var(--fill-color);\n",
              "    }\n",
              "    20% {\n",
              "      border-color: transparent;\n",
              "      border-left-color: var(--fill-color);\n",
              "      border-top-color: var(--fill-color);\n",
              "    }\n",
              "    30% {\n",
              "      border-color: transparent;\n",
              "      border-left-color: var(--fill-color);\n",
              "      border-top-color: var(--fill-color);\n",
              "      border-right-color: var(--fill-color);\n",
              "    }\n",
              "    40% {\n",
              "      border-color: transparent;\n",
              "      border-right-color: var(--fill-color);\n",
              "      border-top-color: var(--fill-color);\n",
              "    }\n",
              "    60% {\n",
              "      border-color: transparent;\n",
              "      border-right-color: var(--fill-color);\n",
              "    }\n",
              "    80% {\n",
              "      border-color: transparent;\n",
              "      border-right-color: var(--fill-color);\n",
              "      border-bottom-color: var(--fill-color);\n",
              "    }\n",
              "    90% {\n",
              "      border-color: transparent;\n",
              "      border-bottom-color: var(--fill-color);\n",
              "    }\n",
              "  }\n",
              "</style>\n",
              "\n",
              "  <script>\n",
              "    async function quickchart(key) {\n",
              "      const quickchartButtonEl =\n",
              "        document.querySelector('#' + key + ' button');\n",
              "      quickchartButtonEl.disabled = true;  // To prevent multiple clicks.\n",
              "      quickchartButtonEl.classList.add('colab-df-spinner');\n",
              "      try {\n",
              "        const charts = await google.colab.kernel.invokeFunction(\n",
              "            'suggestCharts', [key], {});\n",
              "      } catch (error) {\n",
              "        console.error('Error during call to suggestCharts:', error);\n",
              "      }\n",
              "      quickchartButtonEl.classList.remove('colab-df-spinner');\n",
              "      quickchartButtonEl.classList.add('colab-df-quickchart-complete');\n",
              "    }\n",
              "    (() => {\n",
              "      let quickchartButtonEl =\n",
              "        document.querySelector('#df-a4a4518e-de1a-4852-b1a2-563a3a198b22 button');\n",
              "      quickchartButtonEl.style.display =\n",
              "        google.colab.kernel.accessAllowed ? 'block' : 'none';\n",
              "    })();\n",
              "  </script>\n",
              "</div>\n",
              "    </div>\n",
              "  </div>\n"
            ],
            "application/vnd.google.colaboratory.intrinsic+json": {
              "type": "dataframe",
              "repr_error": "0"
            }
          },
          "metadata": {},
          "execution_count": 42
        }
      ]
    },
    {
      "cell_type": "markdown",
      "source": [
        "We observe that a `max depth` of 35 and `min samples leaf` of 3 gave us the best results from our random search.\n",
        "\n",
        "A max depth of 40 and 44 also give us the same results, but we choose the simpler (less complex) model to hopefully make it more generalizable and less prone to overfit."
      ],
      "metadata": {
        "id": "urx33hW3StCw"
      }
    },
    {
      "cell_type": "code",
      "source": [
        "# Get the best estimator from the Random Search\n",
        "best_pipeline = rnd_search.best_estimator_\n",
        "\n",
        "# Get the last estimator (RandomForestRegressor) from the pipeline\n",
        "best_rf = best_pipeline.named_steps['randomforestregressor']\n",
        "\n",
        "# Get feature importances\n",
        "feature_importances = best_rf.feature_importances_\n",
        "\n",
        "# Create a dictionary mapping feature names to importance scores\n",
        "feature_importance_dict = dict(zip(X.columns, feature_importances))\n",
        "\n",
        "# Sort the dictionary by importance scores (optional)\n",
        "sorted_feature_importance = dict(sorted(feature_importance_dict.items(), key=lambda item: item[1], reverse=True))\n",
        "\n",
        "# Print or visualize feature importance\n",
        "print(sorted_feature_importance)"
      ],
      "metadata": {
        "colab": {
          "base_uri": "https://localhost:8080/"
        },
        "id": "U0LtVRCIQvHg",
        "outputId": "a261d53c-8e62-4de9-ea83-4684d511704f"
      },
      "execution_count": null,
      "outputs": [
        {
          "output_type": "stream",
          "name": "stdout",
          "text": [
            "{'avg_air_temperature': 0.8208387869343166, 'avg_dewpoint_temperature': 0.10440176338677022, 'avg_wetbulb_temperature': 0.028733797098179973, 'avg_visibility': 0.014904682783444116, 'avg_wind_speed': 0.01101926903110611, 'avg_sea_level_pressure': 0.008243619775776687, 'avg_total_cloud_amount': 0.007772792837108387, 'avg_wind_direction_true': 0.004085288153297883}\n"
          ]
        }
      ]
    },
    {
      "cell_type": "markdown",
      "source": [
        "From the feature importances above, we observe that only `average air temperature` is a good predictor of average sea temperatures. The other variables in our model add marginal predictive power for our target variable."
      ],
      "metadata": {
        "id": "0TkVwqTrTSBY"
      }
    },
    {
      "cell_type": "markdown",
      "source": [
        "## Multivariable RNN and LSTM\n",
        "\n",
        "---"
      ],
      "metadata": {
        "id": "PAEJqpR64UVZ"
      }
    },
    {
      "cell_type": "markdown",
      "source": [
        "In our next phase, we wanted to add average air temperature to our model to see whether it would improve our predictive ability."
      ],
      "metadata": {
        "id": "WjJVO4SXPJdz"
      }
    },
    {
      "cell_type": "markdown",
      "source": [
        "### RNN\n",
        "\n",
        "---"
      ],
      "metadata": {
        "id": "Gnqm-HXj-Eac"
      }
    },
    {
      "cell_type": "code",
      "source": [
        "# Dropping additional columns based on feature importances\n",
        "sea_variables.drop(columns = ['avg_wind_direction_true',\t'avg_wind_speed',\n",
        "                        'avg_visibility',\t'avg_sea_level_pressure',\t'avg_wetbulb_temperature',\n",
        "                              'avg_dewpoint_temperature',\t'avg_total_cloud_amount'], inplace = True)"
      ],
      "metadata": {
        "id": "vYmMKdMaL4LX"
      },
      "execution_count": null,
      "outputs": []
    },
    {
      "cell_type": "code",
      "source": [
        "# Group by month and day\n",
        "sea_variables = sea_variables.groupby(['month', 'day']).agg('mean').reset_index()"
      ],
      "metadata": {
        "id": "KI-T_StWUFNC"
      },
      "execution_count": null,
      "outputs": []
    },
    {
      "cell_type": "code",
      "source": [
        "from sklearn.preprocessing import MinMaxScaler\n",
        "# Scaling the data\n",
        "\n",
        "X = sea_variables[['avg_sea_surface_temp', 'avg_air_temperature']]\n",
        "\n",
        "scaler = MinMaxScaler()\n",
        "\n",
        "scaled_data = scaler.fit_transform(X)\n",
        "\n",
        "# Splitting the data\n",
        "split_ratio = 0.8\n",
        "train_size = int(len(sea_temp) * split_ratio)"
      ],
      "metadata": {
        "id": "H54T759NVbZv"
      },
      "execution_count": null,
      "outputs": []
    },
    {
      "cell_type": "code",
      "source": [
        "# Creating sequences\n",
        "sequence_length = 7\n",
        "\n",
        "def create_sequences(data, sequence_length):\n",
        "\n",
        "  total_sequence=[]\n",
        "  prices = []\n",
        "\n",
        "  for day in range(0, (len(data) - sequence_length)):\n",
        "    start_index = day\n",
        "    end_index = sequence_length + day\n",
        "    day_sequence = data[start_index:end_index]\n",
        "    day_price = data[end_index]\n",
        "\n",
        "    total_sequence.append(day_sequence)\n",
        "    prices.append(day_price)\n",
        "  return np.array(total_sequence), np.array(prices)\n",
        "\n",
        "sequences = create_sequences(scaled_data, sequence_length)\n",
        "X = sequences[0]\n",
        "y = sequences[1]"
      ],
      "metadata": {
        "id": "TmGKlCcMM-2Z"
      },
      "execution_count": null,
      "outputs": []
    },
    {
      "cell_type": "code",
      "source": [
        "import torch\n",
        "\n",
        "# Split the data into training and testing sets\n",
        "train_size = int(X.shape[0]* split_ratio)\n",
        "X_train = torch.tensor(X[:train_size]).float()\n",
        "y_train = torch.tensor(y[:train_size]).float()\n",
        "X_test = torch.tensor(X[train_size:]).float()\n",
        "y_test = torch.tensor(y[train_size:]).float()"
      ],
      "metadata": {
        "id": "WK1izF4ONCxy"
      },
      "execution_count": null,
      "outputs": []
    },
    {
      "cell_type": "code",
      "source": [
        "X_train.shape, X_test.shape, y_train.shape, y_test.shape"
      ],
      "metadata": {
        "colab": {
          "base_uri": "https://localhost:8080/"
        },
        "id": "dyIQWPupNMff",
        "outputId": "741a7be3-f39c-42fb-ad7c-f1738e2323f7"
      },
      "execution_count": null,
      "outputs": [
        {
          "output_type": "execute_result",
          "data": {
            "text/plain": [
              "(torch.Size([286, 7, 2]),\n",
              " torch.Size([72, 7, 2]),\n",
              " torch.Size([286, 2]),\n",
              " torch.Size([72, 2]))"
            ]
          },
          "metadata": {},
          "execution_count": 63
        }
      ]
    },
    {
      "cell_type": "code",
      "source": [
        "import torch\n",
        "import torch.nn as nn\n",
        "\n",
        "class RNN(nn.Module):\n",
        "    def __init__(self, input_size, hidden_size, num_layers, output_size):\n",
        "        super(RNN, self).__init__()\n",
        "        self.hidden_size = hidden_size\n",
        "        self.num_layers = num_layers\n",
        "        self.rnn = nn.RNN(input_size, hidden_size, num_layers, batch_first=True)\n",
        "        self.fc = nn.Linear(hidden_size, output_size)\n",
        "\n",
        "    def forward(self, x):\n",
        "        # Initialize hidden state with zeros\n",
        "        h0 = torch.zeros(self.num_layers, x.size(0), self.hidden_size).to(x.device)\n",
        "\n",
        "        # Forward propagate RNN\n",
        "        out, _ = self.rnn(x, h0)\n",
        "\n",
        "        # Decode the hidden state of the last time step\n",
        "        out = self.fc(out[:, -1, :])\n",
        "        return out\n",
        "\n",
        "# Example usage:\n",
        "# Define input parameters\n",
        "input_size = 2  # Number of features in input data (e.g., time series)\n",
        "hidden_size = 64  # Number of hidden units in the RNN\n",
        "num_layers = 2 # Number of RNN layers\n",
        "output_size = 2  # Number of features in output data (e.g., regression target)\n",
        "\n",
        "# Instantiate the model\n",
        "model = RNN(input_size, hidden_size, num_layers, output_size)\n",
        "\n",
        "# Print model architecture\n",
        "print(model)"
      ],
      "metadata": {
        "colab": {
          "base_uri": "https://localhost:8080/"
        },
        "id": "-XZp-3AiJmiS",
        "outputId": "b3dcee4b-28fb-4820-a2ba-acd7847b2079"
      },
      "execution_count": null,
      "outputs": [
        {
          "output_type": "stream",
          "name": "stdout",
          "text": [
            "RNN(\n",
            "  (rnn): RNN(2, 64, num_layers=2, batch_first=True)\n",
            "  (fc): Linear(in_features=64, out_features=2, bias=True)\n",
            ")\n"
          ]
        }
      ]
    },
    {
      "cell_type": "code",
      "source": [
        "import torch.optim as optim\n",
        "\n",
        "# Define the loss function\n",
        "criterion = nn.MSELoss()\n",
        "\n",
        "# Define the optimizer\n",
        "optimizer = optim.Adam(model.parameters(), lr=0.01)\n",
        "\n",
        "# Training loop\n",
        "num_epochs = 50\n",
        "for epoch in range(num_epochs):\n",
        "    # Forward pass\n",
        "    outputs = model(X_train)\n",
        "    loss = criterion(outputs, y_train)\n",
        "\n",
        "    # Backward pass and optimization\n",
        "    optimizer.zero_grad()\n",
        "    loss.backward()\n",
        "    optimizer.step()\n",
        "\n",
        "    # Calculate training accuracy (MAE)\n",
        "    train_accuracy = torch.mean(torch.abs(outputs - y_train)).item()\n",
        "\n",
        "    # Evaluate on test set\n",
        "    with torch.no_grad():\n",
        "        model.eval()  # Set the model to evaluation mode\n",
        "        test_outputs = model(X_test)\n",
        "        test_accuracy = torch.mean(torch.abs(test_outputs - y_test)).item()\n",
        "\n",
        "    # Print progress\n",
        "    print(f'Epoch [{epoch+1}/{num_epochs}], Training Accuracy (MSE): {train_accuracy:.4f}, Test Accuracy (MSE): {test_accuracy:.4f}')"
      ],
      "metadata": {
        "colab": {
          "base_uri": "https://localhost:8080/"
        },
        "id": "v5TMFihkNUno",
        "outputId": "18f9957a-0d9a-4e7a-f4bb-0be4f9cdb0a2"
      },
      "execution_count": null,
      "outputs": [
        {
          "output_type": "stream",
          "name": "stdout",
          "text": [
            "Epoch [1/50], Training Accuracy (MSE): 0.6655, Test Accuracy (MSE): 0.1124\n",
            "Epoch [2/50], Training Accuracy (MSE): 0.2071, Test Accuracy (MSE): 1.0762\n",
            "Epoch [3/50], Training Accuracy (MSE): 0.9787, Test Accuracy (MSE): 0.2670\n",
            "Epoch [4/50], Training Accuracy (MSE): 0.2979, Test Accuracy (MSE): 0.2848\n",
            "Epoch [5/50], Training Accuracy (MSE): 0.3957, Test Accuracy (MSE): 0.2402\n",
            "Epoch [6/50], Training Accuracy (MSE): 0.3638, Test Accuracy (MSE): 0.1358\n",
            "Epoch [7/50], Training Accuracy (MSE): 0.2823, Test Accuracy (MSE): 0.1252\n",
            "Epoch [8/50], Training Accuracy (MSE): 0.2107, Test Accuracy (MSE): 0.2691\n",
            "Epoch [9/50], Training Accuracy (MSE): 0.2230, Test Accuracy (MSE): 0.3305\n",
            "Epoch [10/50], Training Accuracy (MSE): 0.2482, Test Accuracy (MSE): 0.2475\n",
            "Epoch [11/50], Training Accuracy (MSE): 0.2181, Test Accuracy (MSE): 0.1279\n",
            "Epoch [12/50], Training Accuracy (MSE): 0.2053, Test Accuracy (MSE): 0.1130\n",
            "Epoch [13/50], Training Accuracy (MSE): 0.2335, Test Accuracy (MSE): 0.0985\n",
            "Epoch [14/50], Training Accuracy (MSE): 0.2333, Test Accuracy (MSE): 0.0900\n",
            "Epoch [15/50], Training Accuracy (MSE): 0.2003, Test Accuracy (MSE): 0.1078\n",
            "Epoch [16/50], Training Accuracy (MSE): 0.1670, Test Accuracy (MSE): 0.1569\n",
            "Epoch [17/50], Training Accuracy (MSE): 0.1582, Test Accuracy (MSE): 0.1960\n",
            "Epoch [18/50], Training Accuracy (MSE): 0.1644, Test Accuracy (MSE): 0.1615\n",
            "Epoch [19/50], Training Accuracy (MSE): 0.1157, Test Accuracy (MSE): 0.0819\n",
            "Epoch [20/50], Training Accuracy (MSE): 0.0713, Test Accuracy (MSE): 0.1030\n",
            "Epoch [21/50], Training Accuracy (MSE): 0.1409, Test Accuracy (MSE): 0.0998\n",
            "Epoch [22/50], Training Accuracy (MSE): 0.1379, Test Accuracy (MSE): 0.1025\n",
            "Epoch [23/50], Training Accuracy (MSE): 0.0856, Test Accuracy (MSE): 0.1669\n",
            "Epoch [24/50], Training Accuracy (MSE): 0.1001, Test Accuracy (MSE): 0.1739\n",
            "Epoch [25/50], Training Accuracy (MSE): 0.1068, Test Accuracy (MSE): 0.1288\n",
            "Epoch [26/50], Training Accuracy (MSE): 0.0786, Test Accuracy (MSE): 0.0730\n",
            "Epoch [27/50], Training Accuracy (MSE): 0.0740, Test Accuracy (MSE): 0.0578\n",
            "Epoch [28/50], Training Accuracy (MSE): 0.0937, Test Accuracy (MSE): 0.0578\n",
            "Epoch [29/50], Training Accuracy (MSE): 0.0989, Test Accuracy (MSE): 0.0623\n",
            "Epoch [30/50], Training Accuracy (MSE): 0.0828, Test Accuracy (MSE): 0.0884\n",
            "Epoch [31/50], Training Accuracy (MSE): 0.0706, Test Accuracy (MSE): 0.1185\n",
            "Epoch [32/50], Training Accuracy (MSE): 0.0736, Test Accuracy (MSE): 0.1296\n",
            "Epoch [33/50], Training Accuracy (MSE): 0.0776, Test Accuracy (MSE): 0.1087\n",
            "Epoch [34/50], Training Accuracy (MSE): 0.0682, Test Accuracy (MSE): 0.0737\n",
            "Epoch [35/50], Training Accuracy (MSE): 0.0597, Test Accuracy (MSE): 0.0598\n",
            "Epoch [36/50], Training Accuracy (MSE): 0.0671, Test Accuracy (MSE): 0.0663\n",
            "Epoch [37/50], Training Accuracy (MSE): 0.0766, Test Accuracy (MSE): 0.0692\n",
            "Epoch [38/50], Training Accuracy (MSE): 0.0679, Test Accuracy (MSE): 0.0771\n",
            "Epoch [39/50], Training Accuracy (MSE): 0.0562, Test Accuracy (MSE): 0.0896\n",
            "Epoch [40/50], Training Accuracy (MSE): 0.0591, Test Accuracy (MSE): 0.0963\n",
            "Epoch [41/50], Training Accuracy (MSE): 0.0642, Test Accuracy (MSE): 0.0862\n",
            "Epoch [42/50], Training Accuracy (MSE): 0.0570, Test Accuracy (MSE): 0.0709\n",
            "Epoch [43/50], Training Accuracy (MSE): 0.0520, Test Accuracy (MSE): 0.0661\n",
            "Epoch [44/50], Training Accuracy (MSE): 0.0589, Test Accuracy (MSE): 0.0632\n",
            "Epoch [45/50], Training Accuracy (MSE): 0.0632, Test Accuracy (MSE): 0.0596\n",
            "Epoch [46/50], Training Accuracy (MSE): 0.0592, Test Accuracy (MSE): 0.0635\n",
            "Epoch [47/50], Training Accuracy (MSE): 0.0527, Test Accuracy (MSE): 0.0785\n",
            "Epoch [48/50], Training Accuracy (MSE): 0.0517, Test Accuracy (MSE): 0.0896\n",
            "Epoch [49/50], Training Accuracy (MSE): 0.0546, Test Accuracy (MSE): 0.0863\n",
            "Epoch [50/50], Training Accuracy (MSE): 0.0528, Test Accuracy (MSE): 0.0711\n"
          ]
        }
      ]
    },
    {
      "cell_type": "markdown",
      "source": [
        "We observe that our multivariate RNN model is actually slightly worse than our univariate RNN model. We did not find the expected improvement in predictive power."
      ],
      "metadata": {
        "id": "CwcH0eGHPb8l"
      }
    },
    {
      "cell_type": "markdown",
      "source": [
        "### LSTM\n",
        "\n",
        "---"
      ],
      "metadata": {
        "id": "ZE8FGtqWS8Ky"
      }
    },
    {
      "cell_type": "code",
      "source": [
        "import torch.optim as optim\n",
        "import torch.nn as nn\n",
        "\n",
        "# Define the LSTM model\n",
        "class LSTM(nn.Module):\n",
        "    def __init__(self, input_size, hidden_size, num_layers, output_size):\n",
        "        super(LSTM, self).__init__()\n",
        "        self.hidden_size = hidden_size\n",
        "        self.num_layers = num_layers\n",
        "        self.lstm = nn.LSTM(input_size, hidden_size, num_layers, batch_first=True)\n",
        "        self.fc = nn.Linear(hidden_size, output_size)\n",
        "\n",
        "    def forward(self, x):\n",
        "        h0 = torch.zeros(self.num_layers, x.size(0), self.hidden_size).to(x.device)\n",
        "        c0 = torch.zeros(self.num_layers, x.size(0), self.hidden_size).to(x.device)\n",
        "        out, _ = self.lstm(x, (h0, c0))\n",
        "        out = self.fc(out[:, -1, :])\n",
        "        return out\n",
        "\n",
        "# Example usage:\n",
        "# Define input parameters\n",
        "input_size = 2  # Number of features in input data (e.g., time series)\n",
        "hidden_size = 64  # Number of hidden units in the LSTM\n",
        "num_layers = 2  # Number of LSTM layers\n",
        "output_size = 2  # Number of features in output data (e.g., regression target)\n",
        "\n",
        "# Instantiate the model\n",
        "model = LSTM(input_size, hidden_size, num_layers, output_size)\n",
        "\n",
        "# Print model architecture\n",
        "print(model)"
      ],
      "metadata": {
        "colab": {
          "base_uri": "https://localhost:8080/"
        },
        "id": "3KZ4MpTsS4g0",
        "outputId": "6e5428d6-47ac-485d-d0d6-e7c5e2ee97d0"
      },
      "execution_count": null,
      "outputs": [
        {
          "output_type": "stream",
          "name": "stdout",
          "text": [
            "LSTM(\n",
            "  (lstm): LSTM(2, 64, num_layers=2, batch_first=True)\n",
            "  (fc): Linear(in_features=64, out_features=2, bias=True)\n",
            ")\n"
          ]
        }
      ]
    },
    {
      "cell_type": "code",
      "source": [
        "# Define the loss function\n",
        "criterion = nn.MSELoss()\n",
        "\n",
        "# Define the optimizer\n",
        "optimizer = optim.Adam(model.parameters(), lr=0.01)\n",
        "\n",
        "# Training loop\n",
        "num_epochs = 50\n",
        "for epoch in range(num_epochs):\n",
        "    # Forward pass\n",
        "    outputs = model(X_train)\n",
        "    loss = criterion(outputs, y_train)\n",
        "\n",
        "    # Backward pass and optimization\n",
        "    optimizer.zero_grad()\n",
        "    loss.backward()\n",
        "    optimizer.step()\n",
        "\n",
        "    # Calculate training accuracy\n",
        "    train_accuracy = torch.mean(torch.abs(outputs - y_train)).item()\n",
        "\n",
        "    # Evaluate on test set\n",
        "    with torch.no_grad():\n",
        "        model.eval()  # Set the model to evaluation mode\n",
        "        test_outputs = model(X_test)\n",
        "        test_accuracy = torch.mean(torch.abs(test_outputs - y_test)).item()\n",
        "\n",
        "    # Print progress\n",
        "    print(f'Epoch [{epoch+1}/{num_epochs}], Training MSE: {train_accuracy:.4f}, Test MSE: {test_accuracy:.4f}')"
      ],
      "metadata": {
        "colab": {
          "base_uri": "https://localhost:8080/"
        },
        "id": "BBVbvZoFS1Mg",
        "outputId": "46198b90-a986-439c-8eac-c7e2b19c6ae7"
      },
      "execution_count": null,
      "outputs": [
        {
          "output_type": "stream",
          "name": "stdout",
          "text": [
            "Epoch [1/50], Training MSE: 0.6287, Test MSE: 0.3574\n",
            "Epoch [2/50], Training MSE: 0.4795, Test MSE: 0.1719\n",
            "Epoch [3/50], Training MSE: 0.2684, Test MSE: 0.7042\n",
            "Epoch [4/50], Training MSE: 0.6153, Test MSE: 0.2377\n",
            "Epoch [5/50], Training MSE: 0.2104, Test MSE: 0.1717\n",
            "Epoch [6/50], Training MSE: 0.2657, Test MSE: 0.2335\n",
            "Epoch [7/50], Training MSE: 0.3339, Test MSE: 0.2534\n",
            "Epoch [8/50], Training MSE: 0.3569, Test MSE: 0.2502\n",
            "Epoch [9/50], Training MSE: 0.3524, Test MSE: 0.2334\n",
            "Epoch [10/50], Training MSE: 0.3317, Test MSE: 0.2072\n",
            "Epoch [11/50], Training MSE: 0.3014, Test MSE: 0.1766\n",
            "Epoch [12/50], Training MSE: 0.2669, Test MSE: 0.1468\n",
            "Epoch [13/50], Training MSE: 0.2295, Test MSE: 0.1374\n",
            "Epoch [14/50], Training MSE: 0.2001, Test MSE: 0.1962\n",
            "Epoch [15/50], Training MSE: 0.1947, Test MSE: 0.2580\n",
            "Epoch [16/50], Training MSE: 0.2177, Test MSE: 0.2739\n",
            "Epoch [17/50], Training MSE: 0.2308, Test MSE: 0.2476\n",
            "Epoch [18/50], Training MSE: 0.2160, Test MSE: 0.1967\n",
            "Epoch [19/50], Training MSE: 0.1904, Test MSE: 0.1446\n",
            "Epoch [20/50], Training MSE: 0.1777, Test MSE: 0.1096\n",
            "Epoch [21/50], Training MSE: 0.1756, Test MSE: 0.1002\n",
            "Epoch [22/50], Training MSE: 0.1774, Test MSE: 0.1036\n",
            "Epoch [23/50], Training MSE: 0.1749, Test MSE: 0.1070\n",
            "Epoch [24/50], Training MSE: 0.1621, Test MSE: 0.1089\n",
            "Epoch [25/50], Training MSE: 0.1375, Test MSE: 0.1197\n",
            "Epoch [26/50], Training MSE: 0.1085, Test MSE: 0.1381\n",
            "Epoch [27/50], Training MSE: 0.0990, Test MSE: 0.1459\n",
            "Epoch [28/50], Training MSE: 0.1016, Test MSE: 0.1263\n",
            "Epoch [29/50], Training MSE: 0.0977, Test MSE: 0.0939\n",
            "Epoch [30/50], Training MSE: 0.0947, Test MSE: 0.0929\n",
            "Epoch [31/50], Training MSE: 0.0936, Test MSE: 0.0879\n",
            "Epoch [32/50], Training MSE: 0.0940, Test MSE: 0.0708\n",
            "Epoch [33/50], Training MSE: 0.0813, Test MSE: 0.0725\n",
            "Epoch [34/50], Training MSE: 0.0668, Test MSE: 0.0879\n",
            "Epoch [35/50], Training MSE: 0.0669, Test MSE: 0.1002\n",
            "Epoch [36/50], Training MSE: 0.0736, Test MSE: 0.1063\n",
            "Epoch [37/50], Training MSE: 0.0788, Test MSE: 0.1046\n",
            "Epoch [38/50], Training MSE: 0.0794, Test MSE: 0.0985\n",
            "Epoch [39/50], Training MSE: 0.0777, Test MSE: 0.0916\n",
            "Epoch [40/50], Training MSE: 0.0766, Test MSE: 0.0871\n",
            "Epoch [41/50], Training MSE: 0.0757, Test MSE: 0.0846\n",
            "Epoch [42/50], Training MSE: 0.0736, Test MSE: 0.0837\n",
            "Epoch [43/50], Training MSE: 0.0695, Test MSE: 0.0845\n",
            "Epoch [44/50], Training MSE: 0.0639, Test MSE: 0.0857\n",
            "Epoch [45/50], Training MSE: 0.0594, Test MSE: 0.0861\n",
            "Epoch [46/50], Training MSE: 0.0585, Test MSE: 0.0834\n",
            "Epoch [47/50], Training MSE: 0.0597, Test MSE: 0.0768\n",
            "Epoch [48/50], Training MSE: 0.0592, Test MSE: 0.0692\n",
            "Epoch [49/50], Training MSE: 0.0576, Test MSE: 0.0645\n",
            "Epoch [50/50], Training MSE: 0.0576, Test MSE: 0.0629\n"
          ]
        }
      ]
    },
    {
      "cell_type": "markdown",
      "source": [
        "Similar to the case with RNN, the multivariate LSTM model did not perform better than the univariate model.\n",
        "\n",
        "These results are interesting and perhaps they would change if we had more data or domain expertise to fine tune the models."
      ],
      "metadata": {
        "id": "GP9rr-WoPqMs"
      }
    },
    {
      "cell_type": "markdown",
      "source": [
        "### WandB Multivariable LSTM\n",
        "\n",
        "---"
      ],
      "metadata": {
        "id": "oYdYtSdaXGyQ"
      }
    },
    {
      "cell_type": "markdown",
      "source": [
        "Next, we wanted to perform a grid search over the hyperparameters and log the results in WandB for tracking the experiments.\n",
        "\n",
        "[WandB Report](https://api.wandb.ai/links/ba-865/rvp6vcr0)"
      ],
      "metadata": {
        "id": "Jcf56h9wXGyQ"
      }
    },
    {
      "cell_type": "code",
      "source": [
        "# Install WandB\n",
        "%%capture\n",
        "!pip install wandb"
      ],
      "metadata": {
        "id": "JqMX0irgXGyR"
      },
      "execution_count": null,
      "outputs": []
    },
    {
      "cell_type": "code",
      "source": [
        "import wandb\n",
        "from wandb.keras import WandbMetricsLogger\n",
        "import torch\n",
        "from sklearn.preprocessing import MinMaxScaler\n",
        "import torch.nn as nn\n",
        "import torch.optim as optim\n",
        "\n",
        "# Scaling the data\n",
        "X = sea_variables[['avg_sea_surface_temp', 'avg_air_temperature']]\n",
        "\n",
        "scaler = MinMaxScaler()\n",
        "\n",
        "scaled_data = scaler.fit_transform(X)\n",
        "\n",
        "# Splitting the data\n",
        "split_ratio = 0.8\n",
        "train_size = int(len(sea_temp) * split_ratio)\n",
        "\n",
        "# Creating sequences\n",
        "sequence_length = 7\n",
        "\n",
        "def create_sequences(data, sequence_length):\n",
        "\n",
        "  total_sequence=[]\n",
        "  prices = []\n",
        "\n",
        "  for day in range(0, (len(data) - sequence_length)):\n",
        "    start_index = day\n",
        "    end_index = sequence_length + day\n",
        "    day_sequence = data[start_index:end_index]\n",
        "    day_price = data[end_index]\n",
        "\n",
        "    total_sequence.append(day_sequence)\n",
        "    prices.append(day_price)\n",
        "  return np.array(total_sequence), np.array(prices)\n",
        "\n",
        "sequences = create_sequences(scaled_data, sequence_length)\n",
        "X = sequences[0]\n",
        "y = sequences[1]\n",
        "\n",
        "# Split the data into training and testing sets\n",
        "train_size = int(X.shape[0]* split_ratio)\n",
        "X_train = torch.tensor(X[:train_size]).float()\n",
        "y_train = torch.tensor(y[:train_size]).float()\n",
        "X_test = torch.tensor(X[train_size:]).float()\n",
        "y_test = torch.tensor(y[train_size:]).float()\n",
        "\n",
        "\n",
        "# Step 1: Define your sweep configs here\n",
        "sweep_configs = {\n",
        "    \"name\": \"BA 865 Project\",\n",
        "    \"method\": \"grid\",\n",
        "    \"metric\": {\"goal\": \"minimize\", \"name\": \"test_accuracy\"},\n",
        "    \"parameters\": {\n",
        "        \"learning_rate\": {\"values\": [1e-1, 1e-2, 1e-3]},\n",
        "        \"momentum\": {\"values\": [0.85, 0.9, 0.95]},\n",
        "        \"epochs\": {\"values\": [20, 50, 100]}},\n",
        "    }\n",
        "\n",
        "# Step 2: Write a function that contains the code necessary for running a single experiment.\n",
        "def main():\n",
        "    # 2.1 Define the model\n",
        "  class LSTM(nn.Module):\n",
        "    def __init__(self, input_size, hidden_size, num_layers, output_size):\n",
        "        super(LSTM, self).__init__()\n",
        "        self.hidden_size = hidden_size\n",
        "        self.num_layers = num_layers\n",
        "        self.lstm = nn.LSTM(input_size, hidden_size, num_layers, batch_first=True)\n",
        "        self.fc = nn.Linear(hidden_size, output_size)\n",
        "\n",
        "    def forward(self, x):\n",
        "        h0 = torch.zeros(self.num_layers, x.size(0), self.hidden_size).to(x.device)\n",
        "        c0 = torch.zeros(self.num_layers, x.size(0), self.hidden_size).to(x.device)\n",
        "        out, _ = self.lstm(x, (h0, c0))\n",
        "        out = self.fc(out[:, -1, :])\n",
        "        return out\n",
        "\n",
        "  # Define input parameters\n",
        "  input_size = 2  # Number of features in input data (e.g., time series)\n",
        "  hidden_size = 64  # Number of hidden units in the LSTM\n",
        "  num_layers = 2  # Number of LSTM layers\n",
        "  output_size = 2  # Number of features in output data (e.g., regression target)\n",
        "\n",
        "  # Instantiate the model\n",
        "  model = LSTM(input_size, hidden_size, num_layers, output_size)\n",
        "\n",
        "    # 2.2 Compile the model\n",
        "  def train_model(config=None):\n",
        "    with wandb.init(config=config):\n",
        "      config = wandb.config\n",
        "      # Define the loss function\n",
        "      criterion = nn.MSELoss()\n",
        "\n",
        "      # Define the optimizer\n",
        "      optimizer = optim.Adam(model.parameters(), lr=config.learning_rate)\n",
        "\n",
        "      # Training loop\n",
        "      for epoch in range(config.epochs):\n",
        "          # Forward pass\n",
        "          outputs = model(X_train)\n",
        "          loss = criterion(outputs, y_train)\n",
        "\n",
        "          # Backward pass and optimization\n",
        "          optimizer.zero_grad()\n",
        "          loss.backward()\n",
        "          optimizer.step()\n",
        "\n",
        "          # Calculate training accuracy\n",
        "          train_accuracy = torch.mean(torch.abs(outputs - y_train)).item()\n",
        "          wandb.log({\"train_loss\": loss, \"train_accuracy\": train_accuracy})\n",
        "\n",
        "\n",
        "          # Evaluate on test set\n",
        "          with torch.no_grad():\n",
        "              model.eval()  # Set the model to evaluation mode\n",
        "              test_outputs = model(X_test)\n",
        "              test_loss = criterion(test_outputs, y_test)\n",
        "              test_accuracy = torch.mean(torch.abs(test_outputs - y_test)).item()\n",
        "              wandb.log({\"test_loss\": test_loss, \"test_accuracy\": test_accuracy})\n",
        "\n",
        "              wandb.run.summary[\"test_accuracy\"] = test_accuracy\n",
        "\n",
        "# Step 3: Initialize sweep by passing in the config.\n",
        "  sweep_id = wandb.sweep(sweep_configs, project = 'project LSTM')\n",
        "  wandb.agent(sweep_id, function=train_model)\n",
        "\n",
        "# Step 4: Start sweep job.\n",
        "main()"
      ],
      "metadata": {
        "colab": {
          "base_uri": "https://localhost:8080/",
          "height": 1000,
          "referenced_widgets": [
            "01b10efec680426abae850e1edc14105",
            "5dada1ff4fd74c9690fce846a6754398",
            "dbaaa6124db94882ac4912ce18013d89",
            "a829b89a91674e03b32bb9d61437a0af",
            "34f94b8028dc4c09ae428763d773a0bb",
            "09eb66acb042491eb2c458a70d6eb237",
            "74a0c09c1af240978e6dcf1e6b35d267",
            "377d5c01673846a881e311bc48e29926",
            "ae1e5605cd8d42328ca673a51c36ecff",
            "0b291303735b4f098718d826e6c8fdf8",
            "c480a301d1ce45f8b1e305c07f09694f",
            "ec6b2f5386b648aa8b78ccc626e25684",
            "03bf2398571c4053b7ed0f602cefb173",
            "863da24086524c2d9ace34b62d7a590e",
            "0a702e17f4934e9fa6dd64d135d07d0c",
            "45395d6f21154b3699872426a9a6b4c3",
            "6f801998afbf4be78e65bd3269ad98ea",
            "efdc4a0f29cf471f8b5e07e81bfcdcbc",
            "25075ab6df0e4dd6bfd3d8f6598b7bae",
            "8b13daf700ec4caaa5cf8e88b1b9d3a5",
            "2d560558ebb34ed3bc343bb4406128fe",
            "b134db35fd5b4db38537dabc80a9a5f7",
            "f097ba0d29884756a3eb8f5f99354588",
            "5f29761a12084d23a8279faaabbd31ba",
            "43da209739db490b9e55c595b22ea089",
            "0103d767b39e44e9bd70cd64bf8269c6",
            "a7e390b68b604ab6a332046a6a09aa74",
            "7d3c90a1b70d4d17921f0333f7db1796",
            "b4d5f6e032924384bbd20d5e03ee0776",
            "6553ca570cf4458096d9a79922e1d9ef",
            "e6d399b6943944418c3c4a7c2b042218",
            "378d523b236f4c279aa0d4a42362c917",
            "23bd5e58b2fe44b4830321466057afc6",
            "14acdc3de30740efaa1aa4a5e07ae934",
            "3dddac0323114d34878dd25b714febdc",
            "3b39030bc8554ac8849b3959bcd38b2e",
            "6eb316d8c02f4b43bcbb92174d2adb69",
            "20e1bba5a9fa440c886a9b7d86b989b2",
            "65b2611d12c44b74ace70eba03496ddf",
            "e48c9caf24a34e549d948a402f4eeee4",
            "415f4a74365948be8cafffa865c06f3e",
            "744b1ace0db348729aac7036924b35f7",
            "2c74000c36754463b97cb90b84ce2bcb",
            "e7367e7334b849c2a8a38aa692950850",
            "28259085969345ea849e3c6a13eac741",
            "4e239b23fe2044338d61308410de29dc",
            "66a7f6dca86f45309357bc5529ddd21b",
            "eb6a2e1c75e74589bb0a9923dc683626",
            "96ab31a540534cd7b6fb6ee8d7987546",
            "927e350c112d404690a81d0a8bb7dd09",
            "1c6fb4c2133a4001ba4a7de8ad3dd134",
            "20fa224e7d0b473c846098ad4bb8bc13",
            "787c54768fa34cb085c77983fc6e44a7",
            "3160e6977114460c9c2e8d23c861476c",
            "4fba7937e3f24476b47d9b8167de57d6",
            "5c5b69789a034901af3d023bd46a68d6",
            "3c3a8e25f0034549a14d1eab4c9f65b3",
            "771e94e0a46f4ff1904e4bbb9805f32c",
            "b7e1939a0ce34f5ab3649b1d29204c90",
            "eda789c3a06f468b8bb1d62fd65cc386",
            "23366436ddc34c16a5e04347504d9dde",
            "c453e8ed003140a99fc91442614c34a5",
            "2e1774e45b94462db0f1390b25b06aa8",
            "51cf18c2ba364764addad786c1755a07",
            "8b30f63981e34ec5a569662678000499",
            "85d57f7ba4cd4daabbd54e3938c2cf2c",
            "307e6eab431d4bf8aa1976cf6429d723",
            "fec3630326084675a00b4076ac069b18",
            "dfc048aa356249d2afcb746d565f4c9d",
            "14276d7ec79549778d50c685a6729be6",
            "4a10528e18824dc5a0142484cce0b1eb",
            "4a39b5238bd84457b7f906aa9686cb62",
            "0a228a335e6747048e74b8fcff3b52b2",
            "27333ec768f348abb50ee3fdec48bb9e",
            "aa08efd1c6c8406eb474ef83eafec6cb",
            "d7f313be9b3845ac838d2cc19b33dd5a",
            "2573573d310142ae9d1f29d14dd17631",
            "57972b0fa4ac4861a1ec289a78c413e4",
            "aa4ab00d1d89458aae42ec86ad2979fc",
            "1ca47bef9ef441df94bc207ae8ee0565",
            "c8928fb5fb07418bae7fcbdf7b30dc5f",
            "c8bcf830dc8f49ab8b16b9e72ca41f25",
            "eba2a88cc5924e2db6dc8b761696be51",
            "07cf916350a248789a04d2cf63ae4c18",
            "4c01bc3b051740d1960a1fe199b9ddf9",
            "a7942ba5bfbf4d788b4440ec685d6a16",
            "5a75bdb4336c4a7fa12cf19d7286f47e",
            "3e0e6ff53a11426da6717776971527fc",
            "91b8591d5cf147099c14052abac2bbbf",
            "7cd77a25aed541cc8cffba45fb11ea7c",
            "54887a41d86e45ac8e969d549c8de1bd",
            "9778e701eca4443e8a5fbbd5eac6f2d9",
            "61f3f4ef756a4021b8c60d3595230137",
            "85ad9ad9f86f449aa7c613ba5aaa6090",
            "b11aa5d2461f44b38fb867191efbbfaa",
            "9b30e9636d1f426d81a2a954e58a91c9",
            "3ac531e32baf485388361e643d9a61c7",
            "fe20195debb0450e9382225c23286b5e",
            "4a76043410784a8b8893c76d2ee77a11",
            "f2528fc921fd4298bb1e9adf4a5f2ee2",
            "fba2c80b60e346bf8e72a77295659f42",
            "6136698ba8a446b29636f976d5895bfb",
            "f47b8ae4ec2c49569f2bf8053ec731f4",
            "379e34f1dae64617a44fac92b7c58a24",
            "119417b8b7754f2fa9d9e9be11c8a773",
            "72655ae8f756442298f9d89653a8a5b4",
            "ce08851eabdc4a899bfd329c8444e0d1",
            "7bacce16c63f4256aadc8b8a6822232b",
            "d1f07c46f6604460acdad6a032ef023e",
            "05fbdca2cdec425bb14d1f4b14e23ba4",
            "b9823e54dd054bd1bd16a5649235b80c",
            "266e1b78b37640dab80384a292938af6",
            "9b3deafeea674736808670fd92b19d38",
            "b0cc89a41d6d43ec956e75077b910e32",
            "9af3af7aaae14f0f938abd8dbe6c0c2c",
            "d84f7ba2938b4de6a337abe5d3576d1f",
            "94cb01a02cbc46dd87152dce9ea930d6",
            "532093654242419cbe5c7cfde25d27c6",
            "412439436afa4e60b61b48ac1fdea236",
            "a47d1719d7894900af787e4a1be09129",
            "b7c9b08b13e74d5c8eff8d633328d0bc",
            "ad3e53a3df004797b94d876bd2210423",
            "4677f4da7c1f48da91dae565f3e4a6cf",
            "ce8a13a394ad4d37aa3a4149d6c5f131",
            "e1bdf5b1e09944839399cc28ae3c739b",
            "57101f97544a4ba896f695ae510926d5",
            "c396bb47c987485cabd726f4fa0c3153",
            "8bf53031960c4aba92c22717b8448aab",
            "632636073ca34ea4953d5458f89f64e2",
            "e54c719d344e429f84b731291919a999",
            "41e87e371412436ea91622051d13c731",
            "7243d36ae7d34e5399e4c26613890b2c",
            "36ab68aeb56e4226a907bb48a18e9c10",
            "95fe0253459f4b85a33db57829322026",
            "7f96136222dc47d6a5dc4df3bf10e12f",
            "0b7c912901e6478d81ceae6e52c7ea62",
            "68e63d9f3c6347c1b7d3191c34b422f8",
            "64be0d8b96414360860c22215f038c41",
            "2f76e3e5db01425f9af006732886064e",
            "e5939249f8a141ddbc7395057d2fcc7d",
            "982a583c329449d6ba2d8f4a9671feed",
            "cbb438f82f8e464e924b8b955874f480",
            "9ceb80a27c9645d6b02aee698cd8aa2e",
            "ac257365e6074b3ba27eadad068288a2",
            "9f469db0a7da4bccae74b5c91ed30653",
            "836121f5c20243afb51b5432fcdbc056",
            "6785081114634da08def8d4b29e3d1c2",
            "bcf34521432b4c86b9af2431823b23b1",
            "a90b05b0e5534ee69cb6c27b893cf0fc",
            "c0f3abce045c4b599b55482e96477b74",
            "494a9c765e564b2ba1ff7f0abd794c2d",
            "2a34176b09c84b7fba11018e0f51f2c0",
            "4a4e1e024d0940b49b9083c3fcd66942",
            "46019ea6617d43908d0e3be757d90d9d",
            "8d446f0f185c49a080c9c5ab312f3e1f",
            "2859447e44944f74b54528a749931c10",
            "e324da814fe54280be13ef4548879bbf",
            "b0b01a745002419ab1097dab91334e49",
            "33ca49a75ae4490fa3a4cc35f5dd4b4c",
            "baba1fc8120b471bbb7f46ac18b111b0",
            "06eeba58e20d46e68f37beac75048fe2",
            "88bd6c07ea154947bf5944d6383249dc",
            "a62d200a812e45cf9cf507ab324dd753",
            "3695023ee0804ce1b6d14a7fcff3a0a1",
            "b3be994f219b4e30b0668b947cea3441",
            "b1c22f4bf4544456906951a6d840b226",
            "678d9126bda848038409bcdba0ff5054",
            "a9d4b2b31f6a4d11b4a94bb0fa495f5b",
            "b99db5bb36c74cafab59771bf44b6d22",
            "67008a1f9ce84797a05325a7c20c047d",
            "4bacb0e7b7a148589e860ff9d805c467",
            "414d15606b96419490c3a504d828c909",
            "59617c3f45794ac0a51aa394c749aa15",
            "99d1c190682e42448b918131f6714040",
            "a46ee49a19194037b01d716195202005",
            "49aa54fd625a435d823bee15cf2d5ad2",
            "0a8cc6219ea04772977209a62b0e2dd6",
            "e86f33fdbcd441e788b9d5ca10f1e49a",
            "8ae6cce614604258b64ca03a45fc1d3f",
            "87d63b19221b438d9c28fce1b5bb1dca",
            "ba358197ae5249b195137488899d2697",
            "3af6244dc5c34d4c9ef50769a35ca0a3",
            "bc254231295b4ddfb9eb66ddf52d77d7",
            "ffa0e321a1fc464790927df5fe249389",
            "ff8b54c634d24629a2738b1789e10b8b",
            "fe0b990d6b864b779b301bd31c36e06d",
            "98a04c0ccf0a4f17aa2869de08082b9d",
            "c15d777841274cbb8238992b1f11b020",
            "6da1500a1b9d4363b12c3205289ef26c",
            "01622864da8b46b8a5073488e92b32aa",
            "1284d68b267945569b95483bb8d28be8",
            "ac61d75326bd4d128d191a66104daf7b",
            "491364c61f0b41029937cfa3a56c0375",
            "5d737cf75ca84bb6bacd8302101c136b",
            "de8205b950c34f6c8a8e3132d64caeb8",
            "3bab953a78f244af91fdabae3191e3ed",
            "54cc664e8c56475cb0df827748aaba9e",
            "ceb3f2a599fd42a4adb3da6754538a28",
            "9ef20109c9d44625a45c2121175b5b3a",
            "288bd91e1eb34bfabb33942a29be24bb",
            "ebb3abd761384b699ff0adb6907c6015",
            "3ca2464a1bcf46b3b34420a742a9d395",
            "5335fd57752149618066b46f06023d39",
            "7ae16e026d784a2488f8c17ed148711c",
            "f8ef69912f00418191aaa5259f81aa0b",
            "41f7ed273e0947228d1849fa2f3d9047",
            "f53c42848cac4781b4d6e4c8f200e16a",
            "9a064aabf72b4efda4d479297f391d16",
            "7e74be2b4cb440d9be5ce21c161632f9",
            "7f87ea61359e49e2a0412064db24049c",
            "a4083b33b8fa42aaa1f410d7074ed25c",
            "b495d2eb7f8c4b109d8226648ce984b3",
            "494691cc1a024d459ca443550549cc64",
            "8444ad9984924abbb5c730a8bc2d5b12",
            "4cabda3152b840399d3d8d7a23d59a53",
            "e0303795d31745759d4385b215b9c00c"
          ]
        },
        "outputId": "61f4cdf3-fa3a-481d-b8b1-e4ded10ef4fb",
        "id": "r2pvywIiXGyR"
      },
      "execution_count": null,
      "outputs": [
        {
          "output_type": "display_data",
          "data": {
            "text/plain": [
              "<IPython.core.display.Javascript object>"
            ],
            "application/javascript": [
              "\n",
              "        window._wandbApiKey = new Promise((resolve, reject) => {\n",
              "            function loadScript(url) {\n",
              "            return new Promise(function(resolve, reject) {\n",
              "                let newScript = document.createElement(\"script\");\n",
              "                newScript.onerror = reject;\n",
              "                newScript.onload = resolve;\n",
              "                document.body.appendChild(newScript);\n",
              "                newScript.src = url;\n",
              "            });\n",
              "            }\n",
              "            loadScript(\"https://cdn.jsdelivr.net/npm/postmate/build/postmate.min.js\").then(() => {\n",
              "            const iframe = document.createElement('iframe')\n",
              "            iframe.style.cssText = \"width:0;height:0;border:none\"\n",
              "            document.body.appendChild(iframe)\n",
              "            const handshake = new Postmate({\n",
              "                container: iframe,\n",
              "                url: 'https://wandb.ai/authorize'\n",
              "            });\n",
              "            const timeout = setTimeout(() => reject(\"Couldn't auto authenticate\"), 5000)\n",
              "            handshake.then(function(child) {\n",
              "                child.on('authorize', data => {\n",
              "                    clearTimeout(timeout)\n",
              "                    resolve(data)\n",
              "                });\n",
              "            });\n",
              "            })\n",
              "        });\n",
              "    "
            ]
          },
          "metadata": {}
        },
        {
          "output_type": "stream",
          "name": "stderr",
          "text": [
            "\u001b[34m\u001b[1mwandb\u001b[0m: Logging into wandb.ai. (Learn how to deploy a W&B server locally: https://wandb.me/wandb-server)\n",
            "\u001b[34m\u001b[1mwandb\u001b[0m: You can find your API key in your browser here: https://wandb.ai/authorize\n",
            "wandb: Paste an API key from your profile and hit enter, or press ctrl+c to quit:"
          ]
        },
        {
          "name": "stdout",
          "output_type": "stream",
          "text": [
            " ··········\n"
          ]
        },
        {
          "output_type": "stream",
          "name": "stderr",
          "text": [
            "\u001b[34m\u001b[1mwandb\u001b[0m: Appending key for api.wandb.ai to your netrc file: /root/.netrc\n"
          ]
        },
        {
          "output_type": "stream",
          "name": "stdout",
          "text": [
            "Create sweep with ID: 99jb6ut9\n",
            "Sweep URL: https://wandb.ai/ba-865/project%20LSTM/sweeps/99jb6ut9\n"
          ]
        },
        {
          "output_type": "stream",
          "name": "stderr",
          "text": [
            "\u001b[34m\u001b[1mwandb\u001b[0m: Agent Starting Run: metf66z5 with config:\n",
            "\u001b[34m\u001b[1mwandb\u001b[0m: \tepochs: 20\n",
            "\u001b[34m\u001b[1mwandb\u001b[0m: \tlearning_rate: 0.1\n",
            "\u001b[34m\u001b[1mwandb\u001b[0m: \tmomentum: 0.85\n",
            "\u001b[34m\u001b[1mwandb\u001b[0m: Currently logged in as: \u001b[33msetushah\u001b[0m (\u001b[33mba-865\u001b[0m). Use \u001b[1m`wandb login --relogin`\u001b[0m to force relogin\n"
          ]
        },
        {
          "output_type": "display_data",
          "data": {
            "text/plain": [
              "<IPython.core.display.HTML object>"
            ],
            "text/html": [
              "Tracking run with wandb version 0.16.6"
            ]
          },
          "metadata": {}
        },
        {
          "output_type": "display_data",
          "data": {
            "text/plain": [
              "<IPython.core.display.HTML object>"
            ],
            "text/html": [
              "Run data is saved locally in <code>/content/wandb/run-20240425_175814-metf66z5</code>"
            ]
          },
          "metadata": {}
        },
        {
          "output_type": "display_data",
          "data": {
            "text/plain": [
              "<IPython.core.display.HTML object>"
            ],
            "text/html": [
              "Syncing run <strong><a href='https://wandb.ai/ba-865/project%20LSTM/runs/metf66z5' target=\"_blank\">trim-sweep-1</a></strong> to <a href='https://wandb.ai/ba-865/project%20LSTM' target=\"_blank\">Weights & Biases</a> (<a href='https://wandb.me/run' target=\"_blank\">docs</a>)<br/>Sweep page: <a href='https://wandb.ai/ba-865/project%20LSTM/sweeps/99jb6ut9' target=\"_blank\">https://wandb.ai/ba-865/project%20LSTM/sweeps/99jb6ut9</a>"
            ]
          },
          "metadata": {}
        },
        {
          "output_type": "display_data",
          "data": {
            "text/plain": [
              "<IPython.core.display.HTML object>"
            ],
            "text/html": [
              " View project at <a href='https://wandb.ai/ba-865/project%20LSTM' target=\"_blank\">https://wandb.ai/ba-865/project%20LSTM</a>"
            ]
          },
          "metadata": {}
        },
        {
          "output_type": "display_data",
          "data": {
            "text/plain": [
              "<IPython.core.display.HTML object>"
            ],
            "text/html": [
              " View sweep at <a href='https://wandb.ai/ba-865/project%20LSTM/sweeps/99jb6ut9' target=\"_blank\">https://wandb.ai/ba-865/project%20LSTM/sweeps/99jb6ut9</a>"
            ]
          },
          "metadata": {}
        },
        {
          "output_type": "display_data",
          "data": {
            "text/plain": [
              "<IPython.core.display.HTML object>"
            ],
            "text/html": [
              " View run at <a href='https://wandb.ai/ba-865/project%20LSTM/runs/metf66z5' target=\"_blank\">https://wandb.ai/ba-865/project%20LSTM/runs/metf66z5</a>"
            ]
          },
          "metadata": {}
        },
        {
          "output_type": "display_data",
          "data": {
            "text/plain": [
              "VBox(children=(Label(value='0.011 MB of 0.011 MB uploaded\\r'), FloatProgress(value=1.0, max=1.0)))"
            ],
            "application/vnd.jupyter.widget-view+json": {
              "version_major": 2,
              "version_minor": 0,
              "model_id": "01b10efec680426abae850e1edc14105"
            }
          },
          "metadata": {}
        },
        {
          "output_type": "display_data",
          "data": {
            "text/plain": [
              "<IPython.core.display.HTML object>"
            ],
            "text/html": [
              "<style>\n",
              "    table.wandb td:nth-child(1) { padding: 0 10px; text-align: left ; width: auto;} td:nth-child(2) {text-align: left ; width: 100%}\n",
              "    .wandb-row { display: flex; flex-direction: row; flex-wrap: wrap; justify-content: flex-start; width: 100% }\n",
              "    .wandb-col { display: flex; flex-direction: column; flex-basis: 100%; flex: 1; padding: 10px; }\n",
              "    </style>\n",
              "<div class=\"wandb-row\"><div class=\"wandb-col\"><h3>Run history:</h3><br/><table class=\"wandb\"><tr><td>test_accuracy</td><td>█▁▂▂▂▂▂▂▂▂▁▁▁▁▁▁▁▁▁▁</td></tr><tr><td>test_loss</td><td>█▁▁▁▁▁▁▁▁▁▁▁▁▁▁▁▁▁▁▁</td></tr><tr><td>train_accuracy</td><td>▂█▁▂▂▂▂▂▂▂▂▁▁▁▁▁▁▁▁▁</td></tr><tr><td>train_loss</td><td>▁█▁▁▁▁▁▁▁▁▁▁▁▁▁▁▁▁▁▁</td></tr></table><br/></div><div class=\"wandb-col\"><h3>Run summary:</h3><br/><table class=\"wandb\"><tr><td>test_accuracy</td><td>0.32529</td></tr><tr><td>test_loss</td><td>0.1259</td></tr><tr><td>train_accuracy</td><td>0.30349</td></tr><tr><td>train_loss</td><td>0.14403</td></tr></table><br/></div></div>"
            ]
          },
          "metadata": {}
        },
        {
          "output_type": "display_data",
          "data": {
            "text/plain": [
              "<IPython.core.display.HTML object>"
            ],
            "text/html": [
              " View run <strong style=\"color:#cdcd00\">trim-sweep-1</strong> at: <a href='https://wandb.ai/ba-865/project%20LSTM/runs/metf66z5' target=\"_blank\">https://wandb.ai/ba-865/project%20LSTM/runs/metf66z5</a><br/> View project at: <a href='https://wandb.ai/ba-865/project%20LSTM' target=\"_blank\">https://wandb.ai/ba-865/project%20LSTM</a><br/>Synced 4 W&B file(s), 0 media file(s), 0 artifact file(s) and 0 other file(s)"
            ]
          },
          "metadata": {}
        },
        {
          "output_type": "display_data",
          "data": {
            "text/plain": [
              "<IPython.core.display.HTML object>"
            ],
            "text/html": [
              "Find logs at: <code>./wandb/run-20240425_175814-metf66z5/logs</code>"
            ]
          },
          "metadata": {}
        },
        {
          "output_type": "stream",
          "name": "stderr",
          "text": [
            "\u001b[34m\u001b[1mwandb\u001b[0m: Agent Starting Run: wzj4k2ep with config:\n",
            "\u001b[34m\u001b[1mwandb\u001b[0m: \tepochs: 20\n",
            "\u001b[34m\u001b[1mwandb\u001b[0m: \tlearning_rate: 0.1\n",
            "\u001b[34m\u001b[1mwandb\u001b[0m: \tmomentum: 0.9\n"
          ]
        },
        {
          "output_type": "display_data",
          "data": {
            "text/plain": [
              "<IPython.core.display.HTML object>"
            ],
            "text/html": [
              "Tracking run with wandb version 0.16.6"
            ]
          },
          "metadata": {}
        },
        {
          "output_type": "display_data",
          "data": {
            "text/plain": [
              "<IPython.core.display.HTML object>"
            ],
            "text/html": [
              "Run data is saved locally in <code>/content/wandb/run-20240425_175825-wzj4k2ep</code>"
            ]
          },
          "metadata": {}
        },
        {
          "output_type": "display_data",
          "data": {
            "text/plain": [
              "<IPython.core.display.HTML object>"
            ],
            "text/html": [
              "Syncing run <strong><a href='https://wandb.ai/ba-865/project%20LSTM/runs/wzj4k2ep' target=\"_blank\">exalted-sweep-2</a></strong> to <a href='https://wandb.ai/ba-865/project%20LSTM' target=\"_blank\">Weights & Biases</a> (<a href='https://wandb.me/run' target=\"_blank\">docs</a>)<br/>Sweep page: <a href='https://wandb.ai/ba-865/project%20LSTM/sweeps/99jb6ut9' target=\"_blank\">https://wandb.ai/ba-865/project%20LSTM/sweeps/99jb6ut9</a>"
            ]
          },
          "metadata": {}
        },
        {
          "output_type": "display_data",
          "data": {
            "text/plain": [
              "<IPython.core.display.HTML object>"
            ],
            "text/html": [
              " View project at <a href='https://wandb.ai/ba-865/project%20LSTM' target=\"_blank\">https://wandb.ai/ba-865/project%20LSTM</a>"
            ]
          },
          "metadata": {}
        },
        {
          "output_type": "display_data",
          "data": {
            "text/plain": [
              "<IPython.core.display.HTML object>"
            ],
            "text/html": [
              " View sweep at <a href='https://wandb.ai/ba-865/project%20LSTM/sweeps/99jb6ut9' target=\"_blank\">https://wandb.ai/ba-865/project%20LSTM/sweeps/99jb6ut9</a>"
            ]
          },
          "metadata": {}
        },
        {
          "output_type": "display_data",
          "data": {
            "text/plain": [
              "<IPython.core.display.HTML object>"
            ],
            "text/html": [
              " View run at <a href='https://wandb.ai/ba-865/project%20LSTM/runs/wzj4k2ep' target=\"_blank\">https://wandb.ai/ba-865/project%20LSTM/runs/wzj4k2ep</a>"
            ]
          },
          "metadata": {}
        },
        {
          "output_type": "display_data",
          "data": {
            "text/plain": [
              "VBox(children=(Label(value='0.011 MB of 0.011 MB uploaded\\r'), FloatProgress(value=1.0, max=1.0)))"
            ],
            "application/vnd.jupyter.widget-view+json": {
              "version_major": 2,
              "version_minor": 0,
              "model_id": "ae1e5605cd8d42328ca673a51c36ecff"
            }
          },
          "metadata": {}
        },
        {
          "output_type": "display_data",
          "data": {
            "text/plain": [
              "<IPython.core.display.HTML object>"
            ],
            "text/html": [
              "<style>\n",
              "    table.wandb td:nth-child(1) { padding: 0 10px; text-align: left ; width: auto;} td:nth-child(2) {text-align: left ; width: 100%}\n",
              "    .wandb-row { display: flex; flex-direction: row; flex-wrap: wrap; justify-content: flex-start; width: 100% }\n",
              "    .wandb-col { display: flex; flex-direction: column; flex-basis: 100%; flex: 1; padding: 10px; }\n",
              "    </style>\n",
              "<div class=\"wandb-row\"><div class=\"wandb-col\"><h3>Run history:</h3><br/><table class=\"wandb\"><tr><td>test_accuracy</td><td>▁▅▅▆██▆▃▁▂▃▄▄▄▄▄▄▃▂▂</td></tr><tr><td>test_loss</td><td>▁▃▅▇█▇▄▂▁▂▃▅▅▅▄▃▃▂▂▂</td></tr><tr><td>train_accuracy</td><td>▆▅█▅▂▁▂▂▂▂▃▄▃▂▁▁▁▁▁▂</td></tr><tr><td>train_loss</td><td>█▅▆▃▃▃▃▃▂▂▂▂▂▂▁▁▁▂▁▁</td></tr></table><br/></div><div class=\"wandb-col\"><h3>Run summary:</h3><br/><table class=\"wandb\"><tr><td>test_accuracy</td><td>0.14304</td></tr><tr><td>test_loss</td><td>0.03484</td></tr><tr><td>train_accuracy</td><td>0.24943</td></tr><tr><td>train_loss</td><td>0.08253</td></tr></table><br/></div></div>"
            ]
          },
          "metadata": {}
        },
        {
          "output_type": "display_data",
          "data": {
            "text/plain": [
              "<IPython.core.display.HTML object>"
            ],
            "text/html": [
              " View run <strong style=\"color:#cdcd00\">exalted-sweep-2</strong> at: <a href='https://wandb.ai/ba-865/project%20LSTM/runs/wzj4k2ep' target=\"_blank\">https://wandb.ai/ba-865/project%20LSTM/runs/wzj4k2ep</a><br/> View project at: <a href='https://wandb.ai/ba-865/project%20LSTM' target=\"_blank\">https://wandb.ai/ba-865/project%20LSTM</a><br/>Synced 4 W&B file(s), 0 media file(s), 0 artifact file(s) and 0 other file(s)"
            ]
          },
          "metadata": {}
        },
        {
          "output_type": "display_data",
          "data": {
            "text/plain": [
              "<IPython.core.display.HTML object>"
            ],
            "text/html": [
              "Find logs at: <code>./wandb/run-20240425_175825-wzj4k2ep/logs</code>"
            ]
          },
          "metadata": {}
        },
        {
          "output_type": "stream",
          "name": "stderr",
          "text": [
            "\u001b[34m\u001b[1mwandb\u001b[0m: Agent Starting Run: 3fyop2q3 with config:\n",
            "\u001b[34m\u001b[1mwandb\u001b[0m: \tepochs: 20\n",
            "\u001b[34m\u001b[1mwandb\u001b[0m: \tlearning_rate: 0.1\n",
            "\u001b[34m\u001b[1mwandb\u001b[0m: \tmomentum: 0.95\n"
          ]
        },
        {
          "output_type": "display_data",
          "data": {
            "text/plain": [
              "<IPython.core.display.HTML object>"
            ],
            "text/html": [
              "Tracking run with wandb version 0.16.6"
            ]
          },
          "metadata": {}
        },
        {
          "output_type": "display_data",
          "data": {
            "text/plain": [
              "<IPython.core.display.HTML object>"
            ],
            "text/html": [
              "Run data is saved locally in <code>/content/wandb/run-20240425_175840-3fyop2q3</code>"
            ]
          },
          "metadata": {}
        },
        {
          "output_type": "display_data",
          "data": {
            "text/plain": [
              "<IPython.core.display.HTML object>"
            ],
            "text/html": [
              "Syncing run <strong><a href='https://wandb.ai/ba-865/project%20LSTM/runs/3fyop2q3' target=\"_blank\">devout-sweep-3</a></strong> to <a href='https://wandb.ai/ba-865/project%20LSTM' target=\"_blank\">Weights & Biases</a> (<a href='https://wandb.me/run' target=\"_blank\">docs</a>)<br/>Sweep page: <a href='https://wandb.ai/ba-865/project%20LSTM/sweeps/99jb6ut9' target=\"_blank\">https://wandb.ai/ba-865/project%20LSTM/sweeps/99jb6ut9</a>"
            ]
          },
          "metadata": {}
        },
        {
          "output_type": "display_data",
          "data": {
            "text/plain": [
              "<IPython.core.display.HTML object>"
            ],
            "text/html": [
              " View project at <a href='https://wandb.ai/ba-865/project%20LSTM' target=\"_blank\">https://wandb.ai/ba-865/project%20LSTM</a>"
            ]
          },
          "metadata": {}
        },
        {
          "output_type": "display_data",
          "data": {
            "text/plain": [
              "<IPython.core.display.HTML object>"
            ],
            "text/html": [
              " View sweep at <a href='https://wandb.ai/ba-865/project%20LSTM/sweeps/99jb6ut9' target=\"_blank\">https://wandb.ai/ba-865/project%20LSTM/sweeps/99jb6ut9</a>"
            ]
          },
          "metadata": {}
        },
        {
          "output_type": "display_data",
          "data": {
            "text/plain": [
              "<IPython.core.display.HTML object>"
            ],
            "text/html": [
              " View run at <a href='https://wandb.ai/ba-865/project%20LSTM/runs/3fyop2q3' target=\"_blank\">https://wandb.ai/ba-865/project%20LSTM/runs/3fyop2q3</a>"
            ]
          },
          "metadata": {}
        },
        {
          "output_type": "display_data",
          "data": {
            "text/plain": [
              "VBox(children=(Label(value='0.011 MB of 0.011 MB uploaded\\r'), FloatProgress(value=1.0, max=1.0)))"
            ],
            "application/vnd.jupyter.widget-view+json": {
              "version_major": 2,
              "version_minor": 0,
              "model_id": "6f801998afbf4be78e65bd3269ad98ea"
            }
          },
          "metadata": {}
        },
        {
          "output_type": "display_data",
          "data": {
            "text/plain": [
              "<IPython.core.display.HTML object>"
            ],
            "text/html": [
              "<style>\n",
              "    table.wandb td:nth-child(1) { padding: 0 10px; text-align: left ; width: auto;} td:nth-child(2) {text-align: left ; width: 100%}\n",
              "    .wandb-row { display: flex; flex-direction: row; flex-wrap: wrap; justify-content: flex-start; width: 100% }\n",
              "    .wandb-col { display: flex; flex-direction: column; flex-basis: 100%; flex: 1; padding: 10px; }\n",
              "    </style>\n",
              "<div class=\"wandb-row\"><div class=\"wandb-col\"><h3>Run history:</h3><br/><table class=\"wandb\"><tr><td>test_accuracy</td><td>█▃▁▂▂▁▂▄▅▄▃▂▁▁▁▁▁▂▂▃</td></tr><tr><td>test_loss</td><td>█▂▁▂▁▁▂▃▄▄▃▂▁▁▁▁▁▁▂▂</td></tr><tr><td>train_accuracy</td><td>▂█▁▄▇▅▂▁▁▂▂▁▁▂▃▃▂▂▁▁</td></tr><tr><td>train_loss</td><td>▁█▁▂▅▄▂▁▂▃▃▂▁▁▂▂▂▁▁▁</td></tr></table><br/></div><div class=\"wandb-col\"><h3>Run summary:</h3><br/><table class=\"wandb\"><tr><td>test_accuracy</td><td>0.21181</td></tr><tr><td>test_loss</td><td>0.06779</td></tr><tr><td>train_accuracy</td><td>0.24484</td></tr><tr><td>train_loss</td><td>0.08577</td></tr></table><br/></div></div>"
            ]
          },
          "metadata": {}
        },
        {
          "output_type": "display_data",
          "data": {
            "text/plain": [
              "<IPython.core.display.HTML object>"
            ],
            "text/html": [
              " View run <strong style=\"color:#cdcd00\">devout-sweep-3</strong> at: <a href='https://wandb.ai/ba-865/project%20LSTM/runs/3fyop2q3' target=\"_blank\">https://wandb.ai/ba-865/project%20LSTM/runs/3fyop2q3</a><br/> View project at: <a href='https://wandb.ai/ba-865/project%20LSTM' target=\"_blank\">https://wandb.ai/ba-865/project%20LSTM</a><br/>Synced 4 W&B file(s), 0 media file(s), 0 artifact file(s) and 0 other file(s)"
            ]
          },
          "metadata": {}
        },
        {
          "output_type": "display_data",
          "data": {
            "text/plain": [
              "<IPython.core.display.HTML object>"
            ],
            "text/html": [
              "Find logs at: <code>./wandb/run-20240425_175840-3fyop2q3/logs</code>"
            ]
          },
          "metadata": {}
        },
        {
          "output_type": "stream",
          "name": "stderr",
          "text": [
            "\u001b[34m\u001b[1mwandb\u001b[0m: Agent Starting Run: rzk9ba6b with config:\n",
            "\u001b[34m\u001b[1mwandb\u001b[0m: \tepochs: 20\n",
            "\u001b[34m\u001b[1mwandb\u001b[0m: \tlearning_rate: 0.01\n",
            "\u001b[34m\u001b[1mwandb\u001b[0m: \tmomentum: 0.85\n"
          ]
        },
        {
          "output_type": "display_data",
          "data": {
            "text/plain": [
              "<IPython.core.display.HTML object>"
            ],
            "text/html": [
              "Tracking run with wandb version 0.16.6"
            ]
          },
          "metadata": {}
        },
        {
          "output_type": "display_data",
          "data": {
            "text/plain": [
              "<IPython.core.display.HTML object>"
            ],
            "text/html": [
              "Run data is saved locally in <code>/content/wandb/run-20240425_175855-rzk9ba6b</code>"
            ]
          },
          "metadata": {}
        },
        {
          "output_type": "display_data",
          "data": {
            "text/plain": [
              "<IPython.core.display.HTML object>"
            ],
            "text/html": [
              "Syncing run <strong><a href='https://wandb.ai/ba-865/project%20LSTM/runs/rzk9ba6b' target=\"_blank\">ruby-sweep-4</a></strong> to <a href='https://wandb.ai/ba-865/project%20LSTM' target=\"_blank\">Weights & Biases</a> (<a href='https://wandb.me/run' target=\"_blank\">docs</a>)<br/>Sweep page: <a href='https://wandb.ai/ba-865/project%20LSTM/sweeps/99jb6ut9' target=\"_blank\">https://wandb.ai/ba-865/project%20LSTM/sweeps/99jb6ut9</a>"
            ]
          },
          "metadata": {}
        },
        {
          "output_type": "display_data",
          "data": {
            "text/plain": [
              "<IPython.core.display.HTML object>"
            ],
            "text/html": [
              " View project at <a href='https://wandb.ai/ba-865/project%20LSTM' target=\"_blank\">https://wandb.ai/ba-865/project%20LSTM</a>"
            ]
          },
          "metadata": {}
        },
        {
          "output_type": "display_data",
          "data": {
            "text/plain": [
              "<IPython.core.display.HTML object>"
            ],
            "text/html": [
              " View sweep at <a href='https://wandb.ai/ba-865/project%20LSTM/sweeps/99jb6ut9' target=\"_blank\">https://wandb.ai/ba-865/project%20LSTM/sweeps/99jb6ut9</a>"
            ]
          },
          "metadata": {}
        },
        {
          "output_type": "display_data",
          "data": {
            "text/plain": [
              "<IPython.core.display.HTML object>"
            ],
            "text/html": [
              " View run at <a href='https://wandb.ai/ba-865/project%20LSTM/runs/rzk9ba6b' target=\"_blank\">https://wandb.ai/ba-865/project%20LSTM/runs/rzk9ba6b</a>"
            ]
          },
          "metadata": {}
        },
        {
          "output_type": "display_data",
          "data": {
            "text/plain": [
              "VBox(children=(Label(value='0.011 MB of 0.011 MB uploaded\\r'), FloatProgress(value=1.0, max=1.0)))"
            ],
            "application/vnd.jupyter.widget-view+json": {
              "version_major": 2,
              "version_minor": 0,
              "model_id": "43da209739db490b9e55c595b22ea089"
            }
          },
          "metadata": {}
        },
        {
          "output_type": "display_data",
          "data": {
            "text/plain": [
              "<IPython.core.display.HTML object>"
            ],
            "text/html": [
              "<style>\n",
              "    table.wandb td:nth-child(1) { padding: 0 10px; text-align: left ; width: auto;} td:nth-child(2) {text-align: left ; width: 100%}\n",
              "    .wandb-row { display: flex; flex-direction: row; flex-wrap: wrap; justify-content: flex-start; width: 100% }\n",
              "    .wandb-col { display: flex; flex-direction: column; flex-basis: 100%; flex: 1; padding: 10px; }\n",
              "    </style>\n",
              "<div class=\"wandb-row\"><div class=\"wandb-col\"><h3>Run history:</h3><br/><table class=\"wandb\"><tr><td>test_accuracy</td><td>█▅▃▁▁▁▁▁▂▃▃▄▅▅▅▅▅▄▄▃</td></tr><tr><td>test_loss</td><td>█▅▃▂▁▁▁▂▂▃▄▅▅▆▆▅▅▄▄▃</td></tr><tr><td>train_accuracy</td><td>▂▁▂▄▆▇██▇▆▄▃▃▂▂▂▂▂▂▃</td></tr><tr><td>train_loss</td><td>█▄▁▁▂▃▃▃▂▁▁▁▁▁▂▂▂▁▁▁</td></tr></table><br/></div><div class=\"wandb-col\"><h3>Run summary:</h3><br/><table class=\"wandb\"><tr><td>test_accuracy</td><td>0.1487</td></tr><tr><td>test_loss</td><td>0.03652</td></tr><tr><td>train_accuracy</td><td>0.24751</td></tr><tr><td>train_loss</td><td>0.08128</td></tr></table><br/></div></div>"
            ]
          },
          "metadata": {}
        },
        {
          "output_type": "display_data",
          "data": {
            "text/plain": [
              "<IPython.core.display.HTML object>"
            ],
            "text/html": [
              " View run <strong style=\"color:#cdcd00\">ruby-sweep-4</strong> at: <a href='https://wandb.ai/ba-865/project%20LSTM/runs/rzk9ba6b' target=\"_blank\">https://wandb.ai/ba-865/project%20LSTM/runs/rzk9ba6b</a><br/> View project at: <a href='https://wandb.ai/ba-865/project%20LSTM' target=\"_blank\">https://wandb.ai/ba-865/project%20LSTM</a><br/>Synced 4 W&B file(s), 0 media file(s), 0 artifact file(s) and 0 other file(s)"
            ]
          },
          "metadata": {}
        },
        {
          "output_type": "display_data",
          "data": {
            "text/plain": [
              "<IPython.core.display.HTML object>"
            ],
            "text/html": [
              "Find logs at: <code>./wandb/run-20240425_175855-rzk9ba6b/logs</code>"
            ]
          },
          "metadata": {}
        },
        {
          "output_type": "stream",
          "name": "stderr",
          "text": [
            "\u001b[34m\u001b[1mwandb\u001b[0m: Agent Starting Run: 4d997izo with config:\n",
            "\u001b[34m\u001b[1mwandb\u001b[0m: \tepochs: 20\n",
            "\u001b[34m\u001b[1mwandb\u001b[0m: \tlearning_rate: 0.01\n",
            "\u001b[34m\u001b[1mwandb\u001b[0m: \tmomentum: 0.9\n"
          ]
        },
        {
          "output_type": "display_data",
          "data": {
            "text/plain": [
              "<IPython.core.display.HTML object>"
            ],
            "text/html": [
              "Tracking run with wandb version 0.16.6"
            ]
          },
          "metadata": {}
        },
        {
          "output_type": "display_data",
          "data": {
            "text/plain": [
              "<IPython.core.display.HTML object>"
            ],
            "text/html": [
              "Run data is saved locally in <code>/content/wandb/run-20240425_175910-4d997izo</code>"
            ]
          },
          "metadata": {}
        },
        {
          "output_type": "display_data",
          "data": {
            "text/plain": [
              "<IPython.core.display.HTML object>"
            ],
            "text/html": [
              "Syncing run <strong><a href='https://wandb.ai/ba-865/project%20LSTM/runs/4d997izo' target=\"_blank\">chocolate-sweep-5</a></strong> to <a href='https://wandb.ai/ba-865/project%20LSTM' target=\"_blank\">Weights & Biases</a> (<a href='https://wandb.me/run' target=\"_blank\">docs</a>)<br/>Sweep page: <a href='https://wandb.ai/ba-865/project%20LSTM/sweeps/99jb6ut9' target=\"_blank\">https://wandb.ai/ba-865/project%20LSTM/sweeps/99jb6ut9</a>"
            ]
          },
          "metadata": {}
        },
        {
          "output_type": "display_data",
          "data": {
            "text/plain": [
              "<IPython.core.display.HTML object>"
            ],
            "text/html": [
              " View project at <a href='https://wandb.ai/ba-865/project%20LSTM' target=\"_blank\">https://wandb.ai/ba-865/project%20LSTM</a>"
            ]
          },
          "metadata": {}
        },
        {
          "output_type": "display_data",
          "data": {
            "text/plain": [
              "<IPython.core.display.HTML object>"
            ],
            "text/html": [
              " View sweep at <a href='https://wandb.ai/ba-865/project%20LSTM/sweeps/99jb6ut9' target=\"_blank\">https://wandb.ai/ba-865/project%20LSTM/sweeps/99jb6ut9</a>"
            ]
          },
          "metadata": {}
        },
        {
          "output_type": "display_data",
          "data": {
            "text/plain": [
              "<IPython.core.display.HTML object>"
            ],
            "text/html": [
              " View run at <a href='https://wandb.ai/ba-865/project%20LSTM/runs/4d997izo' target=\"_blank\">https://wandb.ai/ba-865/project%20LSTM/runs/4d997izo</a>"
            ]
          },
          "metadata": {}
        },
        {
          "output_type": "display_data",
          "data": {
            "text/plain": [
              "VBox(children=(Label(value='0.011 MB of 0.011 MB uploaded\\r'), FloatProgress(value=1.0, max=1.0)))"
            ],
            "application/vnd.jupyter.widget-view+json": {
              "version_major": 2,
              "version_minor": 0,
              "model_id": "23bd5e58b2fe44b4830321466057afc6"
            }
          },
          "metadata": {}
        },
        {
          "output_type": "display_data",
          "data": {
            "text/plain": [
              "<IPython.core.display.HTML object>"
            ],
            "text/html": [
              "<style>\n",
              "    table.wandb td:nth-child(1) { padding: 0 10px; text-align: left ; width: auto;} td:nth-child(2) {text-align: left ; width: 100%}\n",
              "    .wandb-row { display: flex; flex-direction: row; flex-wrap: wrap; justify-content: flex-start; width: 100% }\n",
              "    .wandb-col { display: flex; flex-direction: column; flex-basis: 100%; flex: 1; padding: 10px; }\n",
              "    </style>\n",
              "<div class=\"wandb-row\"><div class=\"wandb-col\"><h3>Run history:</h3><br/><table class=\"wandb\"><tr><td>test_accuracy</td><td>█▃▂▃▃▂▃▄▄▃▂▁▁▂▃▃▃▃▃▂</td></tr><tr><td>test_loss</td><td>█▄▂▁▁▃▄▅▆▅▄▃▂▂▂▃▄▄▅▄</td></tr><tr><td>train_accuracy</td><td>▃█▄▂▁▁▂▄▅▅▅▄▃▂▂▂▂▃▄▄</td></tr><tr><td>train_loss</td><td>▁█▂▂▅▃▁▁▂▃▂▁▁▂▂▂▁▁▁▂</td></tr></table><br/></div><div class=\"wandb-col\"><h3>Run summary:</h3><br/><table class=\"wandb\"><tr><td>test_accuracy</td><td>0.14948</td></tr><tr><td>test_loss</td><td>0.0386</td></tr><tr><td>train_accuracy</td><td>0.2492</td></tr><tr><td>train_loss</td><td>0.08128</td></tr></table><br/></div></div>"
            ]
          },
          "metadata": {}
        },
        {
          "output_type": "display_data",
          "data": {
            "text/plain": [
              "<IPython.core.display.HTML object>"
            ],
            "text/html": [
              " View run <strong style=\"color:#cdcd00\">chocolate-sweep-5</strong> at: <a href='https://wandb.ai/ba-865/project%20LSTM/runs/4d997izo' target=\"_blank\">https://wandb.ai/ba-865/project%20LSTM/runs/4d997izo</a><br/> View project at: <a href='https://wandb.ai/ba-865/project%20LSTM' target=\"_blank\">https://wandb.ai/ba-865/project%20LSTM</a><br/>Synced 4 W&B file(s), 0 media file(s), 0 artifact file(s) and 0 other file(s)"
            ]
          },
          "metadata": {}
        },
        {
          "output_type": "display_data",
          "data": {
            "text/plain": [
              "<IPython.core.display.HTML object>"
            ],
            "text/html": [
              "Find logs at: <code>./wandb/run-20240425_175910-4d997izo/logs</code>"
            ]
          },
          "metadata": {}
        },
        {
          "output_type": "stream",
          "name": "stderr",
          "text": [
            "\u001b[34m\u001b[1mwandb\u001b[0m: Agent Starting Run: 3290n2sn with config:\n",
            "\u001b[34m\u001b[1mwandb\u001b[0m: \tepochs: 20\n",
            "\u001b[34m\u001b[1mwandb\u001b[0m: \tlearning_rate: 0.01\n",
            "\u001b[34m\u001b[1mwandb\u001b[0m: \tmomentum: 0.95\n"
          ]
        },
        {
          "output_type": "display_data",
          "data": {
            "text/plain": [
              "<IPython.core.display.HTML object>"
            ],
            "text/html": [
              "Tracking run with wandb version 0.16.6"
            ]
          },
          "metadata": {}
        },
        {
          "output_type": "display_data",
          "data": {
            "text/plain": [
              "<IPython.core.display.HTML object>"
            ],
            "text/html": [
              "Run data is saved locally in <code>/content/wandb/run-20240425_175926-3290n2sn</code>"
            ]
          },
          "metadata": {}
        },
        {
          "output_type": "display_data",
          "data": {
            "text/plain": [
              "<IPython.core.display.HTML object>"
            ],
            "text/html": [
              "Syncing run <strong><a href='https://wandb.ai/ba-865/project%20LSTM/runs/3290n2sn' target=\"_blank\">serene-sweep-6</a></strong> to <a href='https://wandb.ai/ba-865/project%20LSTM' target=\"_blank\">Weights & Biases</a> (<a href='https://wandb.me/run' target=\"_blank\">docs</a>)<br/>Sweep page: <a href='https://wandb.ai/ba-865/project%20LSTM/sweeps/99jb6ut9' target=\"_blank\">https://wandb.ai/ba-865/project%20LSTM/sweeps/99jb6ut9</a>"
            ]
          },
          "metadata": {}
        },
        {
          "output_type": "display_data",
          "data": {
            "text/plain": [
              "<IPython.core.display.HTML object>"
            ],
            "text/html": [
              " View project at <a href='https://wandb.ai/ba-865/project%20LSTM' target=\"_blank\">https://wandb.ai/ba-865/project%20LSTM</a>"
            ]
          },
          "metadata": {}
        },
        {
          "output_type": "display_data",
          "data": {
            "text/plain": [
              "<IPython.core.display.HTML object>"
            ],
            "text/html": [
              " View sweep at <a href='https://wandb.ai/ba-865/project%20LSTM/sweeps/99jb6ut9' target=\"_blank\">https://wandb.ai/ba-865/project%20LSTM/sweeps/99jb6ut9</a>"
            ]
          },
          "metadata": {}
        },
        {
          "output_type": "display_data",
          "data": {
            "text/plain": [
              "<IPython.core.display.HTML object>"
            ],
            "text/html": [
              " View run at <a href='https://wandb.ai/ba-865/project%20LSTM/runs/3290n2sn' target=\"_blank\">https://wandb.ai/ba-865/project%20LSTM/runs/3290n2sn</a>"
            ]
          },
          "metadata": {}
        },
        {
          "output_type": "display_data",
          "data": {
            "text/plain": [
              "VBox(children=(Label(value='0.011 MB of 0.011 MB uploaded\\r'), FloatProgress(value=1.0, max=1.0)))"
            ],
            "application/vnd.jupyter.widget-view+json": {
              "version_major": 2,
              "version_minor": 0,
              "model_id": "415f4a74365948be8cafffa865c06f3e"
            }
          },
          "metadata": {}
        },
        {
          "output_type": "display_data",
          "data": {
            "text/plain": [
              "<IPython.core.display.HTML object>"
            ],
            "text/html": [
              "<style>\n",
              "    table.wandb td:nth-child(1) { padding: 0 10px; text-align: left ; width: auto;} td:nth-child(2) {text-align: left ; width: 100%}\n",
              "    .wandb-row { display: flex; flex-direction: row; flex-wrap: wrap; justify-content: flex-start; width: 100% }\n",
              "    .wandb-col { display: flex; flex-direction: column; flex-basis: 100%; flex: 1; padding: 10px; }\n",
              "    </style>\n",
              "<div class=\"wandb-row\"><div class=\"wandb-col\"><h3>Run history:</h3><br/><table class=\"wandb\"><tr><td>test_accuracy</td><td>▃▂▆█▆▄▂▂▁▁▂▃▅▅▅▄▃▂▁▁</td></tr><tr><td>test_loss</td><td>▁▃▆█▇▅▄▃▂▃▄▅▆▆▆▅▄▃▃▃</td></tr><tr><td>train_accuracy</td><td>▆▁▃▆█▇▅▃▂▂▃▄▅▆▆▅▄▃▃▃</td></tr><tr><td>train_loss</td><td>▂█▂▂▅▃▁▁▃▃▂▁▁▂▂▁▁▁▂▂</td></tr></table><br/></div><div class=\"wandb-col\"><h3>Run summary:</h3><br/><table class=\"wandb\"><tr><td>test_accuracy</td><td>0.14875</td></tr><tr><td>test_loss</td><td>0.03656</td></tr><tr><td>train_accuracy</td><td>0.24804</td></tr><tr><td>train_loss</td><td>0.08127</td></tr></table><br/></div></div>"
            ]
          },
          "metadata": {}
        },
        {
          "output_type": "display_data",
          "data": {
            "text/plain": [
              "<IPython.core.display.HTML object>"
            ],
            "text/html": [
              " View run <strong style=\"color:#cdcd00\">serene-sweep-6</strong> at: <a href='https://wandb.ai/ba-865/project%20LSTM/runs/3290n2sn' target=\"_blank\">https://wandb.ai/ba-865/project%20LSTM/runs/3290n2sn</a><br/> View project at: <a href='https://wandb.ai/ba-865/project%20LSTM' target=\"_blank\">https://wandb.ai/ba-865/project%20LSTM</a><br/>Synced 4 W&B file(s), 0 media file(s), 0 artifact file(s) and 0 other file(s)"
            ]
          },
          "metadata": {}
        },
        {
          "output_type": "display_data",
          "data": {
            "text/plain": [
              "<IPython.core.display.HTML object>"
            ],
            "text/html": [
              "Find logs at: <code>./wandb/run-20240425_175926-3290n2sn/logs</code>"
            ]
          },
          "metadata": {}
        },
        {
          "output_type": "stream",
          "name": "stderr",
          "text": [
            "\u001b[34m\u001b[1mwandb\u001b[0m: Agent Starting Run: fk7qbouk with config:\n",
            "\u001b[34m\u001b[1mwandb\u001b[0m: \tepochs: 20\n",
            "\u001b[34m\u001b[1mwandb\u001b[0m: \tlearning_rate: 0.001\n",
            "\u001b[34m\u001b[1mwandb\u001b[0m: \tmomentum: 0.85\n"
          ]
        },
        {
          "output_type": "display_data",
          "data": {
            "text/plain": [
              "<IPython.core.display.HTML object>"
            ],
            "text/html": [
              "Tracking run with wandb version 0.16.6"
            ]
          },
          "metadata": {}
        },
        {
          "output_type": "display_data",
          "data": {
            "text/plain": [
              "<IPython.core.display.HTML object>"
            ],
            "text/html": [
              "Run data is saved locally in <code>/content/wandb/run-20240425_175942-fk7qbouk</code>"
            ]
          },
          "metadata": {}
        },
        {
          "output_type": "display_data",
          "data": {
            "text/plain": [
              "<IPython.core.display.HTML object>"
            ],
            "text/html": [
              "Syncing run <strong><a href='https://wandb.ai/ba-865/project%20LSTM/runs/fk7qbouk' target=\"_blank\">exalted-sweep-7</a></strong> to <a href='https://wandb.ai/ba-865/project%20LSTM' target=\"_blank\">Weights & Biases</a> (<a href='https://wandb.me/run' target=\"_blank\">docs</a>)<br/>Sweep page: <a href='https://wandb.ai/ba-865/project%20LSTM/sweeps/99jb6ut9' target=\"_blank\">https://wandb.ai/ba-865/project%20LSTM/sweeps/99jb6ut9</a>"
            ]
          },
          "metadata": {}
        },
        {
          "output_type": "display_data",
          "data": {
            "text/plain": [
              "<IPython.core.display.HTML object>"
            ],
            "text/html": [
              " View project at <a href='https://wandb.ai/ba-865/project%20LSTM' target=\"_blank\">https://wandb.ai/ba-865/project%20LSTM</a>"
            ]
          },
          "metadata": {}
        },
        {
          "output_type": "display_data",
          "data": {
            "text/plain": [
              "<IPython.core.display.HTML object>"
            ],
            "text/html": [
              " View sweep at <a href='https://wandb.ai/ba-865/project%20LSTM/sweeps/99jb6ut9' target=\"_blank\">https://wandb.ai/ba-865/project%20LSTM/sweeps/99jb6ut9</a>"
            ]
          },
          "metadata": {}
        },
        {
          "output_type": "display_data",
          "data": {
            "text/plain": [
              "<IPython.core.display.HTML object>"
            ],
            "text/html": [
              " View run at <a href='https://wandb.ai/ba-865/project%20LSTM/runs/fk7qbouk' target=\"_blank\">https://wandb.ai/ba-865/project%20LSTM/runs/fk7qbouk</a>"
            ]
          },
          "metadata": {}
        },
        {
          "output_type": "display_data",
          "data": {
            "text/plain": [
              "VBox(children=(Label(value='0.011 MB of 0.011 MB uploaded\\r'), FloatProgress(value=1.0, max=1.0)))"
            ],
            "application/vnd.jupyter.widget-view+json": {
              "version_major": 2,
              "version_minor": 0,
              "model_id": "96ab31a540534cd7b6fb6ee8d7987546"
            }
          },
          "metadata": {}
        },
        {
          "output_type": "display_data",
          "data": {
            "text/plain": [
              "<IPython.core.display.HTML object>"
            ],
            "text/html": [
              "<style>\n",
              "    table.wandb td:nth-child(1) { padding: 0 10px; text-align: left ; width: auto;} td:nth-child(2) {text-align: left ; width: 100%}\n",
              "    .wandb-row { display: flex; flex-direction: row; flex-wrap: wrap; justify-content: flex-start; width: 100% }\n",
              "    .wandb-col { display: flex; flex-direction: column; flex-basis: 100%; flex: 1; padding: 10px; }\n",
              "    </style>\n",
              "<div class=\"wandb-row\"><div class=\"wandb-col\"><h3>Run history:</h3><br/><table class=\"wandb\"><tr><td>test_accuracy</td><td>▂▃▅▇███▇▅▄▂▁▁▁▂▄▅▆▇█</td></tr><tr><td>test_loss</td><td>▁▄▇██▇▆▄▃▂▁▁▁▂▃▄▅▆▆▆</td></tr><tr><td>train_accuracy</td><td>▁▄▇█▇▆▅▃▃▃▃▄▅▆▆▇▆▆▅▄</td></tr><tr><td>train_loss</td><td>█▂▁▃▄▃▂▁▁▂▂▂▁▁▁▁▁▁▁▁</td></tr></table><br/></div><div class=\"wandb-col\"><h3>Run summary:</h3><br/><table class=\"wandb\"><tr><td>test_accuracy</td><td>0.14977</td></tr><tr><td>test_loss</td><td>0.03774</td></tr><tr><td>train_accuracy</td><td>0.2485</td></tr><tr><td>train_loss</td><td>0.0812</td></tr></table><br/></div></div>"
            ]
          },
          "metadata": {}
        },
        {
          "output_type": "display_data",
          "data": {
            "text/plain": [
              "<IPython.core.display.HTML object>"
            ],
            "text/html": [
              " View run <strong style=\"color:#cdcd00\">exalted-sweep-7</strong> at: <a href='https://wandb.ai/ba-865/project%20LSTM/runs/fk7qbouk' target=\"_blank\">https://wandb.ai/ba-865/project%20LSTM/runs/fk7qbouk</a><br/> View project at: <a href='https://wandb.ai/ba-865/project%20LSTM' target=\"_blank\">https://wandb.ai/ba-865/project%20LSTM</a><br/>Synced 4 W&B file(s), 0 media file(s), 0 artifact file(s) and 0 other file(s)"
            ]
          },
          "metadata": {}
        },
        {
          "output_type": "display_data",
          "data": {
            "text/plain": [
              "<IPython.core.display.HTML object>"
            ],
            "text/html": [
              "Find logs at: <code>./wandb/run-20240425_175942-fk7qbouk/logs</code>"
            ]
          },
          "metadata": {}
        },
        {
          "output_type": "stream",
          "name": "stderr",
          "text": [
            "\u001b[34m\u001b[1mwandb\u001b[0m: Agent Starting Run: exzwzcjp with config:\n",
            "\u001b[34m\u001b[1mwandb\u001b[0m: \tepochs: 20\n",
            "\u001b[34m\u001b[1mwandb\u001b[0m: \tlearning_rate: 0.001\n",
            "\u001b[34m\u001b[1mwandb\u001b[0m: \tmomentum: 0.9\n"
          ]
        },
        {
          "output_type": "display_data",
          "data": {
            "text/plain": [
              "<IPython.core.display.HTML object>"
            ],
            "text/html": [
              "Tracking run with wandb version 0.16.6"
            ]
          },
          "metadata": {}
        },
        {
          "output_type": "display_data",
          "data": {
            "text/plain": [
              "<IPython.core.display.HTML object>"
            ],
            "text/html": [
              "Run data is saved locally in <code>/content/wandb/run-20240425_175957-exzwzcjp</code>"
            ]
          },
          "metadata": {}
        },
        {
          "output_type": "display_data",
          "data": {
            "text/plain": [
              "<IPython.core.display.HTML object>"
            ],
            "text/html": [
              "Syncing run <strong><a href='https://wandb.ai/ba-865/project%20LSTM/runs/exzwzcjp' target=\"_blank\">glowing-sweep-8</a></strong> to <a href='https://wandb.ai/ba-865/project%20LSTM' target=\"_blank\">Weights & Biases</a> (<a href='https://wandb.me/run' target=\"_blank\">docs</a>)<br/>Sweep page: <a href='https://wandb.ai/ba-865/project%20LSTM/sweeps/99jb6ut9' target=\"_blank\">https://wandb.ai/ba-865/project%20LSTM/sweeps/99jb6ut9</a>"
            ]
          },
          "metadata": {}
        },
        {
          "output_type": "display_data",
          "data": {
            "text/plain": [
              "<IPython.core.display.HTML object>"
            ],
            "text/html": [
              " View project at <a href='https://wandb.ai/ba-865/project%20LSTM' target=\"_blank\">https://wandb.ai/ba-865/project%20LSTM</a>"
            ]
          },
          "metadata": {}
        },
        {
          "output_type": "display_data",
          "data": {
            "text/plain": [
              "<IPython.core.display.HTML object>"
            ],
            "text/html": [
              " View sweep at <a href='https://wandb.ai/ba-865/project%20LSTM/sweeps/99jb6ut9' target=\"_blank\">https://wandb.ai/ba-865/project%20LSTM/sweeps/99jb6ut9</a>"
            ]
          },
          "metadata": {}
        },
        {
          "output_type": "display_data",
          "data": {
            "text/plain": [
              "<IPython.core.display.HTML object>"
            ],
            "text/html": [
              " View run at <a href='https://wandb.ai/ba-865/project%20LSTM/runs/exzwzcjp' target=\"_blank\">https://wandb.ai/ba-865/project%20LSTM/runs/exzwzcjp</a>"
            ]
          },
          "metadata": {}
        },
        {
          "output_type": "display_data",
          "data": {
            "text/plain": [
              "VBox(children=(Label(value='0.011 MB of 0.011 MB uploaded\\r'), FloatProgress(value=1.0, max=1.0)))"
            ],
            "application/vnd.jupyter.widget-view+json": {
              "version_major": 2,
              "version_minor": 0,
              "model_id": "3c3a8e25f0034549a14d1eab4c9f65b3"
            }
          },
          "metadata": {}
        },
        {
          "output_type": "display_data",
          "data": {
            "text/plain": [
              "<IPython.core.display.HTML object>"
            ],
            "text/html": [
              "<style>\n",
              "    table.wandb td:nth-child(1) { padding: 0 10px; text-align: left ; width: auto;} td:nth-child(2) {text-align: left ; width: 100%}\n",
              "    .wandb-row { display: flex; flex-direction: row; flex-wrap: wrap; justify-content: flex-start; width: 100% }\n",
              "    .wandb-col { display: flex; flex-direction: column; flex-basis: 100%; flex: 1; padding: 10px; }\n",
              "    </style>\n",
              "<div class=\"wandb-row\"><div class=\"wandb-col\"><h3>Run history:</h3><br/><table class=\"wandb\"><tr><td>test_accuracy</td><td>▁▃▆██▆▄▃▃▄▅▆▇▇▆▅▄▄▄▄</td></tr><tr><td>test_loss</td><td>▁▃▆██▆▄▃▃▄▅▆▇▇▆▅▄▄▄▅</td></tr><tr><td>train_accuracy</td><td>▃█▅▂▁▂▃▅▆▆▅▄▃▂▂▃▄▄▅▅</td></tr><tr><td>train_loss</td><td>▂█▂▂▄▃▁▁▃▃▂▁▁▂▂▁▁▁▁▂</td></tr></table><br/></div><div class=\"wandb-col\"><h3>Run summary:</h3><br/><table class=\"wandb\"><tr><td>test_accuracy</td><td>0.1491</td></tr><tr><td>test_loss</td><td>0.0374</td></tr><tr><td>train_accuracy</td><td>0.24863</td></tr><tr><td>train_loss</td><td>0.08119</td></tr></table><br/></div></div>"
            ]
          },
          "metadata": {}
        },
        {
          "output_type": "display_data",
          "data": {
            "text/plain": [
              "<IPython.core.display.HTML object>"
            ],
            "text/html": [
              " View run <strong style=\"color:#cdcd00\">glowing-sweep-8</strong> at: <a href='https://wandb.ai/ba-865/project%20LSTM/runs/exzwzcjp' target=\"_blank\">https://wandb.ai/ba-865/project%20LSTM/runs/exzwzcjp</a><br/> View project at: <a href='https://wandb.ai/ba-865/project%20LSTM' target=\"_blank\">https://wandb.ai/ba-865/project%20LSTM</a><br/>Synced 4 W&B file(s), 0 media file(s), 0 artifact file(s) and 0 other file(s)"
            ]
          },
          "metadata": {}
        },
        {
          "output_type": "display_data",
          "data": {
            "text/plain": [
              "<IPython.core.display.HTML object>"
            ],
            "text/html": [
              "Find logs at: <code>./wandb/run-20240425_175957-exzwzcjp/logs</code>"
            ]
          },
          "metadata": {}
        },
        {
          "output_type": "stream",
          "name": "stderr",
          "text": [
            "\u001b[34m\u001b[1mwandb\u001b[0m: Agent Starting Run: vyxp1jwx with config:\n",
            "\u001b[34m\u001b[1mwandb\u001b[0m: \tepochs: 20\n",
            "\u001b[34m\u001b[1mwandb\u001b[0m: \tlearning_rate: 0.001\n",
            "\u001b[34m\u001b[1mwandb\u001b[0m: \tmomentum: 0.95\n"
          ]
        },
        {
          "output_type": "display_data",
          "data": {
            "text/plain": [
              "<IPython.core.display.HTML object>"
            ],
            "text/html": [
              "Tracking run with wandb version 0.16.6"
            ]
          },
          "metadata": {}
        },
        {
          "output_type": "display_data",
          "data": {
            "text/plain": [
              "<IPython.core.display.HTML object>"
            ],
            "text/html": [
              "Run data is saved locally in <code>/content/wandb/run-20240425_180013-vyxp1jwx</code>"
            ]
          },
          "metadata": {}
        },
        {
          "output_type": "display_data",
          "data": {
            "text/plain": [
              "<IPython.core.display.HTML object>"
            ],
            "text/html": [
              "Syncing run <strong><a href='https://wandb.ai/ba-865/project%20LSTM/runs/vyxp1jwx' target=\"_blank\">glowing-sweep-9</a></strong> to <a href='https://wandb.ai/ba-865/project%20LSTM' target=\"_blank\">Weights & Biases</a> (<a href='https://wandb.me/run' target=\"_blank\">docs</a>)<br/>Sweep page: <a href='https://wandb.ai/ba-865/project%20LSTM/sweeps/99jb6ut9' target=\"_blank\">https://wandb.ai/ba-865/project%20LSTM/sweeps/99jb6ut9</a>"
            ]
          },
          "metadata": {}
        },
        {
          "output_type": "display_data",
          "data": {
            "text/plain": [
              "<IPython.core.display.HTML object>"
            ],
            "text/html": [
              " View project at <a href='https://wandb.ai/ba-865/project%20LSTM' target=\"_blank\">https://wandb.ai/ba-865/project%20LSTM</a>"
            ]
          },
          "metadata": {}
        },
        {
          "output_type": "display_data",
          "data": {
            "text/plain": [
              "<IPython.core.display.HTML object>"
            ],
            "text/html": [
              " View sweep at <a href='https://wandb.ai/ba-865/project%20LSTM/sweeps/99jb6ut9' target=\"_blank\">https://wandb.ai/ba-865/project%20LSTM/sweeps/99jb6ut9</a>"
            ]
          },
          "metadata": {}
        },
        {
          "output_type": "display_data",
          "data": {
            "text/plain": [
              "<IPython.core.display.HTML object>"
            ],
            "text/html": [
              " View run at <a href='https://wandb.ai/ba-865/project%20LSTM/runs/vyxp1jwx' target=\"_blank\">https://wandb.ai/ba-865/project%20LSTM/runs/vyxp1jwx</a>"
            ]
          },
          "metadata": {}
        },
        {
          "output_type": "display_data",
          "data": {
            "text/plain": [
              "VBox(children=(Label(value='0.011 MB of 0.011 MB uploaded\\r'), FloatProgress(value=1.0, max=1.0)))"
            ],
            "application/vnd.jupyter.widget-view+json": {
              "version_major": 2,
              "version_minor": 0,
              "model_id": "8b30f63981e34ec5a569662678000499"
            }
          },
          "metadata": {}
        },
        {
          "output_type": "display_data",
          "data": {
            "text/plain": [
              "<IPython.core.display.HTML object>"
            ],
            "text/html": [
              "<style>\n",
              "    table.wandb td:nth-child(1) { padding: 0 10px; text-align: left ; width: auto;} td:nth-child(2) {text-align: left ; width: 100%}\n",
              "    .wandb-row { display: flex; flex-direction: row; flex-wrap: wrap; justify-content: flex-start; width: 100% }\n",
              "    .wandb-col { display: flex; flex-direction: column; flex-basis: 100%; flex: 1; padding: 10px; }\n",
              "    </style>\n",
              "<div class=\"wandb-row\"><div class=\"wandb-col\"><h3>Run history:</h3><br/><table class=\"wandb\"><tr><td>test_accuracy</td><td>█▅▂▁▂▃▄▆▆▆▅▄▃▃▃▃▄▄▅▅</td></tr><tr><td>test_loss</td><td>█▅▂▁▁▃▄▆▆▆▅▄▃▃▂▃▃▄▅▅</td></tr><tr><td>train_accuracy</td><td>▆▁▄▇█▇▆▄▃▃▃▄▆▆▇▆▆▅▄▄</td></tr><tr><td>train_loss</td><td>▁█▁▂▅▄▁▁▂▃▂▁▁▁▂▂▁▁▁▁</td></tr></table><br/></div><div class=\"wandb-col\"><h3>Run summary:</h3><br/><table class=\"wandb\"><tr><td>test_accuracy</td><td>0.14965</td></tr><tr><td>test_loss</td><td>0.03765</td></tr><tr><td>train_accuracy</td><td>0.24845</td></tr><tr><td>train_loss</td><td>0.08119</td></tr></table><br/></div></div>"
            ]
          },
          "metadata": {}
        },
        {
          "output_type": "display_data",
          "data": {
            "text/plain": [
              "<IPython.core.display.HTML object>"
            ],
            "text/html": [
              " View run <strong style=\"color:#cdcd00\">glowing-sweep-9</strong> at: <a href='https://wandb.ai/ba-865/project%20LSTM/runs/vyxp1jwx' target=\"_blank\">https://wandb.ai/ba-865/project%20LSTM/runs/vyxp1jwx</a><br/> View project at: <a href='https://wandb.ai/ba-865/project%20LSTM' target=\"_blank\">https://wandb.ai/ba-865/project%20LSTM</a><br/>Synced 4 W&B file(s), 0 media file(s), 0 artifact file(s) and 0 other file(s)"
            ]
          },
          "metadata": {}
        },
        {
          "output_type": "display_data",
          "data": {
            "text/plain": [
              "<IPython.core.display.HTML object>"
            ],
            "text/html": [
              "Find logs at: <code>./wandb/run-20240425_180013-vyxp1jwx/logs</code>"
            ]
          },
          "metadata": {}
        },
        {
          "output_type": "stream",
          "name": "stderr",
          "text": [
            "\u001b[34m\u001b[1mwandb\u001b[0m: Sweep Agent: Waiting for job.\n",
            "\u001b[34m\u001b[1mwandb\u001b[0m: Job received.\n",
            "\u001b[34m\u001b[1mwandb\u001b[0m: Agent Starting Run: hfwgvtua with config:\n",
            "\u001b[34m\u001b[1mwandb\u001b[0m: \tepochs: 50\n",
            "\u001b[34m\u001b[1mwandb\u001b[0m: \tlearning_rate: 0.1\n",
            "\u001b[34m\u001b[1mwandb\u001b[0m: \tmomentum: 0.85\n"
          ]
        },
        {
          "output_type": "display_data",
          "data": {
            "text/plain": [
              "<IPython.core.display.HTML object>"
            ],
            "text/html": [
              "Tracking run with wandb version 0.16.6"
            ]
          },
          "metadata": {}
        },
        {
          "output_type": "display_data",
          "data": {
            "text/plain": [
              "<IPython.core.display.HTML object>"
            ],
            "text/html": [
              "Run data is saved locally in <code>/content/wandb/run-20240425_180038-hfwgvtua</code>"
            ]
          },
          "metadata": {}
        },
        {
          "output_type": "display_data",
          "data": {
            "text/plain": [
              "<IPython.core.display.HTML object>"
            ],
            "text/html": [
              "Syncing run <strong><a href='https://wandb.ai/ba-865/project%20LSTM/runs/hfwgvtua' target=\"_blank\">silver-sweep-10</a></strong> to <a href='https://wandb.ai/ba-865/project%20LSTM' target=\"_blank\">Weights & Biases</a> (<a href='https://wandb.me/run' target=\"_blank\">docs</a>)<br/>Sweep page: <a href='https://wandb.ai/ba-865/project%20LSTM/sweeps/99jb6ut9' target=\"_blank\">https://wandb.ai/ba-865/project%20LSTM/sweeps/99jb6ut9</a>"
            ]
          },
          "metadata": {}
        },
        {
          "output_type": "display_data",
          "data": {
            "text/plain": [
              "<IPython.core.display.HTML object>"
            ],
            "text/html": [
              " View project at <a href='https://wandb.ai/ba-865/project%20LSTM' target=\"_blank\">https://wandb.ai/ba-865/project%20LSTM</a>"
            ]
          },
          "metadata": {}
        },
        {
          "output_type": "display_data",
          "data": {
            "text/plain": [
              "<IPython.core.display.HTML object>"
            ],
            "text/html": [
              " View sweep at <a href='https://wandb.ai/ba-865/project%20LSTM/sweeps/99jb6ut9' target=\"_blank\">https://wandb.ai/ba-865/project%20LSTM/sweeps/99jb6ut9</a>"
            ]
          },
          "metadata": {}
        },
        {
          "output_type": "display_data",
          "data": {
            "text/plain": [
              "<IPython.core.display.HTML object>"
            ],
            "text/html": [
              " View run at <a href='https://wandb.ai/ba-865/project%20LSTM/runs/hfwgvtua' target=\"_blank\">https://wandb.ai/ba-865/project%20LSTM/runs/hfwgvtua</a>"
            ]
          },
          "metadata": {}
        },
        {
          "output_type": "display_data",
          "data": {
            "text/plain": [
              "VBox(children=(Label(value='0.011 MB of 0.011 MB uploaded\\r'), FloatProgress(value=1.0, max=1.0)))"
            ],
            "application/vnd.jupyter.widget-view+json": {
              "version_major": 2,
              "version_minor": 0,
              "model_id": "0a228a335e6747048e74b8fcff3b52b2"
            }
          },
          "metadata": {}
        },
        {
          "output_type": "display_data",
          "data": {
            "text/plain": [
              "<IPython.core.display.HTML object>"
            ],
            "text/html": [
              "<style>\n",
              "    table.wandb td:nth-child(1) { padding: 0 10px; text-align: left ; width: auto;} td:nth-child(2) {text-align: left ; width: 100%}\n",
              "    .wandb-row { display: flex; flex-direction: row; flex-wrap: wrap; justify-content: flex-start; width: 100% }\n",
              "    .wandb-col { display: flex; flex-direction: column; flex-basis: 100%; flex: 1; padding: 10px; }\n",
              "    </style>\n",
              "<div class=\"wandb-row\"><div class=\"wandb-col\"><h3>Run history:</h3><br/><table class=\"wandb\"><tr><td>test_accuracy</td><td>▄▁▅█▄▁▁▂▁▁▂▃▄▃▂▁▁▁▁▁▂▃▃▂▁▁▁▁▂▂▂▂▁▁▁▁▁▂▂▂</td></tr><tr><td>test_loss</td><td>▄▁▅█▄▂▁▁▁▁▂▃▄▃▂▁▁▁▁▁▂▃▃▂▁▁▁▁▂▂▂▂▂▁▁▁▂▂▂▂</td></tr><tr><td>train_accuracy</td><td>▁█▂▂▃▁▁▂▄▃▂▁▁▁▁▁▂▂▂▂▁▁▁▁▁▁▂▂▁▁▁▁▁▁▁▁▁▁▁▁</td></tr><tr><td>train_loss</td><td>▁█▁▂▄▂▁▂▃▂▁▁▂▂▁▁▁▂▂▁▁▁▁▁▁▁▁▁▁▁▁▁▁▁▁▁▁▁▁▁</td></tr></table><br/></div><div class=\"wandb-col\"><h3>Run summary:</h3><br/><table class=\"wandb\"><tr><td>test_accuracy</td><td>0.1591</td></tr><tr><td>test_loss</td><td>0.04255</td></tr><tr><td>train_accuracy</td><td>0.24625</td></tr><tr><td>train_loss</td><td>0.08194</td></tr></table><br/></div></div>"
            ]
          },
          "metadata": {}
        },
        {
          "output_type": "display_data",
          "data": {
            "text/plain": [
              "<IPython.core.display.HTML object>"
            ],
            "text/html": [
              " View run <strong style=\"color:#cdcd00\">silver-sweep-10</strong> at: <a href='https://wandb.ai/ba-865/project%20LSTM/runs/hfwgvtua' target=\"_blank\">https://wandb.ai/ba-865/project%20LSTM/runs/hfwgvtua</a><br/> View project at: <a href='https://wandb.ai/ba-865/project%20LSTM' target=\"_blank\">https://wandb.ai/ba-865/project%20LSTM</a><br/>Synced 4 W&B file(s), 0 media file(s), 0 artifact file(s) and 0 other file(s)"
            ]
          },
          "metadata": {}
        },
        {
          "output_type": "display_data",
          "data": {
            "text/plain": [
              "<IPython.core.display.HTML object>"
            ],
            "text/html": [
              "Find logs at: <code>./wandb/run-20240425_180038-hfwgvtua/logs</code>"
            ]
          },
          "metadata": {}
        },
        {
          "output_type": "stream",
          "name": "stderr",
          "text": [
            "\u001b[34m\u001b[1mwandb\u001b[0m: Agent Starting Run: z8j4p3zi with config:\n",
            "\u001b[34m\u001b[1mwandb\u001b[0m: \tepochs: 50\n",
            "\u001b[34m\u001b[1mwandb\u001b[0m: \tlearning_rate: 0.1\n",
            "\u001b[34m\u001b[1mwandb\u001b[0m: \tmomentum: 0.9\n"
          ]
        },
        {
          "output_type": "display_data",
          "data": {
            "text/plain": [
              "<IPython.core.display.HTML object>"
            ],
            "text/html": [
              "Tracking run with wandb version 0.16.6"
            ]
          },
          "metadata": {}
        },
        {
          "output_type": "display_data",
          "data": {
            "text/plain": [
              "<IPython.core.display.HTML object>"
            ],
            "text/html": [
              "Run data is saved locally in <code>/content/wandb/run-20240425_180104-z8j4p3zi</code>"
            ]
          },
          "metadata": {}
        },
        {
          "output_type": "display_data",
          "data": {
            "text/plain": [
              "<IPython.core.display.HTML object>"
            ],
            "text/html": [
              "Syncing run <strong><a href='https://wandb.ai/ba-865/project%20LSTM/runs/z8j4p3zi' target=\"_blank\">sweepy-sweep-11</a></strong> to <a href='https://wandb.ai/ba-865/project%20LSTM' target=\"_blank\">Weights & Biases</a> (<a href='https://wandb.me/run' target=\"_blank\">docs</a>)<br/>Sweep page: <a href='https://wandb.ai/ba-865/project%20LSTM/sweeps/99jb6ut9' target=\"_blank\">https://wandb.ai/ba-865/project%20LSTM/sweeps/99jb6ut9</a>"
            ]
          },
          "metadata": {}
        },
        {
          "output_type": "display_data",
          "data": {
            "text/plain": [
              "<IPython.core.display.HTML object>"
            ],
            "text/html": [
              " View project at <a href='https://wandb.ai/ba-865/project%20LSTM' target=\"_blank\">https://wandb.ai/ba-865/project%20LSTM</a>"
            ]
          },
          "metadata": {}
        },
        {
          "output_type": "display_data",
          "data": {
            "text/plain": [
              "<IPython.core.display.HTML object>"
            ],
            "text/html": [
              " View sweep at <a href='https://wandb.ai/ba-865/project%20LSTM/sweeps/99jb6ut9' target=\"_blank\">https://wandb.ai/ba-865/project%20LSTM/sweeps/99jb6ut9</a>"
            ]
          },
          "metadata": {}
        },
        {
          "output_type": "display_data",
          "data": {
            "text/plain": [
              "<IPython.core.display.HTML object>"
            ],
            "text/html": [
              " View run at <a href='https://wandb.ai/ba-865/project%20LSTM/runs/z8j4p3zi' target=\"_blank\">https://wandb.ai/ba-865/project%20LSTM/runs/z8j4p3zi</a>"
            ]
          },
          "metadata": {}
        },
        {
          "output_type": "display_data",
          "data": {
            "text/plain": [
              "VBox(children=(Label(value='0.011 MB of 0.011 MB uploaded\\r'), FloatProgress(value=1.0, max=1.0)))"
            ],
            "application/vnd.jupyter.widget-view+json": {
              "version_major": 2,
              "version_minor": 0,
              "model_id": "c8928fb5fb07418bae7fcbdf7b30dc5f"
            }
          },
          "metadata": {}
        },
        {
          "output_type": "display_data",
          "data": {
            "text/plain": [
              "<IPython.core.display.HTML object>"
            ],
            "text/html": [
              "<style>\n",
              "    table.wandb td:nth-child(1) { padding: 0 10px; text-align: left ; width: auto;} td:nth-child(2) {text-align: left ; width: 100%}\n",
              "    .wandb-row { display: flex; flex-direction: row; flex-wrap: wrap; justify-content: flex-start; width: 100% }\n",
              "    .wandb-col { display: flex; flex-direction: column; flex-basis: 100%; flex: 1; padding: 10px; }\n",
              "    </style>\n",
              "<div class=\"wandb-row\"><div class=\"wandb-col\"><h3>Run history:</h3><br/><table class=\"wandb\"><tr><td>test_accuracy</td><td>▄▁▅█▄▁▁▂▁▁▃▄▄▂▁▁▁▁▁▂▃▃▂▂▁▁▁▁▂▂▂▂▁▁▁▁▂▂▂▁</td></tr><tr><td>test_loss</td><td>▄▁▅█▃▁▁▁▁▁▃▄▄▂▂▁▁▁▁▂▃▃▂▂▁▁▁▁▂▂▂▂▁▁▁▁▂▂▂▂</td></tr><tr><td>train_accuracy</td><td>▁█▂▂▃▁▁▃▃▂▁▁▁▁▁▁▂▂▂▁▁▁▁▁▁▂▂▂▁▁▁▁▁▁▁▁▁▁▁▁</td></tr><tr><td>train_loss</td><td>▁█▁▃▄▂▁▂▃▂▁▁▂▂▁▁▂▂▁▁▁▁▁▁▁▁▁▁▁▁▁▁▁▁▁▁▁▁▁▁</td></tr></table><br/></div><div class=\"wandb-col\"><h3>Run summary:</h3><br/><table class=\"wandb\"><tr><td>test_accuracy</td><td>0.14947</td></tr><tr><td>test_loss</td><td>0.03755</td></tr><tr><td>train_accuracy</td><td>0.24716</td></tr><tr><td>train_loss</td><td>0.08144</td></tr></table><br/></div></div>"
            ]
          },
          "metadata": {}
        },
        {
          "output_type": "display_data",
          "data": {
            "text/plain": [
              "<IPython.core.display.HTML object>"
            ],
            "text/html": [
              " View run <strong style=\"color:#cdcd00\">sweepy-sweep-11</strong> at: <a href='https://wandb.ai/ba-865/project%20LSTM/runs/z8j4p3zi' target=\"_blank\">https://wandb.ai/ba-865/project%20LSTM/runs/z8j4p3zi</a><br/> View project at: <a href='https://wandb.ai/ba-865/project%20LSTM' target=\"_blank\">https://wandb.ai/ba-865/project%20LSTM</a><br/>Synced 4 W&B file(s), 0 media file(s), 0 artifact file(s) and 0 other file(s)"
            ]
          },
          "metadata": {}
        },
        {
          "output_type": "display_data",
          "data": {
            "text/plain": [
              "<IPython.core.display.HTML object>"
            ],
            "text/html": [
              "Find logs at: <code>./wandb/run-20240425_180104-z8j4p3zi/logs</code>"
            ]
          },
          "metadata": {}
        },
        {
          "output_type": "stream",
          "name": "stderr",
          "text": [
            "\u001b[34m\u001b[1mwandb\u001b[0m: Agent Starting Run: nw5l5k1b with config:\n",
            "\u001b[34m\u001b[1mwandb\u001b[0m: \tepochs: 50\n",
            "\u001b[34m\u001b[1mwandb\u001b[0m: \tlearning_rate: 0.1\n",
            "\u001b[34m\u001b[1mwandb\u001b[0m: \tmomentum: 0.95\n"
          ]
        },
        {
          "output_type": "display_data",
          "data": {
            "text/plain": [
              "<IPython.core.display.HTML object>"
            ],
            "text/html": [
              "Tracking run with wandb version 0.16.6"
            ]
          },
          "metadata": {}
        },
        {
          "output_type": "display_data",
          "data": {
            "text/plain": [
              "<IPython.core.display.HTML object>"
            ],
            "text/html": [
              "Run data is saved locally in <code>/content/wandb/run-20240425_180134-nw5l5k1b</code>"
            ]
          },
          "metadata": {}
        },
        {
          "output_type": "display_data",
          "data": {
            "text/plain": [
              "<IPython.core.display.HTML object>"
            ],
            "text/html": [
              "Syncing run <strong><a href='https://wandb.ai/ba-865/project%20LSTM/runs/nw5l5k1b' target=\"_blank\">breezy-sweep-12</a></strong> to <a href='https://wandb.ai/ba-865/project%20LSTM' target=\"_blank\">Weights & Biases</a> (<a href='https://wandb.me/run' target=\"_blank\">docs</a>)<br/>Sweep page: <a href='https://wandb.ai/ba-865/project%20LSTM/sweeps/99jb6ut9' target=\"_blank\">https://wandb.ai/ba-865/project%20LSTM/sweeps/99jb6ut9</a>"
            ]
          },
          "metadata": {}
        },
        {
          "output_type": "display_data",
          "data": {
            "text/plain": [
              "<IPython.core.display.HTML object>"
            ],
            "text/html": [
              " View project at <a href='https://wandb.ai/ba-865/project%20LSTM' target=\"_blank\">https://wandb.ai/ba-865/project%20LSTM</a>"
            ]
          },
          "metadata": {}
        },
        {
          "output_type": "display_data",
          "data": {
            "text/plain": [
              "<IPython.core.display.HTML object>"
            ],
            "text/html": [
              " View sweep at <a href='https://wandb.ai/ba-865/project%20LSTM/sweeps/99jb6ut9' target=\"_blank\">https://wandb.ai/ba-865/project%20LSTM/sweeps/99jb6ut9</a>"
            ]
          },
          "metadata": {}
        },
        {
          "output_type": "display_data",
          "data": {
            "text/plain": [
              "<IPython.core.display.HTML object>"
            ],
            "text/html": [
              " View run at <a href='https://wandb.ai/ba-865/project%20LSTM/runs/nw5l5k1b' target=\"_blank\">https://wandb.ai/ba-865/project%20LSTM/runs/nw5l5k1b</a>"
            ]
          },
          "metadata": {}
        },
        {
          "output_type": "display_data",
          "data": {
            "text/plain": [
              "VBox(children=(Label(value='0.011 MB of 0.011 MB uploaded\\r'), FloatProgress(value=1.0, max=1.0)))"
            ],
            "application/vnd.jupyter.widget-view+json": {
              "version_major": 2,
              "version_minor": 0,
              "model_id": "91b8591d5cf147099c14052abac2bbbf"
            }
          },
          "metadata": {}
        },
        {
          "output_type": "display_data",
          "data": {
            "text/plain": [
              "<IPython.core.display.HTML object>"
            ],
            "text/html": [
              "<style>\n",
              "    table.wandb td:nth-child(1) { padding: 0 10px; text-align: left ; width: auto;} td:nth-child(2) {text-align: left ; width: 100%}\n",
              "    .wandb-row { display: flex; flex-direction: row; flex-wrap: wrap; justify-content: flex-start; width: 100% }\n",
              "    .wandb-col { display: flex; flex-direction: column; flex-basis: 100%; flex: 1; padding: 10px; }\n",
              "    </style>\n",
              "<div class=\"wandb-row\"><div class=\"wandb-col\"><h3>Run history:</h3><br/><table class=\"wandb\"><tr><td>test_accuracy</td><td>▄▁▅█▄▁▁▂▁▁▂▃▄▃▂▁▁▁▁▁▂▃▃▂▁▁▁▁▂▂▂▂▁▁▁▁▁▂▂▂</td></tr><tr><td>test_loss</td><td>▄▁▅█▄▂▁▁▁▁▂▃▄▃▂▁▁▁▁▁▂▃▃▂▁▁▁▁▂▂▂▂▂▁▁▁▁▂▂▂</td></tr><tr><td>train_accuracy</td><td>▁█▂▂▃▁▁▂▄▃▂▁▁▁▁▁▂▂▂▂▁▁▁▁▁▁▂▂▁▁▁▁▁▁▁▁▁▁▁▁</td></tr><tr><td>train_loss</td><td>▁█▁▂▄▂▁▂▃▂▁▁▂▂▁▁▁▂▂▁▁▁▁▁▁▁▁▁▁▁▁▁▁▁▁▁▁▁▁▁</td></tr></table><br/></div><div class=\"wandb-col\"><h3>Run summary:</h3><br/><table class=\"wandb\"><tr><td>test_accuracy</td><td>0.15927</td></tr><tr><td>test_loss</td><td>0.04264</td></tr><tr><td>train_accuracy</td><td>0.24625</td></tr><tr><td>train_loss</td><td>0.08195</td></tr></table><br/></div></div>"
            ]
          },
          "metadata": {}
        },
        {
          "output_type": "display_data",
          "data": {
            "text/plain": [
              "<IPython.core.display.HTML object>"
            ],
            "text/html": [
              " View run <strong style=\"color:#cdcd00\">breezy-sweep-12</strong> at: <a href='https://wandb.ai/ba-865/project%20LSTM/runs/nw5l5k1b' target=\"_blank\">https://wandb.ai/ba-865/project%20LSTM/runs/nw5l5k1b</a><br/> View project at: <a href='https://wandb.ai/ba-865/project%20LSTM' target=\"_blank\">https://wandb.ai/ba-865/project%20LSTM</a><br/>Synced 4 W&B file(s), 0 media file(s), 0 artifact file(s) and 0 other file(s)"
            ]
          },
          "metadata": {}
        },
        {
          "output_type": "display_data",
          "data": {
            "text/plain": [
              "<IPython.core.display.HTML object>"
            ],
            "text/html": [
              "Find logs at: <code>./wandb/run-20240425_180134-nw5l5k1b/logs</code>"
            ]
          },
          "metadata": {}
        },
        {
          "output_type": "stream",
          "name": "stderr",
          "text": [
            "\u001b[34m\u001b[1mwandb\u001b[0m: Agent Starting Run: quv4spgp with config:\n",
            "\u001b[34m\u001b[1mwandb\u001b[0m: \tepochs: 50\n",
            "\u001b[34m\u001b[1mwandb\u001b[0m: \tlearning_rate: 0.01\n",
            "\u001b[34m\u001b[1mwandb\u001b[0m: \tmomentum: 0.85\n"
          ]
        },
        {
          "output_type": "display_data",
          "data": {
            "text/plain": [
              "<IPython.core.display.HTML object>"
            ],
            "text/html": [
              "Tracking run with wandb version 0.16.6"
            ]
          },
          "metadata": {}
        },
        {
          "output_type": "display_data",
          "data": {
            "text/plain": [
              "<IPython.core.display.HTML object>"
            ],
            "text/html": [
              "Run data is saved locally in <code>/content/wandb/run-20240425_180204-quv4spgp</code>"
            ]
          },
          "metadata": {}
        },
        {
          "output_type": "display_data",
          "data": {
            "text/plain": [
              "<IPython.core.display.HTML object>"
            ],
            "text/html": [
              "Syncing run <strong><a href='https://wandb.ai/ba-865/project%20LSTM/runs/quv4spgp' target=\"_blank\">desert-sweep-13</a></strong> to <a href='https://wandb.ai/ba-865/project%20LSTM' target=\"_blank\">Weights & Biases</a> (<a href='https://wandb.me/run' target=\"_blank\">docs</a>)<br/>Sweep page: <a href='https://wandb.ai/ba-865/project%20LSTM/sweeps/99jb6ut9' target=\"_blank\">https://wandb.ai/ba-865/project%20LSTM/sweeps/99jb6ut9</a>"
            ]
          },
          "metadata": {}
        },
        {
          "output_type": "display_data",
          "data": {
            "text/plain": [
              "<IPython.core.display.HTML object>"
            ],
            "text/html": [
              " View project at <a href='https://wandb.ai/ba-865/project%20LSTM' target=\"_blank\">https://wandb.ai/ba-865/project%20LSTM</a>"
            ]
          },
          "metadata": {}
        },
        {
          "output_type": "display_data",
          "data": {
            "text/plain": [
              "<IPython.core.display.HTML object>"
            ],
            "text/html": [
              " View sweep at <a href='https://wandb.ai/ba-865/project%20LSTM/sweeps/99jb6ut9' target=\"_blank\">https://wandb.ai/ba-865/project%20LSTM/sweeps/99jb6ut9</a>"
            ]
          },
          "metadata": {}
        },
        {
          "output_type": "display_data",
          "data": {
            "text/plain": [
              "<IPython.core.display.HTML object>"
            ],
            "text/html": [
              " View run at <a href='https://wandb.ai/ba-865/project%20LSTM/runs/quv4spgp' target=\"_blank\">https://wandb.ai/ba-865/project%20LSTM/runs/quv4spgp</a>"
            ]
          },
          "metadata": {}
        },
        {
          "output_type": "display_data",
          "data": {
            "text/plain": [
              "VBox(children=(Label(value='0.011 MB of 0.011 MB uploaded\\r'), FloatProgress(value=1.0, max=1.0)))"
            ],
            "application/vnd.jupyter.widget-view+json": {
              "version_major": 2,
              "version_minor": 0,
              "model_id": "3ac531e32baf485388361e643d9a61c7"
            }
          },
          "metadata": {}
        },
        {
          "output_type": "display_data",
          "data": {
            "text/plain": [
              "<IPython.core.display.HTML object>"
            ],
            "text/html": [
              "<style>\n",
              "    table.wandb td:nth-child(1) { padding: 0 10px; text-align: left ; width: auto;} td:nth-child(2) {text-align: left ; width: 100%}\n",
              "    .wandb-row { display: flex; flex-direction: row; flex-wrap: wrap; justify-content: flex-start; width: 100% }\n",
              "    .wandb-col { display: flex; flex-direction: column; flex-basis: 100%; flex: 1; padding: 10px; }\n",
              "    </style>\n",
              "<div class=\"wandb-row\"><div class=\"wandb-col\"><h3>Run history:</h3><br/><table class=\"wandb\"><tr><td>test_accuracy</td><td>▁▁▄▇█▆▄▃▃▅▆▇▆▅▄▃▅▆▆▆▅▄▄▄▅▆▆▅▄▄▅▅▆▅▅▅▅▅▅▅</td></tr><tr><td>test_loss</td><td>▁▁▄▇█▆▄▃▃▅▆▇▆▅▄▃▅▆▆▆▅▄▄▄▅▆▆▅▄▄▄▅▅▅▅▅▅▅▅▅</td></tr><tr><td>train_accuracy</td><td>▁▇█▅▂▂▃▅▆▆▄▃▃▄▄▅▅▅▄▃▄▄▅▅▄▄▄▄▄▅▅▅▄▄▄▄▅▅▄▄</td></tr><tr><td>train_loss</td><td>█▅▇▂▅▄▁▁▃▂▁▂▂▁▁▁▁▁▁▁▁▁▁▁▁▁▁▁▁▁▁▁▁▁▁▁▁▁▁▁</td></tr></table><br/></div><div class=\"wandb-col\"><h3>Run summary:</h3><br/><table class=\"wandb\"><tr><td>test_accuracy</td><td>0.14989</td></tr><tr><td>test_loss</td><td>0.03776</td></tr><tr><td>train_accuracy</td><td>0.24839</td></tr><tr><td>train_loss</td><td>0.0812</td></tr></table><br/></div></div>"
            ]
          },
          "metadata": {}
        },
        {
          "output_type": "display_data",
          "data": {
            "text/plain": [
              "<IPython.core.display.HTML object>"
            ],
            "text/html": [
              " View run <strong style=\"color:#cdcd00\">desert-sweep-13</strong> at: <a href='https://wandb.ai/ba-865/project%20LSTM/runs/quv4spgp' target=\"_blank\">https://wandb.ai/ba-865/project%20LSTM/runs/quv4spgp</a><br/> View project at: <a href='https://wandb.ai/ba-865/project%20LSTM' target=\"_blank\">https://wandb.ai/ba-865/project%20LSTM</a><br/>Synced 4 W&B file(s), 0 media file(s), 0 artifact file(s) and 0 other file(s)"
            ]
          },
          "metadata": {}
        },
        {
          "output_type": "display_data",
          "data": {
            "text/plain": [
              "<IPython.core.display.HTML object>"
            ],
            "text/html": [
              "Find logs at: <code>./wandb/run-20240425_180204-quv4spgp/logs</code>"
            ]
          },
          "metadata": {}
        },
        {
          "output_type": "stream",
          "name": "stderr",
          "text": [
            "\u001b[34m\u001b[1mwandb\u001b[0m: Agent Starting Run: 0ydgmyh5 with config:\n",
            "\u001b[34m\u001b[1mwandb\u001b[0m: \tepochs: 50\n",
            "\u001b[34m\u001b[1mwandb\u001b[0m: \tlearning_rate: 0.01\n",
            "\u001b[34m\u001b[1mwandb\u001b[0m: \tmomentum: 0.9\n"
          ]
        },
        {
          "output_type": "display_data",
          "data": {
            "text/plain": [
              "<IPython.core.display.HTML object>"
            ],
            "text/html": [
              "Tracking run with wandb version 0.16.6"
            ]
          },
          "metadata": {}
        },
        {
          "output_type": "display_data",
          "data": {
            "text/plain": [
              "<IPython.core.display.HTML object>"
            ],
            "text/html": [
              "Run data is saved locally in <code>/content/wandb/run-20240425_180231-0ydgmyh5</code>"
            ]
          },
          "metadata": {}
        },
        {
          "output_type": "display_data",
          "data": {
            "text/plain": [
              "<IPython.core.display.HTML object>"
            ],
            "text/html": [
              "Syncing run <strong><a href='https://wandb.ai/ba-865/project%20LSTM/runs/0ydgmyh5' target=\"_blank\">noble-sweep-14</a></strong> to <a href='https://wandb.ai/ba-865/project%20LSTM' target=\"_blank\">Weights & Biases</a> (<a href='https://wandb.me/run' target=\"_blank\">docs</a>)<br/>Sweep page: <a href='https://wandb.ai/ba-865/project%20LSTM/sweeps/99jb6ut9' target=\"_blank\">https://wandb.ai/ba-865/project%20LSTM/sweeps/99jb6ut9</a>"
            ]
          },
          "metadata": {}
        },
        {
          "output_type": "display_data",
          "data": {
            "text/plain": [
              "<IPython.core.display.HTML object>"
            ],
            "text/html": [
              " View project at <a href='https://wandb.ai/ba-865/project%20LSTM' target=\"_blank\">https://wandb.ai/ba-865/project%20LSTM</a>"
            ]
          },
          "metadata": {}
        },
        {
          "output_type": "display_data",
          "data": {
            "text/plain": [
              "<IPython.core.display.HTML object>"
            ],
            "text/html": [
              " View sweep at <a href='https://wandb.ai/ba-865/project%20LSTM/sweeps/99jb6ut9' target=\"_blank\">https://wandb.ai/ba-865/project%20LSTM/sweeps/99jb6ut9</a>"
            ]
          },
          "metadata": {}
        },
        {
          "output_type": "display_data",
          "data": {
            "text/plain": [
              "<IPython.core.display.HTML object>"
            ],
            "text/html": [
              " View run at <a href='https://wandb.ai/ba-865/project%20LSTM/runs/0ydgmyh5' target=\"_blank\">https://wandb.ai/ba-865/project%20LSTM/runs/0ydgmyh5</a>"
            ]
          },
          "metadata": {}
        },
        {
          "output_type": "display_data",
          "data": {
            "text/plain": [
              "VBox(children=(Label(value='0.011 MB of 0.011 MB uploaded\\r'), FloatProgress(value=1.0, max=1.0)))"
            ],
            "application/vnd.jupyter.widget-view+json": {
              "version_major": 2,
              "version_minor": 0,
              "model_id": "119417b8b7754f2fa9d9e9be11c8a773"
            }
          },
          "metadata": {}
        },
        {
          "output_type": "display_data",
          "data": {
            "text/plain": [
              "<IPython.core.display.HTML object>"
            ],
            "text/html": [
              "<style>\n",
              "    table.wandb td:nth-child(1) { padding: 0 10px; text-align: left ; width: auto;} td:nth-child(2) {text-align: left ; width: 100%}\n",
              "    .wandb-row { display: flex; flex-direction: row; flex-wrap: wrap; justify-content: flex-start; width: 100% }\n",
              "    .wandb-col { display: flex; flex-direction: column; flex-basis: 100%; flex: 1; padding: 10px; }\n",
              "    </style>\n",
              "<div class=\"wandb-row\"><div class=\"wandb-col\"><h3>Run history:</h3><br/><table class=\"wandb\"><tr><td>test_accuracy</td><td>▁▃▆█▆▄▃▂▃▄▅▆▆▅▅▄▃▃▄▄▅▅▅▅▄▄▄▄▅▅▅▅▄▄▄▄▅▅▅▄</td></tr><tr><td>test_loss</td><td>▁▃▇█▆▄▃▂▃▄▅▆▆▅▅▄▃▄▄▅▅▅▅▅▄▄▄▄▅▅▅▅▄▄▄▄▅▅▅▅</td></tr><tr><td>train_accuracy</td><td>▃█▄▂▁▂▃▅▅▄▃▃▂▂▂▃▄▄▄▄▃▂▂▃▃▄▄▄▃▃▃▃▃▃▃▃▃▃▃▃</td></tr><tr><td>train_loss</td><td>▁█▁▃▄▂▁▂▃▂▁▁▂▂▁▁▁▂▁▁▁▁▁▁▁▁▁▁▁▁▁▁▁▁▁▁▁▁▁▁</td></tr></table><br/></div><div class=\"wandb-col\"><h3>Run summary:</h3><br/><table class=\"wandb\"><tr><td>test_accuracy</td><td>0.14965</td></tr><tr><td>test_loss</td><td>0.03764</td></tr><tr><td>train_accuracy</td><td>0.24832</td></tr><tr><td>train_loss</td><td>0.0812</td></tr></table><br/></div></div>"
            ]
          },
          "metadata": {}
        },
        {
          "output_type": "display_data",
          "data": {
            "text/plain": [
              "<IPython.core.display.HTML object>"
            ],
            "text/html": [
              " View run <strong style=\"color:#cdcd00\">noble-sweep-14</strong> at: <a href='https://wandb.ai/ba-865/project%20LSTM/runs/0ydgmyh5' target=\"_blank\">https://wandb.ai/ba-865/project%20LSTM/runs/0ydgmyh5</a><br/> View project at: <a href='https://wandb.ai/ba-865/project%20LSTM' target=\"_blank\">https://wandb.ai/ba-865/project%20LSTM</a><br/>Synced 4 W&B file(s), 0 media file(s), 0 artifact file(s) and 0 other file(s)"
            ]
          },
          "metadata": {}
        },
        {
          "output_type": "display_data",
          "data": {
            "text/plain": [
              "<IPython.core.display.HTML object>"
            ],
            "text/html": [
              "Find logs at: <code>./wandb/run-20240425_180231-0ydgmyh5/logs</code>"
            ]
          },
          "metadata": {}
        },
        {
          "output_type": "stream",
          "name": "stderr",
          "text": [
            "\u001b[34m\u001b[1mwandb\u001b[0m: Agent Starting Run: ojczo6ek with config:\n",
            "\u001b[34m\u001b[1mwandb\u001b[0m: \tepochs: 50\n",
            "\u001b[34m\u001b[1mwandb\u001b[0m: \tlearning_rate: 0.01\n",
            "\u001b[34m\u001b[1mwandb\u001b[0m: \tmomentum: 0.95\n"
          ]
        },
        {
          "output_type": "display_data",
          "data": {
            "text/plain": [
              "<IPython.core.display.HTML object>"
            ],
            "text/html": [
              "Tracking run with wandb version 0.16.6"
            ]
          },
          "metadata": {}
        },
        {
          "output_type": "display_data",
          "data": {
            "text/plain": [
              "<IPython.core.display.HTML object>"
            ],
            "text/html": [
              "Run data is saved locally in <code>/content/wandb/run-20240425_180300-ojczo6ek</code>"
            ]
          },
          "metadata": {}
        },
        {
          "output_type": "display_data",
          "data": {
            "text/plain": [
              "<IPython.core.display.HTML object>"
            ],
            "text/html": [
              "Syncing run <strong><a href='https://wandb.ai/ba-865/project%20LSTM/runs/ojczo6ek' target=\"_blank\">good-sweep-15</a></strong> to <a href='https://wandb.ai/ba-865/project%20LSTM' target=\"_blank\">Weights & Biases</a> (<a href='https://wandb.me/run' target=\"_blank\">docs</a>)<br/>Sweep page: <a href='https://wandb.ai/ba-865/project%20LSTM/sweeps/99jb6ut9' target=\"_blank\">https://wandb.ai/ba-865/project%20LSTM/sweeps/99jb6ut9</a>"
            ]
          },
          "metadata": {}
        },
        {
          "output_type": "display_data",
          "data": {
            "text/plain": [
              "<IPython.core.display.HTML object>"
            ],
            "text/html": [
              " View project at <a href='https://wandb.ai/ba-865/project%20LSTM' target=\"_blank\">https://wandb.ai/ba-865/project%20LSTM</a>"
            ]
          },
          "metadata": {}
        },
        {
          "output_type": "display_data",
          "data": {
            "text/plain": [
              "<IPython.core.display.HTML object>"
            ],
            "text/html": [
              " View sweep at <a href='https://wandb.ai/ba-865/project%20LSTM/sweeps/99jb6ut9' target=\"_blank\">https://wandb.ai/ba-865/project%20LSTM/sweeps/99jb6ut9</a>"
            ]
          },
          "metadata": {}
        },
        {
          "output_type": "display_data",
          "data": {
            "text/plain": [
              "<IPython.core.display.HTML object>"
            ],
            "text/html": [
              " View run at <a href='https://wandb.ai/ba-865/project%20LSTM/runs/ojczo6ek' target=\"_blank\">https://wandb.ai/ba-865/project%20LSTM/runs/ojczo6ek</a>"
            ]
          },
          "metadata": {}
        },
        {
          "output_type": "display_data",
          "data": {
            "text/plain": [
              "VBox(children=(Label(value='0.011 MB of 0.011 MB uploaded\\r'), FloatProgress(value=1.0, max=1.0)))"
            ],
            "application/vnd.jupyter.widget-view+json": {
              "version_major": 2,
              "version_minor": 0,
              "model_id": "9b3deafeea674736808670fd92b19d38"
            }
          },
          "metadata": {}
        },
        {
          "output_type": "display_data",
          "data": {
            "text/plain": [
              "<IPython.core.display.HTML object>"
            ],
            "text/html": [
              "<style>\n",
              "    table.wandb td:nth-child(1) { padding: 0 10px; text-align: left ; width: auto;} td:nth-child(2) {text-align: left ; width: 100%}\n",
              "    .wandb-row { display: flex; flex-direction: row; flex-wrap: wrap; justify-content: flex-start; width: 100% }\n",
              "    .wandb-col { display: flex; flex-direction: column; flex-basis: 100%; flex: 1; padding: 10px; }\n",
              "    </style>\n",
              "<div class=\"wandb-row\"><div class=\"wandb-col\"><h3>Run history:</h3><br/><table class=\"wandb\"><tr><td>test_accuracy</td><td>▁▃▆█▆▄▃▂▃▄▅▆▆▅▅▄▃▃▄▄▅▅▅▅▄▄▄▄▅▅▅▅▄▄▄▄▄▅▅▅</td></tr><tr><td>test_loss</td><td>▁▃▇█▆▄▃▂▃▄▅▆▆▅▅▄▃▃▄▄▅▅▅▅▄▄▄▄▅▅▅▅▄▄▄▄▅▅▅▅</td></tr><tr><td>train_accuracy</td><td>▃█▄▂▁▂▃▅▅▅▄▃▂▂▂▃▄▄▄▄▃▂▂▂▃▄▄▄▃▃▃▃▃▃▃▃▃▃▃▃</td></tr><tr><td>train_loss</td><td>▁█▁▃▄▂▁▂▃▂▁▁▂▂▁▁▁▂▁▁▁▁▁▁▁▁▁▁▁▁▁▁▁▁▁▁▁▁▁▁</td></tr></table><br/></div><div class=\"wandb-col\"><h3>Run summary:</h3><br/><table class=\"wandb\"><tr><td>test_accuracy</td><td>0.14991</td></tr><tr><td>test_loss</td><td>0.03777</td></tr><tr><td>train_accuracy</td><td>0.24829</td></tr><tr><td>train_loss</td><td>0.0812</td></tr></table><br/></div></div>"
            ]
          },
          "metadata": {}
        },
        {
          "output_type": "display_data",
          "data": {
            "text/plain": [
              "<IPython.core.display.HTML object>"
            ],
            "text/html": [
              " View run <strong style=\"color:#cdcd00\">good-sweep-15</strong> at: <a href='https://wandb.ai/ba-865/project%20LSTM/runs/ojczo6ek' target=\"_blank\">https://wandb.ai/ba-865/project%20LSTM/runs/ojczo6ek</a><br/> View project at: <a href='https://wandb.ai/ba-865/project%20LSTM' target=\"_blank\">https://wandb.ai/ba-865/project%20LSTM</a><br/>Synced 4 W&B file(s), 0 media file(s), 0 artifact file(s) and 0 other file(s)"
            ]
          },
          "metadata": {}
        },
        {
          "output_type": "display_data",
          "data": {
            "text/plain": [
              "<IPython.core.display.HTML object>"
            ],
            "text/html": [
              "Find logs at: <code>./wandb/run-20240425_180300-ojczo6ek/logs</code>"
            ]
          },
          "metadata": {}
        },
        {
          "output_type": "stream",
          "name": "stderr",
          "text": [
            "\u001b[34m\u001b[1mwandb\u001b[0m: Sweep Agent: Waiting for job.\n",
            "\u001b[34m\u001b[1mwandb\u001b[0m: Job received.\n",
            "\u001b[34m\u001b[1mwandb\u001b[0m: Agent Starting Run: 5i94wa8y with config:\n",
            "\u001b[34m\u001b[1mwandb\u001b[0m: \tepochs: 50\n",
            "\u001b[34m\u001b[1mwandb\u001b[0m: \tlearning_rate: 0.001\n",
            "\u001b[34m\u001b[1mwandb\u001b[0m: \tmomentum: 0.85\n"
          ]
        },
        {
          "output_type": "display_data",
          "data": {
            "text/plain": [
              "<IPython.core.display.HTML object>"
            ],
            "text/html": [
              "Tracking run with wandb version 0.16.6"
            ]
          },
          "metadata": {}
        },
        {
          "output_type": "display_data",
          "data": {
            "text/plain": [
              "<IPython.core.display.HTML object>"
            ],
            "text/html": [
              "Run data is saved locally in <code>/content/wandb/run-20240425_180337-5i94wa8y</code>"
            ]
          },
          "metadata": {}
        },
        {
          "output_type": "display_data",
          "data": {
            "text/plain": [
              "<IPython.core.display.HTML object>"
            ],
            "text/html": [
              "Syncing run <strong><a href='https://wandb.ai/ba-865/project%20LSTM/runs/5i94wa8y' target=\"_blank\">skilled-sweep-16</a></strong> to <a href='https://wandb.ai/ba-865/project%20LSTM' target=\"_blank\">Weights & Biases</a> (<a href='https://wandb.me/run' target=\"_blank\">docs</a>)<br/>Sweep page: <a href='https://wandb.ai/ba-865/project%20LSTM/sweeps/99jb6ut9' target=\"_blank\">https://wandb.ai/ba-865/project%20LSTM/sweeps/99jb6ut9</a>"
            ]
          },
          "metadata": {}
        },
        {
          "output_type": "display_data",
          "data": {
            "text/plain": [
              "<IPython.core.display.HTML object>"
            ],
            "text/html": [
              " View project at <a href='https://wandb.ai/ba-865/project%20LSTM' target=\"_blank\">https://wandb.ai/ba-865/project%20LSTM</a>"
            ]
          },
          "metadata": {}
        },
        {
          "output_type": "display_data",
          "data": {
            "text/plain": [
              "<IPython.core.display.HTML object>"
            ],
            "text/html": [
              " View sweep at <a href='https://wandb.ai/ba-865/project%20LSTM/sweeps/99jb6ut9' target=\"_blank\">https://wandb.ai/ba-865/project%20LSTM/sweeps/99jb6ut9</a>"
            ]
          },
          "metadata": {}
        },
        {
          "output_type": "display_data",
          "data": {
            "text/plain": [
              "<IPython.core.display.HTML object>"
            ],
            "text/html": [
              " View run at <a href='https://wandb.ai/ba-865/project%20LSTM/runs/5i94wa8y' target=\"_blank\">https://wandb.ai/ba-865/project%20LSTM/runs/5i94wa8y</a>"
            ]
          },
          "metadata": {}
        },
        {
          "output_type": "display_data",
          "data": {
            "text/plain": [
              "VBox(children=(Label(value='0.011 MB of 0.011 MB uploaded\\r'), FloatProgress(value=1.0, max=1.0)))"
            ],
            "application/vnd.jupyter.widget-view+json": {
              "version_major": 2,
              "version_minor": 0,
              "model_id": "b7c9b08b13e74d5c8eff8d633328d0bc"
            }
          },
          "metadata": {}
        },
        {
          "output_type": "display_data",
          "data": {
            "text/plain": [
              "<IPython.core.display.HTML object>"
            ],
            "text/html": [
              "<style>\n",
              "    table.wandb td:nth-child(1) { padding: 0 10px; text-align: left ; width: auto;} td:nth-child(2) {text-align: left ; width: 100%}\n",
              "    .wandb-row { display: flex; flex-direction: row; flex-wrap: wrap; justify-content: flex-start; width: 100% }\n",
              "    .wandb-col { display: flex; flex-direction: column; flex-basis: 100%; flex: 1; padding: 10px; }\n",
              "    </style>\n",
              "<div class=\"wandb-row\"><div class=\"wandb-col\"><h3>Run history:</h3><br/><table class=\"wandb\"><tr><td>test_accuracy</td><td>▁▃▆█▆▄▃▃▅▆▇▇▅▄▄▄▆▆▆▆▄▄▄▅▆▆▅▅▅▅▅▅▆▅▅▅▅▅▅▅</td></tr><tr><td>test_loss</td><td>▁▃▆█▆▄▃▃▅▆▇▇▅▄▄▄▆▆▆▆▅▄▄▅▆▆▅▅▅▅▅▅▆▅▅▅▅▅▅▅</td></tr><tr><td>train_accuracy</td><td>▁█▆▃▁▃▅▆▅▄▂▂▃▄▅▅▄▃▃▃▄▄▅▄▃▃▃▃▄▄▄▄▃▃▄▄▄▄▃▃</td></tr><tr><td>train_loss</td><td>▄█▃▁▄▁▁▃▂▁▂▂▁▁▂▂▁▁▁▁▁▁▁▁▁▁▁▁▁▁▁▁▁▁▁▁▁▁▁▁</td></tr></table><br/></div><div class=\"wandb-col\"><h3>Run summary:</h3><br/><table class=\"wandb\"><tr><td>test_accuracy</td><td>0.1493</td></tr><tr><td>test_loss</td><td>0.03746</td></tr><tr><td>train_accuracy</td><td>0.24853</td></tr><tr><td>train_loss</td><td>0.08119</td></tr></table><br/></div></div>"
            ]
          },
          "metadata": {}
        },
        {
          "output_type": "display_data",
          "data": {
            "text/plain": [
              "<IPython.core.display.HTML object>"
            ],
            "text/html": [
              " View run <strong style=\"color:#cdcd00\">skilled-sweep-16</strong> at: <a href='https://wandb.ai/ba-865/project%20LSTM/runs/5i94wa8y' target=\"_blank\">https://wandb.ai/ba-865/project%20LSTM/runs/5i94wa8y</a><br/> View project at: <a href='https://wandb.ai/ba-865/project%20LSTM' target=\"_blank\">https://wandb.ai/ba-865/project%20LSTM</a><br/>Synced 4 W&B file(s), 0 media file(s), 0 artifact file(s) and 0 other file(s)"
            ]
          },
          "metadata": {}
        },
        {
          "output_type": "display_data",
          "data": {
            "text/plain": [
              "<IPython.core.display.HTML object>"
            ],
            "text/html": [
              "Find logs at: <code>./wandb/run-20240425_180337-5i94wa8y/logs</code>"
            ]
          },
          "metadata": {}
        },
        {
          "output_type": "stream",
          "name": "stderr",
          "text": [
            "\u001b[34m\u001b[1mwandb\u001b[0m: Agent Starting Run: tmwwtzhg with config:\n",
            "\u001b[34m\u001b[1mwandb\u001b[0m: \tepochs: 50\n",
            "\u001b[34m\u001b[1mwandb\u001b[0m: \tlearning_rate: 0.001\n",
            "\u001b[34m\u001b[1mwandb\u001b[0m: \tmomentum: 0.9\n"
          ]
        },
        {
          "output_type": "display_data",
          "data": {
            "text/plain": [
              "<IPython.core.display.HTML object>"
            ],
            "text/html": [
              "Tracking run with wandb version 0.16.6"
            ]
          },
          "metadata": {}
        },
        {
          "output_type": "display_data",
          "data": {
            "text/plain": [
              "<IPython.core.display.HTML object>"
            ],
            "text/html": [
              "Run data is saved locally in <code>/content/wandb/run-20240425_180407-tmwwtzhg</code>"
            ]
          },
          "metadata": {}
        },
        {
          "output_type": "display_data",
          "data": {
            "text/plain": [
              "<IPython.core.display.HTML object>"
            ],
            "text/html": [
              "Syncing run <strong><a href='https://wandb.ai/ba-865/project%20LSTM/runs/tmwwtzhg' target=\"_blank\">flowing-sweep-17</a></strong> to <a href='https://wandb.ai/ba-865/project%20LSTM' target=\"_blank\">Weights & Biases</a> (<a href='https://wandb.me/run' target=\"_blank\">docs</a>)<br/>Sweep page: <a href='https://wandb.ai/ba-865/project%20LSTM/sweeps/99jb6ut9' target=\"_blank\">https://wandb.ai/ba-865/project%20LSTM/sweeps/99jb6ut9</a>"
            ]
          },
          "metadata": {}
        },
        {
          "output_type": "display_data",
          "data": {
            "text/plain": [
              "<IPython.core.display.HTML object>"
            ],
            "text/html": [
              " View project at <a href='https://wandb.ai/ba-865/project%20LSTM' target=\"_blank\">https://wandb.ai/ba-865/project%20LSTM</a>"
            ]
          },
          "metadata": {}
        },
        {
          "output_type": "display_data",
          "data": {
            "text/plain": [
              "<IPython.core.display.HTML object>"
            ],
            "text/html": [
              " View sweep at <a href='https://wandb.ai/ba-865/project%20LSTM/sweeps/99jb6ut9' target=\"_blank\">https://wandb.ai/ba-865/project%20LSTM/sweeps/99jb6ut9</a>"
            ]
          },
          "metadata": {}
        },
        {
          "output_type": "display_data",
          "data": {
            "text/plain": [
              "<IPython.core.display.HTML object>"
            ],
            "text/html": [
              " View run at <a href='https://wandb.ai/ba-865/project%20LSTM/runs/tmwwtzhg' target=\"_blank\">https://wandb.ai/ba-865/project%20LSTM/runs/tmwwtzhg</a>"
            ]
          },
          "metadata": {}
        },
        {
          "output_type": "display_data",
          "data": {
            "text/plain": [
              "VBox(children=(Label(value='0.011 MB of 0.011 MB uploaded\\r'), FloatProgress(value=1.0, max=1.0)))"
            ],
            "application/vnd.jupyter.widget-view+json": {
              "version_major": 2,
              "version_minor": 0,
              "model_id": "632636073ca34ea4953d5458f89f64e2"
            }
          },
          "metadata": {}
        },
        {
          "output_type": "display_data",
          "data": {
            "text/plain": [
              "<IPython.core.display.HTML object>"
            ],
            "text/html": [
              "<style>\n",
              "    table.wandb td:nth-child(1) { padding: 0 10px; text-align: left ; width: auto;} td:nth-child(2) {text-align: left ; width: 100%}\n",
              "    .wandb-row { display: flex; flex-direction: row; flex-wrap: wrap; justify-content: flex-start; width: 100% }\n",
              "    .wandb-col { display: flex; flex-direction: column; flex-basis: 100%; flex: 1; padding: 10px; }\n",
              "    </style>\n",
              "<div class=\"wandb-row\"><div class=\"wandb-col\"><h3>Run history:</h3><br/><table class=\"wandb\"><tr><td>test_accuracy</td><td>▁▄▇█▆▅▄▃▃▄▅▆▆▆▅▅▄▄▄▅▆▆▆▅▅▄▄▄▅▅▅▅▅▅▅▅▅▅▅▅</td></tr><tr><td>test_loss</td><td>▁▄▇█▆▅▄▃▃▄▅▆▆▆▅▅▄▄▄▅▆▆▆▅▅▄▄▄▅▅▅▅▅▅▅▅▅▅▅▅</td></tr><tr><td>train_accuracy</td><td>▄█▅▂▁▂▄▅▆▅▄▃▂▂▃▃▅▅▅▄▃▃▃▃▄▄▄▄▄▄▃▃▃▄▄▄▄▄▄▃</td></tr><tr><td>train_loss</td><td>▁█▁▃▄▂▁▂▃▂▁▁▂▂▁▁▁▂▁▁▁▁▁▁▁▁▁▁▁▁▁▁▁▁▁▁▁▁▁▁</td></tr></table><br/></div><div class=\"wandb-col\"><h3>Run summary:</h3><br/><table class=\"wandb\"><tr><td>test_accuracy</td><td>0.14936</td></tr><tr><td>test_loss</td><td>0.03749</td></tr><tr><td>train_accuracy</td><td>0.24851</td></tr><tr><td>train_loss</td><td>0.08119</td></tr></table><br/></div></div>"
            ]
          },
          "metadata": {}
        },
        {
          "output_type": "display_data",
          "data": {
            "text/plain": [
              "<IPython.core.display.HTML object>"
            ],
            "text/html": [
              " View run <strong style=\"color:#cdcd00\">flowing-sweep-17</strong> at: <a href='https://wandb.ai/ba-865/project%20LSTM/runs/tmwwtzhg' target=\"_blank\">https://wandb.ai/ba-865/project%20LSTM/runs/tmwwtzhg</a><br/> View project at: <a href='https://wandb.ai/ba-865/project%20LSTM' target=\"_blank\">https://wandb.ai/ba-865/project%20LSTM</a><br/>Synced 4 W&B file(s), 0 media file(s), 0 artifact file(s) and 0 other file(s)"
            ]
          },
          "metadata": {}
        },
        {
          "output_type": "display_data",
          "data": {
            "text/plain": [
              "<IPython.core.display.HTML object>"
            ],
            "text/html": [
              "Find logs at: <code>./wandb/run-20240425_180407-tmwwtzhg/logs</code>"
            ]
          },
          "metadata": {}
        },
        {
          "output_type": "stream",
          "name": "stderr",
          "text": [
            "\u001b[34m\u001b[1mwandb\u001b[0m: Agent Starting Run: 7auxvxd0 with config:\n",
            "\u001b[34m\u001b[1mwandb\u001b[0m: \tepochs: 50\n",
            "\u001b[34m\u001b[1mwandb\u001b[0m: \tlearning_rate: 0.001\n",
            "\u001b[34m\u001b[1mwandb\u001b[0m: \tmomentum: 0.95\n"
          ]
        },
        {
          "output_type": "display_data",
          "data": {
            "text/plain": [
              "<IPython.core.display.HTML object>"
            ],
            "text/html": [
              "Tracking run with wandb version 0.16.6"
            ]
          },
          "metadata": {}
        },
        {
          "output_type": "display_data",
          "data": {
            "text/plain": [
              "<IPython.core.display.HTML object>"
            ],
            "text/html": [
              "Run data is saved locally in <code>/content/wandb/run-20240425_180438-7auxvxd0</code>"
            ]
          },
          "metadata": {}
        },
        {
          "output_type": "display_data",
          "data": {
            "text/plain": [
              "<IPython.core.display.HTML object>"
            ],
            "text/html": [
              "Syncing run <strong><a href='https://wandb.ai/ba-865/project%20LSTM/runs/7auxvxd0' target=\"_blank\">wise-sweep-18</a></strong> to <a href='https://wandb.ai/ba-865/project%20LSTM' target=\"_blank\">Weights & Biases</a> (<a href='https://wandb.me/run' target=\"_blank\">docs</a>)<br/>Sweep page: <a href='https://wandb.ai/ba-865/project%20LSTM/sweeps/99jb6ut9' target=\"_blank\">https://wandb.ai/ba-865/project%20LSTM/sweeps/99jb6ut9</a>"
            ]
          },
          "metadata": {}
        },
        {
          "output_type": "display_data",
          "data": {
            "text/plain": [
              "<IPython.core.display.HTML object>"
            ],
            "text/html": [
              " View project at <a href='https://wandb.ai/ba-865/project%20LSTM' target=\"_blank\">https://wandb.ai/ba-865/project%20LSTM</a>"
            ]
          },
          "metadata": {}
        },
        {
          "output_type": "display_data",
          "data": {
            "text/plain": [
              "<IPython.core.display.HTML object>"
            ],
            "text/html": [
              " View sweep at <a href='https://wandb.ai/ba-865/project%20LSTM/sweeps/99jb6ut9' target=\"_blank\">https://wandb.ai/ba-865/project%20LSTM/sweeps/99jb6ut9</a>"
            ]
          },
          "metadata": {}
        },
        {
          "output_type": "display_data",
          "data": {
            "text/plain": [
              "<IPython.core.display.HTML object>"
            ],
            "text/html": [
              " View run at <a href='https://wandb.ai/ba-865/project%20LSTM/runs/7auxvxd0' target=\"_blank\">https://wandb.ai/ba-865/project%20LSTM/runs/7auxvxd0</a>"
            ]
          },
          "metadata": {}
        },
        {
          "output_type": "display_data",
          "data": {
            "text/plain": [
              "VBox(children=(Label(value='0.011 MB of 0.011 MB uploaded\\r'), FloatProgress(value=1.0, max=1.0)))"
            ],
            "application/vnd.jupyter.widget-view+json": {
              "version_major": 2,
              "version_minor": 0,
              "model_id": "68e63d9f3c6347c1b7d3191c34b422f8"
            }
          },
          "metadata": {}
        },
        {
          "output_type": "display_data",
          "data": {
            "text/plain": [
              "<IPython.core.display.HTML object>"
            ],
            "text/html": [
              "<style>\n",
              "    table.wandb td:nth-child(1) { padding: 0 10px; text-align: left ; width: auto;} td:nth-child(2) {text-align: left ; width: 100%}\n",
              "    .wandb-row { display: flex; flex-direction: row; flex-wrap: wrap; justify-content: flex-start; width: 100% }\n",
              "    .wandb-col { display: flex; flex-direction: column; flex-basis: 100%; flex: 1; padding: 10px; }\n",
              "    </style>\n",
              "<div class=\"wandb-row\"><div class=\"wandb-col\"><h3>Run history:</h3><br/><table class=\"wandb\"><tr><td>test_accuracy</td><td>▁▄▇█▆▅▃▃▄▅▆▆▆▆▅▄▄▄▅▅▆▆▆▅▄▄▄▅▅▅▅▅▅▅▅▅▅▅▅▅</td></tr><tr><td>test_loss</td><td>▁▄▇█▆▅▃▃▄▅▆▆▆▆▅▄▄▄▅▅▆▆▆▅▄▄▄▅▅▅▅▅▅▅▅▅▅▅▅▅</td></tr><tr><td>train_accuracy</td><td>▃█▅▂▁▂▄▅▆▅▄▃▂▂▃▄▅▅▅▄▃▃▃▃▄▄▄▄▄▃▃▃▄▄▄▄▄▄▃▃</td></tr><tr><td>train_loss</td><td>▁█▁▃▄▂▁▂▃▂▁▁▂▂▁▁▂▂▁▁▁▁▁▁▁▁▁▁▁▁▁▁▁▁▁▁▁▁▁▁</td></tr></table><br/></div><div class=\"wandb-col\"><h3>Run summary:</h3><br/><table class=\"wandb\"><tr><td>test_accuracy</td><td>0.1493</td></tr><tr><td>test_loss</td><td>0.03746</td></tr><tr><td>train_accuracy</td><td>0.24852</td></tr><tr><td>train_loss</td><td>0.08119</td></tr></table><br/></div></div>"
            ]
          },
          "metadata": {}
        },
        {
          "output_type": "display_data",
          "data": {
            "text/plain": [
              "<IPython.core.display.HTML object>"
            ],
            "text/html": [
              " View run <strong style=\"color:#cdcd00\">wise-sweep-18</strong> at: <a href='https://wandb.ai/ba-865/project%20LSTM/runs/7auxvxd0' target=\"_blank\">https://wandb.ai/ba-865/project%20LSTM/runs/7auxvxd0</a><br/> View project at: <a href='https://wandb.ai/ba-865/project%20LSTM' target=\"_blank\">https://wandb.ai/ba-865/project%20LSTM</a><br/>Synced 4 W&B file(s), 0 media file(s), 0 artifact file(s) and 0 other file(s)"
            ]
          },
          "metadata": {}
        },
        {
          "output_type": "display_data",
          "data": {
            "text/plain": [
              "<IPython.core.display.HTML object>"
            ],
            "text/html": [
              "Find logs at: <code>./wandb/run-20240425_180438-7auxvxd0/logs</code>"
            ]
          },
          "metadata": {}
        },
        {
          "output_type": "stream",
          "name": "stderr",
          "text": [
            "\u001b[34m\u001b[1mwandb\u001b[0m: Agent Starting Run: cqj4c77j with config:\n",
            "\u001b[34m\u001b[1mwandb\u001b[0m: \tepochs: 100\n",
            "\u001b[34m\u001b[1mwandb\u001b[0m: \tlearning_rate: 0.1\n",
            "\u001b[34m\u001b[1mwandb\u001b[0m: \tmomentum: 0.85\n"
          ]
        },
        {
          "output_type": "display_data",
          "data": {
            "text/plain": [
              "<IPython.core.display.HTML object>"
            ],
            "text/html": [
              "Tracking run with wandb version 0.16.6"
            ]
          },
          "metadata": {}
        },
        {
          "output_type": "display_data",
          "data": {
            "text/plain": [
              "<IPython.core.display.HTML object>"
            ],
            "text/html": [
              "Run data is saved locally in <code>/content/wandb/run-20240425_180508-cqj4c77j</code>"
            ]
          },
          "metadata": {}
        },
        {
          "output_type": "display_data",
          "data": {
            "text/plain": [
              "<IPython.core.display.HTML object>"
            ],
            "text/html": [
              "Syncing run <strong><a href='https://wandb.ai/ba-865/project%20LSTM/runs/cqj4c77j' target=\"_blank\">earthy-sweep-19</a></strong> to <a href='https://wandb.ai/ba-865/project%20LSTM' target=\"_blank\">Weights & Biases</a> (<a href='https://wandb.me/run' target=\"_blank\">docs</a>)<br/>Sweep page: <a href='https://wandb.ai/ba-865/project%20LSTM/sweeps/99jb6ut9' target=\"_blank\">https://wandb.ai/ba-865/project%20LSTM/sweeps/99jb6ut9</a>"
            ]
          },
          "metadata": {}
        },
        {
          "output_type": "display_data",
          "data": {
            "text/plain": [
              "<IPython.core.display.HTML object>"
            ],
            "text/html": [
              " View project at <a href='https://wandb.ai/ba-865/project%20LSTM' target=\"_blank\">https://wandb.ai/ba-865/project%20LSTM</a>"
            ]
          },
          "metadata": {}
        },
        {
          "output_type": "display_data",
          "data": {
            "text/plain": [
              "<IPython.core.display.HTML object>"
            ],
            "text/html": [
              " View sweep at <a href='https://wandb.ai/ba-865/project%20LSTM/sweeps/99jb6ut9' target=\"_blank\">https://wandb.ai/ba-865/project%20LSTM/sweeps/99jb6ut9</a>"
            ]
          },
          "metadata": {}
        },
        {
          "output_type": "display_data",
          "data": {
            "text/plain": [
              "<IPython.core.display.HTML object>"
            ],
            "text/html": [
              " View run at <a href='https://wandb.ai/ba-865/project%20LSTM/runs/cqj4c77j' target=\"_blank\">https://wandb.ai/ba-865/project%20LSTM/runs/cqj4c77j</a>"
            ]
          },
          "metadata": {}
        },
        {
          "output_type": "display_data",
          "data": {
            "text/plain": [
              "VBox(children=(Label(value='0.011 MB of 0.011 MB uploaded\\r'), FloatProgress(value=1.0, max=1.0)))"
            ],
            "application/vnd.jupyter.widget-view+json": {
              "version_major": 2,
              "version_minor": 0,
              "model_id": "9f469db0a7da4bccae74b5c91ed30653"
            }
          },
          "metadata": {}
        },
        {
          "output_type": "display_data",
          "data": {
            "text/plain": [
              "<IPython.core.display.HTML object>"
            ],
            "text/html": [
              "<style>\n",
              "    table.wandb td:nth-child(1) { padding: 0 10px; text-align: left ; width: auto;} td:nth-child(2) {text-align: left ; width: 100%}\n",
              "    .wandb-row { display: flex; flex-direction: row; flex-wrap: wrap; justify-content: flex-start; width: 100% }\n",
              "    .wandb-col { display: flex; flex-direction: column; flex-basis: 100%; flex: 1; padding: 10px; }\n",
              "    </style>\n",
              "<div class=\"wandb-row\"><div class=\"wandb-col\"><h3>Run history:</h3><br/><table class=\"wandb\"><tr><td>test_accuracy</td><td>▇█▆▁▁▃▆▃▁▁▄▄▁▁▂▃▂▁▂▂▂▁▂▂▂▂▂▂▂▂▂▂▂▂▂▂▂▂▂▂</td></tr><tr><td>test_loss</td><td>▇█▆▁▁▃▆▃▁▁▄▄▂▁▂▃▂▂▂▃▂▂▂▂▂▂▂▂▂▂▂▂▂▂▂▂▂▂▂▂</td></tr><tr><td>train_accuracy</td><td>▁▄▆▂█▂▂▁▃▄▁▁▁▃▂▁▁▂▂▁▁▂▂▁▁▂▁▁▁▂▁▁▁▁▁▁▁▁▁▁</td></tr><tr><td>train_loss</td><td>▁▂█▁▅▁▃▂▂▂▁▂▁▁▁▁▁▁▁▁▁▁▁▁▁▁▁▁▁▁▁▁▁▁▁▁▁▁▁▁</td></tr></table><br/></div><div class=\"wandb-col\"><h3>Run summary:</h3><br/><table class=\"wandb\"><tr><td>test_accuracy</td><td>0.14838</td></tr><tr><td>test_loss</td><td>0.03699</td></tr><tr><td>train_accuracy</td><td>0.24872</td></tr><tr><td>train_loss</td><td>0.0812</td></tr></table><br/></div></div>"
            ]
          },
          "metadata": {}
        },
        {
          "output_type": "display_data",
          "data": {
            "text/plain": [
              "<IPython.core.display.HTML object>"
            ],
            "text/html": [
              " View run <strong style=\"color:#cdcd00\">earthy-sweep-19</strong> at: <a href='https://wandb.ai/ba-865/project%20LSTM/runs/cqj4c77j' target=\"_blank\">https://wandb.ai/ba-865/project%20LSTM/runs/cqj4c77j</a><br/> View project at: <a href='https://wandb.ai/ba-865/project%20LSTM' target=\"_blank\">https://wandb.ai/ba-865/project%20LSTM</a><br/>Synced 4 W&B file(s), 0 media file(s), 0 artifact file(s) and 0 other file(s)"
            ]
          },
          "metadata": {}
        },
        {
          "output_type": "display_data",
          "data": {
            "text/plain": [
              "<IPython.core.display.HTML object>"
            ],
            "text/html": [
              "Find logs at: <code>./wandb/run-20240425_180508-cqj4c77j/logs</code>"
            ]
          },
          "metadata": {}
        },
        {
          "output_type": "stream",
          "name": "stderr",
          "text": [
            "\u001b[34m\u001b[1mwandb\u001b[0m: Agent Starting Run: ff08wh7n with config:\n",
            "\u001b[34m\u001b[1mwandb\u001b[0m: \tepochs: 100\n",
            "\u001b[34m\u001b[1mwandb\u001b[0m: \tlearning_rate: 0.1\n",
            "\u001b[34m\u001b[1mwandb\u001b[0m: \tmomentum: 0.9\n"
          ]
        },
        {
          "output_type": "display_data",
          "data": {
            "text/plain": [
              "<IPython.core.display.HTML object>"
            ],
            "text/html": [
              "Tracking run with wandb version 0.16.6"
            ]
          },
          "metadata": {}
        },
        {
          "output_type": "display_data",
          "data": {
            "text/plain": [
              "<IPython.core.display.HTML object>"
            ],
            "text/html": [
              "Run data is saved locally in <code>/content/wandb/run-20240425_180554-ff08wh7n</code>"
            ]
          },
          "metadata": {}
        },
        {
          "output_type": "display_data",
          "data": {
            "text/plain": [
              "<IPython.core.display.HTML object>"
            ],
            "text/html": [
              "Syncing run <strong><a href='https://wandb.ai/ba-865/project%20LSTM/runs/ff08wh7n' target=\"_blank\">glorious-sweep-20</a></strong> to <a href='https://wandb.ai/ba-865/project%20LSTM' target=\"_blank\">Weights & Biases</a> (<a href='https://wandb.me/run' target=\"_blank\">docs</a>)<br/>Sweep page: <a href='https://wandb.ai/ba-865/project%20LSTM/sweeps/99jb6ut9' target=\"_blank\">https://wandb.ai/ba-865/project%20LSTM/sweeps/99jb6ut9</a>"
            ]
          },
          "metadata": {}
        },
        {
          "output_type": "display_data",
          "data": {
            "text/plain": [
              "<IPython.core.display.HTML object>"
            ],
            "text/html": [
              " View project at <a href='https://wandb.ai/ba-865/project%20LSTM' target=\"_blank\">https://wandb.ai/ba-865/project%20LSTM</a>"
            ]
          },
          "metadata": {}
        },
        {
          "output_type": "display_data",
          "data": {
            "text/plain": [
              "<IPython.core.display.HTML object>"
            ],
            "text/html": [
              " View sweep at <a href='https://wandb.ai/ba-865/project%20LSTM/sweeps/99jb6ut9' target=\"_blank\">https://wandb.ai/ba-865/project%20LSTM/sweeps/99jb6ut9</a>"
            ]
          },
          "metadata": {}
        },
        {
          "output_type": "display_data",
          "data": {
            "text/plain": [
              "<IPython.core.display.HTML object>"
            ],
            "text/html": [
              " View run at <a href='https://wandb.ai/ba-865/project%20LSTM/runs/ff08wh7n' target=\"_blank\">https://wandb.ai/ba-865/project%20LSTM/runs/ff08wh7n</a>"
            ]
          },
          "metadata": {}
        },
        {
          "output_type": "display_data",
          "data": {
            "text/plain": [
              "VBox(children=(Label(value='0.011 MB of 0.011 MB uploaded\\r'), FloatProgress(value=1.0, max=1.0)))"
            ],
            "application/vnd.jupyter.widget-view+json": {
              "version_major": 2,
              "version_minor": 0,
              "model_id": "4a4e1e024d0940b49b9083c3fcd66942"
            }
          },
          "metadata": {}
        },
        {
          "output_type": "display_data",
          "data": {
            "text/plain": [
              "<IPython.core.display.HTML object>"
            ],
            "text/html": [
              "<style>\n",
              "    table.wandb td:nth-child(1) { padding: 0 10px; text-align: left ; width: auto;} td:nth-child(2) {text-align: left ; width: 100%}\n",
              "    .wandb-row { display: flex; flex-direction: row; flex-wrap: wrap; justify-content: flex-start; width: 100% }\n",
              "    .wandb-col { display: flex; flex-direction: column; flex-basis: 100%; flex: 1; padding: 10px; }\n",
              "    </style>\n",
              "<div class=\"wandb-row\"><div class=\"wandb-col\"><h3>Run history:</h3><br/><table class=\"wandb\"><tr><td>test_accuracy</td><td>█▁▁▃▃▁▁▁▃▂▁▁▂▂▁▁▁▂▁▁▁▂▁▁▁▁▁▁▁▁▁▁▁▁▁▁▁▁▁▁</td></tr><tr><td>test_loss</td><td>█▁▁▃▃▁▁▁▂▂▁▁▂▂▁▁▁▂▁▁▁▂▁▁▁▁▁▁▁▁▁▁▁▁▁▁▁▁▁▁</td></tr><tr><td>train_accuracy</td><td>▁▁█▁▃▁▄▃▁▁▂▃▁▁▁▂▂▁▁▂▂▁▁▁▁▁▁▁▁▁▁▁▁▁▁▁▁▁▁▁</td></tr><tr><td>train_loss</td><td>▁▂█▁▅▁▃▂▂▂▁▂▁▁▁▁▁▁▁▁▁▁▁▁▁▁▁▁▁▁▁▁▁▁▁▁▁▁▁▁</td></tr></table><br/></div><div class=\"wandb-col\"><h3>Run summary:</h3><br/><table class=\"wandb\"><tr><td>test_accuracy</td><td>0.15015</td></tr><tr><td>test_loss</td><td>0.0379</td></tr><tr><td>train_accuracy</td><td>0.24834</td></tr><tr><td>train_loss</td><td>0.0812</td></tr></table><br/></div></div>"
            ]
          },
          "metadata": {}
        },
        {
          "output_type": "display_data",
          "data": {
            "text/plain": [
              "<IPython.core.display.HTML object>"
            ],
            "text/html": [
              " View run <strong style=\"color:#cdcd00\">glorious-sweep-20</strong> at: <a href='https://wandb.ai/ba-865/project%20LSTM/runs/ff08wh7n' target=\"_blank\">https://wandb.ai/ba-865/project%20LSTM/runs/ff08wh7n</a><br/> View project at: <a href='https://wandb.ai/ba-865/project%20LSTM' target=\"_blank\">https://wandb.ai/ba-865/project%20LSTM</a><br/>Synced 4 W&B file(s), 0 media file(s), 0 artifact file(s) and 0 other file(s)"
            ]
          },
          "metadata": {}
        },
        {
          "output_type": "display_data",
          "data": {
            "text/plain": [
              "<IPython.core.display.HTML object>"
            ],
            "text/html": [
              "Find logs at: <code>./wandb/run-20240425_180554-ff08wh7n/logs</code>"
            ]
          },
          "metadata": {}
        },
        {
          "output_type": "stream",
          "name": "stderr",
          "text": [
            "\u001b[34m\u001b[1mwandb\u001b[0m: Agent Starting Run: qxhn2duf with config:\n",
            "\u001b[34m\u001b[1mwandb\u001b[0m: \tepochs: 100\n",
            "\u001b[34m\u001b[1mwandb\u001b[0m: \tlearning_rate: 0.1\n",
            "\u001b[34m\u001b[1mwandb\u001b[0m: \tmomentum: 0.95\n"
          ]
        },
        {
          "output_type": "display_data",
          "data": {
            "text/plain": [
              "<IPython.core.display.HTML object>"
            ],
            "text/html": [
              "Tracking run with wandb version 0.16.6"
            ]
          },
          "metadata": {}
        },
        {
          "output_type": "display_data",
          "data": {
            "text/plain": [
              "<IPython.core.display.HTML object>"
            ],
            "text/html": [
              "Run data is saved locally in <code>/content/wandb/run-20240425_180640-qxhn2duf</code>"
            ]
          },
          "metadata": {}
        },
        {
          "output_type": "display_data",
          "data": {
            "text/plain": [
              "<IPython.core.display.HTML object>"
            ],
            "text/html": [
              "Syncing run <strong><a href='https://wandb.ai/ba-865/project%20LSTM/runs/qxhn2duf' target=\"_blank\">peach-sweep-21</a></strong> to <a href='https://wandb.ai/ba-865/project%20LSTM' target=\"_blank\">Weights & Biases</a> (<a href='https://wandb.me/run' target=\"_blank\">docs</a>)<br/>Sweep page: <a href='https://wandb.ai/ba-865/project%20LSTM/sweeps/99jb6ut9' target=\"_blank\">https://wandb.ai/ba-865/project%20LSTM/sweeps/99jb6ut9</a>"
            ]
          },
          "metadata": {}
        },
        {
          "output_type": "display_data",
          "data": {
            "text/plain": [
              "<IPython.core.display.HTML object>"
            ],
            "text/html": [
              " View project at <a href='https://wandb.ai/ba-865/project%20LSTM' target=\"_blank\">https://wandb.ai/ba-865/project%20LSTM</a>"
            ]
          },
          "metadata": {}
        },
        {
          "output_type": "display_data",
          "data": {
            "text/plain": [
              "<IPython.core.display.HTML object>"
            ],
            "text/html": [
              " View sweep at <a href='https://wandb.ai/ba-865/project%20LSTM/sweeps/99jb6ut9' target=\"_blank\">https://wandb.ai/ba-865/project%20LSTM/sweeps/99jb6ut9</a>"
            ]
          },
          "metadata": {}
        },
        {
          "output_type": "display_data",
          "data": {
            "text/plain": [
              "<IPython.core.display.HTML object>"
            ],
            "text/html": [
              " View run at <a href='https://wandb.ai/ba-865/project%20LSTM/runs/qxhn2duf' target=\"_blank\">https://wandb.ai/ba-865/project%20LSTM/runs/qxhn2duf</a>"
            ]
          },
          "metadata": {}
        },
        {
          "output_type": "display_data",
          "data": {
            "text/plain": [
              "VBox(children=(Label(value='0.011 MB of 0.011 MB uploaded\\r'), FloatProgress(value=1.0, max=1.0)))"
            ],
            "application/vnd.jupyter.widget-view+json": {
              "version_major": 2,
              "version_minor": 0,
              "model_id": "06eeba58e20d46e68f37beac75048fe2"
            }
          },
          "metadata": {}
        },
        {
          "output_type": "display_data",
          "data": {
            "text/plain": [
              "<IPython.core.display.HTML object>"
            ],
            "text/html": [
              "<style>\n",
              "    table.wandb td:nth-child(1) { padding: 0 10px; text-align: left ; width: auto;} td:nth-child(2) {text-align: left ; width: 100%}\n",
              "    .wandb-row { display: flex; flex-direction: row; flex-wrap: wrap; justify-content: flex-start; width: 100% }\n",
              "    .wandb-col { display: flex; flex-direction: column; flex-basis: 100%; flex: 1; padding: 10px; }\n",
              "    </style>\n",
              "<div class=\"wandb-row\"><div class=\"wandb-col\"><h3>Run history:</h3><br/><table class=\"wandb\"><tr><td>test_accuracy</td><td>▇█▆▁▁▃▆▂▁▁▄▄▁▁▂▃▂▁▂▂▂▁▂▂▂▂▂▂▂▂▂▂▂▂▂▂▂▂▂▂</td></tr><tr><td>test_loss</td><td>▇█▆▁▁▃▆▃▁▁▄▄▂▁▂▃▂▂▂▃▂▂▂▂▂▂▂▂▂▂▂▂▂▂▂▂▂▂▂▂</td></tr><tr><td>train_accuracy</td><td>▁▄▆▂█▂▂▁▃▄▁▁▁▃▂▁▁▂▂▁▁▂▂▁▁▂▁▁▁▂▁▁▁▁▁▁▁▁▁▁</td></tr><tr><td>train_loss</td><td>▁▂█▁▅▁▃▂▂▂▁▂▁▁▁▁▁▁▁▁▁▁▁▁▁▁▁▁▁▁▁▁▁▁▁▁▁▁▁▁</td></tr></table><br/></div><div class=\"wandb-col\"><h3>Run summary:</h3><br/><table class=\"wandb\"><tr><td>test_accuracy</td><td>0.14842</td></tr><tr><td>test_loss</td><td>0.03701</td></tr><tr><td>train_accuracy</td><td>0.24874</td></tr><tr><td>train_loss</td><td>0.0812</td></tr></table><br/></div></div>"
            ]
          },
          "metadata": {}
        },
        {
          "output_type": "display_data",
          "data": {
            "text/plain": [
              "<IPython.core.display.HTML object>"
            ],
            "text/html": [
              " View run <strong style=\"color:#cdcd00\">peach-sweep-21</strong> at: <a href='https://wandb.ai/ba-865/project%20LSTM/runs/qxhn2duf' target=\"_blank\">https://wandb.ai/ba-865/project%20LSTM/runs/qxhn2duf</a><br/> View project at: <a href='https://wandb.ai/ba-865/project%20LSTM' target=\"_blank\">https://wandb.ai/ba-865/project%20LSTM</a><br/>Synced 4 W&B file(s), 0 media file(s), 0 artifact file(s) and 0 other file(s)"
            ]
          },
          "metadata": {}
        },
        {
          "output_type": "display_data",
          "data": {
            "text/plain": [
              "<IPython.core.display.HTML object>"
            ],
            "text/html": [
              "Find logs at: <code>./wandb/run-20240425_180640-qxhn2duf/logs</code>"
            ]
          },
          "metadata": {}
        },
        {
          "output_type": "stream",
          "name": "stderr",
          "text": [
            "\u001b[34m\u001b[1mwandb\u001b[0m: Agent Starting Run: 5xwzbfl1 with config:\n",
            "\u001b[34m\u001b[1mwandb\u001b[0m: \tepochs: 100\n",
            "\u001b[34m\u001b[1mwandb\u001b[0m: \tlearning_rate: 0.01\n",
            "\u001b[34m\u001b[1mwandb\u001b[0m: \tmomentum: 0.85\n"
          ]
        },
        {
          "output_type": "display_data",
          "data": {
            "text/plain": [
              "<IPython.core.display.HTML object>"
            ],
            "text/html": [
              "Tracking run with wandb version 0.16.6"
            ]
          },
          "metadata": {}
        },
        {
          "output_type": "display_data",
          "data": {
            "text/plain": [
              "<IPython.core.display.HTML object>"
            ],
            "text/html": [
              "Run data is saved locally in <code>/content/wandb/run-20240425_180726-5xwzbfl1</code>"
            ]
          },
          "metadata": {}
        },
        {
          "output_type": "display_data",
          "data": {
            "text/plain": [
              "<IPython.core.display.HTML object>"
            ],
            "text/html": [
              "Syncing run <strong><a href='https://wandb.ai/ba-865/project%20LSTM/runs/5xwzbfl1' target=\"_blank\">leafy-sweep-22</a></strong> to <a href='https://wandb.ai/ba-865/project%20LSTM' target=\"_blank\">Weights & Biases</a> (<a href='https://wandb.me/run' target=\"_blank\">docs</a>)<br/>Sweep page: <a href='https://wandb.ai/ba-865/project%20LSTM/sweeps/99jb6ut9' target=\"_blank\">https://wandb.ai/ba-865/project%20LSTM/sweeps/99jb6ut9</a>"
            ]
          },
          "metadata": {}
        },
        {
          "output_type": "display_data",
          "data": {
            "text/plain": [
              "<IPython.core.display.HTML object>"
            ],
            "text/html": [
              " View project at <a href='https://wandb.ai/ba-865/project%20LSTM' target=\"_blank\">https://wandb.ai/ba-865/project%20LSTM</a>"
            ]
          },
          "metadata": {}
        },
        {
          "output_type": "display_data",
          "data": {
            "text/plain": [
              "<IPython.core.display.HTML object>"
            ],
            "text/html": [
              " View sweep at <a href='https://wandb.ai/ba-865/project%20LSTM/sweeps/99jb6ut9' target=\"_blank\">https://wandb.ai/ba-865/project%20LSTM/sweeps/99jb6ut9</a>"
            ]
          },
          "metadata": {}
        },
        {
          "output_type": "display_data",
          "data": {
            "text/plain": [
              "<IPython.core.display.HTML object>"
            ],
            "text/html": [
              " View run at <a href='https://wandb.ai/ba-865/project%20LSTM/runs/5xwzbfl1' target=\"_blank\">https://wandb.ai/ba-865/project%20LSTM/runs/5xwzbfl1</a>"
            ]
          },
          "metadata": {}
        },
        {
          "output_type": "display_data",
          "data": {
            "text/plain": [
              "VBox(children=(Label(value='0.011 MB of 0.011 MB uploaded\\r'), FloatProgress(value=1.0, max=1.0)))"
            ],
            "application/vnd.jupyter.widget-view+json": {
              "version_major": 2,
              "version_minor": 0,
              "model_id": "b99db5bb36c74cafab59771bf44b6d22"
            }
          },
          "metadata": {}
        },
        {
          "output_type": "display_data",
          "data": {
            "text/plain": [
              "<IPython.core.display.HTML object>"
            ],
            "text/html": [
              "<style>\n",
              "    table.wandb td:nth-child(1) { padding: 0 10px; text-align: left ; width: auto;} td:nth-child(2) {text-align: left ; width: 100%}\n",
              "    .wandb-row { display: flex; flex-direction: row; flex-wrap: wrap; justify-content: flex-start; width: 100% }\n",
              "    .wandb-col { display: flex; flex-direction: column; flex-basis: 100%; flex: 1; padding: 10px; }\n",
              "    </style>\n",
              "<div class=\"wandb-row\"><div class=\"wandb-col\"><h3>Run history:</h3><br/><table class=\"wandb\"><tr><td>test_accuracy</td><td>█▁▂▅▄▂▂▃▄▃▂▂▄▃▂▃▃▃▃▃▃▃▃▃▃▃▃▃▃▃▃▃▃▃▃▃▃▃▃▃</td></tr><tr><td>test_loss</td><td>█▁▂▅▄▂▂▃▄▃▂▂▄▃▂▃▃▃▃▃▃▃▃▃▃▃▃▃▃▃▃▃▃▃▃▃▃▃▃▃</td></tr><tr><td>train_accuracy</td><td>▄▂█▃▁▃▆▅▂▂▅▅▃▃▄▄▄▃▄▄▄▃▄▄▄▃▄▄▃▄▄▄▄▄▄▄▄▄▄▄</td></tr><tr><td>train_loss</td><td>▁▂█▁▅▁▄▂▂▂▁▂▁▁▁▁▁▁▁▁▁▁▁▁▁▁▁▁▁▁▁▁▁▁▁▁▁▁▁▁</td></tr></table><br/></div><div class=\"wandb-col\"><h3>Run summary:</h3><br/><table class=\"wandb\"><tr><td>test_accuracy</td><td>0.14924</td></tr><tr><td>test_loss</td><td>0.03743</td></tr><tr><td>train_accuracy</td><td>0.24854</td></tr><tr><td>train_loss</td><td>0.08119</td></tr></table><br/></div></div>"
            ]
          },
          "metadata": {}
        },
        {
          "output_type": "display_data",
          "data": {
            "text/plain": [
              "<IPython.core.display.HTML object>"
            ],
            "text/html": [
              " View run <strong style=\"color:#cdcd00\">leafy-sweep-22</strong> at: <a href='https://wandb.ai/ba-865/project%20LSTM/runs/5xwzbfl1' target=\"_blank\">https://wandb.ai/ba-865/project%20LSTM/runs/5xwzbfl1</a><br/> View project at: <a href='https://wandb.ai/ba-865/project%20LSTM' target=\"_blank\">https://wandb.ai/ba-865/project%20LSTM</a><br/>Synced 4 W&B file(s), 0 media file(s), 0 artifact file(s) and 0 other file(s)"
            ]
          },
          "metadata": {}
        },
        {
          "output_type": "display_data",
          "data": {
            "text/plain": [
              "<IPython.core.display.HTML object>"
            ],
            "text/html": [
              "Find logs at: <code>./wandb/run-20240425_180726-5xwzbfl1/logs</code>"
            ]
          },
          "metadata": {}
        },
        {
          "output_type": "stream",
          "name": "stderr",
          "text": [
            "\u001b[34m\u001b[1mwandb\u001b[0m: Agent Starting Run: uu2paxig with config:\n",
            "\u001b[34m\u001b[1mwandb\u001b[0m: \tepochs: 100\n",
            "\u001b[34m\u001b[1mwandb\u001b[0m: \tlearning_rate: 0.01\n",
            "\u001b[34m\u001b[1mwandb\u001b[0m: \tmomentum: 0.9\n"
          ]
        },
        {
          "output_type": "display_data",
          "data": {
            "text/plain": [
              "<IPython.core.display.HTML object>"
            ],
            "text/html": [
              "Tracking run with wandb version 0.16.6"
            ]
          },
          "metadata": {}
        },
        {
          "output_type": "display_data",
          "data": {
            "text/plain": [
              "<IPython.core.display.HTML object>"
            ],
            "text/html": [
              "Run data is saved locally in <code>/content/wandb/run-20240425_180812-uu2paxig</code>"
            ]
          },
          "metadata": {}
        },
        {
          "output_type": "display_data",
          "data": {
            "text/plain": [
              "<IPython.core.display.HTML object>"
            ],
            "text/html": [
              "Syncing run <strong><a href='https://wandb.ai/ba-865/project%20LSTM/runs/uu2paxig' target=\"_blank\">curious-sweep-23</a></strong> to <a href='https://wandb.ai/ba-865/project%20LSTM' target=\"_blank\">Weights & Biases</a> (<a href='https://wandb.me/run' target=\"_blank\">docs</a>)<br/>Sweep page: <a href='https://wandb.ai/ba-865/project%20LSTM/sweeps/99jb6ut9' target=\"_blank\">https://wandb.ai/ba-865/project%20LSTM/sweeps/99jb6ut9</a>"
            ]
          },
          "metadata": {}
        },
        {
          "output_type": "display_data",
          "data": {
            "text/plain": [
              "<IPython.core.display.HTML object>"
            ],
            "text/html": [
              " View project at <a href='https://wandb.ai/ba-865/project%20LSTM' target=\"_blank\">https://wandb.ai/ba-865/project%20LSTM</a>"
            ]
          },
          "metadata": {}
        },
        {
          "output_type": "display_data",
          "data": {
            "text/plain": [
              "<IPython.core.display.HTML object>"
            ],
            "text/html": [
              " View sweep at <a href='https://wandb.ai/ba-865/project%20LSTM/sweeps/99jb6ut9' target=\"_blank\">https://wandb.ai/ba-865/project%20LSTM/sweeps/99jb6ut9</a>"
            ]
          },
          "metadata": {}
        },
        {
          "output_type": "display_data",
          "data": {
            "text/plain": [
              "<IPython.core.display.HTML object>"
            ],
            "text/html": [
              " View run at <a href='https://wandb.ai/ba-865/project%20LSTM/runs/uu2paxig' target=\"_blank\">https://wandb.ai/ba-865/project%20LSTM/runs/uu2paxig</a>"
            ]
          },
          "metadata": {}
        },
        {
          "output_type": "display_data",
          "data": {
            "text/plain": [
              "VBox(children=(Label(value='0.011 MB of 0.011 MB uploaded\\r'), FloatProgress(value=1.0, max=1.0)))"
            ],
            "application/vnd.jupyter.widget-view+json": {
              "version_major": 2,
              "version_minor": 0,
              "model_id": "0a8cc6219ea04772977209a62b0e2dd6"
            }
          },
          "metadata": {}
        },
        {
          "output_type": "display_data",
          "data": {
            "text/plain": [
              "<IPython.core.display.HTML object>"
            ],
            "text/html": [
              "<style>\n",
              "    table.wandb td:nth-child(1) { padding: 0 10px; text-align: left ; width: auto;} td:nth-child(2) {text-align: left ; width: 100%}\n",
              "    .wandb-row { display: flex; flex-direction: row; flex-wrap: wrap; justify-content: flex-start; width: 100% }\n",
              "    .wandb-col { display: flex; flex-direction: column; flex-basis: 100%; flex: 1; padding: 10px; }\n",
              "    </style>\n",
              "<div class=\"wandb-row\"><div class=\"wandb-col\"><h3>Run history:</h3><br/><table class=\"wandb\"><tr><td>test_accuracy</td><td>█▁▁▄▅▂▁▂▄▄▂▂▃▃▃▂▃▃▃▃▃▃▃▃▃▃▃▃▃▃▃▃▃▃▃▃▃▃▃▃</td></tr><tr><td>test_loss</td><td>█▁▁▄▅▂▁▂▄▄▂▂▃▃▃▂▃▃▃▃▃▃▃▃▃▃▃▃▃▃▃▃▃▃▃▃▃▃▃▃</td></tr><tr><td>train_accuracy</td><td>▄▂█▃▁▃▆▅▂▂▄▅▄▃▃▄▄▃▃▄▄▃▃▄▄▃▄▄▄▃▄▄▄▄▄▄▄▄▄▄</td></tr><tr><td>train_loss</td><td>▁▂█▁▅▁▃▂▂▂▁▂▁▁▁▁▁▁▁▁▁▁▁▁▁▁▁▁▁▁▁▁▁▁▁▁▁▁▁▁</td></tr></table><br/></div><div class=\"wandb-col\"><h3>Run summary:</h3><br/><table class=\"wandb\"><tr><td>test_accuracy</td><td>0.14937</td></tr><tr><td>test_loss</td><td>0.0375</td></tr><tr><td>train_accuracy</td><td>0.24852</td></tr><tr><td>train_loss</td><td>0.08119</td></tr></table><br/></div></div>"
            ]
          },
          "metadata": {}
        },
        {
          "output_type": "display_data",
          "data": {
            "text/plain": [
              "<IPython.core.display.HTML object>"
            ],
            "text/html": [
              " View run <strong style=\"color:#cdcd00\">curious-sweep-23</strong> at: <a href='https://wandb.ai/ba-865/project%20LSTM/runs/uu2paxig' target=\"_blank\">https://wandb.ai/ba-865/project%20LSTM/runs/uu2paxig</a><br/> View project at: <a href='https://wandb.ai/ba-865/project%20LSTM' target=\"_blank\">https://wandb.ai/ba-865/project%20LSTM</a><br/>Synced 4 W&B file(s), 0 media file(s), 0 artifact file(s) and 0 other file(s)"
            ]
          },
          "metadata": {}
        },
        {
          "output_type": "display_data",
          "data": {
            "text/plain": [
              "<IPython.core.display.HTML object>"
            ],
            "text/html": [
              "Find logs at: <code>./wandb/run-20240425_180812-uu2paxig/logs</code>"
            ]
          },
          "metadata": {}
        },
        {
          "output_type": "stream",
          "name": "stderr",
          "text": [
            "\u001b[34m\u001b[1mwandb\u001b[0m: Agent Starting Run: 7eq5qoan with config:\n",
            "\u001b[34m\u001b[1mwandb\u001b[0m: \tepochs: 100\n",
            "\u001b[34m\u001b[1mwandb\u001b[0m: \tlearning_rate: 0.01\n",
            "\u001b[34m\u001b[1mwandb\u001b[0m: \tmomentum: 0.95\n"
          ]
        },
        {
          "output_type": "display_data",
          "data": {
            "text/plain": [
              "<IPython.core.display.HTML object>"
            ],
            "text/html": [
              "Tracking run with wandb version 0.16.6"
            ]
          },
          "metadata": {}
        },
        {
          "output_type": "display_data",
          "data": {
            "text/plain": [
              "<IPython.core.display.HTML object>"
            ],
            "text/html": [
              "Run data is saved locally in <code>/content/wandb/run-20240425_180858-7eq5qoan</code>"
            ]
          },
          "metadata": {}
        },
        {
          "output_type": "display_data",
          "data": {
            "text/plain": [
              "<IPython.core.display.HTML object>"
            ],
            "text/html": [
              "Syncing run <strong><a href='https://wandb.ai/ba-865/project%20LSTM/runs/7eq5qoan' target=\"_blank\">radiant-sweep-24</a></strong> to <a href='https://wandb.ai/ba-865/project%20LSTM' target=\"_blank\">Weights & Biases</a> (<a href='https://wandb.me/run' target=\"_blank\">docs</a>)<br/>Sweep page: <a href='https://wandb.ai/ba-865/project%20LSTM/sweeps/99jb6ut9' target=\"_blank\">https://wandb.ai/ba-865/project%20LSTM/sweeps/99jb6ut9</a>"
            ]
          },
          "metadata": {}
        },
        {
          "output_type": "display_data",
          "data": {
            "text/plain": [
              "<IPython.core.display.HTML object>"
            ],
            "text/html": [
              " View project at <a href='https://wandb.ai/ba-865/project%20LSTM' target=\"_blank\">https://wandb.ai/ba-865/project%20LSTM</a>"
            ]
          },
          "metadata": {}
        },
        {
          "output_type": "display_data",
          "data": {
            "text/plain": [
              "<IPython.core.display.HTML object>"
            ],
            "text/html": [
              " View sweep at <a href='https://wandb.ai/ba-865/project%20LSTM/sweeps/99jb6ut9' target=\"_blank\">https://wandb.ai/ba-865/project%20LSTM/sweeps/99jb6ut9</a>"
            ]
          },
          "metadata": {}
        },
        {
          "output_type": "display_data",
          "data": {
            "text/plain": [
              "<IPython.core.display.HTML object>"
            ],
            "text/html": [
              " View run at <a href='https://wandb.ai/ba-865/project%20LSTM/runs/7eq5qoan' target=\"_blank\">https://wandb.ai/ba-865/project%20LSTM/runs/7eq5qoan</a>"
            ]
          },
          "metadata": {}
        },
        {
          "output_type": "display_data",
          "data": {
            "text/plain": [
              "VBox(children=(Label(value='0.011 MB of 0.011 MB uploaded\\r'), FloatProgress(value=1.0, max=1.0)))"
            ],
            "application/vnd.jupyter.widget-view+json": {
              "version_major": 2,
              "version_minor": 0,
              "model_id": "ff8b54c634d24629a2738b1789e10b8b"
            }
          },
          "metadata": {}
        },
        {
          "output_type": "display_data",
          "data": {
            "text/plain": [
              "<IPython.core.display.HTML object>"
            ],
            "text/html": [
              "<style>\n",
              "    table.wandb td:nth-child(1) { padding: 0 10px; text-align: left ; width: auto;} td:nth-child(2) {text-align: left ; width: 100%}\n",
              "    .wandb-row { display: flex; flex-direction: row; flex-wrap: wrap; justify-content: flex-start; width: 100% }\n",
              "    .wandb-col { display: flex; flex-direction: column; flex-basis: 100%; flex: 1; padding: 10px; }\n",
              "    </style>\n",
              "<div class=\"wandb-row\"><div class=\"wandb-col\"><h3>Run history:</h3><br/><table class=\"wandb\"><tr><td>test_accuracy</td><td>▁█▇▄▃▆▇▆▄▄▆▆▅▅▅▆▅▅▅▆▅▅▅▆▅▅▅▅▅▅▅▅▅▅▅▅▅▅▅▅</td></tr><tr><td>test_loss</td><td>▁█▇▄▄▆▇▆▄▅▆▆▅▅▆▆▅▅▅▆▅▅▅▆▅▅▅▆▅▅▅▅▅▅▅▅▅▅▅▅</td></tr><tr><td>train_accuracy</td><td>▄▆▁▅█▅▂▃▆▆▄▃▄▅▅▄▄▅▅▄▄▅▅▄▄▅▄▄▄▅▄▄▅▅▄▄▅▄▄▄</td></tr><tr><td>train_loss</td><td>▁▂█▁▅▁▃▂▂▂▁▂▁▁▁▁▁▁▁▁▁▁▁▁▁▁▁▁▁▁▁▁▁▁▁▁▁▁▁▁</td></tr></table><br/></div><div class=\"wandb-col\"><h3>Run summary:</h3><br/><table class=\"wandb\"><tr><td>test_accuracy</td><td>0.1492</td></tr><tr><td>test_loss</td><td>0.03741</td></tr><tr><td>train_accuracy</td><td>0.24856</td></tr><tr><td>train_loss</td><td>0.08119</td></tr></table><br/></div></div>"
            ]
          },
          "metadata": {}
        },
        {
          "output_type": "display_data",
          "data": {
            "text/plain": [
              "<IPython.core.display.HTML object>"
            ],
            "text/html": [
              " View run <strong style=\"color:#cdcd00\">radiant-sweep-24</strong> at: <a href='https://wandb.ai/ba-865/project%20LSTM/runs/7eq5qoan' target=\"_blank\">https://wandb.ai/ba-865/project%20LSTM/runs/7eq5qoan</a><br/> View project at: <a href='https://wandb.ai/ba-865/project%20LSTM' target=\"_blank\">https://wandb.ai/ba-865/project%20LSTM</a><br/>Synced 4 W&B file(s), 0 media file(s), 0 artifact file(s) and 0 other file(s)"
            ]
          },
          "metadata": {}
        },
        {
          "output_type": "display_data",
          "data": {
            "text/plain": [
              "<IPython.core.display.HTML object>"
            ],
            "text/html": [
              "Find logs at: <code>./wandb/run-20240425_180858-7eq5qoan/logs</code>"
            ]
          },
          "metadata": {}
        },
        {
          "output_type": "stream",
          "name": "stderr",
          "text": [
            "\u001b[34m\u001b[1mwandb\u001b[0m: Agent Starting Run: oukqwxpz with config:\n",
            "\u001b[34m\u001b[1mwandb\u001b[0m: \tepochs: 100\n",
            "\u001b[34m\u001b[1mwandb\u001b[0m: \tlearning_rate: 0.001\n",
            "\u001b[34m\u001b[1mwandb\u001b[0m: \tmomentum: 0.85\n"
          ]
        },
        {
          "output_type": "display_data",
          "data": {
            "text/plain": [
              "<IPython.core.display.HTML object>"
            ],
            "text/html": [
              "Tracking run with wandb version 0.16.6"
            ]
          },
          "metadata": {}
        },
        {
          "output_type": "display_data",
          "data": {
            "text/plain": [
              "<IPython.core.display.HTML object>"
            ],
            "text/html": [
              "Run data is saved locally in <code>/content/wandb/run-20240425_180945-oukqwxpz</code>"
            ]
          },
          "metadata": {}
        },
        {
          "output_type": "display_data",
          "data": {
            "text/plain": [
              "<IPython.core.display.HTML object>"
            ],
            "text/html": [
              "Syncing run <strong><a href='https://wandb.ai/ba-865/project%20LSTM/runs/oukqwxpz' target=\"_blank\">colorful-sweep-25</a></strong> to <a href='https://wandb.ai/ba-865/project%20LSTM' target=\"_blank\">Weights & Biases</a> (<a href='https://wandb.me/run' target=\"_blank\">docs</a>)<br/>Sweep page: <a href='https://wandb.ai/ba-865/project%20LSTM/sweeps/99jb6ut9' target=\"_blank\">https://wandb.ai/ba-865/project%20LSTM/sweeps/99jb6ut9</a>"
            ]
          },
          "metadata": {}
        },
        {
          "output_type": "display_data",
          "data": {
            "text/plain": [
              "<IPython.core.display.HTML object>"
            ],
            "text/html": [
              " View project at <a href='https://wandb.ai/ba-865/project%20LSTM' target=\"_blank\">https://wandb.ai/ba-865/project%20LSTM</a>"
            ]
          },
          "metadata": {}
        },
        {
          "output_type": "display_data",
          "data": {
            "text/plain": [
              "<IPython.core.display.HTML object>"
            ],
            "text/html": [
              " View sweep at <a href='https://wandb.ai/ba-865/project%20LSTM/sweeps/99jb6ut9' target=\"_blank\">https://wandb.ai/ba-865/project%20LSTM/sweeps/99jb6ut9</a>"
            ]
          },
          "metadata": {}
        },
        {
          "output_type": "display_data",
          "data": {
            "text/plain": [
              "<IPython.core.display.HTML object>"
            ],
            "text/html": [
              " View run at <a href='https://wandb.ai/ba-865/project%20LSTM/runs/oukqwxpz' target=\"_blank\">https://wandb.ai/ba-865/project%20LSTM/runs/oukqwxpz</a>"
            ]
          },
          "metadata": {}
        },
        {
          "output_type": "display_data",
          "data": {
            "text/plain": [
              "VBox(children=(Label(value='0.011 MB of 0.011 MB uploaded\\r'), FloatProgress(value=1.0, max=1.0)))"
            ],
            "application/vnd.jupyter.widget-view+json": {
              "version_major": 2,
              "version_minor": 0,
              "model_id": "491364c61f0b41029937cfa3a56c0375"
            }
          },
          "metadata": {}
        },
        {
          "output_type": "display_data",
          "data": {
            "text/plain": [
              "<IPython.core.display.HTML object>"
            ],
            "text/html": [
              "<style>\n",
              "    table.wandb td:nth-child(1) { padding: 0 10px; text-align: left ; width: auto;} td:nth-child(2) {text-align: left ; width: 100%}\n",
              "    .wandb-row { display: flex; flex-direction: row; flex-wrap: wrap; justify-content: flex-start; width: 100% }\n",
              "    .wandb-col { display: flex; flex-direction: column; flex-basis: 100%; flex: 1; padding: 10px; }\n",
              "    </style>\n",
              "<div class=\"wandb-row\"><div class=\"wandb-col\"><h3>Run history:</h3><br/><table class=\"wandb\"><tr><td>test_accuracy</td><td>█▁▂▅▅▂▂▃▅▄▂▃▄▄▃▃▄▃▃▃▃▃▃▃▃▃▃▃▃▃▃▃▃▃▃▃▃▃▃▃</td></tr><tr><td>test_loss</td><td>█▁▂▅▅▂▂▃▅▄▂▃▄▃▃▃▃▃▃▃▃▃▃▃▃▃▃▃▃▃▃▃▃▃▃▃▃▃▃▃</td></tr><tr><td>train_accuracy</td><td>▄▂█▄▁▄▆▅▂▃▅▅▄▃▄▅▄▃▄▄▄▄▄▄▄▄▄▄▄▄▄▄▄▄▄▄▄▄▄▄</td></tr><tr><td>train_loss</td><td>▁▂█▁▅▁▄▂▂▂▁▂▁▁▁▁▁▁▁▁▁▁▁▁▁▁▁▁▁▁▁▁▁▁▁▁▁▁▁▁</td></tr></table><br/></div><div class=\"wandb-col\"><h3>Run summary:</h3><br/><table class=\"wandb\"><tr><td>test_accuracy</td><td>0.14928</td></tr><tr><td>test_loss</td><td>0.03745</td></tr><tr><td>train_accuracy</td><td>0.24854</td></tr><tr><td>train_loss</td><td>0.08119</td></tr></table><br/></div></div>"
            ]
          },
          "metadata": {}
        },
        {
          "output_type": "display_data",
          "data": {
            "text/plain": [
              "<IPython.core.display.HTML object>"
            ],
            "text/html": [
              " View run <strong style=\"color:#cdcd00\">colorful-sweep-25</strong> at: <a href='https://wandb.ai/ba-865/project%20LSTM/runs/oukqwxpz' target=\"_blank\">https://wandb.ai/ba-865/project%20LSTM/runs/oukqwxpz</a><br/> View project at: <a href='https://wandb.ai/ba-865/project%20LSTM' target=\"_blank\">https://wandb.ai/ba-865/project%20LSTM</a><br/>Synced 4 W&B file(s), 0 media file(s), 0 artifact file(s) and 0 other file(s)"
            ]
          },
          "metadata": {}
        },
        {
          "output_type": "display_data",
          "data": {
            "text/plain": [
              "<IPython.core.display.HTML object>"
            ],
            "text/html": [
              "Find logs at: <code>./wandb/run-20240425_180945-oukqwxpz/logs</code>"
            ]
          },
          "metadata": {}
        },
        {
          "output_type": "stream",
          "name": "stderr",
          "text": [
            "\u001b[34m\u001b[1mwandb\u001b[0m: Agent Starting Run: 9ahyicpc with config:\n",
            "\u001b[34m\u001b[1mwandb\u001b[0m: \tepochs: 100\n",
            "\u001b[34m\u001b[1mwandb\u001b[0m: \tlearning_rate: 0.001\n",
            "\u001b[34m\u001b[1mwandb\u001b[0m: \tmomentum: 0.9\n"
          ]
        },
        {
          "output_type": "display_data",
          "data": {
            "text/plain": [
              "<IPython.core.display.HTML object>"
            ],
            "text/html": [
              "Tracking run with wandb version 0.16.6"
            ]
          },
          "metadata": {}
        },
        {
          "output_type": "display_data",
          "data": {
            "text/plain": [
              "<IPython.core.display.HTML object>"
            ],
            "text/html": [
              "Run data is saved locally in <code>/content/wandb/run-20240425_181031-9ahyicpc</code>"
            ]
          },
          "metadata": {}
        },
        {
          "output_type": "display_data",
          "data": {
            "text/plain": [
              "<IPython.core.display.HTML object>"
            ],
            "text/html": [
              "Syncing run <strong><a href='https://wandb.ai/ba-865/project%20LSTM/runs/9ahyicpc' target=\"_blank\">stoic-sweep-26</a></strong> to <a href='https://wandb.ai/ba-865/project%20LSTM' target=\"_blank\">Weights & Biases</a> (<a href='https://wandb.me/run' target=\"_blank\">docs</a>)<br/>Sweep page: <a href='https://wandb.ai/ba-865/project%20LSTM/sweeps/99jb6ut9' target=\"_blank\">https://wandb.ai/ba-865/project%20LSTM/sweeps/99jb6ut9</a>"
            ]
          },
          "metadata": {}
        },
        {
          "output_type": "display_data",
          "data": {
            "text/plain": [
              "<IPython.core.display.HTML object>"
            ],
            "text/html": [
              " View project at <a href='https://wandb.ai/ba-865/project%20LSTM' target=\"_blank\">https://wandb.ai/ba-865/project%20LSTM</a>"
            ]
          },
          "metadata": {}
        },
        {
          "output_type": "display_data",
          "data": {
            "text/plain": [
              "<IPython.core.display.HTML object>"
            ],
            "text/html": [
              " View sweep at <a href='https://wandb.ai/ba-865/project%20LSTM/sweeps/99jb6ut9' target=\"_blank\">https://wandb.ai/ba-865/project%20LSTM/sweeps/99jb6ut9</a>"
            ]
          },
          "metadata": {}
        },
        {
          "output_type": "display_data",
          "data": {
            "text/plain": [
              "<IPython.core.display.HTML object>"
            ],
            "text/html": [
              " View run at <a href='https://wandb.ai/ba-865/project%20LSTM/runs/9ahyicpc' target=\"_blank\">https://wandb.ai/ba-865/project%20LSTM/runs/9ahyicpc</a>"
            ]
          },
          "metadata": {}
        },
        {
          "output_type": "display_data",
          "data": {
            "text/plain": [
              "VBox(children=(Label(value='0.011 MB of 0.011 MB uploaded\\r'), FloatProgress(value=1.0, max=1.0)))"
            ],
            "application/vnd.jupyter.widget-view+json": {
              "version_major": 2,
              "version_minor": 0,
              "model_id": "ebb3abd761384b699ff0adb6907c6015"
            }
          },
          "metadata": {}
        },
        {
          "output_type": "display_data",
          "data": {
            "text/plain": [
              "<IPython.core.display.HTML object>"
            ],
            "text/html": [
              "<style>\n",
              "    table.wandb td:nth-child(1) { padding: 0 10px; text-align: left ; width: auto;} td:nth-child(2) {text-align: left ; width: 100%}\n",
              "    .wandb-row { display: flex; flex-direction: row; flex-wrap: wrap; justify-content: flex-start; width: 100% }\n",
              "    .wandb-col { display: flex; flex-direction: column; flex-basis: 100%; flex: 1; padding: 10px; }\n",
              "    </style>\n",
              "<div class=\"wandb-row\"><div class=\"wandb-col\"><h3>Run history:</h3><br/><table class=\"wandb\"><tr><td>test_accuracy</td><td>█▁▁▅▅▃▁▃▅▄▂▂▄▄▃▃▃▄▃▃▃▃▃▃▃▃▃▃▃▃▃▃▃▃▃▃▃▃▃▃</td></tr><tr><td>test_loss</td><td>█▁▁▅▅▃▁▃▅▄▂▂▄▄▃▃▃▄▃▃▃▃▃▃▃▃▃▃▃▃▃▃▃▃▃▃▃▃▃▃</td></tr><tr><td>train_accuracy</td><td>▄▃█▄▁▃▆▆▃▂▅▅▄▃▄▅▄▄▄▄▄▄▄▄▄▄▄▄▄▄▄▄▄▄▄▄▄▄▄▄</td></tr><tr><td>train_loss</td><td>▁▂█▁▅▁▃▂▂▂▁▂▁▁▁▁▁▁▁▁▁▁▁▁▁▁▁▁▁▁▁▁▁▁▁▁▁▁▁▁</td></tr></table><br/></div><div class=\"wandb-col\"><h3>Run summary:</h3><br/><table class=\"wandb\"><tr><td>test_accuracy</td><td>0.14929</td></tr><tr><td>test_loss</td><td>0.03745</td></tr><tr><td>train_accuracy</td><td>0.24854</td></tr><tr><td>train_loss</td><td>0.08119</td></tr></table><br/></div></div>"
            ]
          },
          "metadata": {}
        },
        {
          "output_type": "display_data",
          "data": {
            "text/plain": [
              "<IPython.core.display.HTML object>"
            ],
            "text/html": [
              " View run <strong style=\"color:#cdcd00\">stoic-sweep-26</strong> at: <a href='https://wandb.ai/ba-865/project%20LSTM/runs/9ahyicpc' target=\"_blank\">https://wandb.ai/ba-865/project%20LSTM/runs/9ahyicpc</a><br/> View project at: <a href='https://wandb.ai/ba-865/project%20LSTM' target=\"_blank\">https://wandb.ai/ba-865/project%20LSTM</a><br/>Synced 4 W&B file(s), 0 media file(s), 0 artifact file(s) and 0 other file(s)"
            ]
          },
          "metadata": {}
        },
        {
          "output_type": "display_data",
          "data": {
            "text/plain": [
              "<IPython.core.display.HTML object>"
            ],
            "text/html": [
              "Find logs at: <code>./wandb/run-20240425_181031-9ahyicpc/logs</code>"
            ]
          },
          "metadata": {}
        },
        {
          "output_type": "stream",
          "name": "stderr",
          "text": [
            "\u001b[34m\u001b[1mwandb\u001b[0m: Agent Starting Run: 8h4nkdin with config:\n",
            "\u001b[34m\u001b[1mwandb\u001b[0m: \tepochs: 100\n",
            "\u001b[34m\u001b[1mwandb\u001b[0m: \tlearning_rate: 0.001\n",
            "\u001b[34m\u001b[1mwandb\u001b[0m: \tmomentum: 0.95\n"
          ]
        },
        {
          "output_type": "display_data",
          "data": {
            "text/plain": [
              "<IPython.core.display.HTML object>"
            ],
            "text/html": [
              "Tracking run with wandb version 0.16.6"
            ]
          },
          "metadata": {}
        },
        {
          "output_type": "display_data",
          "data": {
            "text/plain": [
              "<IPython.core.display.HTML object>"
            ],
            "text/html": [
              "Run data is saved locally in <code>/content/wandb/run-20240425_181118-8h4nkdin</code>"
            ]
          },
          "metadata": {}
        },
        {
          "output_type": "display_data",
          "data": {
            "text/plain": [
              "<IPython.core.display.HTML object>"
            ],
            "text/html": [
              "Syncing run <strong><a href='https://wandb.ai/ba-865/project%20LSTM/runs/8h4nkdin' target=\"_blank\">devout-sweep-27</a></strong> to <a href='https://wandb.ai/ba-865/project%20LSTM' target=\"_blank\">Weights & Biases</a> (<a href='https://wandb.me/run' target=\"_blank\">docs</a>)<br/>Sweep page: <a href='https://wandb.ai/ba-865/project%20LSTM/sweeps/99jb6ut9' target=\"_blank\">https://wandb.ai/ba-865/project%20LSTM/sweeps/99jb6ut9</a>"
            ]
          },
          "metadata": {}
        },
        {
          "output_type": "display_data",
          "data": {
            "text/plain": [
              "<IPython.core.display.HTML object>"
            ],
            "text/html": [
              " View project at <a href='https://wandb.ai/ba-865/project%20LSTM' target=\"_blank\">https://wandb.ai/ba-865/project%20LSTM</a>"
            ]
          },
          "metadata": {}
        },
        {
          "output_type": "display_data",
          "data": {
            "text/plain": [
              "<IPython.core.display.HTML object>"
            ],
            "text/html": [
              " View sweep at <a href='https://wandb.ai/ba-865/project%20LSTM/sweeps/99jb6ut9' target=\"_blank\">https://wandb.ai/ba-865/project%20LSTM/sweeps/99jb6ut9</a>"
            ]
          },
          "metadata": {}
        },
        {
          "output_type": "display_data",
          "data": {
            "text/plain": [
              "<IPython.core.display.HTML object>"
            ],
            "text/html": [
              " View run at <a href='https://wandb.ai/ba-865/project%20LSTM/runs/8h4nkdin' target=\"_blank\">https://wandb.ai/ba-865/project%20LSTM/runs/8h4nkdin</a>"
            ]
          },
          "metadata": {}
        },
        {
          "output_type": "display_data",
          "data": {
            "text/plain": [
              "VBox(children=(Label(value='0.011 MB of 0.011 MB uploaded\\r'), FloatProgress(value=1.0, max=1.0)))"
            ],
            "application/vnd.jupyter.widget-view+json": {
              "version_major": 2,
              "version_minor": 0,
              "model_id": "7e74be2b4cb440d9be5ce21c161632f9"
            }
          },
          "metadata": {}
        },
        {
          "output_type": "display_data",
          "data": {
            "text/plain": [
              "<IPython.core.display.HTML object>"
            ],
            "text/html": [
              "<style>\n",
              "    table.wandb td:nth-child(1) { padding: 0 10px; text-align: left ; width: auto;} td:nth-child(2) {text-align: left ; width: 100%}\n",
              "    .wandb-row { display: flex; flex-direction: row; flex-wrap: wrap; justify-content: flex-start; width: 100% }\n",
              "    .wandb-col { display: flex; flex-direction: column; flex-basis: 100%; flex: 1; padding: 10px; }\n",
              "    </style>\n",
              "<div class=\"wandb-row\"><div class=\"wandb-col\"><h3>Run history:</h3><br/><table class=\"wandb\"><tr><td>test_accuracy</td><td>▁█▇▄▄▆█▆▄▅▇▇▅▅▆▆▆▅▆▆▆▅▆▆▆▆▆▆▆▆▆▆▆▆▆▆▆▆▆▆</td></tr><tr><td>test_loss</td><td>▁█▇▄▄▆█▆▄▅▇▇▅▅▆▆▆▅▆▆▆▅▆▆▆▆▆▆▆▆▆▆▆▆▆▆▆▆▆▆</td></tr><tr><td>train_accuracy</td><td>▅▆▁▅█▆▃▃▆▆▄▄▅▆▅▄▄▅▅▄▅▅▅▅▅▅▅▅▅▅▅▅▅▅▅▅▅▅▅▅</td></tr><tr><td>train_loss</td><td>▁▂█▁▅▁▃▂▂▂▁▂▁▁▁▁▁▁▁▁▁▁▁▁▁▁▁▁▁▁▁▁▁▁▁▁▁▁▁▁</td></tr></table><br/></div><div class=\"wandb-col\"><h3>Run summary:</h3><br/><table class=\"wandb\"><tr><td>test_accuracy</td><td>0.14927</td></tr><tr><td>test_loss</td><td>0.03745</td></tr><tr><td>train_accuracy</td><td>0.24854</td></tr><tr><td>train_loss</td><td>0.08119</td></tr></table><br/></div></div>"
            ]
          },
          "metadata": {}
        },
        {
          "output_type": "display_data",
          "data": {
            "text/plain": [
              "<IPython.core.display.HTML object>"
            ],
            "text/html": [
              " View run <strong style=\"color:#cdcd00\">devout-sweep-27</strong> at: <a href='https://wandb.ai/ba-865/project%20LSTM/runs/8h4nkdin' target=\"_blank\">https://wandb.ai/ba-865/project%20LSTM/runs/8h4nkdin</a><br/> View project at: <a href='https://wandb.ai/ba-865/project%20LSTM' target=\"_blank\">https://wandb.ai/ba-865/project%20LSTM</a><br/>Synced 4 W&B file(s), 0 media file(s), 0 artifact file(s) and 0 other file(s)"
            ]
          },
          "metadata": {}
        },
        {
          "output_type": "display_data",
          "data": {
            "text/plain": [
              "<IPython.core.display.HTML object>"
            ],
            "text/html": [
              "Find logs at: <code>./wandb/run-20240425_181118-8h4nkdin/logs</code>"
            ]
          },
          "metadata": {}
        },
        {
          "output_type": "stream",
          "name": "stderr",
          "text": [
            "\u001b[34m\u001b[1mwandb\u001b[0m: Sweep Agent: Waiting for job.\n",
            "\u001b[34m\u001b[1mwandb\u001b[0m: Sweep Agent: Exiting.\n"
          ]
        }
      ]
    },
    {
      "cell_type": "markdown",
      "source": [
        "Similar to the case with the previous WandB grid search, we did not improve our predictions as our baseline was already pretty good."
      ],
      "metadata": {
        "id": "k9GEMbS5RvM3"
      }
    }
  ]
}